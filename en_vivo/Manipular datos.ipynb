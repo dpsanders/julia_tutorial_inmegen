{
 "cells": [
  {
   "cell_type": "code",
   "execution_count": 1,
   "metadata": {
    "scrolled": true
   },
   "outputs": [
    {
     "data": {
      "text/plain": [
       "4"
      ]
     },
     "execution_count": 1,
     "metadata": {},
     "output_type": "execute_result"
    }
   ],
   "source": [
    "x = 2 + 2   # correr con Shift+Enter  Mayus+enter"
   ]
  },
  {
   "cell_type": "markdown",
   "metadata": {},
   "source": [
    "Baja un archivo del internet a tu máquina: función `download`:"
   ]
  },
  {
   "cell_type": "code",
   "execution_count": 2,
   "metadata": {},
   "outputs": [
    {
     "name": "stderr",
     "output_type": "stream",
     "text": [
      "  % Total    % Received % Xferd  Average Speed   Time    Time     Time  Current\n",
      "                                 Dload  Upload   Total   Spent    Left  Speed\n",
      "100  4764  100  4764    0     0   6278      0 --:--:-- --:--:-- --:--:--  6276\n"
     ]
    },
    {
     "data": {
      "text/plain": [
       "\"invernadero.csv\""
      ]
     },
     "execution_count": 2,
     "metadata": {},
     "output_type": "execute_result"
    }
   ],
   "source": [
    "download(\"http://dsiappsdev.semarnat.gob.mx/datos/indicadores/dambiental/Atm%C3%B3sfera/Cambio%20clim%C3%A1tico/emision%20nacional%20de%20gases%20y%20compuestos%20de%20efecto%20invernadero.csv\",\n",
    "        \"invernadero.csv\")"
   ]
  },
  {
   "cell_type": "markdown",
   "metadata": {},
   "source": [
    "Instalar el paquete que se llama `CSV.jl`; esto se hace una vez en la vida"
   ]
  },
  {
   "cell_type": "code",
   "execution_count": 3,
   "metadata": {},
   "outputs": [
    {
     "name": "stdout",
     "output_type": "stream",
     "text": [
      "\u001b[32m\u001b[1m  Updating\u001b[22m\u001b[39m registry at `~/.julia/registries/General`\n",
      "\u001b[32m\u001b[1m  Updating\u001b[22m\u001b[39m git-repo `https://github.com/JuliaRegistries/General.git`\n",
      "\u001b[?25l\u001b[2K\u001b[?25h\u001b[32m\u001b[1m  Updating\u001b[22m\u001b[39m git-repo `https://github.com/JuliaData/CSV.jl.git`\n",
      "\u001b[?25l\u001b[2K\u001b[?25h"
     ]
    },
    {
     "ename": "LibGit2.Error.GitError",
     "evalue": "GitError(Code:EINVALIDSPEC, Class:Invalid, failed to parse revision specifier - Invalid pattern 'remotes/cache/heads/ no')",
     "output_type": "error",
     "traceback": [
      "GitError(Code:EINVALIDSPEC, Class:Invalid, failed to parse revision specifier - Invalid pattern 'remotes/cache/heads/ no')",
      "",
      "Stacktrace:",
      " [1] macro expansion at /Users/osx/buildbot/slave/package_osx64/build/usr/share/julia/stdlib/v1.1/LibGit2/src/error.jl:101 [inlined]",
      " [2] LibGit2.GitObject(::LibGit2.GitRepo, ::String) at /Users/osx/buildbot/slave/package_osx64/build/usr/share/julia/stdlib/v1.1/LibGit2/src/repository.jl:142",
      " [3] get_object_branch(::LibGit2.GitRepo, ::String, ::LibGit2.CachedCredentials) at /Users/osx/buildbot/slave/package_osx64/build/usr/share/julia/stdlib/v1.1/Pkg/src/Types.jl:866",
      " [4] #handle_repos_add!#61(::Bool, ::Nothing, ::Function, ::Pkg.Types.Context, ::Array{Pkg.Types.PackageSpec,1}) at /Users/osx/buildbot/slave/package_osx64/build/usr/share/julia/stdlib/v1.1/Pkg/src/Types.jl:754",
      " [5] #handle_repos_add! at /Users/osx/buildbot/slave/package_osx64/build/usr/share/julia/stdlib/v1.1/Pkg/src/API.jl:0 [inlined]",
      " [6] #add_or_develop#15(::Symbol, ::Bool, ::Base.Iterators.Pairs{Union{},Union{},Tuple{},NamedTuple{(),Tuple{}}}, ::Function, ::Pkg.Types.Context, ::Array{Pkg.Types.PackageSpec,1}) at /Users/osx/buildbot/slave/package_osx64/build/usr/share/julia/stdlib/v1.1/Pkg/src/API.jl:42",
      " [7] (::getfield(Pkg.API, Symbol(\"#kw##add_or_develop\")))(::NamedTuple{(:mode,),Tuple{Symbol}}, ::typeof(Pkg.API.add_or_develop), ::Pkg.Types.Context, ::Array{Pkg.Types.PackageSpec,1}) at ./none:0",
      " [8] do_add!(::Dict{Symbol,Any}, ::Array{Pkg.Types.PackageSpec,1}, ::Dict{Symbol,Any}) at /Users/osx/buildbot/slave/package_osx64/build/usr/share/julia/stdlib/v1.1/Pkg/src/REPLMode.jl:659",
      " [9] #invokelatest#1(::Base.Iterators.Pairs{Union{},Union{},Tuple{},NamedTuple{(),Tuple{}}}, ::Function, ::Any, ::Any, ::Vararg{Any,N} where N) at ./essentials.jl:742",
      " [10] invokelatest(::Any, ::Any, ::Vararg{Any,N} where N) at ./essentials.jl:741",
      " [11] do_cmd!(::Pkg.REPLMode.PkgCommand, ::IJulia.MiniREPL) at /Users/osx/buildbot/slave/package_osx64/build/usr/share/julia/stdlib/v1.1/Pkg/src/REPLMode.jl:561",
      " [12] #do_cmd#30(::Bool, ::Function, ::IJulia.MiniREPL, ::String) at /Users/osx/buildbot/slave/package_osx64/build/usr/share/julia/stdlib/v1.1/Pkg/src/REPLMode.jl:536",
      " [13] (::getfield(Pkg.REPLMode, Symbol(\"#kw##do_cmd\")))(::NamedTuple{(:do_rethrow,),Tuple{Bool}}, ::typeof(Pkg.REPLMode.do_cmd), ::IJulia.MiniREPL, ::String) at ./none:0",
      " [14] top-level scope at In[3]:1"
     ]
    }
   ],
   "source": [
    "] add CSV    # no si estás trabajando en JuliaBox"
   ]
  },
  {
   "cell_type": "markdown",
   "metadata": {},
   "source": [
    "o"
   ]
  },
  {
   "cell_type": "code",
   "execution_count": 4,
   "metadata": {},
   "outputs": [
    {
     "name": "stdout",
     "output_type": "stream",
     "text": [
      "\u001b[32m\u001b[1m Resolving\u001b[22m\u001b[39m package versions...\n",
      "\u001b[32m\u001b[1m  Updating\u001b[22m\u001b[39m `~/.julia/environments/v1.1/Project.toml`\n",
      "\u001b[90m [no changes]\u001b[39m\n",
      "\u001b[32m\u001b[1m  Updating\u001b[22m\u001b[39m `~/.julia/environments/v1.1/Manifest.toml`\n",
      "\u001b[90m [no changes]\u001b[39m\n"
     ]
    }
   ],
   "source": [
    "using Pkg\n",
    "Pkg.add(\"CSV\")"
   ]
  },
  {
   "cell_type": "code",
   "execution_count": 5,
   "metadata": {},
   "outputs": [],
   "source": [
    "using CSV"
   ]
  },
  {
   "cell_type": "code",
   "execution_count": 48,
   "metadata": {},
   "outputs": [
    {
     "data": {
      "text/plain": [
       "131-element Array{String,1}:\n",
       " \"\\ufeffAÑO,SECTOR DE EMISION,GASES_DE_EFECTO_INVERNADERO_(GIGAGRAMOS_DE_BIOXIDO_DE_CARBONO_EQUIVALENTE),CARBONO_NEGRO_(GIGAGRAMOS_DE_BIOXIDO_DE_CARBONO_EQUIVALENTE)\"\n",
       " \"1990,Energia,301473,\"                                                                                                                                               \n",
       " \"1991,Energia,312891,\"                                                                                                                                               \n",
       " \"1992,Energia,314129,\"                                                                                                                                               \n",
       " \"1993,Energia,315687,\"                                                                                                                                               \n",
       " \"1994,Energia,333517,\"                                                                                                                                               \n",
       " \"1995,Energia,323169,\"                                                                                                                                               \n",
       " \"1996,Energia,341874,\"                                                                                                                                               \n",
       " \"1997,Energia,363443,\"                                                                                                                                               \n",
       " \"1998,Energia,385391,\"                                                                                                                                               \n",
       " \"1999,Energia,373957,\"                                                                                                                                               \n",
       " \"2000,Energia,380275,\"                                                                                                                                               \n",
       " \"2001,Energia,376938,\"                                                                                                                                               \n",
       " ⋮                                                                                                                                                                    \n",
       " \"2004,Emisiones netas,409452,\"                                                                                                                                       \n",
       " \"2005,Emisiones netas,427038,\"                                                                                                                                       \n",
       " \"2006,Emisiones netas,449984,\"                                                                                                                                       \n",
       " \"2007,Emisiones netas,487404,\"                                                                                                                                       \n",
       " \"2008,Emisiones netas,532833,\"                                                                                                                                       \n",
       " \"2009,Emisiones netas,511853,\"                                                                                                                                       \n",
       " \"2010,Emisiones netas,509996,\"                                                                                                                                       \n",
       " \"2011,Emisiones netas,520298,\"                                                                                                                                       \n",
       " \"2012,Emisiones netas,510598,\"                                                                                                                                       \n",
       " \"2013,Emisiones netas,520198,\"                                                                                                                                       \n",
       " \"2014,Emisiones netas,521668,\"                                                                                                                                       \n",
       " \"2015,Emisiones netas,534613,\"                                                                                                                                       "
      ]
     },
     "execution_count": 48,
     "metadata": {},
     "output_type": "execute_result"
    }
   ],
   "source": [
    "lineas = readlines(\"invernadero.csv\")"
   ]
  },
  {
   "cell_type": "code",
   "execution_count": 6,
   "metadata": {},
   "outputs": [
    {
     "data": {
      "text/html": [
       "<table class=\"data-frame\"><thead><tr><th></th><th>AÑO</th><th>SECTOR DE EMISION</th><th>GASES_DE_EFECTO_INVERNADERO_(GIGAGRAMOS_DE_BIOXIDO_DE_CARBONO_EQUIVALENTE)</th><th>CARBONO_NEGRO_(GIGAGRAMOS_DE_BIOXIDO_DE_CARBONO_EQUIVALENTE)</th></tr><tr><th></th><th>Int64⍰</th><th>String⍰</th><th>Int64⍰</th><th>Missing</th></tr></thead><tbody><p>130 rows × 4 columns</p><tr><th>1</th><td>1990</td><td>Energia</td><td>301473</td><td>missing</td></tr><tr><th>2</th><td>1991</td><td>Energia</td><td>312891</td><td>missing</td></tr><tr><th>3</th><td>1992</td><td>Energia</td><td>314129</td><td>missing</td></tr><tr><th>4</th><td>1993</td><td>Energia</td><td>315687</td><td>missing</td></tr><tr><th>5</th><td>1994</td><td>Energia</td><td>333517</td><td>missing</td></tr><tr><th>6</th><td>1995</td><td>Energia</td><td>323169</td><td>missing</td></tr><tr><th>7</th><td>1996</td><td>Energia</td><td>341874</td><td>missing</td></tr><tr><th>8</th><td>1997</td><td>Energia</td><td>363443</td><td>missing</td></tr><tr><th>9</th><td>1998</td><td>Energia</td><td>385391</td><td>missing</td></tr><tr><th>10</th><td>1999</td><td>Energia</td><td>373957</td><td>missing</td></tr><tr><th>11</th><td>2000</td><td>Energia</td><td>380275</td><td>missing</td></tr><tr><th>12</th><td>2001</td><td>Energia</td><td>376938</td><td>missing</td></tr><tr><th>13</th><td>2002</td><td>Energia</td><td>395745</td><td>missing</td></tr><tr><th>14</th><td>2003</td><td>Energia</td><td>394939</td><td>missing</td></tr><tr><th>15</th><td>2004</td><td>Energia</td><td>401523</td><td>missing</td></tr><tr><th>16</th><td>2005</td><td>Energia</td><td>413229</td><td>missing</td></tr><tr><th>17</th><td>2006</td><td>Energia</td><td>431525</td><td>missing</td></tr><tr><th>18</th><td>2007</td><td>Energia</td><td>457299</td><td>missing</td></tr><tr><th>19</th><td>2008</td><td>Energia</td><td>499673</td><td>missing</td></tr><tr><th>20</th><td>2009</td><td>Energia</td><td>478165</td><td>missing</td></tr><tr><th>21</th><td>2010</td><td>Energia</td><td>469972</td><td>missing</td></tr><tr><th>22</th><td>2011</td><td>Energia</td><td>475796</td><td>missing</td></tr><tr><th>23</th><td>2012</td><td>Energia</td><td>467519</td><td>missing</td></tr><tr><th>24</th><td>2013</td><td>Energia</td><td>473763</td><td>missing</td></tr><tr><th>25</th><td>2014</td><td>Energia</td><td>470615</td><td>missing</td></tr><tr><th>26</th><td>2015</td><td>Energia</td><td>480879</td><td>missing</td></tr><tr><th>27</th><td>1990</td><td>Procesos industriales</td><td>32625</td><td>missing</td></tr><tr><th>28</th><td>1991</td><td>Procesos industriales</td><td>31518</td><td>missing</td></tr><tr><th>29</th><td>1992</td><td>Procesos industriales</td><td>32118</td><td>missing</td></tr><tr><th>30</th><td>1993</td><td>Procesos industriales</td><td>32145</td><td>missing</td></tr><tr><th>&vellip;</th><td>&vellip;</td><td>&vellip;</td><td>&vellip;</td><td>&vellip;</td></tr></tbody></table>"
      ],
      "text/latex": [
       "\\begin{tabular}{r|cccc}\n",
       "\t& AÑO & SECTOR DE EMISION & GASES\\_DE\\_EFECTO\\_INVERNADERO\\_(GIGAGRAMOS\\_DE\\_BIOXIDO\\_DE\\_CARBONO\\_EQUIVALENTE) & CARBONO\\_NEGRO\\_(GIGAGRAMOS\\_DE\\_BIOXIDO\\_DE\\_CARBONO\\_EQUIVALENTE)\\\\\n",
       "\t\\hline\n",
       "\t& Int64⍰ & String⍰ & Int64⍰ & Missing\\\\\n",
       "\t\\hline\n",
       "\t1 & 1990 & Energia & 301473 &  \\\\\n",
       "\t2 & 1991 & Energia & 312891 &  \\\\\n",
       "\t3 & 1992 & Energia & 314129 &  \\\\\n",
       "\t4 & 1993 & Energia & 315687 &  \\\\\n",
       "\t5 & 1994 & Energia & 333517 &  \\\\\n",
       "\t6 & 1995 & Energia & 323169 &  \\\\\n",
       "\t7 & 1996 & Energia & 341874 &  \\\\\n",
       "\t8 & 1997 & Energia & 363443 &  \\\\\n",
       "\t9 & 1998 & Energia & 385391 &  \\\\\n",
       "\t10 & 1999 & Energia & 373957 &  \\\\\n",
       "\t11 & 2000 & Energia & 380275 &  \\\\\n",
       "\t12 & 2001 & Energia & 376938 &  \\\\\n",
       "\t13 & 2002 & Energia & 395745 &  \\\\\n",
       "\t14 & 2003 & Energia & 394939 &  \\\\\n",
       "\t15 & 2004 & Energia & 401523 &  \\\\\n",
       "\t16 & 2005 & Energia & 413229 &  \\\\\n",
       "\t17 & 2006 & Energia & 431525 &  \\\\\n",
       "\t18 & 2007 & Energia & 457299 &  \\\\\n",
       "\t19 & 2008 & Energia & 499673 &  \\\\\n",
       "\t20 & 2009 & Energia & 478165 &  \\\\\n",
       "\t21 & 2010 & Energia & 469972 &  \\\\\n",
       "\t22 & 2011 & Energia & 475796 &  \\\\\n",
       "\t23 & 2012 & Energia & 467519 &  \\\\\n",
       "\t24 & 2013 & Energia & 473763 &  \\\\\n",
       "\t25 & 2014 & Energia & 470615 &  \\\\\n",
       "\t26 & 2015 & Energia & 480879 &  \\\\\n",
       "\t27 & 1990 & Procesos industriales & 32625 &  \\\\\n",
       "\t28 & 1991 & Procesos industriales & 31518 &  \\\\\n",
       "\t29 & 1992 & Procesos industriales & 32118 &  \\\\\n",
       "\t30 & 1993 & Procesos industriales & 32145 &  \\\\\n",
       "\t$\\dots$ & $\\dots$ & $\\dots$ & $\\dots$ & $\\dots$ \\\\\n",
       "\\end{tabular}\n"
      ],
      "text/plain": [
       "130×4 DataFrames.DataFrame. Omitted printing of 2 columns\n",
       "│ Row │ AÑO    │ SECTOR DE EMISION │\n",
       "│     │ \u001b[90mInt64⍰\u001b[39m │ \u001b[90mString⍰\u001b[39m           │\n",
       "├─────┼────────┼───────────────────┤\n",
       "│ 1   │ 1990   │ Energia           │\n",
       "│ 2   │ 1991   │ Energia           │\n",
       "│ 3   │ 1992   │ Energia           │\n",
       "│ 4   │ 1993   │ Energia           │\n",
       "│ 5   │ 1994   │ Energia           │\n",
       "│ 6   │ 1995   │ Energia           │\n",
       "│ 7   │ 1996   │ Energia           │\n",
       "│ 8   │ 1997   │ Energia           │\n",
       "│ 9   │ 1998   │ Energia           │\n",
       "│ 10  │ 1999   │ Energia           │\n",
       "⋮\n",
       "│ 120 │ 2005   │ Emisiones netas   │\n",
       "│ 121 │ 2006   │ Emisiones netas   │\n",
       "│ 122 │ 2007   │ Emisiones netas   │\n",
       "│ 123 │ 2008   │ Emisiones netas   │\n",
       "│ 124 │ 2009   │ Emisiones netas   │\n",
       "│ 125 │ 2010   │ Emisiones netas   │\n",
       "│ 126 │ 2011   │ Emisiones netas   │\n",
       "│ 127 │ 2012   │ Emisiones netas   │\n",
       "│ 128 │ 2013   │ Emisiones netas   │\n",
       "│ 129 │ 2014   │ Emisiones netas   │\n",
       "│ 130 │ 2015   │ Emisiones netas   │"
      ]
     },
     "execution_count": 6,
     "metadata": {},
     "output_type": "execute_result"
    }
   ],
   "source": [
    "datos = CSV.read(\"invernadero.csv\")"
   ]
  },
  {
   "cell_type": "code",
   "execution_count": 7,
   "metadata": {},
   "outputs": [
    {
     "data": {
      "text/html": [
       "<table class=\"data-frame\"><thead><tr><th></th><th>AÑO</th><th>SECTOR DE EMISION</th><th>GASES_DE_EFECTO_INVERNADERO_(GIGAGRAMOS_DE_BIOXIDO_DE_CARBONO_EQUIVALENTE)</th><th>CARBONO_NEGRO_(GIGAGRAMOS_DE_BIOXIDO_DE_CARBONO_EQUIVALENTE)</th></tr><tr><th></th><th>Int64⍰</th><th>String⍰</th><th>Int64⍰</th><th>Missing</th></tr></thead><tbody><p>130 rows × 4 columns</p><tr><th>1</th><td>1990</td><td>Energia</td><td>301473</td><td>missing</td></tr><tr><th>2</th><td>1991</td><td>Energia</td><td>312891</td><td>missing</td></tr><tr><th>3</th><td>1992</td><td>Energia</td><td>314129</td><td>missing</td></tr><tr><th>4</th><td>1993</td><td>Energia</td><td>315687</td><td>missing</td></tr><tr><th>5</th><td>1994</td><td>Energia</td><td>333517</td><td>missing</td></tr><tr><th>6</th><td>1995</td><td>Energia</td><td>323169</td><td>missing</td></tr><tr><th>7</th><td>1996</td><td>Energia</td><td>341874</td><td>missing</td></tr><tr><th>8</th><td>1997</td><td>Energia</td><td>363443</td><td>missing</td></tr><tr><th>9</th><td>1998</td><td>Energia</td><td>385391</td><td>missing</td></tr><tr><th>10</th><td>1999</td><td>Energia</td><td>373957</td><td>missing</td></tr><tr><th>11</th><td>2000</td><td>Energia</td><td>380275</td><td>missing</td></tr><tr><th>12</th><td>2001</td><td>Energia</td><td>376938</td><td>missing</td></tr><tr><th>13</th><td>2002</td><td>Energia</td><td>395745</td><td>missing</td></tr><tr><th>14</th><td>2003</td><td>Energia</td><td>394939</td><td>missing</td></tr><tr><th>15</th><td>2004</td><td>Energia</td><td>401523</td><td>missing</td></tr><tr><th>16</th><td>2005</td><td>Energia</td><td>413229</td><td>missing</td></tr><tr><th>17</th><td>2006</td><td>Energia</td><td>431525</td><td>missing</td></tr><tr><th>18</th><td>2007</td><td>Energia</td><td>457299</td><td>missing</td></tr><tr><th>19</th><td>2008</td><td>Energia</td><td>499673</td><td>missing</td></tr><tr><th>20</th><td>2009</td><td>Energia</td><td>478165</td><td>missing</td></tr><tr><th>21</th><td>2010</td><td>Energia</td><td>469972</td><td>missing</td></tr><tr><th>22</th><td>2011</td><td>Energia</td><td>475796</td><td>missing</td></tr><tr><th>23</th><td>2012</td><td>Energia</td><td>467519</td><td>missing</td></tr><tr><th>24</th><td>2013</td><td>Energia</td><td>473763</td><td>missing</td></tr><tr><th>25</th><td>2014</td><td>Energia</td><td>470615</td><td>missing</td></tr><tr><th>26</th><td>2015</td><td>Energia</td><td>480879</td><td>missing</td></tr><tr><th>27</th><td>1990</td><td>Procesos industriales</td><td>32625</td><td>missing</td></tr><tr><th>28</th><td>1991</td><td>Procesos industriales</td><td>31518</td><td>missing</td></tr><tr><th>29</th><td>1992</td><td>Procesos industriales</td><td>32118</td><td>missing</td></tr><tr><th>30</th><td>1993</td><td>Procesos industriales</td><td>32145</td><td>missing</td></tr><tr><th>&vellip;</th><td>&vellip;</td><td>&vellip;</td><td>&vellip;</td><td>&vellip;</td></tr></tbody></table>"
      ],
      "text/latex": [
       "\\begin{tabular}{r|cccc}\n",
       "\t& AÑO & SECTOR DE EMISION & GASES\\_DE\\_EFECTO\\_INVERNADERO\\_(GIGAGRAMOS\\_DE\\_BIOXIDO\\_DE\\_CARBONO\\_EQUIVALENTE) & CARBONO\\_NEGRO\\_(GIGAGRAMOS\\_DE\\_BIOXIDO\\_DE\\_CARBONO\\_EQUIVALENTE)\\\\\n",
       "\t\\hline\n",
       "\t& Int64⍰ & String⍰ & Int64⍰ & Missing\\\\\n",
       "\t\\hline\n",
       "\t1 & 1990 & Energia & 301473 &  \\\\\n",
       "\t2 & 1991 & Energia & 312891 &  \\\\\n",
       "\t3 & 1992 & Energia & 314129 &  \\\\\n",
       "\t4 & 1993 & Energia & 315687 &  \\\\\n",
       "\t5 & 1994 & Energia & 333517 &  \\\\\n",
       "\t6 & 1995 & Energia & 323169 &  \\\\\n",
       "\t7 & 1996 & Energia & 341874 &  \\\\\n",
       "\t8 & 1997 & Energia & 363443 &  \\\\\n",
       "\t9 & 1998 & Energia & 385391 &  \\\\\n",
       "\t10 & 1999 & Energia & 373957 &  \\\\\n",
       "\t11 & 2000 & Energia & 380275 &  \\\\\n",
       "\t12 & 2001 & Energia & 376938 &  \\\\\n",
       "\t13 & 2002 & Energia & 395745 &  \\\\\n",
       "\t14 & 2003 & Energia & 394939 &  \\\\\n",
       "\t15 & 2004 & Energia & 401523 &  \\\\\n",
       "\t16 & 2005 & Energia & 413229 &  \\\\\n",
       "\t17 & 2006 & Energia & 431525 &  \\\\\n",
       "\t18 & 2007 & Energia & 457299 &  \\\\\n",
       "\t19 & 2008 & Energia & 499673 &  \\\\\n",
       "\t20 & 2009 & Energia & 478165 &  \\\\\n",
       "\t21 & 2010 & Energia & 469972 &  \\\\\n",
       "\t22 & 2011 & Energia & 475796 &  \\\\\n",
       "\t23 & 2012 & Energia & 467519 &  \\\\\n",
       "\t24 & 2013 & Energia & 473763 &  \\\\\n",
       "\t25 & 2014 & Energia & 470615 &  \\\\\n",
       "\t26 & 2015 & Energia & 480879 &  \\\\\n",
       "\t27 & 1990 & Procesos industriales & 32625 &  \\\\\n",
       "\t28 & 1991 & Procesos industriales & 31518 &  \\\\\n",
       "\t29 & 1992 & Procesos industriales & 32118 &  \\\\\n",
       "\t30 & 1993 & Procesos industriales & 32145 &  \\\\\n",
       "\t$\\dots$ & $\\dots$ & $\\dots$ & $\\dots$ & $\\dots$ \\\\\n",
       "\\end{tabular}\n"
      ],
      "text/plain": [
       "130×4 DataFrames.DataFrame. Omitted printing of 2 columns\n",
       "│ Row │ AÑO    │ SECTOR DE EMISION │\n",
       "│     │ \u001b[90mInt64⍰\u001b[39m │ \u001b[90mString⍰\u001b[39m           │\n",
       "├─────┼────────┼───────────────────┤\n",
       "│ 1   │ 1990   │ Energia           │\n",
       "│ 2   │ 1991   │ Energia           │\n",
       "│ 3   │ 1992   │ Energia           │\n",
       "│ 4   │ 1993   │ Energia           │\n",
       "│ 5   │ 1994   │ Energia           │\n",
       "│ 6   │ 1995   │ Energia           │\n",
       "│ 7   │ 1996   │ Energia           │\n",
       "│ 8   │ 1997   │ Energia           │\n",
       "│ 9   │ 1998   │ Energia           │\n",
       "│ 10  │ 1999   │ Energia           │\n",
       "⋮\n",
       "│ 120 │ 2005   │ Emisiones netas   │\n",
       "│ 121 │ 2006   │ Emisiones netas   │\n",
       "│ 122 │ 2007   │ Emisiones netas   │\n",
       "│ 123 │ 2008   │ Emisiones netas   │\n",
       "│ 124 │ 2009   │ Emisiones netas   │\n",
       "│ 125 │ 2010   │ Emisiones netas   │\n",
       "│ 126 │ 2011   │ Emisiones netas   │\n",
       "│ 127 │ 2012   │ Emisiones netas   │\n",
       "│ 128 │ 2013   │ Emisiones netas   │\n",
       "│ 129 │ 2014   │ Emisiones netas   │\n",
       "│ 130 │ 2015   │ Emisiones netas   │"
      ]
     },
     "execution_count": 7,
     "metadata": {},
     "output_type": "execute_result"
    }
   ],
   "source": [
    "datos"
   ]
  },
  {
   "cell_type": "code",
   "execution_count": 8,
   "metadata": {},
   "outputs": [
    {
     "data": {
      "text/plain": [
       "DataFrames.DataFrame"
      ]
     },
     "execution_count": 8,
     "metadata": {},
     "output_type": "execute_result"
    }
   ],
   "source": [
    "typeof(datos)"
   ]
  },
  {
   "cell_type": "markdown",
   "metadata": {},
   "source": [
    "La variable `datos` es de tipo `DataFrame`, que proviene del paquete `DataFrames.jl`"
   ]
  },
  {
   "cell_type": "code",
   "execution_count": 9,
   "metadata": {},
   "outputs": [],
   "source": [
    "using Pkg"
   ]
  },
  {
   "cell_type": "code",
   "execution_count": 10,
   "metadata": {},
   "outputs": [
    {
     "data": {
      "text/plain": [
       "\"David\""
      ]
     },
     "execution_count": 10,
     "metadata": {},
     "output_type": "execute_result"
    }
   ],
   "source": [
    "s = \"David\""
   ]
  },
  {
   "cell_type": "code",
   "execution_count": 11,
   "metadata": {},
   "outputs": [
    {
     "data": {
      "text/plain": [
       "String"
      ]
     },
     "execution_count": 11,
     "metadata": {},
     "output_type": "execute_result"
    }
   ],
   "source": [
    "typeof(s)"
   ]
  },
  {
   "cell_type": "code",
   "execution_count": 12,
   "metadata": {},
   "outputs": [
    {
     "ename": "LoadError",
     "evalue": "syntax: space before \"(\" not allowed in \"Pkg.add (\"",
     "output_type": "error",
     "traceback": [
      "syntax: space before \"(\" not allowed in \"Pkg.add (\"",
      ""
     ]
    }
   ],
   "source": [
    "using Pkg\n",
    "Pkg.add (\"IJulia\")"
   ]
  },
  {
   "cell_type": "code",
   "execution_count": 13,
   "metadata": {},
   "outputs": [
    {
     "name": "stdout",
     "output_type": "stream",
     "text": [
      "\u001b[32m\u001b[1m Resolving\u001b[22m\u001b[39m package versions...\n",
      "\u001b[32m\u001b[1m  Updating\u001b[22m\u001b[39m `~/.julia/environments/v1.1/Project.toml`\n",
      "\u001b[90m [no changes]\u001b[39m\n",
      "\u001b[32m\u001b[1m  Updating\u001b[22m\u001b[39m `~/.julia/environments/v1.1/Manifest.toml`\n",
      "\u001b[90m [no changes]\u001b[39m\n"
     ]
    }
   ],
   "source": [
    "Pkg.add(\"IJulia\")"
   ]
  },
  {
   "cell_type": "code",
   "execution_count": 14,
   "metadata": {},
   "outputs": [
    {
     "name": "stdout",
     "output_type": "stream",
     "text": [
      "\u001b[32m\u001b[1m Resolving\u001b[22m\u001b[39m package versions...\n",
      "\u001b[32m\u001b[1m  Updating\u001b[22m\u001b[39m `~/.julia/environments/v1.1/Project.toml`\n",
      "\u001b[90m [no changes]\u001b[39m\n",
      "\u001b[32m\u001b[1m  Updating\u001b[22m\u001b[39m `~/.julia/environments/v1.1/Manifest.toml`\n",
      "\u001b[90m [no changes]\u001b[39m\n"
     ]
    }
   ],
   "source": [
    "Pkg.add(\"CSV\")"
   ]
  },
  {
   "cell_type": "code",
   "execution_count": 15,
   "metadata": {},
   "outputs": [
    {
     "name": "stdout",
     "output_type": "stream",
     "text": [
      "\u001b[32m\u001b[1m Resolving\u001b[22m\u001b[39m package versions...\n",
      "\u001b[32m\u001b[1m  Updating\u001b[22m\u001b[39m `~/.julia/environments/v1.1/Project.toml`\n",
      "\u001b[90m [no changes]\u001b[39m\n",
      "\u001b[32m\u001b[1m  Updating\u001b[22m\u001b[39m `~/.julia/environments/v1.1/Manifest.toml`\n",
      "\u001b[90m [no changes]\u001b[39m\n"
     ]
    }
   ],
   "source": [
    "Pkg.add(\"CSV\");"
   ]
  },
  {
   "cell_type": "code",
   "execution_count": 16,
   "metadata": {},
   "outputs": [],
   "source": [
    "using CSV"
   ]
  },
  {
   "cell_type": "code",
   "execution_count": 17,
   "metadata": {},
   "outputs": [
    {
     "data": {
      "text/html": [
       "<table class=\"data-frame\"><thead><tr><th></th><th>AÑO</th><th>SECTOR DE EMISION</th><th>GASES_DE_EFECTO_INVERNADERO_(GIGAGRAMOS_DE_BIOXIDO_DE_CARBONO_EQUIVALENTE)</th><th>CARBONO_NEGRO_(GIGAGRAMOS_DE_BIOXIDO_DE_CARBONO_EQUIVALENTE)</th></tr><tr><th></th><th>Int64⍰</th><th>String⍰</th><th>Int64⍰</th><th>Missing</th></tr></thead><tbody><p>130 rows × 4 columns</p><tr><th>1</th><td>1990</td><td>Energia</td><td>301473</td><td>missing</td></tr><tr><th>2</th><td>1991</td><td>Energia</td><td>312891</td><td>missing</td></tr><tr><th>3</th><td>1992</td><td>Energia</td><td>314129</td><td>missing</td></tr><tr><th>4</th><td>1993</td><td>Energia</td><td>315687</td><td>missing</td></tr><tr><th>5</th><td>1994</td><td>Energia</td><td>333517</td><td>missing</td></tr><tr><th>6</th><td>1995</td><td>Energia</td><td>323169</td><td>missing</td></tr><tr><th>7</th><td>1996</td><td>Energia</td><td>341874</td><td>missing</td></tr><tr><th>8</th><td>1997</td><td>Energia</td><td>363443</td><td>missing</td></tr><tr><th>9</th><td>1998</td><td>Energia</td><td>385391</td><td>missing</td></tr><tr><th>10</th><td>1999</td><td>Energia</td><td>373957</td><td>missing</td></tr><tr><th>11</th><td>2000</td><td>Energia</td><td>380275</td><td>missing</td></tr><tr><th>12</th><td>2001</td><td>Energia</td><td>376938</td><td>missing</td></tr><tr><th>13</th><td>2002</td><td>Energia</td><td>395745</td><td>missing</td></tr><tr><th>14</th><td>2003</td><td>Energia</td><td>394939</td><td>missing</td></tr><tr><th>15</th><td>2004</td><td>Energia</td><td>401523</td><td>missing</td></tr><tr><th>16</th><td>2005</td><td>Energia</td><td>413229</td><td>missing</td></tr><tr><th>17</th><td>2006</td><td>Energia</td><td>431525</td><td>missing</td></tr><tr><th>18</th><td>2007</td><td>Energia</td><td>457299</td><td>missing</td></tr><tr><th>19</th><td>2008</td><td>Energia</td><td>499673</td><td>missing</td></tr><tr><th>20</th><td>2009</td><td>Energia</td><td>478165</td><td>missing</td></tr><tr><th>21</th><td>2010</td><td>Energia</td><td>469972</td><td>missing</td></tr><tr><th>22</th><td>2011</td><td>Energia</td><td>475796</td><td>missing</td></tr><tr><th>23</th><td>2012</td><td>Energia</td><td>467519</td><td>missing</td></tr><tr><th>24</th><td>2013</td><td>Energia</td><td>473763</td><td>missing</td></tr><tr><th>25</th><td>2014</td><td>Energia</td><td>470615</td><td>missing</td></tr><tr><th>26</th><td>2015</td><td>Energia</td><td>480879</td><td>missing</td></tr><tr><th>27</th><td>1990</td><td>Procesos industriales</td><td>32625</td><td>missing</td></tr><tr><th>28</th><td>1991</td><td>Procesos industriales</td><td>31518</td><td>missing</td></tr><tr><th>29</th><td>1992</td><td>Procesos industriales</td><td>32118</td><td>missing</td></tr><tr><th>30</th><td>1993</td><td>Procesos industriales</td><td>32145</td><td>missing</td></tr><tr><th>&vellip;</th><td>&vellip;</td><td>&vellip;</td><td>&vellip;</td><td>&vellip;</td></tr></tbody></table>"
      ],
      "text/latex": [
       "\\begin{tabular}{r|cccc}\n",
       "\t& AÑO & SECTOR DE EMISION & GASES\\_DE\\_EFECTO\\_INVERNADERO\\_(GIGAGRAMOS\\_DE\\_BIOXIDO\\_DE\\_CARBONO\\_EQUIVALENTE) & CARBONO\\_NEGRO\\_(GIGAGRAMOS\\_DE\\_BIOXIDO\\_DE\\_CARBONO\\_EQUIVALENTE)\\\\\n",
       "\t\\hline\n",
       "\t& Int64⍰ & String⍰ & Int64⍰ & Missing\\\\\n",
       "\t\\hline\n",
       "\t1 & 1990 & Energia & 301473 &  \\\\\n",
       "\t2 & 1991 & Energia & 312891 &  \\\\\n",
       "\t3 & 1992 & Energia & 314129 &  \\\\\n",
       "\t4 & 1993 & Energia & 315687 &  \\\\\n",
       "\t5 & 1994 & Energia & 333517 &  \\\\\n",
       "\t6 & 1995 & Energia & 323169 &  \\\\\n",
       "\t7 & 1996 & Energia & 341874 &  \\\\\n",
       "\t8 & 1997 & Energia & 363443 &  \\\\\n",
       "\t9 & 1998 & Energia & 385391 &  \\\\\n",
       "\t10 & 1999 & Energia & 373957 &  \\\\\n",
       "\t11 & 2000 & Energia & 380275 &  \\\\\n",
       "\t12 & 2001 & Energia & 376938 &  \\\\\n",
       "\t13 & 2002 & Energia & 395745 &  \\\\\n",
       "\t14 & 2003 & Energia & 394939 &  \\\\\n",
       "\t15 & 2004 & Energia & 401523 &  \\\\\n",
       "\t16 & 2005 & Energia & 413229 &  \\\\\n",
       "\t17 & 2006 & Energia & 431525 &  \\\\\n",
       "\t18 & 2007 & Energia & 457299 &  \\\\\n",
       "\t19 & 2008 & Energia & 499673 &  \\\\\n",
       "\t20 & 2009 & Energia & 478165 &  \\\\\n",
       "\t21 & 2010 & Energia & 469972 &  \\\\\n",
       "\t22 & 2011 & Energia & 475796 &  \\\\\n",
       "\t23 & 2012 & Energia & 467519 &  \\\\\n",
       "\t24 & 2013 & Energia & 473763 &  \\\\\n",
       "\t25 & 2014 & Energia & 470615 &  \\\\\n",
       "\t26 & 2015 & Energia & 480879 &  \\\\\n",
       "\t27 & 1990 & Procesos industriales & 32625 &  \\\\\n",
       "\t28 & 1991 & Procesos industriales & 31518 &  \\\\\n",
       "\t29 & 1992 & Procesos industriales & 32118 &  \\\\\n",
       "\t30 & 1993 & Procesos industriales & 32145 &  \\\\\n",
       "\t$\\dots$ & $\\dots$ & $\\dots$ & $\\dots$ & $\\dots$ \\\\\n",
       "\\end{tabular}\n"
      ],
      "text/plain": [
       "130×4 DataFrames.DataFrame. Omitted printing of 2 columns\n",
       "│ Row │ AÑO    │ SECTOR DE EMISION │\n",
       "│     │ \u001b[90mInt64⍰\u001b[39m │ \u001b[90mString⍰\u001b[39m           │\n",
       "├─────┼────────┼───────────────────┤\n",
       "│ 1   │ 1990   │ Energia           │\n",
       "│ 2   │ 1991   │ Energia           │\n",
       "│ 3   │ 1992   │ Energia           │\n",
       "│ 4   │ 1993   │ Energia           │\n",
       "│ 5   │ 1994   │ Energia           │\n",
       "│ 6   │ 1995   │ Energia           │\n",
       "│ 7   │ 1996   │ Energia           │\n",
       "│ 8   │ 1997   │ Energia           │\n",
       "│ 9   │ 1998   │ Energia           │\n",
       "│ 10  │ 1999   │ Energia           │\n",
       "⋮\n",
       "│ 120 │ 2005   │ Emisiones netas   │\n",
       "│ 121 │ 2006   │ Emisiones netas   │\n",
       "│ 122 │ 2007   │ Emisiones netas   │\n",
       "│ 123 │ 2008   │ Emisiones netas   │\n",
       "│ 124 │ 2009   │ Emisiones netas   │\n",
       "│ 125 │ 2010   │ Emisiones netas   │\n",
       "│ 126 │ 2011   │ Emisiones netas   │\n",
       "│ 127 │ 2012   │ Emisiones netas   │\n",
       "│ 128 │ 2013   │ Emisiones netas   │\n",
       "│ 129 │ 2014   │ Emisiones netas   │\n",
       "│ 130 │ 2015   │ Emisiones netas   │"
      ]
     },
     "execution_count": 17,
     "metadata": {},
     "output_type": "execute_result"
    }
   ],
   "source": [
    "CSV.read(\"invernadero.csv\")"
   ]
  },
  {
   "cell_type": "markdown",
   "metadata": {},
   "source": [
    "**Hola** $y=x^2$."
   ]
  },
  {
   "cell_type": "code",
   "execution_count": 54,
   "metadata": {},
   "outputs": [
    {
     "data": {
      "text/plain": [
       "false"
      ]
     },
     "execution_count": 54,
     "metadata": {},
     "output_type": "execute_result"
    }
   ],
   "source": [
    "años = datos[1]   # un = es asignación de una variable; crea una variable"
   ]
  },
  {
   "cell_type": "markdown",
   "metadata": {},
   "source": [
    "`años` es un nombre (de una variable) que se refiere a la primera columna "
   ]
  },
  {
   "cell_type": "code",
   "execution_count": 19,
   "metadata": {},
   "outputs": [
    {
     "data": {
      "text/plain": [
       "Base.SkipMissing{Array{Union{Missing, Int64},1}}(Union{Missing, Int64}[1990, 1991, 1992, 1993, 1994, 1995, 1996, 1997, 1998, 1999  …  2006, 2007, 2008, 2009, 2010, 2011, 2012, 2013, 2014, 2015])"
      ]
     },
     "execution_count": 19,
     "metadata": {},
     "output_type": "execute_result"
    }
   ],
   "source": [
    "skipmissing(años)"
   ]
  },
  {
   "cell_type": "code",
   "execution_count": 20,
   "metadata": {},
   "outputs": [
    {
     "data": {
      "text/plain": [
       "130-element Array{Int64,1}:\n",
       " 1990\n",
       " 1991\n",
       " 1992\n",
       " 1993\n",
       " 1994\n",
       " 1995\n",
       " 1996\n",
       " 1997\n",
       " 1998\n",
       " 1999\n",
       " 2000\n",
       " 2001\n",
       " 2002\n",
       "    ⋮\n",
       " 2004\n",
       " 2005\n",
       " 2006\n",
       " 2007\n",
       " 2008\n",
       " 2009\n",
       " 2010\n",
       " 2011\n",
       " 2012\n",
       " 2013\n",
       " 2014\n",
       " 2015"
      ]
     },
     "execution_count": 20,
     "metadata": {},
     "output_type": "execute_result"
    }
   ],
   "source": [
    "años = collect(skipmissing(años))  # crea un nuevo arreglo con sólo los datos sin los missing"
   ]
  },
  {
   "cell_type": "code",
   "execution_count": 21,
   "metadata": {},
   "outputs": [
    {
     "data": {
      "text/plain": [
       "130-element Array{Int64,1}:\n",
       " 1990\n",
       " 1991\n",
       " 1992\n",
       " 1993\n",
       " 1994\n",
       " 1995\n",
       " 1996\n",
       " 1997\n",
       " 1998\n",
       " 1999\n",
       " 2000\n",
       " 2001\n",
       " 2002\n",
       "    ⋮\n",
       " 2004\n",
       " 2005\n",
       " 2006\n",
       " 2007\n",
       " 2008\n",
       " 2009\n",
       " 2010\n",
       " 2011\n",
       " 2012\n",
       " 2013\n",
       " 2014\n",
       " 2015"
      ]
     },
     "execution_count": 21,
     "metadata": {},
     "output_type": "execute_result"
    }
   ],
   "source": [
    "años"
   ]
  },
  {
   "cell_type": "code",
   "execution_count": 22,
   "metadata": {},
   "outputs": [
    {
     "data": {
      "text/plain": [
       "1990"
      ]
     },
     "execution_count": 22,
     "metadata": {},
     "output_type": "execute_result"
    }
   ],
   "source": [
    "años[1]   # extraer primer elemento de años"
   ]
  },
  {
   "cell_type": "code",
   "execution_count": 23,
   "metadata": {},
   "outputs": [
    {
     "ename": "BoundsError",
     "evalue": "BoundsError: attempt to access 130-element Array{Int64,1} at index [0]",
     "output_type": "error",
     "traceback": [
      "BoundsError: attempt to access 130-element Array{Int64,1} at index [0]",
      "",
      "Stacktrace:",
      " [1] getindex(::Array{Int64,1}, ::Int64) at ./array.jl:729",
      " [2] top-level scope at In[23]:1"
     ]
    }
   ],
   "source": [
    "años[0]  # los índices en Julia comienzan en 1"
   ]
  },
  {
   "cell_type": "code",
   "execution_count": 24,
   "metadata": {},
   "outputs": [
    {
     "data": {
      "text/plain": [
       "260325"
      ]
     },
     "execution_count": 24,
     "metadata": {},
     "output_type": "execute_result"
    }
   ],
   "source": [
    "sum(años)"
   ]
  },
  {
   "cell_type": "code",
   "execution_count": 25,
   "metadata": {},
   "outputs": [
    {
     "ename": "UndefVarError",
     "evalue": "UndefVarError: mean not defined",
     "output_type": "error",
     "traceback": [
      "UndefVarError: mean not defined",
      "",
      "Stacktrace:",
      " [1] top-level scope at In[25]:1"
     ]
    }
   ],
   "source": [
    "mean(años)"
   ]
  },
  {
   "cell_type": "code",
   "execution_count": 28,
   "metadata": {},
   "outputs": [],
   "source": [
    "using Statistics   # vive en la biblioteca estándar; ya está instalado"
   ]
  },
  {
   "cell_type": "code",
   "execution_count": 29,
   "metadata": {},
   "outputs": [
    {
     "data": {
      "text/plain": [
       "2002.5"
      ]
     },
     "execution_count": 29,
     "metadata": {},
     "output_type": "execute_result"
    }
   ],
   "source": [
    "mean(años)   # mean vive en el módulo Statistics"
   ]
  },
  {
   "cell_type": "code",
   "execution_count": 31,
   "metadata": {},
   "outputs": [
    {
     "data": {
      "text/plain": [
       "1990"
      ]
     },
     "execution_count": 31,
     "metadata": {},
     "output_type": "execute_result"
    }
   ],
   "source": [
    "años[1]"
   ]
  },
  {
   "cell_type": "code",
   "execution_count": 32,
   "metadata": {},
   "outputs": [
    {
     "data": {
      "text/plain": [
       "1989"
      ]
     },
     "execution_count": 32,
     "metadata": {},
     "output_type": "execute_result"
    }
   ],
   "source": [
    "años[1] = 1989"
   ]
  },
  {
   "cell_type": "code",
   "execution_count": 33,
   "metadata": {},
   "outputs": [
    {
     "data": {
      "text/html": [
       "<table class=\"data-frame\"><thead><tr><th></th><th>AÑO</th><th>SECTOR DE EMISION</th><th>GASES_DE_EFECTO_INVERNADERO_(GIGAGRAMOS_DE_BIOXIDO_DE_CARBONO_EQUIVALENTE)</th><th>CARBONO_NEGRO_(GIGAGRAMOS_DE_BIOXIDO_DE_CARBONO_EQUIVALENTE)</th></tr><tr><th></th><th>Int64⍰</th><th>String⍰</th><th>Int64⍰</th><th>Missing</th></tr></thead><tbody><p>130 rows × 4 columns</p><tr><th>1</th><td>1990</td><td>Energia</td><td>301473</td><td>missing</td></tr><tr><th>2</th><td>1991</td><td>Energia</td><td>312891</td><td>missing</td></tr><tr><th>3</th><td>1992</td><td>Energia</td><td>314129</td><td>missing</td></tr><tr><th>4</th><td>1993</td><td>Energia</td><td>315687</td><td>missing</td></tr><tr><th>5</th><td>1994</td><td>Energia</td><td>333517</td><td>missing</td></tr><tr><th>6</th><td>1995</td><td>Energia</td><td>323169</td><td>missing</td></tr><tr><th>7</th><td>1996</td><td>Energia</td><td>341874</td><td>missing</td></tr><tr><th>8</th><td>1997</td><td>Energia</td><td>363443</td><td>missing</td></tr><tr><th>9</th><td>1998</td><td>Energia</td><td>385391</td><td>missing</td></tr><tr><th>10</th><td>1999</td><td>Energia</td><td>373957</td><td>missing</td></tr><tr><th>11</th><td>2000</td><td>Energia</td><td>380275</td><td>missing</td></tr><tr><th>12</th><td>2001</td><td>Energia</td><td>376938</td><td>missing</td></tr><tr><th>13</th><td>2002</td><td>Energia</td><td>395745</td><td>missing</td></tr><tr><th>14</th><td>2003</td><td>Energia</td><td>394939</td><td>missing</td></tr><tr><th>15</th><td>2004</td><td>Energia</td><td>401523</td><td>missing</td></tr><tr><th>16</th><td>2005</td><td>Energia</td><td>413229</td><td>missing</td></tr><tr><th>17</th><td>2006</td><td>Energia</td><td>431525</td><td>missing</td></tr><tr><th>18</th><td>2007</td><td>Energia</td><td>457299</td><td>missing</td></tr><tr><th>19</th><td>2008</td><td>Energia</td><td>499673</td><td>missing</td></tr><tr><th>20</th><td>2009</td><td>Energia</td><td>478165</td><td>missing</td></tr><tr><th>21</th><td>2010</td><td>Energia</td><td>469972</td><td>missing</td></tr><tr><th>22</th><td>2011</td><td>Energia</td><td>475796</td><td>missing</td></tr><tr><th>23</th><td>2012</td><td>Energia</td><td>467519</td><td>missing</td></tr><tr><th>24</th><td>2013</td><td>Energia</td><td>473763</td><td>missing</td></tr><tr><th>25</th><td>2014</td><td>Energia</td><td>470615</td><td>missing</td></tr><tr><th>26</th><td>2015</td><td>Energia</td><td>480879</td><td>missing</td></tr><tr><th>27</th><td>1990</td><td>Procesos industriales</td><td>32625</td><td>missing</td></tr><tr><th>28</th><td>1991</td><td>Procesos industriales</td><td>31518</td><td>missing</td></tr><tr><th>29</th><td>1992</td><td>Procesos industriales</td><td>32118</td><td>missing</td></tr><tr><th>30</th><td>1993</td><td>Procesos industriales</td><td>32145</td><td>missing</td></tr><tr><th>&vellip;</th><td>&vellip;</td><td>&vellip;</td><td>&vellip;</td><td>&vellip;</td></tr></tbody></table>"
      ],
      "text/latex": [
       "\\begin{tabular}{r|cccc}\n",
       "\t& AÑO & SECTOR DE EMISION & GASES\\_DE\\_EFECTO\\_INVERNADERO\\_(GIGAGRAMOS\\_DE\\_BIOXIDO\\_DE\\_CARBONO\\_EQUIVALENTE) & CARBONO\\_NEGRO\\_(GIGAGRAMOS\\_DE\\_BIOXIDO\\_DE\\_CARBONO\\_EQUIVALENTE)\\\\\n",
       "\t\\hline\n",
       "\t& Int64⍰ & String⍰ & Int64⍰ & Missing\\\\\n",
       "\t\\hline\n",
       "\t1 & 1990 & Energia & 301473 &  \\\\\n",
       "\t2 & 1991 & Energia & 312891 &  \\\\\n",
       "\t3 & 1992 & Energia & 314129 &  \\\\\n",
       "\t4 & 1993 & Energia & 315687 &  \\\\\n",
       "\t5 & 1994 & Energia & 333517 &  \\\\\n",
       "\t6 & 1995 & Energia & 323169 &  \\\\\n",
       "\t7 & 1996 & Energia & 341874 &  \\\\\n",
       "\t8 & 1997 & Energia & 363443 &  \\\\\n",
       "\t9 & 1998 & Energia & 385391 &  \\\\\n",
       "\t10 & 1999 & Energia & 373957 &  \\\\\n",
       "\t11 & 2000 & Energia & 380275 &  \\\\\n",
       "\t12 & 2001 & Energia & 376938 &  \\\\\n",
       "\t13 & 2002 & Energia & 395745 &  \\\\\n",
       "\t14 & 2003 & Energia & 394939 &  \\\\\n",
       "\t15 & 2004 & Energia & 401523 &  \\\\\n",
       "\t16 & 2005 & Energia & 413229 &  \\\\\n",
       "\t17 & 2006 & Energia & 431525 &  \\\\\n",
       "\t18 & 2007 & Energia & 457299 &  \\\\\n",
       "\t19 & 2008 & Energia & 499673 &  \\\\\n",
       "\t20 & 2009 & Energia & 478165 &  \\\\\n",
       "\t21 & 2010 & Energia & 469972 &  \\\\\n",
       "\t22 & 2011 & Energia & 475796 &  \\\\\n",
       "\t23 & 2012 & Energia & 467519 &  \\\\\n",
       "\t24 & 2013 & Energia & 473763 &  \\\\\n",
       "\t25 & 2014 & Energia & 470615 &  \\\\\n",
       "\t26 & 2015 & Energia & 480879 &  \\\\\n",
       "\t27 & 1990 & Procesos industriales & 32625 &  \\\\\n",
       "\t28 & 1991 & Procesos industriales & 31518 &  \\\\\n",
       "\t29 & 1992 & Procesos industriales & 32118 &  \\\\\n",
       "\t30 & 1993 & Procesos industriales & 32145 &  \\\\\n",
       "\t$\\dots$ & $\\dots$ & $\\dots$ & $\\dots$ & $\\dots$ \\\\\n",
       "\\end{tabular}\n"
      ],
      "text/plain": [
       "130×4 DataFrames.DataFrame. Omitted printing of 2 columns\n",
       "│ Row │ AÑO    │ SECTOR DE EMISION │\n",
       "│     │ \u001b[90mInt64⍰\u001b[39m │ \u001b[90mString⍰\u001b[39m           │\n",
       "├─────┼────────┼───────────────────┤\n",
       "│ 1   │ 1990   │ Energia           │\n",
       "│ 2   │ 1991   │ Energia           │\n",
       "│ 3   │ 1992   │ Energia           │\n",
       "│ 4   │ 1993   │ Energia           │\n",
       "│ 5   │ 1994   │ Energia           │\n",
       "│ 6   │ 1995   │ Energia           │\n",
       "│ 7   │ 1996   │ Energia           │\n",
       "│ 8   │ 1997   │ Energia           │\n",
       "│ 9   │ 1998   │ Energia           │\n",
       "│ 10  │ 1999   │ Energia           │\n",
       "⋮\n",
       "│ 120 │ 2005   │ Emisiones netas   │\n",
       "│ 121 │ 2006   │ Emisiones netas   │\n",
       "│ 122 │ 2007   │ Emisiones netas   │\n",
       "│ 123 │ 2008   │ Emisiones netas   │\n",
       "│ 124 │ 2009   │ Emisiones netas   │\n",
       "│ 125 │ 2010   │ Emisiones netas   │\n",
       "│ 126 │ 2011   │ Emisiones netas   │\n",
       "│ 127 │ 2012   │ Emisiones netas   │\n",
       "│ 128 │ 2013   │ Emisiones netas   │\n",
       "│ 129 │ 2014   │ Emisiones netas   │\n",
       "│ 130 │ 2015   │ Emisiones netas   │"
      ]
     },
     "execution_count": 33,
     "metadata": {},
     "output_type": "execute_result"
    }
   ],
   "source": [
    "datos"
   ]
  },
  {
   "cell_type": "code",
   "execution_count": 34,
   "metadata": {},
   "outputs": [
    {
     "data": {
      "text/plain": [
       "130-element Array{Union{Missing, Int64},1}:\n",
       " 1990\n",
       " 1991\n",
       " 1992\n",
       " 1993\n",
       " 1994\n",
       " 1995\n",
       " 1996\n",
       " 1997\n",
       " 1998\n",
       " 1999\n",
       " 2000\n",
       " 2001\n",
       " 2002\n",
       "    ⋮\n",
       " 2004\n",
       " 2005\n",
       " 2006\n",
       " 2007\n",
       " 2008\n",
       " 2009\n",
       " 2010\n",
       " 2011\n",
       " 2012\n",
       " 2013\n",
       " 2014\n",
       " 2015"
      ]
     },
     "execution_count": 34,
     "metadata": {},
     "output_type": "execute_result"
    }
   ],
   "source": [
    "años = datos[1]"
   ]
  },
  {
   "cell_type": "code",
   "execution_count": 35,
   "metadata": {},
   "outputs": [
    {
     "data": {
      "text/plain": [
       "0"
      ]
     },
     "execution_count": 35,
     "metadata": {},
     "output_type": "execute_result"
    }
   ],
   "source": [
    "años[1] = 0"
   ]
  },
  {
   "cell_type": "code",
   "execution_count": 36,
   "metadata": {},
   "outputs": [
    {
     "data": {
      "text/html": [
       "<table class=\"data-frame\"><thead><tr><th></th><th>AÑO</th><th>SECTOR DE EMISION</th><th>GASES_DE_EFECTO_INVERNADERO_(GIGAGRAMOS_DE_BIOXIDO_DE_CARBONO_EQUIVALENTE)</th><th>CARBONO_NEGRO_(GIGAGRAMOS_DE_BIOXIDO_DE_CARBONO_EQUIVALENTE)</th></tr><tr><th></th><th>Int64⍰</th><th>String⍰</th><th>Int64⍰</th><th>Missing</th></tr></thead><tbody><p>130 rows × 4 columns</p><tr><th>1</th><td>0</td><td>Energia</td><td>301473</td><td>missing</td></tr><tr><th>2</th><td>1991</td><td>Energia</td><td>312891</td><td>missing</td></tr><tr><th>3</th><td>1992</td><td>Energia</td><td>314129</td><td>missing</td></tr><tr><th>4</th><td>1993</td><td>Energia</td><td>315687</td><td>missing</td></tr><tr><th>5</th><td>1994</td><td>Energia</td><td>333517</td><td>missing</td></tr><tr><th>6</th><td>1995</td><td>Energia</td><td>323169</td><td>missing</td></tr><tr><th>7</th><td>1996</td><td>Energia</td><td>341874</td><td>missing</td></tr><tr><th>8</th><td>1997</td><td>Energia</td><td>363443</td><td>missing</td></tr><tr><th>9</th><td>1998</td><td>Energia</td><td>385391</td><td>missing</td></tr><tr><th>10</th><td>1999</td><td>Energia</td><td>373957</td><td>missing</td></tr><tr><th>11</th><td>2000</td><td>Energia</td><td>380275</td><td>missing</td></tr><tr><th>12</th><td>2001</td><td>Energia</td><td>376938</td><td>missing</td></tr><tr><th>13</th><td>2002</td><td>Energia</td><td>395745</td><td>missing</td></tr><tr><th>14</th><td>2003</td><td>Energia</td><td>394939</td><td>missing</td></tr><tr><th>15</th><td>2004</td><td>Energia</td><td>401523</td><td>missing</td></tr><tr><th>16</th><td>2005</td><td>Energia</td><td>413229</td><td>missing</td></tr><tr><th>17</th><td>2006</td><td>Energia</td><td>431525</td><td>missing</td></tr><tr><th>18</th><td>2007</td><td>Energia</td><td>457299</td><td>missing</td></tr><tr><th>19</th><td>2008</td><td>Energia</td><td>499673</td><td>missing</td></tr><tr><th>20</th><td>2009</td><td>Energia</td><td>478165</td><td>missing</td></tr><tr><th>21</th><td>2010</td><td>Energia</td><td>469972</td><td>missing</td></tr><tr><th>22</th><td>2011</td><td>Energia</td><td>475796</td><td>missing</td></tr><tr><th>23</th><td>2012</td><td>Energia</td><td>467519</td><td>missing</td></tr><tr><th>24</th><td>2013</td><td>Energia</td><td>473763</td><td>missing</td></tr><tr><th>25</th><td>2014</td><td>Energia</td><td>470615</td><td>missing</td></tr><tr><th>26</th><td>2015</td><td>Energia</td><td>480879</td><td>missing</td></tr><tr><th>27</th><td>1990</td><td>Procesos industriales</td><td>32625</td><td>missing</td></tr><tr><th>28</th><td>1991</td><td>Procesos industriales</td><td>31518</td><td>missing</td></tr><tr><th>29</th><td>1992</td><td>Procesos industriales</td><td>32118</td><td>missing</td></tr><tr><th>30</th><td>1993</td><td>Procesos industriales</td><td>32145</td><td>missing</td></tr><tr><th>&vellip;</th><td>&vellip;</td><td>&vellip;</td><td>&vellip;</td><td>&vellip;</td></tr></tbody></table>"
      ],
      "text/latex": [
       "\\begin{tabular}{r|cccc}\n",
       "\t& AÑO & SECTOR DE EMISION & GASES\\_DE\\_EFECTO\\_INVERNADERO\\_(GIGAGRAMOS\\_DE\\_BIOXIDO\\_DE\\_CARBONO\\_EQUIVALENTE) & CARBONO\\_NEGRO\\_(GIGAGRAMOS\\_DE\\_BIOXIDO\\_DE\\_CARBONO\\_EQUIVALENTE)\\\\\n",
       "\t\\hline\n",
       "\t& Int64⍰ & String⍰ & Int64⍰ & Missing\\\\\n",
       "\t\\hline\n",
       "\t1 & 0 & Energia & 301473 &  \\\\\n",
       "\t2 & 1991 & Energia & 312891 &  \\\\\n",
       "\t3 & 1992 & Energia & 314129 &  \\\\\n",
       "\t4 & 1993 & Energia & 315687 &  \\\\\n",
       "\t5 & 1994 & Energia & 333517 &  \\\\\n",
       "\t6 & 1995 & Energia & 323169 &  \\\\\n",
       "\t7 & 1996 & Energia & 341874 &  \\\\\n",
       "\t8 & 1997 & Energia & 363443 &  \\\\\n",
       "\t9 & 1998 & Energia & 385391 &  \\\\\n",
       "\t10 & 1999 & Energia & 373957 &  \\\\\n",
       "\t11 & 2000 & Energia & 380275 &  \\\\\n",
       "\t12 & 2001 & Energia & 376938 &  \\\\\n",
       "\t13 & 2002 & Energia & 395745 &  \\\\\n",
       "\t14 & 2003 & Energia & 394939 &  \\\\\n",
       "\t15 & 2004 & Energia & 401523 &  \\\\\n",
       "\t16 & 2005 & Energia & 413229 &  \\\\\n",
       "\t17 & 2006 & Energia & 431525 &  \\\\\n",
       "\t18 & 2007 & Energia & 457299 &  \\\\\n",
       "\t19 & 2008 & Energia & 499673 &  \\\\\n",
       "\t20 & 2009 & Energia & 478165 &  \\\\\n",
       "\t21 & 2010 & Energia & 469972 &  \\\\\n",
       "\t22 & 2011 & Energia & 475796 &  \\\\\n",
       "\t23 & 2012 & Energia & 467519 &  \\\\\n",
       "\t24 & 2013 & Energia & 473763 &  \\\\\n",
       "\t25 & 2014 & Energia & 470615 &  \\\\\n",
       "\t26 & 2015 & Energia & 480879 &  \\\\\n",
       "\t27 & 1990 & Procesos industriales & 32625 &  \\\\\n",
       "\t28 & 1991 & Procesos industriales & 31518 &  \\\\\n",
       "\t29 & 1992 & Procesos industriales & 32118 &  \\\\\n",
       "\t30 & 1993 & Procesos industriales & 32145 &  \\\\\n",
       "\t$\\dots$ & $\\dots$ & $\\dots$ & $\\dots$ & $\\dots$ \\\\\n",
       "\\end{tabular}\n"
      ],
      "text/plain": [
       "130×4 DataFrames.DataFrame. Omitted printing of 2 columns\n",
       "│ Row │ AÑO    │ SECTOR DE EMISION │\n",
       "│     │ \u001b[90mInt64⍰\u001b[39m │ \u001b[90mString⍰\u001b[39m           │\n",
       "├─────┼────────┼───────────────────┤\n",
       "│ 1   │ 0      │ Energia           │\n",
       "│ 2   │ 1991   │ Energia           │\n",
       "│ 3   │ 1992   │ Energia           │\n",
       "│ 4   │ 1993   │ Energia           │\n",
       "│ 5   │ 1994   │ Energia           │\n",
       "│ 6   │ 1995   │ Energia           │\n",
       "│ 7   │ 1996   │ Energia           │\n",
       "│ 8   │ 1997   │ Energia           │\n",
       "│ 9   │ 1998   │ Energia           │\n",
       "│ 10  │ 1999   │ Energia           │\n",
       "⋮\n",
       "│ 120 │ 2005   │ Emisiones netas   │\n",
       "│ 121 │ 2006   │ Emisiones netas   │\n",
       "│ 122 │ 2007   │ Emisiones netas   │\n",
       "│ 123 │ 2008   │ Emisiones netas   │\n",
       "│ 124 │ 2009   │ Emisiones netas   │\n",
       "│ 125 │ 2010   │ Emisiones netas   │\n",
       "│ 126 │ 2011   │ Emisiones netas   │\n",
       "│ 127 │ 2012   │ Emisiones netas   │\n",
       "│ 128 │ 2013   │ Emisiones netas   │\n",
       "│ 129 │ 2014   │ Emisiones netas   │\n",
       "│ 130 │ 2015   │ Emisiones netas   │"
      ]
     },
     "execution_count": 36,
     "metadata": {},
     "output_type": "execute_result"
    }
   ],
   "source": [
    "datos"
   ]
  },
  {
   "cell_type": "markdown",
   "metadata": {},
   "source": [
    "Vemos que cuando \"extraigo\" la primera columna, me da una **vista** (\"view\") de los datos originales. No es una copia.\n",
    "\n",
    "Si quiero una copia, utilizo `copy` o `collect`"
   ]
  },
  {
   "cell_type": "code",
   "execution_count": 37,
   "metadata": {},
   "outputs": [
    {
     "data": {
      "text/plain": [
       "1990"
      ]
     },
     "execution_count": 37,
     "metadata": {},
     "output_type": "execute_result"
    }
   ],
   "source": [
    "años[1] = 1990"
   ]
  },
  {
   "cell_type": "markdown",
   "metadata": {},
   "source": [
    "Buscar mínimo y máximo:"
   ]
  },
  {
   "cell_type": "code",
   "execution_count": 38,
   "metadata": {},
   "outputs": [
    {
     "ename": "MethodError",
     "evalue": "MethodError: no method matching min(::Array{Union{Missing, Int64},1})\nClosest candidates are:\n  min(::Any, !Matched::Missing) at missing.jl:104\n  min(::Any, !Matched::Any) at operators.jl:414\n  min(::Any, !Matched::Any, !Matched::Any, !Matched::Any...) at operators.jl:502\n  ...",
     "output_type": "error",
     "traceback": [
      "MethodError: no method matching min(::Array{Union{Missing, Int64},1})\nClosest candidates are:\n  min(::Any, !Matched::Missing) at missing.jl:104\n  min(::Any, !Matched::Any) at operators.jl:414\n  min(::Any, !Matched::Any, !Matched::Any, !Matched::Any...) at operators.jl:502\n  ...",
      "",
      "Stacktrace:",
      " [1] top-level scope at In[38]:1"
     ]
    }
   ],
   "source": [
    "min(años)"
   ]
  },
  {
   "cell_type": "code",
   "execution_count": 39,
   "metadata": {},
   "outputs": [
    {
     "data": {
      "text/plain": [
       "1990"
      ]
     },
     "execution_count": 39,
     "metadata": {},
     "output_type": "execute_result"
    }
   ],
   "source": [
    "minimum(años)"
   ]
  },
  {
   "cell_type": "code",
   "execution_count": 40,
   "metadata": {},
   "outputs": [
    {
     "data": {
      "text/plain": [
       "2"
      ]
     },
     "execution_count": 40,
     "metadata": {},
     "output_type": "execute_result"
    }
   ],
   "source": [
    "min(2, 3)"
   ]
  },
  {
   "cell_type": "code",
   "execution_count": 41,
   "metadata": {},
   "outputs": [
    {
     "data": {
      "text/plain": [
       "2015"
      ]
     },
     "execution_count": 41,
     "metadata": {},
     "output_type": "execute_result"
    }
   ],
   "source": [
    "maximum(años)"
   ]
  },
  {
   "cell_type": "code",
   "execution_count": 43,
   "metadata": {},
   "outputs": [
    {
     "data": {
      "text/plain": [
       "(1990, 2015)"
      ]
     },
     "execution_count": 43,
     "metadata": {},
     "output_type": "execute_result"
    }
   ],
   "source": [
    "extrema(años)"
   ]
  },
  {
   "cell_type": "code",
   "execution_count": 44,
   "metadata": {},
   "outputs": [
    {
     "data": {
      "text/plain": [
       "Tuple{Int64,Int64}"
      ]
     },
     "execution_count": 44,
     "metadata": {},
     "output_type": "execute_result"
    }
   ],
   "source": [
    "typeof(ans)   # ans es la respuesta anterior"
   ]
  },
  {
   "cell_type": "code",
   "execution_count": 45,
   "metadata": {},
   "outputs": [
    {
     "data": {
      "text/plain": [
       "(1990, 2015)"
      ]
     },
     "execution_count": 45,
     "metadata": {},
     "output_type": "execute_result"
    }
   ],
   "source": [
    "extremos = extrema(años)"
   ]
  },
  {
   "cell_type": "code",
   "execution_count": 46,
   "metadata": {},
   "outputs": [
    {
     "data": {
      "text/plain": [
       "Tuple{Int64,Int64}"
      ]
     },
     "execution_count": 46,
     "metadata": {},
     "output_type": "execute_result"
    }
   ],
   "source": [
    "typeof(extremos)"
   ]
  },
  {
   "cell_type": "markdown",
   "metadata": {},
   "source": [
    "# Vectores"
   ]
  },
  {
   "cell_type": "code",
   "execution_count": 56,
   "metadata": {},
   "outputs": [
    {
     "data": {
      "text/plain": [
       "3-element Array{Int64,1}:\n",
       " 3\n",
       " 4\n",
       " 5"
      ]
     },
     "execution_count": 56,
     "metadata": {},
     "output_type": "execute_result"
    }
   ],
   "source": [
    "v = [3, 4, 5]  "
   ]
  },
  {
   "cell_type": "code",
   "execution_count": 57,
   "metadata": {},
   "outputs": [
    {
     "data": {
      "text/plain": [
       "3-element Array{Float64,1}:\n",
       "  3.1\n",
       " -1.5\n",
       " 10.0"
      ]
     },
     "execution_count": 57,
     "metadata": {},
     "output_type": "execute_result"
    }
   ],
   "source": [
    "v2 = [3.1, -1.5, 10]"
   ]
  },
  {
   "cell_type": "code",
   "execution_count": 58,
   "metadata": {},
   "outputs": [
    {
     "data": {
      "text/plain": [
       "2-element Array{String,1}:\n",
       " \"David\"  \n",
       " \"Enrique\""
      ]
     },
     "execution_count": 58,
     "metadata": {},
     "output_type": "execute_result"
    }
   ],
   "source": [
    "v3 = [\"David\", \"Enrique\"]"
   ]
  },
  {
   "cell_type": "code",
   "execution_count": 59,
   "metadata": {},
   "outputs": [
    {
     "data": {
      "text/plain": [
       "2-element Array{Any,1}:\n",
       "  \"David\"\n",
       " 1       "
      ]
     },
     "execution_count": 59,
     "metadata": {},
     "output_type": "execute_result"
    }
   ],
   "source": [
    "v4 = [\"David\", 1]"
   ]
  },
  {
   "cell_type": "code",
   "execution_count": 73,
   "metadata": {},
   "outputs": [
    {
     "data": {
      "text/plain": [
       "3-element Array{Int64,1}:\n",
       " 3\n",
       " 4\n",
       " 5"
      ]
     },
     "execution_count": 73,
     "metadata": {},
     "output_type": "execute_result"
    }
   ],
   "source": [
    "v = [3, 4, 5]"
   ]
  },
  {
   "cell_type": "markdown",
   "metadata": {},
   "source": [
    "Agregar un número a esta lista:"
   ]
  },
  {
   "cell_type": "code",
   "execution_count": 74,
   "metadata": {},
   "outputs": [
    {
     "data": {
      "text/plain": [
       "4-element Array{Int64,1}:\n",
       "  3\n",
       "  4\n",
       "  5\n",
       " 10"
      ]
     },
     "execution_count": 74,
     "metadata": {},
     "output_type": "execute_result"
    }
   ],
   "source": [
    "push!(v, 10)"
   ]
  },
  {
   "cell_type": "code",
   "execution_count": 75,
   "metadata": {},
   "outputs": [
    {
     "data": {
      "text/plain": [
       "4-element Array{Int64,1}:\n",
       "  3\n",
       "  4\n",
       "  5\n",
       " 10"
      ]
     },
     "execution_count": 75,
     "metadata": {},
     "output_type": "execute_result"
    }
   ],
   "source": [
    "v"
   ]
  },
  {
   "cell_type": "markdown",
   "metadata": {},
   "source": [
    "`push!` es una función (comando) de Julia que toma como argumentos (entradas) el nombre del vector y el valor que agregar al final"
   ]
  },
  {
   "cell_type": "code",
   "execution_count": 76,
   "metadata": {},
   "outputs": [
    {
     "data": {
      "text/plain": [
       "3-element Array{Int64,1}:\n",
       "  3\n",
       "  4\n",
       " 10"
      ]
     },
     "execution_count": 76,
     "metadata": {},
     "output_type": "execute_result"
    }
   ],
   "source": [
    "deleteat!(v, 3)  # borrar el valor en el 3er lugar"
   ]
  },
  {
   "cell_type": "code",
   "execution_count": 77,
   "metadata": {},
   "outputs": [
    {
     "data": {
      "text/plain": [
       "4-element Array{Int64,1}:\n",
       " 1000\n",
       "    3\n",
       "    4\n",
       "   10"
      ]
     },
     "execution_count": 77,
     "metadata": {},
     "output_type": "execute_result"
    }
   ],
   "source": [
    "pushfirst!(v, 1000)"
   ]
  },
  {
   "cell_type": "code",
   "execution_count": 78,
   "metadata": {},
   "outputs": [
    {
     "data": {
      "text/plain": [
       "4-element Array{Int64,1}:\n",
       " 1000\n",
       "    3\n",
       "    4\n",
       "   10"
      ]
     },
     "execution_count": 78,
     "metadata": {},
     "output_type": "execute_result"
    }
   ],
   "source": [
    "v"
   ]
  },
  {
   "cell_type": "code",
   "execution_count": 79,
   "metadata": {},
   "outputs": [
    {
     "data": {
      "text/plain": [
       "1000"
      ]
     },
     "execution_count": 79,
     "metadata": {},
     "output_type": "execute_result"
    }
   ],
   "source": [
    "v[1]"
   ]
  },
  {
   "cell_type": "code",
   "execution_count": 80,
   "metadata": {},
   "outputs": [
    {
     "data": {
      "text/plain": [
       "4-element Array{Int64,1}:\n",
       "    3\n",
       "    4\n",
       "   10\n",
       " 1000"
      ]
     },
     "execution_count": 80,
     "metadata": {},
     "output_type": "execute_result"
    }
   ],
   "source": [
    "sort(v)   # sort = ordenar;  regresa nueva lista; no modifica el vector"
   ]
  },
  {
   "cell_type": "code",
   "execution_count": 81,
   "metadata": {},
   "outputs": [
    {
     "data": {
      "text/plain": [
       "4-element Array{Int64,1}:\n",
       " 1000\n",
       "    3\n",
       "    4\n",
       "   10"
      ]
     },
     "execution_count": 81,
     "metadata": {},
     "output_type": "execute_result"
    }
   ],
   "source": [
    "v"
   ]
  },
  {
   "cell_type": "code",
   "execution_count": 84,
   "metadata": {},
   "outputs": [
    {
     "data": {
      "text/plain": [
       "4-element Array{Int64,1}:\n",
       "    3\n",
       "    4\n",
       "   10\n",
       " 1000"
      ]
     },
     "execution_count": 84,
     "metadata": {},
     "output_type": "execute_result"
    }
   ],
   "source": [
    "sort!(v)   # ordena el vector v en el mismo lugar (modifica v)"
   ]
  },
  {
   "cell_type": "markdown",
   "metadata": {},
   "source": [
    "`!` en Julia indica que la función (comando) modifica su argumento. Es una convención"
   ]
  },
  {
   "cell_type": "code",
   "execution_count": 85,
   "metadata": {},
   "outputs": [
    {
     "data": {
      "text/plain": [
       "1017"
      ]
     },
     "execution_count": 85,
     "metadata": {},
     "output_type": "execute_result"
    }
   ],
   "source": [
    "sum(v)"
   ]
  },
  {
   "cell_type": "code",
   "execution_count": 86,
   "metadata": {},
   "outputs": [
    {
     "data": {
      "text/plain": [
       "254.25"
      ]
     },
     "execution_count": 86,
     "metadata": {},
     "output_type": "execute_result"
    }
   ],
   "source": [
    "using Statistics  # una vez en la sesión \n",
    "\n",
    "mean(v)   # promedio aritmético"
   ]
  },
  {
   "cell_type": "code",
   "execution_count": 87,
   "metadata": {},
   "outputs": [
    {
     "data": {
      "text/plain": [
       "130-element Array{Union{Missing, Int64},1}:\n",
       " 1990\n",
       " 1991\n",
       " 1992\n",
       " 1993\n",
       " 1994\n",
       " 1995\n",
       " 1996\n",
       " 1997\n",
       " 1998\n",
       " 1999\n",
       " 2000\n",
       " 2001\n",
       " 2002\n",
       "    ⋮\n",
       " 2004\n",
       " 2005\n",
       " 2006\n",
       " 2007\n",
       " 2008\n",
       " 2009\n",
       " 2010\n",
       " 2011\n",
       " 2012\n",
       " 2013\n",
       " 2014\n",
       " 2015"
      ]
     },
     "execution_count": 87,
     "metadata": {},
     "output_type": "execute_result"
    }
   ],
   "source": [
    "años"
   ]
  },
  {
   "cell_type": "code",
   "execution_count": 88,
   "metadata": {},
   "outputs": [
    {
     "data": {
      "text/plain": [
       "2015"
      ]
     },
     "execution_count": 88,
     "metadata": {},
     "output_type": "execute_result"
    }
   ],
   "source": [
    "valor_min = minimum(años)\n",
    "valor_max = maximum(años)"
   ]
  },
  {
   "cell_type": "markdown",
   "metadata": {},
   "source": [
    "Algunos datos están repetidos. Quiero eliminar las repeticiones:"
   ]
  },
  {
   "cell_type": "code",
   "execution_count": 89,
   "metadata": {},
   "outputs": [
    {
     "data": {
      "text/plain": [
       "26-element Array{Union{Missing, Int64},1}:\n",
       " 1990\n",
       " 1991\n",
       " 1992\n",
       " 1993\n",
       " 1994\n",
       " 1995\n",
       " 1996\n",
       " 1997\n",
       " 1998\n",
       " 1999\n",
       " 2000\n",
       " 2001\n",
       " 2002\n",
       " 2003\n",
       " 2004\n",
       " 2005\n",
       " 2006\n",
       " 2007\n",
       " 2008\n",
       " 2009\n",
       " 2010\n",
       " 2011\n",
       " 2012\n",
       " 2013\n",
       " 2014\n",
       " 2015"
      ]
     },
     "execution_count": 89,
     "metadata": {},
     "output_type": "execute_result"
    }
   ],
   "source": [
    "unique(años)  # regresa todos los valores una única vez"
   ]
  },
  {
   "cell_type": "markdown",
   "metadata": {},
   "source": [
    "Tenemos que hacer **análisis exploratorio de datos** (Tukey)"
   ]
  },
  {
   "cell_type": "code",
   "execution_count": 90,
   "metadata": {},
   "outputs": [
    {
     "data": {
      "text/plain": [
       "130-element Array{Union{Missing, String},1}:\n",
       " \"Energia\"        \n",
       " \"Energia\"        \n",
       " \"Energia\"        \n",
       " \"Energia\"        \n",
       " \"Energia\"        \n",
       " \"Energia\"        \n",
       " \"Energia\"        \n",
       " \"Energia\"        \n",
       " \"Energia\"        \n",
       " \"Energia\"        \n",
       " \"Energia\"        \n",
       " \"Energia\"        \n",
       " \"Energia\"        \n",
       " ⋮                \n",
       " \"Emisiones netas\"\n",
       " \"Emisiones netas\"\n",
       " \"Emisiones netas\"\n",
       " \"Emisiones netas\"\n",
       " \"Emisiones netas\"\n",
       " \"Emisiones netas\"\n",
       " \"Emisiones netas\"\n",
       " \"Emisiones netas\"\n",
       " \"Emisiones netas\"\n",
       " \"Emisiones netas\"\n",
       " \"Emisiones netas\"\n",
       " \"Emisiones netas\""
      ]
     },
     "execution_count": 90,
     "metadata": {},
     "output_type": "execute_result"
    }
   ],
   "source": [
    "sectores = datos[2]"
   ]
  },
  {
   "cell_type": "code",
   "execution_count": 91,
   "metadata": {},
   "outputs": [
    {
     "data": {
      "text/plain": [
       "5-element Array{Union{Missing, String},1}:\n",
       " \"Energia\"                                            \n",
       " \"Procesos industriales\"                              \n",
       " \"Agricultura, silvicultura y otros usos de la tierra\"\n",
       " \"Residuos\"                                           \n",
       " \"Emisiones netas\"                                    "
      ]
     },
     "execution_count": 91,
     "metadata": {},
     "output_type": "execute_result"
    }
   ],
   "source": [
    "sectores2 = unique(sectores)"
   ]
  },
  {
   "cell_type": "code",
   "execution_count": 92,
   "metadata": {},
   "outputs": [
    {
     "data": {
      "text/plain": [
       "5-element Array{Union{Missing, String},1}:\n",
       " \"Energia\"                                            \n",
       " \"Procesos industriales\"                              \n",
       " \"Agricultura, silvicultura y otros usos de la tierra\"\n",
       " \"Residuos\"                                           \n",
       " \"Emisiones netas\"                                    "
      ]
     },
     "execution_count": 92,
     "metadata": {},
     "output_type": "execute_result"
    }
   ],
   "source": [
    "sectores = unique(datos[2])"
   ]
  },
  {
   "cell_type": "markdown",
   "metadata": {},
   "source": [
    "## Extraer datos"
   ]
  },
  {
   "cell_type": "markdown",
   "metadata": {},
   "source": [
    "Extraer de mi \"base de datos\" sólo los datos del sector \"Energia\""
   ]
  },
  {
   "cell_type": "code",
   "execution_count": 93,
   "metadata": {},
   "outputs": [
    {
     "data": {
      "text/plain": [
       "130-element Array{Union{Missing, String},1}:\n",
       " \"Energia\"        \n",
       " \"Energia\"        \n",
       " \"Energia\"        \n",
       " \"Energia\"        \n",
       " \"Energia\"        \n",
       " \"Energia\"        \n",
       " \"Energia\"        \n",
       " \"Energia\"        \n",
       " \"Energia\"        \n",
       " \"Energia\"        \n",
       " \"Energia\"        \n",
       " \"Energia\"        \n",
       " \"Energia\"        \n",
       " ⋮                \n",
       " \"Emisiones netas\"\n",
       " \"Emisiones netas\"\n",
       " \"Emisiones netas\"\n",
       " \"Emisiones netas\"\n",
       " \"Emisiones netas\"\n",
       " \"Emisiones netas\"\n",
       " \"Emisiones netas\"\n",
       " \"Emisiones netas\"\n",
       " \"Emisiones netas\"\n",
       " \"Emisiones netas\"\n",
       " \"Emisiones netas\"\n",
       " \"Emisiones netas\""
      ]
     },
     "execution_count": 93,
     "metadata": {},
     "output_type": "execute_result"
    }
   ],
   "source": [
    "datos[2]"
   ]
  },
  {
   "cell_type": "code",
   "execution_count": 94,
   "metadata": {},
   "outputs": [
    {
     "data": {
      "text/plain": [
       "\"Energia\""
      ]
     },
     "execution_count": 94,
     "metadata": {},
     "output_type": "execute_result"
    }
   ],
   "source": [
    "datos[2][1]  # extrae primer elemento de la segunda columna"
   ]
  },
  {
   "cell_type": "code",
   "execution_count": 95,
   "metadata": {},
   "outputs": [
    {
     "data": {
      "text/plain": [
       "1991"
      ]
     },
     "execution_count": 95,
     "metadata": {},
     "output_type": "execute_result"
    }
   ],
   "source": [
    "datos[2, 1]  # extrae el renglón 2, columna 1"
   ]
  },
  {
   "cell_type": "code",
   "execution_count": 97,
   "metadata": {},
   "outputs": [
    {
     "data": {
      "text/plain": [
       "\"Energia\""
      ]
     },
     "execution_count": 97,
     "metadata": {},
     "output_type": "execute_result"
    }
   ],
   "source": [
    "datos[1, 2] "
   ]
  },
  {
   "cell_type": "code",
   "execution_count": 98,
   "metadata": {},
   "outputs": [
    {
     "ename": "UndefVarError",
     "evalue": "UndefVarError: Energia not defined",
     "output_type": "error",
     "traceback": [
      "UndefVarError: Energia not defined",
      "",
      "Stacktrace:",
      " [1] top-level scope at In[98]:1"
     ]
    }
   ],
   "source": [
    "datos[1, 2] == Energia   # == comprueba igualdad"
   ]
  },
  {
   "cell_type": "code",
   "execution_count": 99,
   "metadata": {},
   "outputs": [
    {
     "data": {
      "text/plain": [
       "true"
      ]
     },
     "execution_count": 99,
     "metadata": {},
     "output_type": "execute_result"
    }
   ],
   "source": [
    "datos[1, 2] == \"Energia\""
   ]
  },
  {
   "cell_type": "code",
   "execution_count": 100,
   "metadata": {},
   "outputs": [
    {
     "data": {
      "text/plain": [
       "1991"
      ]
     },
     "execution_count": 100,
     "metadata": {},
     "output_type": "execute_result"
    }
   ],
   "source": [
    "datos[2, 1]"
   ]
  },
  {
   "cell_type": "code",
   "execution_count": 101,
   "metadata": {},
   "outputs": [
    {
     "data": {
      "text/plain": [
       "false"
      ]
     },
     "execution_count": 101,
     "metadata": {},
     "output_type": "execute_result"
    }
   ],
   "source": [
    "datos[2, 1] == \"Energia\""
   ]
  },
  {
   "cell_type": "markdown",
   "metadata": {},
   "source": [
    "Quiero hacer esto para todos los valores en la 2a columna:"
   ]
  },
  {
   "cell_type": "code",
   "execution_count": 108,
   "metadata": {},
   "outputs": [
    {
     "data": {
      "text/plain": [
       "130-element Array{Union{Missing, String},1}:\n",
       " \"Energia\"        \n",
       " \"Energia\"        \n",
       " \"Energia\"        \n",
       " \"Energia\"        \n",
       " \"Energia\"        \n",
       " \"Energia\"        \n",
       " \"Energia\"        \n",
       " \"Energia\"        \n",
       " \"Energia\"        \n",
       " \"Energia\"        \n",
       " \"Energia\"        \n",
       " \"Energia\"        \n",
       " \"Energia\"        \n",
       " ⋮                \n",
       " \"Emisiones netas\"\n",
       " \"Emisiones netas\"\n",
       " \"Emisiones netas\"\n",
       " \"Emisiones netas\"\n",
       " \"Emisiones netas\"\n",
       " \"Emisiones netas\"\n",
       " \"Emisiones netas\"\n",
       " \"Emisiones netas\"\n",
       " \"Emisiones netas\"\n",
       " \"Emisiones netas\"\n",
       " \"Emisiones netas\"\n",
       " \"Emisiones netas\""
      ]
     },
     "execution_count": 108,
     "metadata": {},
     "output_type": "execute_result"
    }
   ],
   "source": [
    "datos[2]"
   ]
  },
  {
   "cell_type": "code",
   "execution_count": 109,
   "metadata": {},
   "outputs": [
    {
     "data": {
      "text/plain": [
       "\"Energia\""
      ]
     },
     "execution_count": 109,
     "metadata": {},
     "output_type": "execute_result"
    }
   ],
   "source": [
    "datos[2][1]"
   ]
  },
  {
   "cell_type": "code",
   "execution_count": 111,
   "metadata": {},
   "outputs": [
    {
     "data": {
      "text/plain": [
       "true"
      ]
     },
     "execution_count": 111,
     "metadata": {},
     "output_type": "execute_result"
    }
   ],
   "source": [
    "a = datos[2][1] == \"Energia\""
   ]
  },
  {
   "cell_type": "code",
   "execution_count": 113,
   "metadata": {},
   "outputs": [
    {
     "data": {
      "text/plain": [
       "true"
      ]
     },
     "execution_count": 113,
     "metadata": {},
     "output_type": "execute_result"
    }
   ],
   "source": [
    "a"
   ]
  },
  {
   "cell_type": "code",
   "execution_count": null,
   "metadata": {},
   "outputs": [],
   "source": [
    "datos[2][1] == \"Energia\""
   ]
  },
  {
   "cell_type": "code",
   "execution_count": 114,
   "metadata": {},
   "outputs": [
    {
     "data": {
      "text/plain": [
       "false"
      ]
     },
     "execution_count": 114,
     "metadata": {},
     "output_type": "execute_result"
    }
   ],
   "source": [
    "datos[2][1] == \"Energía\""
   ]
  },
  {
   "cell_type": "code",
   "execution_count": 115,
   "metadata": {},
   "outputs": [
    {
     "data": {
      "text/plain": [
       "\"Energia\""
      ]
     },
     "execution_count": 115,
     "metadata": {},
     "output_type": "execute_result"
    }
   ],
   "source": [
    "replace(\"Energía\", \"í\" => \"i\")"
   ]
  },
  {
   "cell_type": "code",
   "execution_count": 116,
   "metadata": {},
   "outputs": [
    {
     "data": {
      "text/plain": [
       "\"iEnergiai \""
      ]
     },
     "execution_count": 116,
     "metadata": {},
     "output_type": "execute_result"
    }
   ],
   "source": [
    "replace(\"íEnergíaí \", \"í\" => \"i\")"
   ]
  },
  {
   "cell_type": "code",
   "execution_count": 103,
   "metadata": {},
   "outputs": [
    {
     "data": {
      "text/plain": [
       "130-element BitArray{1}:\n",
       "  true\n",
       "  true\n",
       "  true\n",
       "  true\n",
       "  true\n",
       "  true\n",
       "  true\n",
       "  true\n",
       "  true\n",
       "  true\n",
       "  true\n",
       "  true\n",
       "  true\n",
       "     ⋮\n",
       " false\n",
       " false\n",
       " false\n",
       " false\n",
       " false\n",
       " false\n",
       " false\n",
       " false\n",
       " false\n",
       " false\n",
       " false\n",
       " false"
      ]
     },
     "execution_count": 103,
     "metadata": {},
     "output_type": "execute_result"
    }
   ],
   "source": [
    "datos[2] .== \"Energia\"  # puse un ."
   ]
  },
  {
   "cell_type": "code",
   "execution_count": 119,
   "metadata": {},
   "outputs": [
    {
     "data": {
      "text/plain": [
       "3-element Array{Int64,1}:\n",
       " 3\n",
       " 4\n",
       " 5"
      ]
     },
     "execution_count": 119,
     "metadata": {},
     "output_type": "execute_result"
    }
   ],
   "source": [
    "v = [3, 4, 5]"
   ]
  },
  {
   "cell_type": "code",
   "execution_count": 121,
   "metadata": {},
   "outputs": [
    {
     "data": {
      "text/plain": [
       "sin (generic function with 12 methods)"
      ]
     },
     "execution_count": 121,
     "metadata": {},
     "output_type": "execute_result"
    }
   ],
   "source": [
    "const seno = sin"
   ]
  },
  {
   "cell_type": "code",
   "execution_count": 122,
   "metadata": {},
   "outputs": [
    {
     "data": {
      "text/plain": [
       "0.1411200080598672"
      ]
     },
     "execution_count": 122,
     "metadata": {},
     "output_type": "execute_result"
    }
   ],
   "source": [
    "seno(3)"
   ]
  },
  {
   "cell_type": "code",
   "execution_count": 123,
   "metadata": {},
   "outputs": [
    {
     "data": {
      "text/plain": [
       "0.1411200080598672"
      ]
     },
     "execution_count": 123,
     "metadata": {},
     "output_type": "execute_result"
    }
   ],
   "source": [
    "sin(3)"
   ]
  },
  {
   "cell_type": "code",
   "execution_count": 125,
   "metadata": {},
   "outputs": [
    {
     "data": {
      "text/plain": [
       "3-element Array{Int64,1}:\n",
       " 3\n",
       " 4\n",
       " 5"
      ]
     },
     "execution_count": 125,
     "metadata": {},
     "output_type": "execute_result"
    }
   ],
   "source": [
    "v"
   ]
  },
  {
   "cell_type": "code",
   "execution_count": 127,
   "metadata": {},
   "outputs": [
    {
     "data": {
      "text/plain": [
       "3-element Array{Float64,1}:\n",
       "  0.1411200080598672\n",
       " -0.7568024953079282\n",
       " -0.9589242746631385"
      ]
     },
     "execution_count": 127,
     "metadata": {},
     "output_type": "execute_result"
    }
   ],
   "source": [
    "sin.(v)"
   ]
  },
  {
   "cell_type": "code",
   "execution_count": 120,
   "metadata": {},
   "outputs": [
    {
     "ename": "UndefVarError",
     "evalue": "UndefVarError: seno not defined",
     "output_type": "error",
     "traceback": [
      "UndefVarError: seno not defined",
      "",
      "Stacktrace:",
      " [1] top-level scope at In[120]:1"
     ]
    }
   ],
   "source": []
  },
  {
   "cell_type": "markdown",
   "metadata": {},
   "source": [
    "`.` se llama \"broadcast\" (\"esparcir\")\n",
    "\n",
    "Aplica una operación **elemento por elemento** a un arreglo (vector), o bien **punto por punto**"
   ]
  },
  {
   "cell_type": "code",
   "execution_count": 128,
   "metadata": {},
   "outputs": [
    {
     "data": {
      "text/plain": [
       "130-element BitArray{1}:\n",
       "  true\n",
       "  true\n",
       "  true\n",
       "  true\n",
       "  true\n",
       "  true\n",
       "  true\n",
       "  true\n",
       "  true\n",
       "  true\n",
       "  true\n",
       "  true\n",
       "  true\n",
       "     ⋮\n",
       " false\n",
       " false\n",
       " false\n",
       " false\n",
       " false\n",
       " false\n",
       " false\n",
       " false\n",
       " false\n",
       " false\n",
       " false\n",
       " false"
      ]
     },
     "execution_count": 128,
     "metadata": {},
     "output_type": "execute_result"
    }
   ],
   "source": [
    "datos[2] .== \"Energia\""
   ]
  },
  {
   "cell_type": "code",
   "execution_count": 105,
   "metadata": {},
   "outputs": [
    {
     "data": {
      "text/html": [
       "<table class=\"data-frame\"><thead><tr><th></th><th>AÑO</th><th>SECTOR DE EMISION</th><th>GASES_DE_EFECTO_INVERNADERO_(GIGAGRAMOS_DE_BIOXIDO_DE_CARBONO_EQUIVALENTE)</th><th>CARBONO_NEGRO_(GIGAGRAMOS_DE_BIOXIDO_DE_CARBONO_EQUIVALENTE)</th></tr><tr><th></th><th>Int64⍰</th><th>String⍰</th><th>Int64⍰</th><th>Missing</th></tr></thead><tbody><p>26 rows × 4 columns</p><tr><th>1</th><td>1990</td><td>Energia</td><td>301473</td><td>missing</td></tr><tr><th>2</th><td>1991</td><td>Energia</td><td>312891</td><td>missing</td></tr><tr><th>3</th><td>1992</td><td>Energia</td><td>314129</td><td>missing</td></tr><tr><th>4</th><td>1993</td><td>Energia</td><td>315687</td><td>missing</td></tr><tr><th>5</th><td>1994</td><td>Energia</td><td>333517</td><td>missing</td></tr><tr><th>6</th><td>1995</td><td>Energia</td><td>323169</td><td>missing</td></tr><tr><th>7</th><td>1996</td><td>Energia</td><td>341874</td><td>missing</td></tr><tr><th>8</th><td>1997</td><td>Energia</td><td>363443</td><td>missing</td></tr><tr><th>9</th><td>1998</td><td>Energia</td><td>385391</td><td>missing</td></tr><tr><th>10</th><td>1999</td><td>Energia</td><td>373957</td><td>missing</td></tr><tr><th>11</th><td>2000</td><td>Energia</td><td>380275</td><td>missing</td></tr><tr><th>12</th><td>2001</td><td>Energia</td><td>376938</td><td>missing</td></tr><tr><th>13</th><td>2002</td><td>Energia</td><td>395745</td><td>missing</td></tr><tr><th>14</th><td>2003</td><td>Energia</td><td>394939</td><td>missing</td></tr><tr><th>15</th><td>2004</td><td>Energia</td><td>401523</td><td>missing</td></tr><tr><th>16</th><td>2005</td><td>Energia</td><td>413229</td><td>missing</td></tr><tr><th>17</th><td>2006</td><td>Energia</td><td>431525</td><td>missing</td></tr><tr><th>18</th><td>2007</td><td>Energia</td><td>457299</td><td>missing</td></tr><tr><th>19</th><td>2008</td><td>Energia</td><td>499673</td><td>missing</td></tr><tr><th>20</th><td>2009</td><td>Energia</td><td>478165</td><td>missing</td></tr><tr><th>21</th><td>2010</td><td>Energia</td><td>469972</td><td>missing</td></tr><tr><th>22</th><td>2011</td><td>Energia</td><td>475796</td><td>missing</td></tr><tr><th>23</th><td>2012</td><td>Energia</td><td>467519</td><td>missing</td></tr><tr><th>24</th><td>2013</td><td>Energia</td><td>473763</td><td>missing</td></tr><tr><th>25</th><td>2014</td><td>Energia</td><td>470615</td><td>missing</td></tr><tr><th>26</th><td>2015</td><td>Energia</td><td>480879</td><td>missing</td></tr></tbody></table>"
      ],
      "text/latex": [
       "\\begin{tabular}{r|cccc}\n",
       "\t& AÑO & SECTOR DE EMISION & GASES\\_DE\\_EFECTO\\_INVERNADERO\\_(GIGAGRAMOS\\_DE\\_BIOXIDO\\_DE\\_CARBONO\\_EQUIVALENTE) & CARBONO\\_NEGRO\\_(GIGAGRAMOS\\_DE\\_BIOXIDO\\_DE\\_CARBONO\\_EQUIVALENTE)\\\\\n",
       "\t\\hline\n",
       "\t& Int64⍰ & String⍰ & Int64⍰ & Missing\\\\\n",
       "\t\\hline\n",
       "\t1 & 1990 & Energia & 301473 &  \\\\\n",
       "\t2 & 1991 & Energia & 312891 &  \\\\\n",
       "\t3 & 1992 & Energia & 314129 &  \\\\\n",
       "\t4 & 1993 & Energia & 315687 &  \\\\\n",
       "\t5 & 1994 & Energia & 333517 &  \\\\\n",
       "\t6 & 1995 & Energia & 323169 &  \\\\\n",
       "\t7 & 1996 & Energia & 341874 &  \\\\\n",
       "\t8 & 1997 & Energia & 363443 &  \\\\\n",
       "\t9 & 1998 & Energia & 385391 &  \\\\\n",
       "\t10 & 1999 & Energia & 373957 &  \\\\\n",
       "\t11 & 2000 & Energia & 380275 &  \\\\\n",
       "\t12 & 2001 & Energia & 376938 &  \\\\\n",
       "\t13 & 2002 & Energia & 395745 &  \\\\\n",
       "\t14 & 2003 & Energia & 394939 &  \\\\\n",
       "\t15 & 2004 & Energia & 401523 &  \\\\\n",
       "\t16 & 2005 & Energia & 413229 &  \\\\\n",
       "\t17 & 2006 & Energia & 431525 &  \\\\\n",
       "\t18 & 2007 & Energia & 457299 &  \\\\\n",
       "\t19 & 2008 & Energia & 499673 &  \\\\\n",
       "\t20 & 2009 & Energia & 478165 &  \\\\\n",
       "\t21 & 2010 & Energia & 469972 &  \\\\\n",
       "\t22 & 2011 & Energia & 475796 &  \\\\\n",
       "\t23 & 2012 & Energia & 467519 &  \\\\\n",
       "\t24 & 2013 & Energia & 473763 &  \\\\\n",
       "\t25 & 2014 & Energia & 470615 &  \\\\\n",
       "\t26 & 2015 & Energia & 480879 &  \\\\\n",
       "\\end{tabular}\n"
      ],
      "text/plain": [
       "26×4 DataFrames.DataFrame. Omitted printing of 2 columns\n",
       "│ Row │ AÑO    │ SECTOR DE EMISION │\n",
       "│     │ \u001b[90mInt64⍰\u001b[39m │ \u001b[90mString⍰\u001b[39m           │\n",
       "├─────┼────────┼───────────────────┤\n",
       "│ 1   │ 1990   │ Energia           │\n",
       "│ 2   │ 1991   │ Energia           │\n",
       "│ 3   │ 1992   │ Energia           │\n",
       "│ 4   │ 1993   │ Energia           │\n",
       "│ 5   │ 1994   │ Energia           │\n",
       "│ 6   │ 1995   │ Energia           │\n",
       "│ 7   │ 1996   │ Energia           │\n",
       "│ 8   │ 1997   │ Energia           │\n",
       "│ 9   │ 1998   │ Energia           │\n",
       "│ 10  │ 1999   │ Energia           │\n",
       "⋮\n",
       "│ 16  │ 2005   │ Energia           │\n",
       "│ 17  │ 2006   │ Energia           │\n",
       "│ 18  │ 2007   │ Energia           │\n",
       "│ 19  │ 2008   │ Energia           │\n",
       "│ 20  │ 2009   │ Energia           │\n",
       "│ 21  │ 2010   │ Energia           │\n",
       "│ 22  │ 2011   │ Energia           │\n",
       "│ 23  │ 2012   │ Energia           │\n",
       "│ 24  │ 2013   │ Energia           │\n",
       "│ 25  │ 2014   │ Energia           │\n",
       "│ 26  │ 2015   │ Energia           │"
      ]
     },
     "execution_count": 105,
     "metadata": {},
     "output_type": "execute_result"
    }
   ],
   "source": [
    "datos[ datos[2] .== \"Energia\", :]"
   ]
  },
  {
   "cell_type": "code",
   "execution_count": 129,
   "metadata": {},
   "outputs": [
    {
     "data": {
      "text/html": [
       "<p>DataFrameRow</p><table class=\"data-frame\"><thead><tr><th></th><th>AÑO</th><th>SECTOR DE EMISION</th><th>GASES_DE_EFECTO_INVERNADERO_(GIGAGRAMOS_DE_BIOXIDO_DE_CARBONO_EQUIVALENTE)</th><th>CARBONO_NEGRO_(GIGAGRAMOS_DE_BIOXIDO_DE_CARBONO_EQUIVALENTE)</th></tr><tr><th></th><th>Int64⍰</th><th>String⍰</th><th>Int64⍰</th><th>Missing</th></tr></thead><tbody><p>1 rows × 4 columns</p><tr><th>2</th><td>1991</td><td>Energia</td><td>312891</td><td>missing</td></tr></tbody></table>"
      ],
      "text/latex": [
       "\\begin{tabular}{r|cccc}\n",
       "\t& AÑO & SECTOR DE EMISION & GASES\\_DE\\_EFECTO\\_INVERNADERO\\_(GIGAGRAMOS\\_DE\\_BIOXIDO\\_DE\\_CARBONO\\_EQUIVALENTE) & CARBONO\\_NEGRO\\_(GIGAGRAMOS\\_DE\\_BIOXIDO\\_DE\\_CARBONO\\_EQUIVALENTE)\\\\\n",
       "\t\\hline\n",
       "\t& Int64⍰ & String⍰ & Int64⍰ & Missing\\\\\n",
       "\t\\hline\n",
       "\t2 & 1991 & Energia & 312891 &  \\\\\n",
       "\\end{tabular}\n"
      ],
      "text/plain": [
       "DataFrameRow. Omitted printing of 2 columns\n",
       "│ Row │ AÑO    │ SECTOR DE EMISION │\n",
       "│     │ \u001b[90mInt64⍰\u001b[39m │ \u001b[90mString⍰\u001b[39m           │\n",
       "├─────┼────────┼───────────────────┤\n",
       "│ 2   │ 1991   │ Energia           │"
      ]
     },
     "execution_count": 129,
     "metadata": {},
     "output_type": "execute_result"
    }
   ],
   "source": [
    "datos[2, :]  # extraer el renglón 2"
   ]
  },
  {
   "cell_type": "code",
   "execution_count": 130,
   "metadata": {},
   "outputs": [
    {
     "data": {
      "text/html": [
       "<p>DataFrameRow</p><table class=\"data-frame\"><thead><tr><th></th><th>AÑO</th><th>SECTOR DE EMISION</th></tr><tr><th></th><th>Int64⍰</th><th>String⍰</th></tr></thead><tbody><p>1 rows × 2 columns</p><tr><th>2</th><td>1991</td><td>Energia</td></tr></tbody></table>"
      ],
      "text/latex": [
       "\\begin{tabular}{r|cc}\n",
       "\t& AÑO & SECTOR DE EMISION\\\\\n",
       "\t\\hline\n",
       "\t& Int64⍰ & String⍰\\\\\n",
       "\t\\hline\n",
       "\t2 & 1991 & Energia \\\\\n",
       "\\end{tabular}\n"
      ],
      "text/plain": [
       "DataFrameRow\n",
       "│ Row │ AÑO    │ SECTOR DE EMISION │\n",
       "│     │ \u001b[90mInt64⍰\u001b[39m │ \u001b[90mString⍰\u001b[39m           │\n",
       "├─────┼────────┼───────────────────┤\n",
       "│ 2   │ 1991   │ Energia           │"
      ]
     },
     "execution_count": 130,
     "metadata": {},
     "output_type": "execute_result"
    }
   ],
   "source": [
    "datos[2, 1:2]"
   ]
  },
  {
   "cell_type": "code",
   "execution_count": 131,
   "metadata": {},
   "outputs": [
    {
     "data": {
      "text/html": [
       "<p>DataFrameRow</p><table class=\"data-frame\"><thead><tr><th></th><th>AÑO</th><th>SECTOR DE EMISION</th><th>GASES_DE_EFECTO_INVERNADERO_(GIGAGRAMOS_DE_BIOXIDO_DE_CARBONO_EQUIVALENTE)</th></tr><tr><th></th><th>Int64⍰</th><th>String⍰</th><th>Int64⍰</th></tr></thead><tbody><p>1 rows × 3 columns</p><tr><th>2</th><td>1991</td><td>Energia</td><td>312891</td></tr></tbody></table>"
      ],
      "text/latex": [
       "\\begin{tabular}{r|ccc}\n",
       "\t& AÑO & SECTOR DE EMISION & GASES\\_DE\\_EFECTO\\_INVERNADERO\\_(GIGAGRAMOS\\_DE\\_BIOXIDO\\_DE\\_CARBONO\\_EQUIVALENTE)\\\\\n",
       "\t\\hline\n",
       "\t& Int64⍰ & String⍰ & Int64⍰\\\\\n",
       "\t\\hline\n",
       "\t2 & 1991 & Energia & 312891 \\\\\n",
       "\\end{tabular}\n"
      ],
      "text/plain": [
       "DataFrameRow. Omitted printing of 1 columns\n",
       "│ Row │ AÑO    │ SECTOR DE EMISION │\n",
       "│     │ \u001b[90mInt64⍰\u001b[39m │ \u001b[90mString⍰\u001b[39m           │\n",
       "├─────┼────────┼───────────────────┤\n",
       "│ 2   │ 1991   │ Energia           │"
      ]
     },
     "execution_count": 131,
     "metadata": {},
     "output_type": "execute_result"
    }
   ],
   "source": [
    "datos[2, 1:3]"
   ]
  },
  {
   "cell_type": "code",
   "execution_count": 132,
   "metadata": {},
   "outputs": [
    {
     "data": {
      "text/html": [
       "<p>DataFrameRow</p><table class=\"data-frame\"><thead><tr><th></th><th>AÑO</th><th>SECTOR DE EMISION</th><th>GASES_DE_EFECTO_INVERNADERO_(GIGAGRAMOS_DE_BIOXIDO_DE_CARBONO_EQUIVALENTE)</th><th>CARBONO_NEGRO_(GIGAGRAMOS_DE_BIOXIDO_DE_CARBONO_EQUIVALENTE)</th></tr><tr><th></th><th>Int64⍰</th><th>String⍰</th><th>Int64⍰</th><th>Missing</th></tr></thead><tbody><p>1 rows × 4 columns</p><tr><th>2</th><td>1991</td><td>Energia</td><td>312891</td><td>missing</td></tr></tbody></table>"
      ],
      "text/latex": [
       "\\begin{tabular}{r|cccc}\n",
       "\t& AÑO & SECTOR DE EMISION & GASES\\_DE\\_EFECTO\\_INVERNADERO\\_(GIGAGRAMOS\\_DE\\_BIOXIDO\\_DE\\_CARBONO\\_EQUIVALENTE) & CARBONO\\_NEGRO\\_(GIGAGRAMOS\\_DE\\_BIOXIDO\\_DE\\_CARBONO\\_EQUIVALENTE)\\\\\n",
       "\t\\hline\n",
       "\t& Int64⍰ & String⍰ & Int64⍰ & Missing\\\\\n",
       "\t\\hline\n",
       "\t2 & 1991 & Energia & 312891 &  \\\\\n",
       "\\end{tabular}\n"
      ],
      "text/plain": [
       "DataFrameRow. Omitted printing of 2 columns\n",
       "│ Row │ AÑO    │ SECTOR DE EMISION │\n",
       "│     │ \u001b[90mInt64⍰\u001b[39m │ \u001b[90mString⍰\u001b[39m           │\n",
       "├─────┼────────┼───────────────────┤\n",
       "│ 2   │ 1991   │ Energia           │"
      ]
     },
     "execution_count": 132,
     "metadata": {},
     "output_type": "execute_result"
    }
   ],
   "source": [
    "datos[2, :]   # todas las columnas, de principio a fin"
   ]
  },
  {
   "cell_type": "code",
   "execution_count": 134,
   "metadata": {},
   "outputs": [
    {
     "data": {
      "text/html": [
       "<table class=\"data-frame\"><thead><tr><th></th><th>AÑO</th><th>SECTOR DE EMISION</th><th>GASES_DE_EFECTO_INVERNADERO_(GIGAGRAMOS_DE_BIOXIDO_DE_CARBONO_EQUIVALENTE)</th><th>CARBONO_NEGRO_(GIGAGRAMOS_DE_BIOXIDO_DE_CARBONO_EQUIVALENTE)</th></tr><tr><th></th><th>Int64⍰</th><th>String⍰</th><th>Int64⍰</th><th>Missing</th></tr></thead><tbody><p>3 rows × 4 columns</p><tr><th>1</th><td>1991</td><td>Energia</td><td>312891</td><td>missing</td></tr><tr><th>2</th><td>1992</td><td>Energia</td><td>314129</td><td>missing</td></tr><tr><th>3</th><td>1993</td><td>Energia</td><td>315687</td><td>missing</td></tr></tbody></table>"
      ],
      "text/latex": [
       "\\begin{tabular}{r|cccc}\n",
       "\t& AÑO & SECTOR DE EMISION & GASES\\_DE\\_EFECTO\\_INVERNADERO\\_(GIGAGRAMOS\\_DE\\_BIOXIDO\\_DE\\_CARBONO\\_EQUIVALENTE) & CARBONO\\_NEGRO\\_(GIGAGRAMOS\\_DE\\_BIOXIDO\\_DE\\_CARBONO\\_EQUIVALENTE)\\\\\n",
       "\t\\hline\n",
       "\t& Int64⍰ & String⍰ & Int64⍰ & Missing\\\\\n",
       "\t\\hline\n",
       "\t1 & 1991 & Energia & 312891 &  \\\\\n",
       "\t2 & 1992 & Energia & 314129 &  \\\\\n",
       "\t3 & 1993 & Energia & 315687 &  \\\\\n",
       "\\end{tabular}\n"
      ],
      "text/plain": [
       "3×4 DataFrames.DataFrame. Omitted printing of 2 columns\n",
       "│ Row │ AÑO    │ SECTOR DE EMISION │\n",
       "│     │ \u001b[90mInt64⍰\u001b[39m │ \u001b[90mString⍰\u001b[39m           │\n",
       "├─────┼────────┼───────────────────┤\n",
       "│ 1   │ 1991   │ Energia           │\n",
       "│ 2   │ 1992   │ Energia           │\n",
       "│ 3   │ 1993   │ Energia           │"
      ]
     },
     "execution_count": 134,
     "metadata": {},
     "output_type": "execute_result"
    }
   ],
   "source": [
    "datos[2:4, :]"
   ]
  },
  {
   "cell_type": "code",
   "execution_count": 135,
   "metadata": {},
   "outputs": [
    {
     "data": {
      "text/html": [
       "<table class=\"data-frame\"><thead><tr><th></th><th>AÑO</th><th>SECTOR DE EMISION</th><th>GASES_DE_EFECTO_INVERNADERO_(GIGAGRAMOS_DE_BIOXIDO_DE_CARBONO_EQUIVALENTE)</th><th>CARBONO_NEGRO_(GIGAGRAMOS_DE_BIOXIDO_DE_CARBONO_EQUIVALENTE)</th></tr><tr><th></th><th>Int64⍰</th><th>String⍰</th><th>Int64⍰</th><th>Missing</th></tr></thead><tbody><p>26 rows × 4 columns</p><tr><th>1</th><td>1990</td><td>Energia</td><td>301473</td><td>missing</td></tr><tr><th>2</th><td>1991</td><td>Energia</td><td>312891</td><td>missing</td></tr><tr><th>3</th><td>1992</td><td>Energia</td><td>314129</td><td>missing</td></tr><tr><th>4</th><td>1993</td><td>Energia</td><td>315687</td><td>missing</td></tr><tr><th>5</th><td>1994</td><td>Energia</td><td>333517</td><td>missing</td></tr><tr><th>6</th><td>1995</td><td>Energia</td><td>323169</td><td>missing</td></tr><tr><th>7</th><td>1996</td><td>Energia</td><td>341874</td><td>missing</td></tr><tr><th>8</th><td>1997</td><td>Energia</td><td>363443</td><td>missing</td></tr><tr><th>9</th><td>1998</td><td>Energia</td><td>385391</td><td>missing</td></tr><tr><th>10</th><td>1999</td><td>Energia</td><td>373957</td><td>missing</td></tr><tr><th>11</th><td>2000</td><td>Energia</td><td>380275</td><td>missing</td></tr><tr><th>12</th><td>2001</td><td>Energia</td><td>376938</td><td>missing</td></tr><tr><th>13</th><td>2002</td><td>Energia</td><td>395745</td><td>missing</td></tr><tr><th>14</th><td>2003</td><td>Energia</td><td>394939</td><td>missing</td></tr><tr><th>15</th><td>2004</td><td>Energia</td><td>401523</td><td>missing</td></tr><tr><th>16</th><td>2005</td><td>Energia</td><td>413229</td><td>missing</td></tr><tr><th>17</th><td>2006</td><td>Energia</td><td>431525</td><td>missing</td></tr><tr><th>18</th><td>2007</td><td>Energia</td><td>457299</td><td>missing</td></tr><tr><th>19</th><td>2008</td><td>Energia</td><td>499673</td><td>missing</td></tr><tr><th>20</th><td>2009</td><td>Energia</td><td>478165</td><td>missing</td></tr><tr><th>21</th><td>2010</td><td>Energia</td><td>469972</td><td>missing</td></tr><tr><th>22</th><td>2011</td><td>Energia</td><td>475796</td><td>missing</td></tr><tr><th>23</th><td>2012</td><td>Energia</td><td>467519</td><td>missing</td></tr><tr><th>24</th><td>2013</td><td>Energia</td><td>473763</td><td>missing</td></tr><tr><th>25</th><td>2014</td><td>Energia</td><td>470615</td><td>missing</td></tr><tr><th>26</th><td>2015</td><td>Energia</td><td>480879</td><td>missing</td></tr></tbody></table>"
      ],
      "text/latex": [
       "\\begin{tabular}{r|cccc}\n",
       "\t& AÑO & SECTOR DE EMISION & GASES\\_DE\\_EFECTO\\_INVERNADERO\\_(GIGAGRAMOS\\_DE\\_BIOXIDO\\_DE\\_CARBONO\\_EQUIVALENTE) & CARBONO\\_NEGRO\\_(GIGAGRAMOS\\_DE\\_BIOXIDO\\_DE\\_CARBONO\\_EQUIVALENTE)\\\\\n",
       "\t\\hline\n",
       "\t& Int64⍰ & String⍰ & Int64⍰ & Missing\\\\\n",
       "\t\\hline\n",
       "\t1 & 1990 & Energia & 301473 &  \\\\\n",
       "\t2 & 1991 & Energia & 312891 &  \\\\\n",
       "\t3 & 1992 & Energia & 314129 &  \\\\\n",
       "\t4 & 1993 & Energia & 315687 &  \\\\\n",
       "\t5 & 1994 & Energia & 333517 &  \\\\\n",
       "\t6 & 1995 & Energia & 323169 &  \\\\\n",
       "\t7 & 1996 & Energia & 341874 &  \\\\\n",
       "\t8 & 1997 & Energia & 363443 &  \\\\\n",
       "\t9 & 1998 & Energia & 385391 &  \\\\\n",
       "\t10 & 1999 & Energia & 373957 &  \\\\\n",
       "\t11 & 2000 & Energia & 380275 &  \\\\\n",
       "\t12 & 2001 & Energia & 376938 &  \\\\\n",
       "\t13 & 2002 & Energia & 395745 &  \\\\\n",
       "\t14 & 2003 & Energia & 394939 &  \\\\\n",
       "\t15 & 2004 & Energia & 401523 &  \\\\\n",
       "\t16 & 2005 & Energia & 413229 &  \\\\\n",
       "\t17 & 2006 & Energia & 431525 &  \\\\\n",
       "\t18 & 2007 & Energia & 457299 &  \\\\\n",
       "\t19 & 2008 & Energia & 499673 &  \\\\\n",
       "\t20 & 2009 & Energia & 478165 &  \\\\\n",
       "\t21 & 2010 & Energia & 469972 &  \\\\\n",
       "\t22 & 2011 & Energia & 475796 &  \\\\\n",
       "\t23 & 2012 & Energia & 467519 &  \\\\\n",
       "\t24 & 2013 & Energia & 473763 &  \\\\\n",
       "\t25 & 2014 & Energia & 470615 &  \\\\\n",
       "\t26 & 2015 & Energia & 480879 &  \\\\\n",
       "\\end{tabular}\n"
      ],
      "text/plain": [
       "26×4 DataFrames.DataFrame. Omitted printing of 2 columns\n",
       "│ Row │ AÑO    │ SECTOR DE EMISION │\n",
       "│     │ \u001b[90mInt64⍰\u001b[39m │ \u001b[90mString⍰\u001b[39m           │\n",
       "├─────┼────────┼───────────────────┤\n",
       "│ 1   │ 1990   │ Energia           │\n",
       "│ 2   │ 1991   │ Energia           │\n",
       "│ 3   │ 1992   │ Energia           │\n",
       "│ 4   │ 1993   │ Energia           │\n",
       "│ 5   │ 1994   │ Energia           │\n",
       "│ 6   │ 1995   │ Energia           │\n",
       "│ 7   │ 1996   │ Energia           │\n",
       "│ 8   │ 1997   │ Energia           │\n",
       "│ 9   │ 1998   │ Energia           │\n",
       "│ 10  │ 1999   │ Energia           │\n",
       "⋮\n",
       "│ 16  │ 2005   │ Energia           │\n",
       "│ 17  │ 2006   │ Energia           │\n",
       "│ 18  │ 2007   │ Energia           │\n",
       "│ 19  │ 2008   │ Energia           │\n",
       "│ 20  │ 2009   │ Energia           │\n",
       "│ 21  │ 2010   │ Energia           │\n",
       "│ 22  │ 2011   │ Energia           │\n",
       "│ 23  │ 2012   │ Energia           │\n",
       "│ 24  │ 2013   │ Energia           │\n",
       "│ 25  │ 2014   │ Energia           │\n",
       "│ 26  │ 2015   │ Energia           │"
      ]
     },
     "execution_count": 135,
     "metadata": {},
     "output_type": "execute_result"
    }
   ],
   "source": [
    "datos[ datos[2] .== \"Energia\" , :]"
   ]
  },
  {
   "cell_type": "markdown",
   "metadata": {},
   "source": [
    "#### Ejercicio\n",
    "\n",
    "Seleccionar todos los renglones con año 1990"
   ]
  },
  {
   "cell_type": "code",
   "execution_count": 136,
   "metadata": {},
   "outputs": [
    {
     "data": {
      "text/html": [
       "<table class=\"data-frame\"><thead><tr><th></th><th>AÑO</th><th>SECTOR DE EMISION</th><th>GASES_DE_EFECTO_INVERNADERO_(GIGAGRAMOS_DE_BIOXIDO_DE_CARBONO_EQUIVALENTE)</th><th>CARBONO_NEGRO_(GIGAGRAMOS_DE_BIOXIDO_DE_CARBONO_EQUIVALENTE)</th></tr><tr><th></th><th>Int64⍰</th><th>String⍰</th><th>Int64⍰</th><th>Missing</th></tr></thead><tbody><p>0 rows × 4 columns</p></tbody></table>"
      ],
      "text/latex": [
       "\\begin{tabular}{r|cccc}\n",
       "\t& AÑO & SECTOR DE EMISION & GASES\\_DE\\_EFECTO\\_INVERNADERO\\_(GIGAGRAMOS\\_DE\\_BIOXIDO\\_DE\\_CARBONO\\_EQUIVALENTE) & CARBONO\\_NEGRO\\_(GIGAGRAMOS\\_DE\\_BIOXIDO\\_DE\\_CARBONO\\_EQUIVALENTE)\\\\\n",
       "\t\\hline\n",
       "\t& Int64⍰ & String⍰ & Int64⍰ & Missing\\\\\n",
       "\t\\hline\n",
       "\\end{tabular}\n"
      ],
      "text/plain": [
       "0×4 DataFrames.DataFrame\n"
      ]
     },
     "execution_count": 136,
     "metadata": {},
     "output_type": "execute_result"
    }
   ],
   "source": [
    "datos[ datos[1] .== \"1990\" , :]"
   ]
  },
  {
   "cell_type": "code",
   "execution_count": 137,
   "metadata": {},
   "outputs": [
    {
     "data": {
      "text/plain": [
       "false"
      ]
     },
     "execution_count": 137,
     "metadata": {},
     "output_type": "execute_result"
    }
   ],
   "source": [
    "1990 == \"1990\""
   ]
  },
  {
   "cell_type": "code",
   "execution_count": 139,
   "metadata": {},
   "outputs": [
    {
     "data": {
      "text/plain": [
       "true"
      ]
     },
     "execution_count": 139,
     "metadata": {},
     "output_type": "execute_result"
    }
   ],
   "source": [
    "string(1990) == \"1990\"   # convertir número a cadena"
   ]
  },
  {
   "cell_type": "code",
   "execution_count": 140,
   "metadata": {},
   "outputs": [
    {
     "data": {
      "text/plain": [
       "1990"
      ]
     },
     "execution_count": 140,
     "metadata": {},
     "output_type": "execute_result"
    }
   ],
   "source": [
    "parse(Int, \"1990\")       # convertir (\"parsear\") cadena a número"
   ]
  },
  {
   "cell_type": "code",
   "execution_count": 141,
   "metadata": {},
   "outputs": [
    {
     "data": {
      "text/plain": [
       "1990.0"
      ]
     },
     "execution_count": 141,
     "metadata": {},
     "output_type": "execute_result"
    }
   ],
   "source": [
    "parse(Float64, \"1990\")"
   ]
  },
  {
   "cell_type": "code",
   "execution_count": 143,
   "metadata": {},
   "outputs": [
    {
     "data": {
      "text/html": [
       "<table class=\"data-frame\"><thead><tr><th></th><th>AÑO</th><th>SECTOR DE EMISION</th><th>GASES_DE_EFECTO_INVERNADERO_(GIGAGRAMOS_DE_BIOXIDO_DE_CARBONO_EQUIVALENTE)</th><th>CARBONO_NEGRO_(GIGAGRAMOS_DE_BIOXIDO_DE_CARBONO_EQUIVALENTE)</th></tr><tr><th></th><th>Int64⍰</th><th>String⍰</th><th>Int64⍰</th><th>Missing</th></tr></thead><tbody><p>5 rows × 4 columns</p><tr><th>1</th><td>1990</td><td>Energia</td><td>301473</td><td>missing</td></tr><tr><th>2</th><td>1990</td><td>Procesos industriales</td><td>32625</td><td>missing</td></tr><tr><th>3</th><td>1990</td><td>Agricultura, silvicultura y otros usos de la tierra</td><td>-50173</td><td>missing</td></tr><tr><th>4</th><td>1990</td><td>Residuos</td><td>12550</td><td>missing</td></tr><tr><th>5</th><td>1990</td><td>Emisiones netas</td><td>296475</td><td>missing</td></tr></tbody></table>"
      ],
      "text/latex": [
       "\\begin{tabular}{r|cccc}\n",
       "\t& AÑO & SECTOR DE EMISION & GASES\\_DE\\_EFECTO\\_INVERNADERO\\_(GIGAGRAMOS\\_DE\\_BIOXIDO\\_DE\\_CARBONO\\_EQUIVALENTE) & CARBONO\\_NEGRO\\_(GIGAGRAMOS\\_DE\\_BIOXIDO\\_DE\\_CARBONO\\_EQUIVALENTE)\\\\\n",
       "\t\\hline\n",
       "\t& Int64⍰ & String⍰ & Int64⍰ & Missing\\\\\n",
       "\t\\hline\n",
       "\t1 & 1990 & Energia & 301473 &  \\\\\n",
       "\t2 & 1990 & Procesos industriales & 32625 &  \\\\\n",
       "\t3 & 1990 & Agricultura, silvicultura y otros usos de la tierra & -50173 &  \\\\\n",
       "\t4 & 1990 & Residuos & 12550 &  \\\\\n",
       "\t5 & 1990 & Emisiones netas & 296475 &  \\\\\n",
       "\\end{tabular}\n"
      ],
      "text/plain": [
       "5×4 DataFrames.DataFrame. Omitted printing of 2 columns\n",
       "│ Row │ AÑO    │ SECTOR DE EMISION                                   │\n",
       "│     │ \u001b[90mInt64⍰\u001b[39m │ \u001b[90mUnion{Missing, String}\u001b[39m                              │\n",
       "├─────┼────────┼─────────────────────────────────────────────────────┤\n",
       "│ 1   │ 1990   │ Energia                                             │\n",
       "│ 2   │ 1990   │ Procesos industriales                               │\n",
       "│ 3   │ 1990   │ Agricultura, silvicultura y otros usos de la tierra │\n",
       "│ 4   │ 1990   │ Residuos                                            │\n",
       "│ 5   │ 1990   │ Emisiones netas                                     │"
      ]
     },
     "execution_count": 143,
     "metadata": {},
     "output_type": "execute_result"
    }
   ],
   "source": [
    "datos[ datos[1] .== 1990 , :]"
   ]
  },
  {
   "cell_type": "code",
   "execution_count": 142,
   "metadata": {},
   "outputs": [
    {
     "data": {
      "text/html": [
       "<table class=\"data-frame\"><thead><tr><th></th><th>AÑO</th><th>SECTOR DE EMISION</th><th>GASES_DE_EFECTO_INVERNADERO_(GIGAGRAMOS_DE_BIOXIDO_DE_CARBONO_EQUIVALENTE)</th><th>CARBONO_NEGRO_(GIGAGRAMOS_DE_BIOXIDO_DE_CARBONO_EQUIVALENTE)</th></tr><tr><th></th><th>Int64⍰</th><th>String⍰</th><th>Int64⍰</th><th>Missing</th></tr></thead><tbody><p>5 rows × 4 columns</p><tr><th>1</th><td>1990</td><td>Energia</td><td>301473</td><td>missing</td></tr><tr><th>2</th><td>1990</td><td>Procesos industriales</td><td>32625</td><td>missing</td></tr><tr><th>3</th><td>1990</td><td>Agricultura, silvicultura y otros usos de la tierra</td><td>-50173</td><td>missing</td></tr><tr><th>4</th><td>1990</td><td>Residuos</td><td>12550</td><td>missing</td></tr><tr><th>5</th><td>1990</td><td>Emisiones netas</td><td>296475</td><td>missing</td></tr></tbody></table>"
      ],
      "text/latex": [
       "\\begin{tabular}{r|cccc}\n",
       "\t& AÑO & SECTOR DE EMISION & GASES\\_DE\\_EFECTO\\_INVERNADERO\\_(GIGAGRAMOS\\_DE\\_BIOXIDO\\_DE\\_CARBONO\\_EQUIVALENTE) & CARBONO\\_NEGRO\\_(GIGAGRAMOS\\_DE\\_BIOXIDO\\_DE\\_CARBONO\\_EQUIVALENTE)\\\\\n",
       "\t\\hline\n",
       "\t& Int64⍰ & String⍰ & Int64⍰ & Missing\\\\\n",
       "\t\\hline\n",
       "\t1 & 1990 & Energia & 301473 &  \\\\\n",
       "\t2 & 1990 & Procesos industriales & 32625 &  \\\\\n",
       "\t3 & 1990 & Agricultura, silvicultura y otros usos de la tierra & -50173 &  \\\\\n",
       "\t4 & 1990 & Residuos & 12550 &  \\\\\n",
       "\t5 & 1990 & Emisiones netas & 296475 &  \\\\\n",
       "\\end{tabular}\n"
      ],
      "text/plain": [
       "5×4 DataFrames.DataFrame. Omitted printing of 2 columns\n",
       "│ Row │ AÑO    │ SECTOR DE EMISION                                   │\n",
       "│     │ \u001b[90mInt64⍰\u001b[39m │ \u001b[90mUnion{Missing, String}\u001b[39m                              │\n",
       "├─────┼────────┼─────────────────────────────────────────────────────┤\n",
       "│ 1   │ 1990   │ Energia                                             │\n",
       "│ 2   │ 1990   │ Procesos industriales                               │\n",
       "│ 3   │ 1990   │ Agricultura, silvicultura y otros usos de la tierra │\n",
       "│ 4   │ 1990   │ Residuos                                            │\n",
       "│ 5   │ 1990   │ Emisiones netas                                     │"
      ]
     },
     "execution_count": 142,
     "metadata": {},
     "output_type": "execute_result"
    }
   ],
   "source": [
    "año = \"1990\"\n",
    "datos[ datos[1] .== parse(Int, año) , :]"
   ]
  },
  {
   "cell_type": "code",
   "execution_count": 144,
   "metadata": {},
   "outputs": [
    {
     "data": {
      "text/html": [
       "<table class=\"data-frame\"><thead><tr><th></th><th>AÑO</th><th>SECTOR DE EMISION</th><th>GASES_DE_EFECTO_INVERNADERO_(GIGAGRAMOS_DE_BIOXIDO_DE_CARBONO_EQUIVALENTE)</th><th>CARBONO_NEGRO_(GIGAGRAMOS_DE_BIOXIDO_DE_CARBONO_EQUIVALENTE)</th></tr><tr><th></th><th>Int64⍰</th><th>String⍰</th><th>Int64⍰</th><th>Missing</th></tr></thead><tbody><p>26 rows × 4 columns</p><tr><th>1</th><td>1990</td><td>Energia</td><td>301473</td><td>missing</td></tr><tr><th>2</th><td>1991</td><td>Energia</td><td>312891</td><td>missing</td></tr><tr><th>3</th><td>1992</td><td>Energia</td><td>314129</td><td>missing</td></tr><tr><th>4</th><td>1993</td><td>Energia</td><td>315687</td><td>missing</td></tr><tr><th>5</th><td>1994</td><td>Energia</td><td>333517</td><td>missing</td></tr><tr><th>6</th><td>1995</td><td>Energia</td><td>323169</td><td>missing</td></tr><tr><th>7</th><td>1996</td><td>Energia</td><td>341874</td><td>missing</td></tr><tr><th>8</th><td>1997</td><td>Energia</td><td>363443</td><td>missing</td></tr><tr><th>9</th><td>1998</td><td>Energia</td><td>385391</td><td>missing</td></tr><tr><th>10</th><td>1999</td><td>Energia</td><td>373957</td><td>missing</td></tr><tr><th>11</th><td>2000</td><td>Energia</td><td>380275</td><td>missing</td></tr><tr><th>12</th><td>2001</td><td>Energia</td><td>376938</td><td>missing</td></tr><tr><th>13</th><td>2002</td><td>Energia</td><td>395745</td><td>missing</td></tr><tr><th>14</th><td>2003</td><td>Energia</td><td>394939</td><td>missing</td></tr><tr><th>15</th><td>2004</td><td>Energia</td><td>401523</td><td>missing</td></tr><tr><th>16</th><td>2005</td><td>Energia</td><td>413229</td><td>missing</td></tr><tr><th>17</th><td>2006</td><td>Energia</td><td>431525</td><td>missing</td></tr><tr><th>18</th><td>2007</td><td>Energia</td><td>457299</td><td>missing</td></tr><tr><th>19</th><td>2008</td><td>Energia</td><td>499673</td><td>missing</td></tr><tr><th>20</th><td>2009</td><td>Energia</td><td>478165</td><td>missing</td></tr><tr><th>21</th><td>2010</td><td>Energia</td><td>469972</td><td>missing</td></tr><tr><th>22</th><td>2011</td><td>Energia</td><td>475796</td><td>missing</td></tr><tr><th>23</th><td>2012</td><td>Energia</td><td>467519</td><td>missing</td></tr><tr><th>24</th><td>2013</td><td>Energia</td><td>473763</td><td>missing</td></tr><tr><th>25</th><td>2014</td><td>Energia</td><td>470615</td><td>missing</td></tr><tr><th>26</th><td>2015</td><td>Energia</td><td>480879</td><td>missing</td></tr></tbody></table>"
      ],
      "text/latex": [
       "\\begin{tabular}{r|cccc}\n",
       "\t& AÑO & SECTOR DE EMISION & GASES\\_DE\\_EFECTO\\_INVERNADERO\\_(GIGAGRAMOS\\_DE\\_BIOXIDO\\_DE\\_CARBONO\\_EQUIVALENTE) & CARBONO\\_NEGRO\\_(GIGAGRAMOS\\_DE\\_BIOXIDO\\_DE\\_CARBONO\\_EQUIVALENTE)\\\\\n",
       "\t\\hline\n",
       "\t& Int64⍰ & String⍰ & Int64⍰ & Missing\\\\\n",
       "\t\\hline\n",
       "\t1 & 1990 & Energia & 301473 &  \\\\\n",
       "\t2 & 1991 & Energia & 312891 &  \\\\\n",
       "\t3 & 1992 & Energia & 314129 &  \\\\\n",
       "\t4 & 1993 & Energia & 315687 &  \\\\\n",
       "\t5 & 1994 & Energia & 333517 &  \\\\\n",
       "\t6 & 1995 & Energia & 323169 &  \\\\\n",
       "\t7 & 1996 & Energia & 341874 &  \\\\\n",
       "\t8 & 1997 & Energia & 363443 &  \\\\\n",
       "\t9 & 1998 & Energia & 385391 &  \\\\\n",
       "\t10 & 1999 & Energia & 373957 &  \\\\\n",
       "\t11 & 2000 & Energia & 380275 &  \\\\\n",
       "\t12 & 2001 & Energia & 376938 &  \\\\\n",
       "\t13 & 2002 & Energia & 395745 &  \\\\\n",
       "\t14 & 2003 & Energia & 394939 &  \\\\\n",
       "\t15 & 2004 & Energia & 401523 &  \\\\\n",
       "\t16 & 2005 & Energia & 413229 &  \\\\\n",
       "\t17 & 2006 & Energia & 431525 &  \\\\\n",
       "\t18 & 2007 & Energia & 457299 &  \\\\\n",
       "\t19 & 2008 & Energia & 499673 &  \\\\\n",
       "\t20 & 2009 & Energia & 478165 &  \\\\\n",
       "\t21 & 2010 & Energia & 469972 &  \\\\\n",
       "\t22 & 2011 & Energia & 475796 &  \\\\\n",
       "\t23 & 2012 & Energia & 467519 &  \\\\\n",
       "\t24 & 2013 & Energia & 473763 &  \\\\\n",
       "\t25 & 2014 & Energia & 470615 &  \\\\\n",
       "\t26 & 2015 & Energia & 480879 &  \\\\\n",
       "\\end{tabular}\n"
      ],
      "text/plain": [
       "26×4 DataFrames.DataFrame. Omitted printing of 2 columns\n",
       "│ Row │ AÑO    │ SECTOR DE EMISION │\n",
       "│     │ \u001b[90mInt64⍰\u001b[39m │ \u001b[90mString⍰\u001b[39m           │\n",
       "├─────┼────────┼───────────────────┤\n",
       "│ 1   │ 1990   │ Energia           │\n",
       "│ 2   │ 1991   │ Energia           │\n",
       "│ 3   │ 1992   │ Energia           │\n",
       "│ 4   │ 1993   │ Energia           │\n",
       "│ 5   │ 1994   │ Energia           │\n",
       "│ 6   │ 1995   │ Energia           │\n",
       "│ 7   │ 1996   │ Energia           │\n",
       "│ 8   │ 1997   │ Energia           │\n",
       "│ 9   │ 1998   │ Energia           │\n",
       "│ 10  │ 1999   │ Energia           │\n",
       "⋮\n",
       "│ 16  │ 2005   │ Energia           │\n",
       "│ 17  │ 2006   │ Energia           │\n",
       "│ 18  │ 2007   │ Energia           │\n",
       "│ 19  │ 2008   │ Energia           │\n",
       "│ 20  │ 2009   │ Energia           │\n",
       "│ 21  │ 2010   │ Energia           │\n",
       "│ 22  │ 2011   │ Energia           │\n",
       "│ 23  │ 2012   │ Energia           │\n",
       "│ 24  │ 2013   │ Energia           │\n",
       "│ 25  │ 2014   │ Energia           │\n",
       "│ 26  │ 2015   │ Energia           │"
      ]
     },
     "execution_count": 144,
     "metadata": {},
     "output_type": "execute_result"
    }
   ],
   "source": [
    "datos_energía = datos[ datos[2] .== \"Energia\" , :]"
   ]
  },
  {
   "cell_type": "code",
   "execution_count": 145,
   "metadata": {},
   "outputs": [
    {
     "data": {
      "text/plain": [
       "DataFrames.DataFrame"
      ]
     },
     "execution_count": 145,
     "metadata": {},
     "output_type": "execute_result"
    }
   ],
   "source": [
    "typeof(datos_energía)"
   ]
  },
  {
   "cell_type": "code",
   "execution_count": 147,
   "metadata": {},
   "outputs": [
    {
     "data": {
      "text/plain": [
       "0"
      ]
     },
     "execution_count": 147,
     "metadata": {},
     "output_type": "execute_result"
    }
   ],
   "source": [
    "datos_energía[1, 1] = 0"
   ]
  },
  {
   "cell_type": "code",
   "execution_count": 148,
   "metadata": {},
   "outputs": [
    {
     "data": {
      "text/html": [
       "<table class=\"data-frame\"><thead><tr><th></th><th>AÑO</th><th>SECTOR DE EMISION</th><th>GASES_DE_EFECTO_INVERNADERO_(GIGAGRAMOS_DE_BIOXIDO_DE_CARBONO_EQUIVALENTE)</th><th>CARBONO_NEGRO_(GIGAGRAMOS_DE_BIOXIDO_DE_CARBONO_EQUIVALENTE)</th></tr><tr><th></th><th>Int64⍰</th><th>String⍰</th><th>Int64⍰</th><th>Missing</th></tr></thead><tbody><p>26 rows × 4 columns</p><tr><th>1</th><td>0</td><td>Energia</td><td>301473</td><td>missing</td></tr><tr><th>2</th><td>1991</td><td>Energia</td><td>312891</td><td>missing</td></tr><tr><th>3</th><td>1992</td><td>Energia</td><td>314129</td><td>missing</td></tr><tr><th>4</th><td>1993</td><td>Energia</td><td>315687</td><td>missing</td></tr><tr><th>5</th><td>1994</td><td>Energia</td><td>333517</td><td>missing</td></tr><tr><th>6</th><td>1995</td><td>Energia</td><td>323169</td><td>missing</td></tr><tr><th>7</th><td>1996</td><td>Energia</td><td>341874</td><td>missing</td></tr><tr><th>8</th><td>1997</td><td>Energia</td><td>363443</td><td>missing</td></tr><tr><th>9</th><td>1998</td><td>Energia</td><td>385391</td><td>missing</td></tr><tr><th>10</th><td>1999</td><td>Energia</td><td>373957</td><td>missing</td></tr><tr><th>11</th><td>2000</td><td>Energia</td><td>380275</td><td>missing</td></tr><tr><th>12</th><td>2001</td><td>Energia</td><td>376938</td><td>missing</td></tr><tr><th>13</th><td>2002</td><td>Energia</td><td>395745</td><td>missing</td></tr><tr><th>14</th><td>2003</td><td>Energia</td><td>394939</td><td>missing</td></tr><tr><th>15</th><td>2004</td><td>Energia</td><td>401523</td><td>missing</td></tr><tr><th>16</th><td>2005</td><td>Energia</td><td>413229</td><td>missing</td></tr><tr><th>17</th><td>2006</td><td>Energia</td><td>431525</td><td>missing</td></tr><tr><th>18</th><td>2007</td><td>Energia</td><td>457299</td><td>missing</td></tr><tr><th>19</th><td>2008</td><td>Energia</td><td>499673</td><td>missing</td></tr><tr><th>20</th><td>2009</td><td>Energia</td><td>478165</td><td>missing</td></tr><tr><th>21</th><td>2010</td><td>Energia</td><td>469972</td><td>missing</td></tr><tr><th>22</th><td>2011</td><td>Energia</td><td>475796</td><td>missing</td></tr><tr><th>23</th><td>2012</td><td>Energia</td><td>467519</td><td>missing</td></tr><tr><th>24</th><td>2013</td><td>Energia</td><td>473763</td><td>missing</td></tr><tr><th>25</th><td>2014</td><td>Energia</td><td>470615</td><td>missing</td></tr><tr><th>26</th><td>2015</td><td>Energia</td><td>480879</td><td>missing</td></tr></tbody></table>"
      ],
      "text/latex": [
       "\\begin{tabular}{r|cccc}\n",
       "\t& AÑO & SECTOR DE EMISION & GASES\\_DE\\_EFECTO\\_INVERNADERO\\_(GIGAGRAMOS\\_DE\\_BIOXIDO\\_DE\\_CARBONO\\_EQUIVALENTE) & CARBONO\\_NEGRO\\_(GIGAGRAMOS\\_DE\\_BIOXIDO\\_DE\\_CARBONO\\_EQUIVALENTE)\\\\\n",
       "\t\\hline\n",
       "\t& Int64⍰ & String⍰ & Int64⍰ & Missing\\\\\n",
       "\t\\hline\n",
       "\t1 & 0 & Energia & 301473 &  \\\\\n",
       "\t2 & 1991 & Energia & 312891 &  \\\\\n",
       "\t3 & 1992 & Energia & 314129 &  \\\\\n",
       "\t4 & 1993 & Energia & 315687 &  \\\\\n",
       "\t5 & 1994 & Energia & 333517 &  \\\\\n",
       "\t6 & 1995 & Energia & 323169 &  \\\\\n",
       "\t7 & 1996 & Energia & 341874 &  \\\\\n",
       "\t8 & 1997 & Energia & 363443 &  \\\\\n",
       "\t9 & 1998 & Energia & 385391 &  \\\\\n",
       "\t10 & 1999 & Energia & 373957 &  \\\\\n",
       "\t11 & 2000 & Energia & 380275 &  \\\\\n",
       "\t12 & 2001 & Energia & 376938 &  \\\\\n",
       "\t13 & 2002 & Energia & 395745 &  \\\\\n",
       "\t14 & 2003 & Energia & 394939 &  \\\\\n",
       "\t15 & 2004 & Energia & 401523 &  \\\\\n",
       "\t16 & 2005 & Energia & 413229 &  \\\\\n",
       "\t17 & 2006 & Energia & 431525 &  \\\\\n",
       "\t18 & 2007 & Energia & 457299 &  \\\\\n",
       "\t19 & 2008 & Energia & 499673 &  \\\\\n",
       "\t20 & 2009 & Energia & 478165 &  \\\\\n",
       "\t21 & 2010 & Energia & 469972 &  \\\\\n",
       "\t22 & 2011 & Energia & 475796 &  \\\\\n",
       "\t23 & 2012 & Energia & 467519 &  \\\\\n",
       "\t24 & 2013 & Energia & 473763 &  \\\\\n",
       "\t25 & 2014 & Energia & 470615 &  \\\\\n",
       "\t26 & 2015 & Energia & 480879 &  \\\\\n",
       "\\end{tabular}\n"
      ],
      "text/plain": [
       "26×4 DataFrames.DataFrame. Omitted printing of 2 columns\n",
       "│ Row │ AÑO    │ SECTOR DE EMISION │\n",
       "│     │ \u001b[90mInt64⍰\u001b[39m │ \u001b[90mString⍰\u001b[39m           │\n",
       "├─────┼────────┼───────────────────┤\n",
       "│ 1   │ 0      │ Energia           │\n",
       "│ 2   │ 1991   │ Energia           │\n",
       "│ 3   │ 1992   │ Energia           │\n",
       "│ 4   │ 1993   │ Energia           │\n",
       "│ 5   │ 1994   │ Energia           │\n",
       "│ 6   │ 1995   │ Energia           │\n",
       "│ 7   │ 1996   │ Energia           │\n",
       "│ 8   │ 1997   │ Energia           │\n",
       "│ 9   │ 1998   │ Energia           │\n",
       "│ 10  │ 1999   │ Energia           │\n",
       "⋮\n",
       "│ 16  │ 2005   │ Energia           │\n",
       "│ 17  │ 2006   │ Energia           │\n",
       "│ 18  │ 2007   │ Energia           │\n",
       "│ 19  │ 2008   │ Energia           │\n",
       "│ 20  │ 2009   │ Energia           │\n",
       "│ 21  │ 2010   │ Energia           │\n",
       "│ 22  │ 2011   │ Energia           │\n",
       "│ 23  │ 2012   │ Energia           │\n",
       "│ 24  │ 2013   │ Energia           │\n",
       "│ 25  │ 2014   │ Energia           │\n",
       "│ 26  │ 2015   │ Energia           │"
      ]
     },
     "execution_count": 148,
     "metadata": {},
     "output_type": "execute_result"
    }
   ],
   "source": [
    "datos_energía"
   ]
  },
  {
   "cell_type": "code",
   "execution_count": 149,
   "metadata": {},
   "outputs": [
    {
     "data": {
      "text/html": [
       "<table class=\"data-frame\"><thead><tr><th></th><th>AÑO</th><th>SECTOR DE EMISION</th><th>GASES_DE_EFECTO_INVERNADERO_(GIGAGRAMOS_DE_BIOXIDO_DE_CARBONO_EQUIVALENTE)</th><th>CARBONO_NEGRO_(GIGAGRAMOS_DE_BIOXIDO_DE_CARBONO_EQUIVALENTE)</th></tr><tr><th></th><th>Int64⍰</th><th>String⍰</th><th>Int64⍰</th><th>Missing</th></tr></thead><tbody><p>130 rows × 4 columns</p><tr><th>1</th><td>1990</td><td>Energia</td><td>301473</td><td>missing</td></tr><tr><th>2</th><td>1991</td><td>Energia</td><td>312891</td><td>missing</td></tr><tr><th>3</th><td>1992</td><td>Energia</td><td>314129</td><td>missing</td></tr><tr><th>4</th><td>1993</td><td>Energia</td><td>315687</td><td>missing</td></tr><tr><th>5</th><td>1994</td><td>Energia</td><td>333517</td><td>missing</td></tr><tr><th>6</th><td>1995</td><td>Energia</td><td>323169</td><td>missing</td></tr><tr><th>7</th><td>1996</td><td>Energia</td><td>341874</td><td>missing</td></tr><tr><th>8</th><td>1997</td><td>Energia</td><td>363443</td><td>missing</td></tr><tr><th>9</th><td>1998</td><td>Energia</td><td>385391</td><td>missing</td></tr><tr><th>10</th><td>1999</td><td>Energia</td><td>373957</td><td>missing</td></tr><tr><th>11</th><td>2000</td><td>Energia</td><td>380275</td><td>missing</td></tr><tr><th>12</th><td>2001</td><td>Energia</td><td>376938</td><td>missing</td></tr><tr><th>13</th><td>2002</td><td>Energia</td><td>395745</td><td>missing</td></tr><tr><th>14</th><td>2003</td><td>Energia</td><td>394939</td><td>missing</td></tr><tr><th>15</th><td>2004</td><td>Energia</td><td>401523</td><td>missing</td></tr><tr><th>16</th><td>2005</td><td>Energia</td><td>413229</td><td>missing</td></tr><tr><th>17</th><td>2006</td><td>Energia</td><td>431525</td><td>missing</td></tr><tr><th>18</th><td>2007</td><td>Energia</td><td>457299</td><td>missing</td></tr><tr><th>19</th><td>2008</td><td>Energia</td><td>499673</td><td>missing</td></tr><tr><th>20</th><td>2009</td><td>Energia</td><td>478165</td><td>missing</td></tr><tr><th>21</th><td>2010</td><td>Energia</td><td>469972</td><td>missing</td></tr><tr><th>22</th><td>2011</td><td>Energia</td><td>475796</td><td>missing</td></tr><tr><th>23</th><td>2012</td><td>Energia</td><td>467519</td><td>missing</td></tr><tr><th>24</th><td>2013</td><td>Energia</td><td>473763</td><td>missing</td></tr><tr><th>25</th><td>2014</td><td>Energia</td><td>470615</td><td>missing</td></tr><tr><th>26</th><td>2015</td><td>Energia</td><td>480879</td><td>missing</td></tr><tr><th>27</th><td>1990</td><td>Procesos industriales</td><td>32625</td><td>missing</td></tr><tr><th>28</th><td>1991</td><td>Procesos industriales</td><td>31518</td><td>missing</td></tr><tr><th>29</th><td>1992</td><td>Procesos industriales</td><td>32118</td><td>missing</td></tr><tr><th>30</th><td>1993</td><td>Procesos industriales</td><td>32145</td><td>missing</td></tr><tr><th>&vellip;</th><td>&vellip;</td><td>&vellip;</td><td>&vellip;</td><td>&vellip;</td></tr></tbody></table>"
      ],
      "text/latex": [
       "\\begin{tabular}{r|cccc}\n",
       "\t& AÑO & SECTOR DE EMISION & GASES\\_DE\\_EFECTO\\_INVERNADERO\\_(GIGAGRAMOS\\_DE\\_BIOXIDO\\_DE\\_CARBONO\\_EQUIVALENTE) & CARBONO\\_NEGRO\\_(GIGAGRAMOS\\_DE\\_BIOXIDO\\_DE\\_CARBONO\\_EQUIVALENTE)\\\\\n",
       "\t\\hline\n",
       "\t& Int64⍰ & String⍰ & Int64⍰ & Missing\\\\\n",
       "\t\\hline\n",
       "\t1 & 1990 & Energia & 301473 &  \\\\\n",
       "\t2 & 1991 & Energia & 312891 &  \\\\\n",
       "\t3 & 1992 & Energia & 314129 &  \\\\\n",
       "\t4 & 1993 & Energia & 315687 &  \\\\\n",
       "\t5 & 1994 & Energia & 333517 &  \\\\\n",
       "\t6 & 1995 & Energia & 323169 &  \\\\\n",
       "\t7 & 1996 & Energia & 341874 &  \\\\\n",
       "\t8 & 1997 & Energia & 363443 &  \\\\\n",
       "\t9 & 1998 & Energia & 385391 &  \\\\\n",
       "\t10 & 1999 & Energia & 373957 &  \\\\\n",
       "\t11 & 2000 & Energia & 380275 &  \\\\\n",
       "\t12 & 2001 & Energia & 376938 &  \\\\\n",
       "\t13 & 2002 & Energia & 395745 &  \\\\\n",
       "\t14 & 2003 & Energia & 394939 &  \\\\\n",
       "\t15 & 2004 & Energia & 401523 &  \\\\\n",
       "\t16 & 2005 & Energia & 413229 &  \\\\\n",
       "\t17 & 2006 & Energia & 431525 &  \\\\\n",
       "\t18 & 2007 & Energia & 457299 &  \\\\\n",
       "\t19 & 2008 & Energia & 499673 &  \\\\\n",
       "\t20 & 2009 & Energia & 478165 &  \\\\\n",
       "\t21 & 2010 & Energia & 469972 &  \\\\\n",
       "\t22 & 2011 & Energia & 475796 &  \\\\\n",
       "\t23 & 2012 & Energia & 467519 &  \\\\\n",
       "\t24 & 2013 & Energia & 473763 &  \\\\\n",
       "\t25 & 2014 & Energia & 470615 &  \\\\\n",
       "\t26 & 2015 & Energia & 480879 &  \\\\\n",
       "\t27 & 1990 & Procesos industriales & 32625 &  \\\\\n",
       "\t28 & 1991 & Procesos industriales & 31518 &  \\\\\n",
       "\t29 & 1992 & Procesos industriales & 32118 &  \\\\\n",
       "\t30 & 1993 & Procesos industriales & 32145 &  \\\\\n",
       "\t$\\dots$ & $\\dots$ & $\\dots$ & $\\dots$ & $\\dots$ \\\\\n",
       "\\end{tabular}\n"
      ],
      "text/plain": [
       "130×4 DataFrames.DataFrame. Omitted printing of 2 columns\n",
       "│ Row │ AÑO    │ SECTOR DE EMISION │\n",
       "│     │ \u001b[90mInt64⍰\u001b[39m │ \u001b[90mString⍰\u001b[39m           │\n",
       "├─────┼────────┼───────────────────┤\n",
       "│ 1   │ 1990   │ Energia           │\n",
       "│ 2   │ 1991   │ Energia           │\n",
       "│ 3   │ 1992   │ Energia           │\n",
       "│ 4   │ 1993   │ Energia           │\n",
       "│ 5   │ 1994   │ Energia           │\n",
       "│ 6   │ 1995   │ Energia           │\n",
       "│ 7   │ 1996   │ Energia           │\n",
       "│ 8   │ 1997   │ Energia           │\n",
       "│ 9   │ 1998   │ Energia           │\n",
       "│ 10  │ 1999   │ Energia           │\n",
       "⋮\n",
       "│ 120 │ 2005   │ Emisiones netas   │\n",
       "│ 121 │ 2006   │ Emisiones netas   │\n",
       "│ 122 │ 2007   │ Emisiones netas   │\n",
       "│ 123 │ 2008   │ Emisiones netas   │\n",
       "│ 124 │ 2009   │ Emisiones netas   │\n",
       "│ 125 │ 2010   │ Emisiones netas   │\n",
       "│ 126 │ 2011   │ Emisiones netas   │\n",
       "│ 127 │ 2012   │ Emisiones netas   │\n",
       "│ 128 │ 2013   │ Emisiones netas   │\n",
       "│ 129 │ 2014   │ Emisiones netas   │\n",
       "│ 130 │ 2015   │ Emisiones netas   │"
      ]
     },
     "execution_count": 149,
     "metadata": {},
     "output_type": "execute_result"
    }
   ],
   "source": [
    "datos"
   ]
  },
  {
   "cell_type": "code",
   "execution_count": 172,
   "metadata": {},
   "outputs": [
    {
     "data": {
      "text/html": [
       "<table class=\"data-frame\"><thead><tr><th></th><th>año</th><th>sector</th><th>gases</th></tr><tr><th></th><th>Int64⍰</th><th>String⍰</th><th>Int64⍰</th></tr></thead><tbody><p>26 rows × 3 columns</p><tr><th>1</th><td>1990</td><td>Energia</td><td>301473</td></tr><tr><th>2</th><td>1991</td><td>Energia</td><td>312891</td></tr><tr><th>3</th><td>1992</td><td>Energia</td><td>314129</td></tr><tr><th>4</th><td>1993</td><td>Energia</td><td>315687</td></tr><tr><th>5</th><td>1994</td><td>Energia</td><td>333517</td></tr><tr><th>6</th><td>1995</td><td>Energia</td><td>323169</td></tr><tr><th>7</th><td>1996</td><td>Energia</td><td>341874</td></tr><tr><th>8</th><td>1997</td><td>Energia</td><td>363443</td></tr><tr><th>9</th><td>1998</td><td>Energia</td><td>385391</td></tr><tr><th>10</th><td>1999</td><td>Energia</td><td>373957</td></tr><tr><th>11</th><td>2000</td><td>Energia</td><td>380275</td></tr><tr><th>12</th><td>2001</td><td>Energia</td><td>376938</td></tr><tr><th>13</th><td>2002</td><td>Energia</td><td>395745</td></tr><tr><th>14</th><td>2003</td><td>Energia</td><td>394939</td></tr><tr><th>15</th><td>2004</td><td>Energia</td><td>401523</td></tr><tr><th>16</th><td>2005</td><td>Energia</td><td>413229</td></tr><tr><th>17</th><td>2006</td><td>Energia</td><td>431525</td></tr><tr><th>18</th><td>2007</td><td>Energia</td><td>457299</td></tr><tr><th>19</th><td>2008</td><td>Energia</td><td>499673</td></tr><tr><th>20</th><td>2009</td><td>Energia</td><td>478165</td></tr><tr><th>21</th><td>2010</td><td>Energia</td><td>469972</td></tr><tr><th>22</th><td>2011</td><td>Energia</td><td>475796</td></tr><tr><th>23</th><td>2012</td><td>Energia</td><td>467519</td></tr><tr><th>24</th><td>2013</td><td>Energia</td><td>473763</td></tr><tr><th>25</th><td>2014</td><td>Energia</td><td>470615</td></tr><tr><th>26</th><td>2015</td><td>Energia</td><td>480879</td></tr></tbody></table>"
      ],
      "text/latex": [
       "\\begin{tabular}{r|ccc}\n",
       "\t& año & sector & gases\\\\\n",
       "\t\\hline\n",
       "\t& Int64⍰ & String⍰ & Int64⍰\\\\\n",
       "\t\\hline\n",
       "\t1 & 1990 & Energia & 301473 \\\\\n",
       "\t2 & 1991 & Energia & 312891 \\\\\n",
       "\t3 & 1992 & Energia & 314129 \\\\\n",
       "\t4 & 1993 & Energia & 315687 \\\\\n",
       "\t5 & 1994 & Energia & 333517 \\\\\n",
       "\t6 & 1995 & Energia & 323169 \\\\\n",
       "\t7 & 1996 & Energia & 341874 \\\\\n",
       "\t8 & 1997 & Energia & 363443 \\\\\n",
       "\t9 & 1998 & Energia & 385391 \\\\\n",
       "\t10 & 1999 & Energia & 373957 \\\\\n",
       "\t11 & 2000 & Energia & 380275 \\\\\n",
       "\t12 & 2001 & Energia & 376938 \\\\\n",
       "\t13 & 2002 & Energia & 395745 \\\\\n",
       "\t14 & 2003 & Energia & 394939 \\\\\n",
       "\t15 & 2004 & Energia & 401523 \\\\\n",
       "\t16 & 2005 & Energia & 413229 \\\\\n",
       "\t17 & 2006 & Energia & 431525 \\\\\n",
       "\t18 & 2007 & Energia & 457299 \\\\\n",
       "\t19 & 2008 & Energia & 499673 \\\\\n",
       "\t20 & 2009 & Energia & 478165 \\\\\n",
       "\t21 & 2010 & Energia & 469972 \\\\\n",
       "\t22 & 2011 & Energia & 475796 \\\\\n",
       "\t23 & 2012 & Energia & 467519 \\\\\n",
       "\t24 & 2013 & Energia & 473763 \\\\\n",
       "\t25 & 2014 & Energia & 470615 \\\\\n",
       "\t26 & 2015 & Energia & 480879 \\\\\n",
       "\\end{tabular}\n"
      ],
      "text/plain": [
       "26×3 DataFrame\n",
       "│ Row │ año    │ sector  │ gases  │\n",
       "│     │ \u001b[90mInt64⍰\u001b[39m │ \u001b[90mString⍰\u001b[39m │ \u001b[90mInt64⍰\u001b[39m │\n",
       "├─────┼────────┼─────────┼────────┤\n",
       "│ 1   │ 1990   │ Energia │ 301473 │\n",
       "│ 2   │ 1991   │ Energia │ 312891 │\n",
       "│ 3   │ 1992   │ Energia │ 314129 │\n",
       "│ 4   │ 1993   │ Energia │ 315687 │\n",
       "│ 5   │ 1994   │ Energia │ 333517 │\n",
       "│ 6   │ 1995   │ Energia │ 323169 │\n",
       "│ 7   │ 1996   │ Energia │ 341874 │\n",
       "│ 8   │ 1997   │ Energia │ 363443 │\n",
       "│ 9   │ 1998   │ Energia │ 385391 │\n",
       "│ 10  │ 1999   │ Energia │ 373957 │\n",
       "⋮\n",
       "│ 16  │ 2005   │ Energia │ 413229 │\n",
       "│ 17  │ 2006   │ Energia │ 431525 │\n",
       "│ 18  │ 2007   │ Energia │ 457299 │\n",
       "│ 19  │ 2008   │ Energia │ 499673 │\n",
       "│ 20  │ 2009   │ Energia │ 478165 │\n",
       "│ 21  │ 2010   │ Energia │ 469972 │\n",
       "│ 22  │ 2011   │ Energia │ 475796 │\n",
       "│ 23  │ 2012   │ Energia │ 467519 │\n",
       "│ 24  │ 2013   │ Energia │ 473763 │\n",
       "│ 25  │ 2014   │ Energia │ 470615 │\n",
       "│ 26  │ 2015   │ Energia │ 480879 │"
      ]
     },
     "execution_count": 172,
     "metadata": {},
     "output_type": "execute_result"
    }
   ],
   "source": [
    "datos_energía = datos[ datos[2] .== \"Energia\" , :]"
   ]
  },
  {
   "cell_type": "code",
   "execution_count": 157,
   "metadata": {},
   "outputs": [
    {
     "ename": "UndefVarError",
     "evalue": "UndefVarError: AÑO not defined",
     "output_type": "error",
     "traceback": [
      "UndefVarError: AÑO not defined",
      "",
      "Stacktrace:",
      " [1] top-level scope at In[157]:1"
     ]
    }
   ],
   "source": [
    "datos[AÑO]"
   ]
  },
  {
   "cell_type": "code",
   "execution_count": 164,
   "metadata": {},
   "outputs": [
    {
     "ename": "ErrorException",
     "evalue": "Tried renaming AÑO to año, when año already exists in the Index.",
     "output_type": "error",
     "traceback": [
      "Tried renaming AÑO to año, when año already exists in the Index.",
      "",
      "Stacktrace:",
      " [1] error(::String) at ./error.jl:33",
      " [2] rename!(::DataFrames.Index, ::Array{Pair{Symbol,Symbol},1}) at /Users/dpsanders/.julia/packages/DataFrames/IKMvt/src/other/index.jl:53",
      " [3] rename!(::DataFrames.Index, ::Pair{Symbol,Symbol}) at /Users/dpsanders/.julia/packages/DataFrames/IKMvt/src/other/index.jl:61",
      " [4] rename!(::DataFrame, ::Pair{Symbol,Symbol}) at /Users/dpsanders/.julia/packages/DataFrames/IKMvt/src/abstractdataframe/abstractdataframe.jl:127",
      " [5] top-level scope at In[164]:1"
     ]
    }
   ],
   "source": [
    "rename!(datos, :AÑO => :año)"
   ]
  },
  {
   "cell_type": "code",
   "execution_count": 165,
   "metadata": {},
   "outputs": [],
   "source": [
    "rename!(datos, names(datos)[2] => :sector);"
   ]
  },
  {
   "cell_type": "code",
   "execution_count": 166,
   "metadata": {},
   "outputs": [],
   "source": [
    "rename!(datos, names(datos)[3] => :gases);"
   ]
  },
  {
   "cell_type": "code",
   "execution_count": 167,
   "metadata": {},
   "outputs": [
    {
     "ename": "ArgumentError",
     "evalue": "ArgumentError: Can't delete a non-existent DataFrame column",
     "output_type": "error",
     "traceback": [
      "ArgumentError: Can't delete a non-existent DataFrame column",
      "",
      "Stacktrace:",
      " [1] deletecols!(::DataFrame, ::Array{Int64,1}) at /Users/dpsanders/.julia/packages/DataFrames/IKMvt/src/dataframe/dataframe.jl:828",
      " [2] deletecols!(::DataFrame, ::Int64) at /Users/dpsanders/.julia/packages/DataFrames/IKMvt/src/dataframe/dataframe.jl:833",
      " [3] top-level scope at In[167]:1"
     ]
    }
   ],
   "source": [
    "deletecols!(datos, 4);"
   ]
  },
  {
   "cell_type": "code",
   "execution_count": 170,
   "metadata": {},
   "outputs": [
    {
     "name": "stderr",
     "output_type": "stream",
     "text": [
      "┌ Warning: `head(df::AbstractDataFrame)` is deprecated, use `first(df, 6)` instead.\n",
      "│   caller = top-level scope at In[170]:1\n",
      "└ @ Core In[170]:1\n"
     ]
    },
    {
     "data": {
      "text/html": [
       "<table class=\"data-frame\"><thead><tr><th></th><th>año</th><th>sector</th><th>gases</th></tr><tr><th></th><th>Int64⍰</th><th>String⍰</th><th>Int64⍰</th></tr></thead><tbody><p>6 rows × 3 columns</p><tr><th>1</th><td>1990</td><td>Energia</td><td>301473</td></tr><tr><th>2</th><td>1991</td><td>Energia</td><td>312891</td></tr><tr><th>3</th><td>1992</td><td>Energia</td><td>314129</td></tr><tr><th>4</th><td>1993</td><td>Energia</td><td>315687</td></tr><tr><th>5</th><td>1994</td><td>Energia</td><td>333517</td></tr><tr><th>6</th><td>1995</td><td>Energia</td><td>323169</td></tr></tbody></table>"
      ],
      "text/latex": [
       "\\begin{tabular}{r|ccc}\n",
       "\t& año & sector & gases\\\\\n",
       "\t\\hline\n",
       "\t& Int64⍰ & String⍰ & Int64⍰\\\\\n",
       "\t\\hline\n",
       "\t1 & 1990 & Energia & 301473 \\\\\n",
       "\t2 & 1991 & Energia & 312891 \\\\\n",
       "\t3 & 1992 & Energia & 314129 \\\\\n",
       "\t4 & 1993 & Energia & 315687 \\\\\n",
       "\t5 & 1994 & Energia & 333517 \\\\\n",
       "\t6 & 1995 & Energia & 323169 \\\\\n",
       "\\end{tabular}\n"
      ],
      "text/plain": [
       "6×3 DataFrame\n",
       "│ Row │ año    │ sector  │ gases  │\n",
       "│     │ \u001b[90mInt64⍰\u001b[39m │ \u001b[90mString⍰\u001b[39m │ \u001b[90mInt64⍰\u001b[39m │\n",
       "├─────┼────────┼─────────┼────────┤\n",
       "│ 1   │ 1990   │ Energia │ 301473 │\n",
       "│ 2   │ 1991   │ Energia │ 312891 │\n",
       "│ 3   │ 1992   │ Energia │ 314129 │\n",
       "│ 4   │ 1993   │ Energia │ 315687 │\n",
       "│ 5   │ 1994   │ Energia │ 333517 │\n",
       "│ 6   │ 1995   │ Energia │ 323169 │"
      ]
     },
     "execution_count": 170,
     "metadata": {},
     "output_type": "execute_result"
    }
   ],
   "source": [
    "head(datos)"
   ]
  },
  {
   "cell_type": "code",
   "execution_count": null,
   "metadata": {},
   "outputs": [],
   "source": []
  },
  {
   "cell_type": "code",
   "execution_count": 171,
   "metadata": {},
   "outputs": [
    {
     "data": {
      "text/html": [
       "<table class=\"data-frame\"><thead><tr><th></th><th>AÑO</th><th>SECTOR DE EMISION</th><th>GASES_DE_EFECTO_INVERNADERO_(GIGAGRAMOS_DE_BIOXIDO_DE_CARBONO_EQUIVALENTE)</th><th>CARBONO_NEGRO_(GIGAGRAMOS_DE_BIOXIDO_DE_CARBONO_EQUIVALENTE)</th></tr><tr><th></th><th>Int64⍰</th><th>String⍰</th><th>Int64⍰</th><th>Missing</th></tr></thead><tbody><p>26 rows × 4 columns</p><tr><th>1</th><td>1990</td><td>Energia</td><td>301473</td><td>missing</td></tr><tr><th>2</th><td>1991</td><td>Energia</td><td>312891</td><td>missing</td></tr><tr><th>3</th><td>1992</td><td>Energia</td><td>314129</td><td>missing</td></tr><tr><th>4</th><td>1993</td><td>Energia</td><td>315687</td><td>missing</td></tr><tr><th>5</th><td>1994</td><td>Energia</td><td>333517</td><td>missing</td></tr><tr><th>6</th><td>1995</td><td>Energia</td><td>323169</td><td>missing</td></tr><tr><th>7</th><td>1996</td><td>Energia</td><td>341874</td><td>missing</td></tr><tr><th>8</th><td>1997</td><td>Energia</td><td>363443</td><td>missing</td></tr><tr><th>9</th><td>1998</td><td>Energia</td><td>385391</td><td>missing</td></tr><tr><th>10</th><td>1999</td><td>Energia</td><td>373957</td><td>missing</td></tr><tr><th>11</th><td>2000</td><td>Energia</td><td>380275</td><td>missing</td></tr><tr><th>12</th><td>2001</td><td>Energia</td><td>376938</td><td>missing</td></tr><tr><th>13</th><td>2002</td><td>Energia</td><td>395745</td><td>missing</td></tr><tr><th>14</th><td>2003</td><td>Energia</td><td>394939</td><td>missing</td></tr><tr><th>15</th><td>2004</td><td>Energia</td><td>401523</td><td>missing</td></tr><tr><th>16</th><td>2005</td><td>Energia</td><td>413229</td><td>missing</td></tr><tr><th>17</th><td>2006</td><td>Energia</td><td>431525</td><td>missing</td></tr><tr><th>18</th><td>2007</td><td>Energia</td><td>457299</td><td>missing</td></tr><tr><th>19</th><td>2008</td><td>Energia</td><td>499673</td><td>missing</td></tr><tr><th>20</th><td>2009</td><td>Energia</td><td>478165</td><td>missing</td></tr><tr><th>21</th><td>2010</td><td>Energia</td><td>469972</td><td>missing</td></tr><tr><th>22</th><td>2011</td><td>Energia</td><td>475796</td><td>missing</td></tr><tr><th>23</th><td>2012</td><td>Energia</td><td>467519</td><td>missing</td></tr><tr><th>24</th><td>2013</td><td>Energia</td><td>473763</td><td>missing</td></tr><tr><th>25</th><td>2014</td><td>Energia</td><td>470615</td><td>missing</td></tr><tr><th>26</th><td>2015</td><td>Energia</td><td>480879</td><td>missing</td></tr></tbody></table>"
      ],
      "text/latex": [
       "\\begin{tabular}{r|cccc}\n",
       "\t& AÑO & SECTOR DE EMISION & GASES\\_DE\\_EFECTO\\_INVERNADERO\\_(GIGAGRAMOS\\_DE\\_BIOXIDO\\_DE\\_CARBONO\\_EQUIVALENTE) & CARBONO\\_NEGRO\\_(GIGAGRAMOS\\_DE\\_BIOXIDO\\_DE\\_CARBONO\\_EQUIVALENTE)\\\\\n",
       "\t\\hline\n",
       "\t& Int64⍰ & String⍰ & Int64⍰ & Missing\\\\\n",
       "\t\\hline\n",
       "\t1 & 1990 & Energia & 301473 &  \\\\\n",
       "\t2 & 1991 & Energia & 312891 &  \\\\\n",
       "\t3 & 1992 & Energia & 314129 &  \\\\\n",
       "\t4 & 1993 & Energia & 315687 &  \\\\\n",
       "\t5 & 1994 & Energia & 333517 &  \\\\\n",
       "\t6 & 1995 & Energia & 323169 &  \\\\\n",
       "\t7 & 1996 & Energia & 341874 &  \\\\\n",
       "\t8 & 1997 & Energia & 363443 &  \\\\\n",
       "\t9 & 1998 & Energia & 385391 &  \\\\\n",
       "\t10 & 1999 & Energia & 373957 &  \\\\\n",
       "\t11 & 2000 & Energia & 380275 &  \\\\\n",
       "\t12 & 2001 & Energia & 376938 &  \\\\\n",
       "\t13 & 2002 & Energia & 395745 &  \\\\\n",
       "\t14 & 2003 & Energia & 394939 &  \\\\\n",
       "\t15 & 2004 & Energia & 401523 &  \\\\\n",
       "\t16 & 2005 & Energia & 413229 &  \\\\\n",
       "\t17 & 2006 & Energia & 431525 &  \\\\\n",
       "\t18 & 2007 & Energia & 457299 &  \\\\\n",
       "\t19 & 2008 & Energia & 499673 &  \\\\\n",
       "\t20 & 2009 & Energia & 478165 &  \\\\\n",
       "\t21 & 2010 & Energia & 469972 &  \\\\\n",
       "\t22 & 2011 & Energia & 475796 &  \\\\\n",
       "\t23 & 2012 & Energia & 467519 &  \\\\\n",
       "\t24 & 2013 & Energia & 473763 &  \\\\\n",
       "\t25 & 2014 & Energia & 470615 &  \\\\\n",
       "\t26 & 2015 & Energia & 480879 &  \\\\\n",
       "\\end{tabular}\n"
      ],
      "text/plain": [
       "26×4 DataFrame. Omitted printing of 2 columns\n",
       "│ Row │ AÑO    │ SECTOR DE EMISION │\n",
       "│     │ \u001b[90mInt64⍰\u001b[39m │ \u001b[90mString⍰\u001b[39m           │\n",
       "├─────┼────────┼───────────────────┤\n",
       "│ 1   │ 1990   │ Energia           │\n",
       "│ 2   │ 1991   │ Energia           │\n",
       "│ 3   │ 1992   │ Energia           │\n",
       "│ 4   │ 1993   │ Energia           │\n",
       "│ 5   │ 1994   │ Energia           │\n",
       "│ 6   │ 1995   │ Energia           │\n",
       "│ 7   │ 1996   │ Energia           │\n",
       "│ 8   │ 1997   │ Energia           │\n",
       "│ 9   │ 1998   │ Energia           │\n",
       "│ 10  │ 1999   │ Energia           │\n",
       "⋮\n",
       "│ 16  │ 2005   │ Energia           │\n",
       "│ 17  │ 2006   │ Energia           │\n",
       "│ 18  │ 2007   │ Energia           │\n",
       "│ 19  │ 2008   │ Energia           │\n",
       "│ 20  │ 2009   │ Energia           │\n",
       "│ 21  │ 2010   │ Energia           │\n",
       "│ 22  │ 2011   │ Energia           │\n",
       "│ 23  │ 2012   │ Energia           │\n",
       "│ 24  │ 2013   │ Energia           │\n",
       "│ 25  │ 2014   │ Energia           │\n",
       "│ 26  │ 2015   │ Energia           │"
      ]
     },
     "execution_count": 171,
     "metadata": {},
     "output_type": "execute_result"
    }
   ],
   "source": [
    "datos_energía"
   ]
  },
  {
   "cell_type": "code",
   "execution_count": 173,
   "metadata": {},
   "outputs": [
    {
     "data": {
      "text/html": [
       "<table class=\"data-frame\"><thead><tr><th></th><th>año</th><th>sector</th><th>gases</th></tr><tr><th></th><th>Int64⍰</th><th>String⍰</th><th>Int64⍰</th></tr></thead><tbody><p>26 rows × 3 columns</p><tr><th>1</th><td>1990</td><td>Energia</td><td>301473</td></tr><tr><th>2</th><td>1991</td><td>Energia</td><td>312891</td></tr><tr><th>3</th><td>1992</td><td>Energia</td><td>314129</td></tr><tr><th>4</th><td>1993</td><td>Energia</td><td>315687</td></tr><tr><th>5</th><td>1994</td><td>Energia</td><td>333517</td></tr><tr><th>6</th><td>1995</td><td>Energia</td><td>323169</td></tr><tr><th>7</th><td>1996</td><td>Energia</td><td>341874</td></tr><tr><th>8</th><td>1997</td><td>Energia</td><td>363443</td></tr><tr><th>9</th><td>1998</td><td>Energia</td><td>385391</td></tr><tr><th>10</th><td>1999</td><td>Energia</td><td>373957</td></tr><tr><th>11</th><td>2000</td><td>Energia</td><td>380275</td></tr><tr><th>12</th><td>2001</td><td>Energia</td><td>376938</td></tr><tr><th>13</th><td>2002</td><td>Energia</td><td>395745</td></tr><tr><th>14</th><td>2003</td><td>Energia</td><td>394939</td></tr><tr><th>15</th><td>2004</td><td>Energia</td><td>401523</td></tr><tr><th>16</th><td>2005</td><td>Energia</td><td>413229</td></tr><tr><th>17</th><td>2006</td><td>Energia</td><td>431525</td></tr><tr><th>18</th><td>2007</td><td>Energia</td><td>457299</td></tr><tr><th>19</th><td>2008</td><td>Energia</td><td>499673</td></tr><tr><th>20</th><td>2009</td><td>Energia</td><td>478165</td></tr><tr><th>21</th><td>2010</td><td>Energia</td><td>469972</td></tr><tr><th>22</th><td>2011</td><td>Energia</td><td>475796</td></tr><tr><th>23</th><td>2012</td><td>Energia</td><td>467519</td></tr><tr><th>24</th><td>2013</td><td>Energia</td><td>473763</td></tr><tr><th>25</th><td>2014</td><td>Energia</td><td>470615</td></tr><tr><th>26</th><td>2015</td><td>Energia</td><td>480879</td></tr></tbody></table>"
      ],
      "text/latex": [
       "\\begin{tabular}{r|ccc}\n",
       "\t& año & sector & gases\\\\\n",
       "\t\\hline\n",
       "\t& Int64⍰ & String⍰ & Int64⍰\\\\\n",
       "\t\\hline\n",
       "\t1 & 1990 & Energia & 301473 \\\\\n",
       "\t2 & 1991 & Energia & 312891 \\\\\n",
       "\t3 & 1992 & Energia & 314129 \\\\\n",
       "\t4 & 1993 & Energia & 315687 \\\\\n",
       "\t5 & 1994 & Energia & 333517 \\\\\n",
       "\t6 & 1995 & Energia & 323169 \\\\\n",
       "\t7 & 1996 & Energia & 341874 \\\\\n",
       "\t8 & 1997 & Energia & 363443 \\\\\n",
       "\t9 & 1998 & Energia & 385391 \\\\\n",
       "\t10 & 1999 & Energia & 373957 \\\\\n",
       "\t11 & 2000 & Energia & 380275 \\\\\n",
       "\t12 & 2001 & Energia & 376938 \\\\\n",
       "\t13 & 2002 & Energia & 395745 \\\\\n",
       "\t14 & 2003 & Energia & 394939 \\\\\n",
       "\t15 & 2004 & Energia & 401523 \\\\\n",
       "\t16 & 2005 & Energia & 413229 \\\\\n",
       "\t17 & 2006 & Energia & 431525 \\\\\n",
       "\t18 & 2007 & Energia & 457299 \\\\\n",
       "\t19 & 2008 & Energia & 499673 \\\\\n",
       "\t20 & 2009 & Energia & 478165 \\\\\n",
       "\t21 & 2010 & Energia & 469972 \\\\\n",
       "\t22 & 2011 & Energia & 475796 \\\\\n",
       "\t23 & 2012 & Energia & 467519 \\\\\n",
       "\t24 & 2013 & Energia & 473763 \\\\\n",
       "\t25 & 2014 & Energia & 470615 \\\\\n",
       "\t26 & 2015 & Energia & 480879 \\\\\n",
       "\\end{tabular}\n"
      ],
      "text/plain": [
       "26×3 DataFrame\n",
       "│ Row │ año    │ sector  │ gases  │\n",
       "│     │ \u001b[90mInt64⍰\u001b[39m │ \u001b[90mString⍰\u001b[39m │ \u001b[90mInt64⍰\u001b[39m │\n",
       "├─────┼────────┼─────────┼────────┤\n",
       "│ 1   │ 1990   │ Energia │ 301473 │\n",
       "│ 2   │ 1991   │ Energia │ 312891 │\n",
       "│ 3   │ 1992   │ Energia │ 314129 │\n",
       "│ 4   │ 1993   │ Energia │ 315687 │\n",
       "│ 5   │ 1994   │ Energia │ 333517 │\n",
       "│ 6   │ 1995   │ Energia │ 323169 │\n",
       "│ 7   │ 1996   │ Energia │ 341874 │\n",
       "│ 8   │ 1997   │ Energia │ 363443 │\n",
       "│ 9   │ 1998   │ Energia │ 385391 │\n",
       "│ 10  │ 1999   │ Energia │ 373957 │\n",
       "⋮\n",
       "│ 16  │ 2005   │ Energia │ 413229 │\n",
       "│ 17  │ 2006   │ Energia │ 431525 │\n",
       "│ 18  │ 2007   │ Energia │ 457299 │\n",
       "│ 19  │ 2008   │ Energia │ 499673 │\n",
       "│ 20  │ 2009   │ Energia │ 478165 │\n",
       "│ 21  │ 2010   │ Energia │ 469972 │\n",
       "│ 22  │ 2011   │ Energia │ 475796 │\n",
       "│ 23  │ 2012   │ Energia │ 467519 │\n",
       "│ 24  │ 2013   │ Energia │ 473763 │\n",
       "│ 25  │ 2014   │ Energia │ 470615 │\n",
       "│ 26  │ 2015   │ Energia │ 480879 │"
      ]
     },
     "execution_count": 173,
     "metadata": {},
     "output_type": "execute_result"
    }
   ],
   "source": [
    "datos_energía"
   ]
  },
  {
   "cell_type": "code",
   "execution_count": 174,
   "metadata": {},
   "outputs": [
    {
     "ename": "UndefVarError",
     "evalue": "UndefVarError: plot not defined",
     "output_type": "error",
     "traceback": [
      "UndefVarError: plot not defined",
      "",
      "Stacktrace:",
      " [1] top-level scope at In[174]:1"
     ]
    }
   ],
   "source": [
    "plot(datos_energía[:año], datos_energía[:gases])"
   ]
  },
  {
   "cell_type": "code",
   "execution_count": 175,
   "metadata": {},
   "outputs": [
    {
     "ename": "ArgumentError",
     "evalue": "ArgumentError: Package Plotss not found in current path:\n- Run `import Pkg; Pkg.add(\"Plotss\")` to install the Plotss package.\n",
     "output_type": "error",
     "traceback": [
      "ArgumentError: Package Plotss not found in current path:\n- Run `import Pkg; Pkg.add(\"Plotss\")` to install the Plotss package.\n",
      "",
      "Stacktrace:",
      " [1] require(::Module, ::Symbol) at ./loading.jl:823",
      " [2] top-level scope at In[175]:1"
     ]
    }
   ],
   "source": [
    "using Plotss"
   ]
  },
  {
   "cell_type": "code",
   "execution_count": null,
   "metadata": {},
   "outputs": [],
   "source": [
    "] add Plots"
   ]
  },
  {
   "cell_type": "code",
   "execution_count": null,
   "metadata": {},
   "outputs": [],
   "source": [
    "import Pkg; Pkg.add(\"Plots\")"
   ]
  },
  {
   "cell_type": "code",
   "execution_count": 176,
   "metadata": {},
   "outputs": [],
   "source": [
    "using Plots"
   ]
  },
  {
   "cell_type": "code",
   "execution_count": 186,
   "metadata": {},
   "outputs": [
    {
     "data": {
      "image/svg+xml": [
       "<?xml version=\"1.0\" encoding=\"utf-8\"?>\n",
       "<svg xmlns=\"http://www.w3.org/2000/svg\" xmlns:xlink=\"http://www.w3.org/1999/xlink\" width=\"600\" height=\"400\" viewBox=\"0 0 2400 1600\">\n",
       "<defs>\n",
       "  <clipPath id=\"clip2000\">\n",
       "    <rect x=\"0\" y=\"0\" width=\"2000\" height=\"2000\"/>\n",
       "  </clipPath>\n",
       "</defs>\n",
       "<defs>\n",
       "  <clipPath id=\"clip2001\">\n",
       "    <rect x=\"0\" y=\"0\" width=\"2400\" height=\"1600\"/>\n",
       "  </clipPath>\n",
       "</defs>\n",
       "<polygon clip-path=\"url(#clip2001)\" points=\"\n",
       "0,1600 2400,1600 2400,0 0,0 \n",
       "  \" fill=\"#ffffff\" fill-rule=\"evenodd\" fill-opacity=\"1\"/>\n",
       "<defs>\n",
       "  <clipPath id=\"clip2002\">\n",
       "    <rect x=\"480\" y=\"0\" width=\"1681\" height=\"1600\"/>\n",
       "  </clipPath>\n",
       "</defs>\n",
       "<polygon clip-path=\"url(#clip2001)\" points=\"\n",
       "371.82,1440.48 2321.26,1440.48 2321.26,47.2441 371.82,47.2441 \n",
       "  \" fill=\"#ffffff\" fill-rule=\"evenodd\" fill-opacity=\"1\"/>\n",
       "<defs>\n",
       "  <clipPath id=\"clip2003\">\n",
       "    <rect x=\"371\" y=\"47\" width=\"1950\" height=\"1394\"/>\n",
       "  </clipPath>\n",
       "</defs>\n",
       "<polyline clip-path=\"url(#clip2003)\" style=\"stroke:#000000; stroke-width:2; stroke-opacity:0.1; fill:none\" points=\"\n",
       "  426.993,1440.48 426.993,47.2441 \n",
       "  \"/>\n",
       "<polyline clip-path=\"url(#clip2003)\" style=\"stroke:#000000; stroke-width:2; stroke-opacity:0.1; fill:none\" points=\"\n",
       "  794.811,1440.48 794.811,47.2441 \n",
       "  \"/>\n",
       "<polyline clip-path=\"url(#clip2003)\" style=\"stroke:#000000; stroke-width:2; stroke-opacity:0.1; fill:none\" points=\"\n",
       "  1162.63,1440.48 1162.63,47.2441 \n",
       "  \"/>\n",
       "<polyline clip-path=\"url(#clip2003)\" style=\"stroke:#000000; stroke-width:2; stroke-opacity:0.1; fill:none\" points=\"\n",
       "  1530.45,1440.48 1530.45,47.2441 \n",
       "  \"/>\n",
       "<polyline clip-path=\"url(#clip2003)\" style=\"stroke:#000000; stroke-width:2; stroke-opacity:0.1; fill:none\" points=\"\n",
       "  1898.27,1440.48 1898.27,47.2441 \n",
       "  \"/>\n",
       "<polyline clip-path=\"url(#clip2003)\" style=\"stroke:#000000; stroke-width:2; stroke-opacity:0.1; fill:none\" points=\"\n",
       "  2266.09,1440.48 2266.09,47.2441 \n",
       "  \"/>\n",
       "<polyline clip-path=\"url(#clip2003)\" style=\"stroke:#000000; stroke-width:2; stroke-opacity:0.1; fill:none\" points=\"\n",
       "  371.82,1410.82 2321.26,1410.82 \n",
       "  \"/>\n",
       "<polyline clip-path=\"url(#clip2003)\" style=\"stroke:#000000; stroke-width:2; stroke-opacity:0.1; fill:none\" points=\"\n",
       "  371.82,1079.24 2321.26,1079.24 \n",
       "  \"/>\n",
       "<polyline clip-path=\"url(#clip2003)\" style=\"stroke:#000000; stroke-width:2; stroke-opacity:0.1; fill:none\" points=\"\n",
       "  371.82,747.663 2321.26,747.663 \n",
       "  \"/>\n",
       "<polyline clip-path=\"url(#clip2003)\" style=\"stroke:#000000; stroke-width:2; stroke-opacity:0.1; fill:none\" points=\"\n",
       "  371.82,416.085 2321.26,416.085 \n",
       "  \"/>\n",
       "<polyline clip-path=\"url(#clip2003)\" style=\"stroke:#000000; stroke-width:2; stroke-opacity:0.1; fill:none\" points=\"\n",
       "  371.82,84.5069 2321.26,84.5069 \n",
       "  \"/>\n",
       "<polyline clip-path=\"url(#clip2001)\" style=\"stroke:#000000; stroke-width:4; stroke-opacity:1; fill:none\" points=\"\n",
       "  371.82,1440.48 2321.26,1440.48 \n",
       "  \"/>\n",
       "<polyline clip-path=\"url(#clip2001)\" style=\"stroke:#000000; stroke-width:4; stroke-opacity:1; fill:none\" points=\"\n",
       "  371.82,1440.48 371.82,47.2441 \n",
       "  \"/>\n",
       "<polyline clip-path=\"url(#clip2001)\" style=\"stroke:#000000; stroke-width:4; stroke-opacity:1; fill:none\" points=\"\n",
       "  426.993,1440.48 426.993,1419.58 \n",
       "  \"/>\n",
       "<polyline clip-path=\"url(#clip2001)\" style=\"stroke:#000000; stroke-width:4; stroke-opacity:1; fill:none\" points=\"\n",
       "  794.811,1440.48 794.811,1419.58 \n",
       "  \"/>\n",
       "<polyline clip-path=\"url(#clip2001)\" style=\"stroke:#000000; stroke-width:4; stroke-opacity:1; fill:none\" points=\"\n",
       "  1162.63,1440.48 1162.63,1419.58 \n",
       "  \"/>\n",
       "<polyline clip-path=\"url(#clip2001)\" style=\"stroke:#000000; stroke-width:4; stroke-opacity:1; fill:none\" points=\"\n",
       "  1530.45,1440.48 1530.45,1419.58 \n",
       "  \"/>\n",
       "<polyline clip-path=\"url(#clip2001)\" style=\"stroke:#000000; stroke-width:4; stroke-opacity:1; fill:none\" points=\"\n",
       "  1898.27,1440.48 1898.27,1419.58 \n",
       "  \"/>\n",
       "<polyline clip-path=\"url(#clip2001)\" style=\"stroke:#000000; stroke-width:4; stroke-opacity:1; fill:none\" points=\"\n",
       "  2266.09,1440.48 2266.09,1419.58 \n",
       "  \"/>\n",
       "<polyline clip-path=\"url(#clip2001)\" style=\"stroke:#000000; stroke-width:4; stroke-opacity:1; fill:none\" points=\"\n",
       "  371.82,1410.82 401.061,1410.82 \n",
       "  \"/>\n",
       "<polyline clip-path=\"url(#clip2001)\" style=\"stroke:#000000; stroke-width:4; stroke-opacity:1; fill:none\" points=\"\n",
       "  371.82,1079.24 401.061,1079.24 \n",
       "  \"/>\n",
       "<polyline clip-path=\"url(#clip2001)\" style=\"stroke:#000000; stroke-width:4; stroke-opacity:1; fill:none\" points=\"\n",
       "  371.82,747.663 401.061,747.663 \n",
       "  \"/>\n",
       "<polyline clip-path=\"url(#clip2001)\" style=\"stroke:#000000; stroke-width:4; stroke-opacity:1; fill:none\" points=\"\n",
       "  371.82,416.085 401.061,416.085 \n",
       "  \"/>\n",
       "<polyline clip-path=\"url(#clip2001)\" style=\"stroke:#000000; stroke-width:4; stroke-opacity:1; fill:none\" points=\"\n",
       "  371.82,84.5069 401.061,84.5069 \n",
       "  \"/>\n",
       "<g clip-path=\"url(#clip2001)\">\n",
       "<text style=\"fill:#000000; fill-opacity:1; font-family:Arial,Helvetica Neue,Helvetica,sans-serif; font-size:48px; text-anchor:middle;\" transform=\"rotate(0, 426.993, 1494.48)\" x=\"426.993\" y=\"1494.48\">1990</text>\n",
       "</g>\n",
       "<g clip-path=\"url(#clip2001)\">\n",
       "<text style=\"fill:#000000; fill-opacity:1; font-family:Arial,Helvetica Neue,Helvetica,sans-serif; font-size:48px; text-anchor:middle;\" transform=\"rotate(0, 794.811, 1494.48)\" x=\"794.811\" y=\"1494.48\">1995</text>\n",
       "</g>\n",
       "<g clip-path=\"url(#clip2001)\">\n",
       "<text style=\"fill:#000000; fill-opacity:1; font-family:Arial,Helvetica Neue,Helvetica,sans-serif; font-size:48px; text-anchor:middle;\" transform=\"rotate(0, 1162.63, 1494.48)\" x=\"1162.63\" y=\"1494.48\">2000</text>\n",
       "</g>\n",
       "<g clip-path=\"url(#clip2001)\">\n",
       "<text style=\"fill:#000000; fill-opacity:1; font-family:Arial,Helvetica Neue,Helvetica,sans-serif; font-size:48px; text-anchor:middle;\" transform=\"rotate(0, 1530.45, 1494.48)\" x=\"1530.45\" y=\"1494.48\">2005</text>\n",
       "</g>\n",
       "<g clip-path=\"url(#clip2001)\">\n",
       "<text style=\"fill:#000000; fill-opacity:1; font-family:Arial,Helvetica Neue,Helvetica,sans-serif; font-size:48px; text-anchor:middle;\" transform=\"rotate(0, 1898.27, 1494.48)\" x=\"1898.27\" y=\"1494.48\">2010</text>\n",
       "</g>\n",
       "<g clip-path=\"url(#clip2001)\">\n",
       "<text style=\"fill:#000000; fill-opacity:1; font-family:Arial,Helvetica Neue,Helvetica,sans-serif; font-size:48px; text-anchor:middle;\" transform=\"rotate(0, 2266.09, 1494.48)\" x=\"2266.09\" y=\"1494.48\">2015</text>\n",
       "</g>\n",
       "<g clip-path=\"url(#clip2001)\">\n",
       "<text style=\"fill:#000000; fill-opacity:1; font-family:Arial,Helvetica Neue,Helvetica,sans-serif; font-size:48px; text-anchor:start;\" transform=\"rotate(0, 177.535, 1434.55)\" x=\"177.535\" y=\"1434.55\">3.0×10</text>\n",
       "</g>\n",
       "<g clip-path=\"url(#clip2001)\">\n",
       "<text style=\"fill:#000000; fill-opacity:1; font-family:Arial,Helvetica Neue,Helvetica,sans-serif; font-size:38px; text-anchor:start;\" transform=\"rotate(0, 326.075, 1407.14)\" x=\"326.075\" y=\"1407.14\">5</text>\n",
       "</g>\n",
       "<g clip-path=\"url(#clip2001)\">\n",
       "<text style=\"fill:#000000; fill-opacity:1; font-family:Arial,Helvetica Neue,Helvetica,sans-serif; font-size:48px; text-anchor:start;\" transform=\"rotate(0, 177.535, 1102.97)\" x=\"177.535\" y=\"1102.97\">3.5×10</text>\n",
       "</g>\n",
       "<g clip-path=\"url(#clip2001)\">\n",
       "<text style=\"fill:#000000; fill-opacity:1; font-family:Arial,Helvetica Neue,Helvetica,sans-serif; font-size:38px; text-anchor:start;\" transform=\"rotate(0, 326.075, 1075.56)\" x=\"326.075\" y=\"1075.56\">5</text>\n",
       "</g>\n",
       "<g clip-path=\"url(#clip2001)\">\n",
       "<text style=\"fill:#000000; fill-opacity:1; font-family:Arial,Helvetica Neue,Helvetica,sans-serif; font-size:48px; text-anchor:start;\" transform=\"rotate(0, 177.535, 771.391)\" x=\"177.535\" y=\"771.391\">4.0×10</text>\n",
       "</g>\n",
       "<g clip-path=\"url(#clip2001)\">\n",
       "<text style=\"fill:#000000; fill-opacity:1; font-family:Arial,Helvetica Neue,Helvetica,sans-serif; font-size:38px; text-anchor:start;\" transform=\"rotate(0, 326.075, 743.98)\" x=\"326.075\" y=\"743.98\">5</text>\n",
       "</g>\n",
       "<g clip-path=\"url(#clip2001)\">\n",
       "<text style=\"fill:#000000; fill-opacity:1; font-family:Arial,Helvetica Neue,Helvetica,sans-serif; font-size:48px; text-anchor:start;\" transform=\"rotate(0, 177.535, 439.813)\" x=\"177.535\" y=\"439.813\">4.5×10</text>\n",
       "</g>\n",
       "<g clip-path=\"url(#clip2001)\">\n",
       "<text style=\"fill:#000000; fill-opacity:1; font-family:Arial,Helvetica Neue,Helvetica,sans-serif; font-size:38px; text-anchor:start;\" transform=\"rotate(0, 326.075, 412.402)\" x=\"326.075\" y=\"412.402\">5</text>\n",
       "</g>\n",
       "<g clip-path=\"url(#clip2001)\">\n",
       "<text style=\"fill:#000000; fill-opacity:1; font-family:Arial,Helvetica Neue,Helvetica,sans-serif; font-size:48px; text-anchor:start;\" transform=\"rotate(0, 177.535, 108.234)\" x=\"177.535\" y=\"108.234\">5.0×10</text>\n",
       "</g>\n",
       "<g clip-path=\"url(#clip2001)\">\n",
       "<text style=\"fill:#000000; fill-opacity:1; font-family:Arial,Helvetica Neue,Helvetica,sans-serif; font-size:38px; text-anchor:start;\" transform=\"rotate(0, 326.075, 80.8241)\" x=\"326.075\" y=\"80.8241\">5</text>\n",
       "</g>\n",
       "<g clip-path=\"url(#clip2001)\">\n",
       "<text style=\"fill:#000000; fill-opacity:1; font-family:Arial,Helvetica Neue,Helvetica,sans-serif; font-size:66px; text-anchor:middle;\" transform=\"rotate(0, 1346.54, 1590.4)\" x=\"1346.54\" y=\"1590.4\">año</text>\n",
       "</g>\n",
       "<g clip-path=\"url(#clip2001)\">\n",
       "<text style=\"fill:#000000; fill-opacity:1; font-family:Arial,Helvetica Neue,Helvetica,sans-serif; font-size:66px; text-anchor:middle;\" transform=\"rotate(-90, 57.6, 743.863)\" x=\"57.6\" y=\"743.863\">emisión</text>\n",
       "</g>\n",
       "<polyline clip-path=\"url(#clip2003)\" style=\"stroke:#ff0000; stroke-width:4; stroke-opacity:1; fill:none\" points=\"\n",
       "  426.993,1401.05 500.556,1325.33 574.12,1317.12 647.684,1306.79 721.248,1188.55 794.811,1257.17 868.375,1133.13 941.939,990.093 1015.5,844.544 1089.07,920.369 \n",
       "  1162.63,878.471 1236.19,900.6 1309.76,775.881 1383.32,781.226 1456.89,737.563 1530.45,659.934 1604.01,538.603 1677.58,367.681 1751.14,86.6754 1824.7,229.307 \n",
       "  1898.27,283.639 1971.83,245.017 2045.4,299.907 2118.96,258.499 2192.52,279.375 2266.09,211.309 \n",
       "  \"/>\n",
       "<polygon clip-path=\"url(#clip2003)\" style=\"fill:#000000; fill-opacity:1\" points=\"\n",
       "  426.993,1421.05 412.853,1415.19 406.993,1401.05 412.853,1386.91 426.993,1381.05 441.133,1386.91 446.993,1401.05 441.133,1415.19 \n",
       "  \"/>\n",
       "<polygon clip-path=\"url(#clip2003)\" style=\"fill:#ff0000; fill-opacity:1\" points=\"\n",
       "  426.993,1417.05 415.681,1412.36 410.993,1401.05 415.681,1389.74 426.993,1385.05 438.305,1389.74 442.993,1401.05 438.305,1412.36 \n",
       "  \"/>\n",
       "<polygon clip-path=\"url(#clip2003)\" style=\"fill:#000000; fill-opacity:1\" points=\"\n",
       "  500.556,1345.33 486.416,1339.47 480.556,1325.33 486.416,1311.19 500.556,1305.33 514.696,1311.19 520.556,1325.33 514.696,1339.47 \n",
       "  \"/>\n",
       "<polygon clip-path=\"url(#clip2003)\" style=\"fill:#ff0000; fill-opacity:1\" points=\"\n",
       "  500.556,1341.33 489.244,1336.64 484.556,1325.33 489.244,1314.02 500.556,1309.33 511.868,1314.02 516.556,1325.33 511.868,1336.64 \n",
       "  \"/>\n",
       "<polygon clip-path=\"url(#clip2003)\" style=\"fill:#000000; fill-opacity:1\" points=\"\n",
       "  574.12,1337.12 559.98,1331.26 554.12,1317.12 559.98,1302.98 574.12,1297.12 588.26,1302.98 594.12,1317.12 588.26,1331.26 \n",
       "  \"/>\n",
       "<polygon clip-path=\"url(#clip2003)\" style=\"fill:#ff0000; fill-opacity:1\" points=\"\n",
       "  574.12,1333.12 562.808,1328.43 558.12,1317.12 562.808,1305.81 574.12,1301.12 585.432,1305.81 590.12,1317.12 585.432,1328.43 \n",
       "  \"/>\n",
       "<polygon clip-path=\"url(#clip2003)\" style=\"fill:#000000; fill-opacity:1\" points=\"\n",
       "  647.684,1326.79 633.544,1320.93 627.684,1306.79 633.544,1292.65 647.684,1286.79 661.824,1292.65 667.684,1306.79 661.824,1320.93 \n",
       "  \"/>\n",
       "<polygon clip-path=\"url(#clip2003)\" style=\"fill:#ff0000; fill-opacity:1\" points=\"\n",
       "  647.684,1322.79 636.372,1318.1 631.684,1306.79 636.372,1295.48 647.684,1290.79 658.996,1295.48 663.684,1306.79 658.996,1318.1 \n",
       "  \"/>\n",
       "<polygon clip-path=\"url(#clip2003)\" style=\"fill:#000000; fill-opacity:1\" points=\"\n",
       "  721.248,1208.55 707.108,1202.69 701.248,1188.55 707.108,1174.41 721.248,1168.55 735.388,1174.41 741.248,1188.55 735.388,1202.69 \n",
       "  \"/>\n",
       "<polygon clip-path=\"url(#clip2003)\" style=\"fill:#ff0000; fill-opacity:1\" points=\"\n",
       "  721.248,1204.55 709.936,1199.86 705.248,1188.55 709.936,1177.24 721.248,1172.55 732.56,1177.24 737.248,1188.55 732.56,1199.86 \n",
       "  \"/>\n",
       "<polygon clip-path=\"url(#clip2003)\" style=\"fill:#000000; fill-opacity:1\" points=\"\n",
       "  794.811,1277.17 780.671,1271.31 774.811,1257.17 780.671,1243.03 794.811,1237.17 808.951,1243.03 814.811,1257.17 808.951,1271.31 \n",
       "  \"/>\n",
       "<polygon clip-path=\"url(#clip2003)\" style=\"fill:#ff0000; fill-opacity:1\" points=\"\n",
       "  794.811,1273.17 783.499,1268.48 778.811,1257.17 783.499,1245.86 794.811,1241.17 806.123,1245.86 810.811,1257.17 806.123,1268.48 \n",
       "  \"/>\n",
       "<polygon clip-path=\"url(#clip2003)\" style=\"fill:#000000; fill-opacity:1\" points=\"\n",
       "  868.375,1153.13 854.235,1147.27 848.375,1133.13 854.235,1118.99 868.375,1113.13 882.515,1118.99 888.375,1133.13 882.515,1147.27 \n",
       "  \"/>\n",
       "<polygon clip-path=\"url(#clip2003)\" style=\"fill:#ff0000; fill-opacity:1\" points=\"\n",
       "  868.375,1149.13 857.063,1144.44 852.375,1133.13 857.063,1121.82 868.375,1117.13 879.687,1121.82 884.375,1133.13 879.687,1144.44 \n",
       "  \"/>\n",
       "<polygon clip-path=\"url(#clip2003)\" style=\"fill:#000000; fill-opacity:1\" points=\"\n",
       "  941.939,1010.09 927.799,1004.23 921.939,990.093 927.799,975.953 941.939,970.093 956.079,975.953 961.939,990.093 956.079,1004.23 \n",
       "  \"/>\n",
       "<polygon clip-path=\"url(#clip2003)\" style=\"fill:#ff0000; fill-opacity:1\" points=\"\n",
       "  941.939,1006.09 930.627,1001.41 925.939,990.093 930.627,978.781 941.939,974.093 953.251,978.781 957.939,990.093 953.251,1001.41 \n",
       "  \"/>\n",
       "<polygon clip-path=\"url(#clip2003)\" style=\"fill:#000000; fill-opacity:1\" points=\"\n",
       "  1015.5,864.544 1001.36,858.684 995.503,844.544 1001.36,830.404 1015.5,824.544 1029.64,830.404 1035.5,844.544 1029.64,858.684 \n",
       "  \"/>\n",
       "<polygon clip-path=\"url(#clip2003)\" style=\"fill:#ff0000; fill-opacity:1\" points=\"\n",
       "  1015.5,860.544 1004.19,855.856 999.503,844.544 1004.19,833.232 1015.5,828.544 1026.81,833.232 1031.5,844.544 1026.81,855.856 \n",
       "  \"/>\n",
       "<polygon clip-path=\"url(#clip2003)\" style=\"fill:#000000; fill-opacity:1\" points=\"\n",
       "  1089.07,940.369 1074.93,934.509 1069.07,920.369 1074.93,906.229 1089.07,900.369 1103.21,906.229 1109.07,920.369 1103.21,934.509 \n",
       "  \"/>\n",
       "<polygon clip-path=\"url(#clip2003)\" style=\"fill:#ff0000; fill-opacity:1\" points=\"\n",
       "  1089.07,936.369 1077.75,931.681 1073.07,920.369 1077.75,909.057 1089.07,904.369 1100.38,909.057 1105.07,920.369 1100.38,931.681 \n",
       "  \"/>\n",
       "<polygon clip-path=\"url(#clip2003)\" style=\"fill:#000000; fill-opacity:1\" points=\"\n",
       "  1162.63,898.471 1148.49,892.611 1142.63,878.471 1148.49,864.331 1162.63,858.471 1176.77,864.331 1182.63,878.471 1176.77,892.611 \n",
       "  \"/>\n",
       "<polygon clip-path=\"url(#clip2003)\" style=\"fill:#ff0000; fill-opacity:1\" points=\"\n",
       "  1162.63,894.471 1151.32,889.783 1146.63,878.471 1151.32,867.159 1162.63,862.471 1173.94,867.159 1178.63,878.471 1173.94,889.783 \n",
       "  \"/>\n",
       "<polygon clip-path=\"url(#clip2003)\" style=\"fill:#000000; fill-opacity:1\" points=\"\n",
       "  1236.19,920.6 1222.05,914.74 1216.19,900.6 1222.05,886.46 1236.19,880.6 1250.33,886.46 1256.19,900.6 1250.33,914.74 \n",
       "  \"/>\n",
       "<polygon clip-path=\"url(#clip2003)\" style=\"fill:#ff0000; fill-opacity:1\" points=\"\n",
       "  1236.19,916.6 1224.88,911.912 1220.19,900.6 1224.88,889.288 1236.19,884.6 1247.51,889.288 1252.19,900.6 1247.51,911.912 \n",
       "  \"/>\n",
       "<polygon clip-path=\"url(#clip2003)\" style=\"fill:#000000; fill-opacity:1\" points=\"\n",
       "  1309.76,795.881 1295.62,790.021 1289.76,775.881 1295.62,761.741 1309.76,755.881 1323.9,761.741 1329.76,775.881 1323.9,790.021 \n",
       "  \"/>\n",
       "<polygon clip-path=\"url(#clip2003)\" style=\"fill:#ff0000; fill-opacity:1\" points=\"\n",
       "  1309.76,791.881 1298.45,787.193 1293.76,775.881 1298.45,764.569 1309.76,759.881 1321.07,764.569 1325.76,775.881 1321.07,787.193 \n",
       "  \"/>\n",
       "<polygon clip-path=\"url(#clip2003)\" style=\"fill:#000000; fill-opacity:1\" points=\"\n",
       "  1383.32,801.226 1369.18,795.366 1363.32,781.226 1369.18,767.086 1383.32,761.226 1397.46,767.086 1403.32,781.226 1397.46,795.366 \n",
       "  \"/>\n",
       "<polygon clip-path=\"url(#clip2003)\" style=\"fill:#ff0000; fill-opacity:1\" points=\"\n",
       "  1383.32,797.226 1372.01,792.538 1367.32,781.226 1372.01,769.914 1383.32,765.226 1394.63,769.914 1399.32,781.226 1394.63,792.538 \n",
       "  \"/>\n",
       "<polygon clip-path=\"url(#clip2003)\" style=\"fill:#000000; fill-opacity:1\" points=\"\n",
       "  1456.89,757.563 1442.75,751.703 1436.89,737.563 1442.75,723.423 1456.89,717.563 1471.03,723.423 1476.89,737.563 1471.03,751.703 \n",
       "  \"/>\n",
       "<polygon clip-path=\"url(#clip2003)\" style=\"fill:#ff0000; fill-opacity:1\" points=\"\n",
       "  1456.89,753.563 1445.57,748.875 1440.89,737.563 1445.57,726.251 1456.89,721.563 1468.2,726.251 1472.89,737.563 1468.2,748.875 \n",
       "  \"/>\n",
       "<polygon clip-path=\"url(#clip2003)\" style=\"fill:#000000; fill-opacity:1\" points=\"\n",
       "  1530.45,679.934 1516.31,674.074 1510.45,659.934 1516.31,645.794 1530.45,639.934 1544.59,645.794 1550.45,659.934 1544.59,674.074 \n",
       "  \"/>\n",
       "<polygon clip-path=\"url(#clip2003)\" style=\"fill:#ff0000; fill-opacity:1\" points=\"\n",
       "  1530.45,675.934 1519.14,671.246 1514.45,659.934 1519.14,648.622 1530.45,643.934 1541.76,648.622 1546.45,659.934 1541.76,671.246 \n",
       "  \"/>\n",
       "<polygon clip-path=\"url(#clip2003)\" style=\"fill:#000000; fill-opacity:1\" points=\"\n",
       "  1604.01,558.603 1589.87,552.743 1584.01,538.603 1589.87,524.463 1604.01,518.603 1618.15,524.463 1624.01,538.603 1618.15,552.743 \n",
       "  \"/>\n",
       "<polygon clip-path=\"url(#clip2003)\" style=\"fill:#ff0000; fill-opacity:1\" points=\"\n",
       "  1604.01,554.603 1592.7,549.915 1588.01,538.603 1592.7,527.291 1604.01,522.603 1615.32,527.291 1620.01,538.603 1615.32,549.915 \n",
       "  \"/>\n",
       "<polygon clip-path=\"url(#clip2003)\" style=\"fill:#000000; fill-opacity:1\" points=\"\n",
       "  1677.58,387.681 1663.44,381.821 1657.58,367.681 1663.44,353.541 1677.58,347.681 1691.72,353.541 1697.58,367.681 1691.72,381.821 \n",
       "  \"/>\n",
       "<polygon clip-path=\"url(#clip2003)\" style=\"fill:#ff0000; fill-opacity:1\" points=\"\n",
       "  1677.58,383.681 1666.26,378.993 1661.58,367.681 1666.26,356.369 1677.58,351.681 1688.89,356.369 1693.58,367.681 1688.89,378.993 \n",
       "  \"/>\n",
       "<polygon clip-path=\"url(#clip2003)\" style=\"fill:#000000; fill-opacity:1\" points=\"\n",
       "  1751.14,106.675 1737,100.815 1731.14,86.6754 1737,72.5354 1751.14,66.6754 1765.28,72.5354 1771.14,86.6754 1765.28,100.815 \n",
       "  \"/>\n",
       "<polygon clip-path=\"url(#clip2003)\" style=\"fill:#ff0000; fill-opacity:1\" points=\"\n",
       "  1751.14,102.675 1739.83,97.9874 1735.14,86.6754 1739.83,75.3634 1751.14,70.6754 1762.45,75.3634 1767.14,86.6754 1762.45,97.9874 \n",
       "  \"/>\n",
       "<polygon clip-path=\"url(#clip2003)\" style=\"fill:#000000; fill-opacity:1\" points=\"\n",
       "  1824.7,249.307 1810.56,243.447 1804.7,229.307 1810.56,215.167 1824.7,209.307 1838.84,215.167 1844.7,229.307 1838.84,243.447 \n",
       "  \"/>\n",
       "<polygon clip-path=\"url(#clip2003)\" style=\"fill:#ff0000; fill-opacity:1\" points=\"\n",
       "  1824.7,245.307 1813.39,240.619 1808.7,229.307 1813.39,217.995 1824.7,213.307 1836.02,217.995 1840.7,229.307 1836.02,240.619 \n",
       "  \"/>\n",
       "<polygon clip-path=\"url(#clip2003)\" style=\"fill:#000000; fill-opacity:1\" points=\"\n",
       "  1898.27,303.639 1884.13,297.779 1878.27,283.639 1884.13,269.499 1898.27,263.639 1912.41,269.499 1918.27,283.639 1912.41,297.779 \n",
       "  \"/>\n",
       "<polygon clip-path=\"url(#clip2003)\" style=\"fill:#ff0000; fill-opacity:1\" points=\"\n",
       "  1898.27,299.639 1886.96,294.951 1882.27,283.639 1886.96,272.327 1898.27,267.639 1909.58,272.327 1914.27,283.639 1909.58,294.951 \n",
       "  \"/>\n",
       "<polygon clip-path=\"url(#clip2003)\" style=\"fill:#000000; fill-opacity:1\" points=\"\n",
       "  1971.83,265.017 1957.69,259.157 1951.83,245.017 1957.69,230.877 1971.83,225.017 1985.97,230.877 1991.83,245.017 1985.97,259.157 \n",
       "  \"/>\n",
       "<polygon clip-path=\"url(#clip2003)\" style=\"fill:#ff0000; fill-opacity:1\" points=\"\n",
       "  1971.83,261.017 1960.52,256.329 1955.83,245.017 1960.52,233.705 1971.83,229.017 1983.14,233.705 1987.83,245.017 1983.14,256.329 \n",
       "  \"/>\n",
       "<polygon clip-path=\"url(#clip2003)\" style=\"fill:#000000; fill-opacity:1\" points=\"\n",
       "  2045.4,319.907 2031.26,314.047 2025.4,299.907 2031.26,285.767 2045.4,279.907 2059.54,285.767 2065.4,299.907 2059.54,314.047 \n",
       "  \"/>\n",
       "<polygon clip-path=\"url(#clip2003)\" style=\"fill:#ff0000; fill-opacity:1\" points=\"\n",
       "  2045.4,315.907 2034.08,311.219 2029.4,299.907 2034.08,288.595 2045.4,283.907 2056.71,288.595 2061.4,299.907 2056.71,311.219 \n",
       "  \"/>\n",
       "<polygon clip-path=\"url(#clip2003)\" style=\"fill:#000000; fill-opacity:1\" points=\"\n",
       "  2118.96,278.499 2104.82,272.639 2098.96,258.499 2104.82,244.359 2118.96,238.499 2133.1,244.359 2138.96,258.499 2133.1,272.639 \n",
       "  \"/>\n",
       "<polygon clip-path=\"url(#clip2003)\" style=\"fill:#ff0000; fill-opacity:1\" points=\"\n",
       "  2118.96,274.499 2107.65,269.811 2102.96,258.499 2107.65,247.187 2118.96,242.499 2130.27,247.187 2134.96,258.499 2130.27,269.811 \n",
       "  \"/>\n",
       "<polygon clip-path=\"url(#clip2003)\" style=\"fill:#000000; fill-opacity:1\" points=\"\n",
       "  2192.52,299.375 2178.38,293.515 2172.52,279.375 2178.38,265.235 2192.52,259.375 2206.66,265.235 2212.52,279.375 2206.66,293.515 \n",
       "  \"/>\n",
       "<polygon clip-path=\"url(#clip2003)\" style=\"fill:#ff0000; fill-opacity:1\" points=\"\n",
       "  2192.52,295.375 2181.21,290.687 2176.52,279.375 2181.21,268.063 2192.52,263.375 2203.84,268.063 2208.52,279.375 2203.84,290.687 \n",
       "  \"/>\n",
       "<polygon clip-path=\"url(#clip2003)\" style=\"fill:#000000; fill-opacity:1\" points=\"\n",
       "  2266.09,231.309 2251.95,225.449 2246.09,211.309 2251.95,197.169 2266.09,191.309 2280.23,197.169 2286.09,211.309 2280.23,225.449 \n",
       "  \"/>\n",
       "<polygon clip-path=\"url(#clip2003)\" style=\"fill:#ff0000; fill-opacity:1\" points=\"\n",
       "  2266.09,227.309 2254.78,222.621 2250.09,211.309 2254.78,199.997 2266.09,195.309 2277.4,199.997 2282.09,211.309 2277.4,222.621 \n",
       "  \"/>\n",
       "<polygon clip-path=\"url(#clip2001)\" points=\"\n",
       "443.82,251.724 1077.07,251.724 1077.07,130.764 443.82,130.764 \n",
       "  \" fill=\"#ffffff\" fill-rule=\"evenodd\" fill-opacity=\"1\"/>\n",
       "<polyline clip-path=\"url(#clip2001)\" style=\"stroke:#000000; stroke-width:4; stroke-opacity:1; fill:none\" points=\"\n",
       "  443.82,251.724 1077.07,251.724 1077.07,130.764 443.82,130.764 443.82,251.724 \n",
       "  \"/>\n",
       "<polyline clip-path=\"url(#clip2001)\" style=\"stroke:#ff0000; stroke-width:4; stroke-opacity:1; fill:none\" points=\"\n",
       "  467.82,191.244 611.82,191.244 \n",
       "  \"/>\n",
       "<polygon clip-path=\"url(#clip2001)\" style=\"fill:#000000; fill-opacity:1\" points=\"\n",
       "  551.82,219.244 532.024,211.04 523.82,191.244 532.024,171.448 551.82,163.244 571.616,171.448 579.82,191.244 571.616,211.04 \n",
       "  \"/>\n",
       "<polygon clip-path=\"url(#clip2001)\" style=\"fill:#ff0000; fill-opacity:1\" points=\"\n",
       "  551.82,215.244 534.852,208.212 527.82,191.244 534.852,174.276 551.82,167.244 568.788,174.276 575.82,191.244 568.788,208.212 \n",
       "  \"/>\n",
       "<g clip-path=\"url(#clip2001)\">\n",
       "<text style=\"fill:#000000; fill-opacity:1; font-family:Arial,Helvetica Neue,Helvetica,sans-serif; font-size:48px; text-anchor:start;\" transform=\"rotate(0, 635.82, 208.744)\" x=\"635.82\" y=\"208.744\">emisiones energía</text>\n",
       "</g>\n",
       "</svg>\n"
      ]
     },
     "execution_count": 186,
     "metadata": {},
     "output_type": "execute_result"
    }
   ],
   "source": [
    "plot(datos_energía[:año], datos_energía[:gases], \n",
    "    m=:o, label=\"emisiones energía\", leg=:topleft,\n",
    "    xlabel=\"año\", ylabel=\"emisión\",\n",
    "    c=:red)  # m = tipo de marcador; leg = leyenda"
   ]
  },
  {
   "cell_type": "code",
   "execution_count": 183,
   "metadata": {},
   "outputs": [],
   "source": [
    "savefig(\"emisiones.pdf\")"
   ]
  },
  {
   "cell_type": "code",
   "execution_count": 184,
   "metadata": {},
   "outputs": [
    {
     "name": "stdout",
     "output_type": "stream",
     "text": [
      "05. Estadistica de caminatas aleatorias.ipynb\n",
      "Applications\n",
      "Buscar bifurcaciones.ipynb\n",
      "Constraint examples.ipynb\n",
      "Desktop\n",
      "Documents\n",
      "Downloads\n",
      "Dropbox\n",
      "FisicaComputacional2019_3\n",
      "Function image using IntervalArithmetic.ipynb\n",
      "Hard root finding problem in 10D.ipynb\n",
      "Library\n",
      "MSEdge - Win10.ova\n",
      "MSEdge.Win10.VirtualBox (1).zip\n",
      "MSEdge.Win10.VirtualBox (1).zip.cpgz\n",
      "Mathematica_11.2.0_MAC_DM.dmg\n",
      "Movies\n",
      "Music\n",
      "Newton fractal.ipynb\n",
      "Pictures\n",
      "Proyecto Final Fermi-Pasta-Ulam Problem.ipynb\n",
      "Public\n",
      "Ren_et_al-2014-Numerical_Methods_for_Partial_Differential_Equations.pdf\n",
      "Taller Julia 1, jueves manana.ipynb\n",
      "Untitled.ipynb\n",
      "Untitled1.ipynb\n",
      "Untitled10.ipynb\n",
      "Untitled11.ipynb\n",
      "Untitled12.ipynb\n",
      "Untitled13.ipynb\n",
      "Untitled14.ipynb\n",
      "Untitled15.ipynb\n",
      "Untitled16.ipynb\n",
      "Untitled17.ipynb\n",
      "Untitled18.ipynb\n",
      "Untitled19.ipynb\n",
      "Untitled2.ipynb\n",
      "Untitled20.ipynb\n",
      "Untitled21.ipynb\n",
      "Untitled22.ipynb\n",
      "Untitled23.ipynb\n",
      "Untitled24.ipynb\n",
      "Untitled3.ipynb\n",
      "Untitled4.ipynb\n",
      "Untitled5.ipynb\n",
      "Untitled6.ipynb\n",
      "Untitled7.ipynb\n",
      "Untitled8.ipynb\n",
      "Untitled9.ipynb\n",
      "VirtualBox VMs\n",
      "development\n",
      "emisiones.pdf\n",
      "erfinv.ipynb\n",
      "hola.jl\n",
      "impresion_proyecto_marzo_15_09_55.pdf\n",
      "informe_de_comite_tutor.pdf\n",
      "informe_estudiante.pdf\n",
      "invernadero.csv\n",
      "julia-0.7.0-mac64.dmg\n",
      "julia-0.7.0-mac64.dmg.crdownload\n",
      "julia-1.0.0-mac64.dmg\n",
      "julia-1.0.0-mac64.dmg.crdownload\n",
      "julia-1.0.2-mac64.dmg\n",
      "julia-1.1.0-mac64.dmg\n",
      "octave\n",
      "octave-workspace\n",
      "octubre 8 - dibujar campos vectoriales.ipynb\n",
      "presentacion\n",
      "presentacion.zip\n",
      "tests.jl\n",
      "tutorialPlots\n",
      "tutorialPlots.zip\n"
     ]
    }
   ],
   "source": [
    "; ls"
   ]
  },
  {
   "cell_type": "code",
   "execution_count": 185,
   "metadata": {},
   "outputs": [],
   "source": [
    "; open emisiones.pdf"
   ]
  },
  {
   "cell_type": "code",
   "execution_count": 187,
   "metadata": {},
   "outputs": [
    {
     "name": "stdout",
     "output_type": "stream",
     "text": [
      "search: \u001b[0m\u001b[1md\u001b[22m\u001b[0m\u001b[1me\u001b[22m\u001b[0m\u001b[1ml\u001b[22m\u001b[0m\u001b[1me\u001b[22m\u001b[0m\u001b[1mt\u001b[22m\u001b[0m\u001b[1me\u001b[22m\u001b[0m\u001b[1mc\u001b[22m\u001b[0m\u001b[1mo\u001b[22m\u001b[0m\u001b[1ml\u001b[22m\u001b[0m\u001b[1ms\u001b[22m\u001b[0m\u001b[1m!\u001b[22m\n",
      "\n"
     ]
    },
    {
     "data": {
      "text/latex": [
       "\\begin{verbatim}\n",
       "deletecols!(df::DataFrame, ind)\n",
       "\\end{verbatim}\n",
       "Delete columns specified by \\texttt{ind} from a \\texttt{DataFrame} \\texttt{df} in place and return it.\n",
       "\n",
       "Argument \\texttt{ind} can be any index that is allowed for column indexing of a \\texttt{DataFrame} provided that the columns requested to be removed are unique.\n",
       "\n",
       "\\subsubsection{Examples}\n",
       "\\begin{verbatim}\n",
       "julia> d = DataFrame(a=1:3, b=4:6)\n",
       "3×2 DataFrame\n",
       "│ Row │ a     │ b     │\n",
       "│     │ Int64 │ Int64 │\n",
       "├─────┼───────┼───────┤\n",
       "│ 1   │ 1     │ 4     │\n",
       "│ 2   │ 2     │ 5     │\n",
       "│ 3   │ 3     │ 6     │\n",
       "\n",
       "julia> deletecols!(d, 1)\n",
       "3×1 DataFrame\n",
       "│ Row │ b     │\n",
       "│     │ Int64 │\n",
       "├─────┼───────┤\n",
       "│ 1   │ 4     │\n",
       "│ 2   │ 5     │\n",
       "│ 3   │ 6     │\n",
       "\\end{verbatim}\n"
      ],
      "text/markdown": [
       "```\n",
       "deletecols!(df::DataFrame, ind)\n",
       "```\n",
       "\n",
       "Delete columns specified by `ind` from a `DataFrame` `df` in place and return it.\n",
       "\n",
       "Argument `ind` can be any index that is allowed for column indexing of a `DataFrame` provided that the columns requested to be removed are unique.\n",
       "\n",
       "### Examples\n",
       "\n",
       "```jldoctest\n",
       "julia> d = DataFrame(a=1:3, b=4:6)\n",
       "3×2 DataFrame\n",
       "│ Row │ a     │ b     │\n",
       "│     │ Int64 │ Int64 │\n",
       "├─────┼───────┼───────┤\n",
       "│ 1   │ 1     │ 4     │\n",
       "│ 2   │ 2     │ 5     │\n",
       "│ 3   │ 3     │ 6     │\n",
       "\n",
       "julia> deletecols!(d, 1)\n",
       "3×1 DataFrame\n",
       "│ Row │ b     │\n",
       "│     │ Int64 │\n",
       "├─────┼───────┤\n",
       "│ 1   │ 4     │\n",
       "│ 2   │ 5     │\n",
       "│ 3   │ 6     │\n",
       "```\n"
      ],
      "text/plain": [
       "\u001b[36m  deletecols!(df::DataFrame, ind)\u001b[39m\n",
       "\n",
       "  Delete columns specified by \u001b[36mind\u001b[39m from a \u001b[36mDataFrame\u001b[39m \u001b[36mdf\u001b[39m in place and return it.\n",
       "\n",
       "  Argument \u001b[36mind\u001b[39m can be any index that is allowed for column indexing of a\n",
       "  \u001b[36mDataFrame\u001b[39m provided that the columns requested to be removed are unique.\n",
       "\n",
       "\u001b[1m  Examples\u001b[22m\n",
       "\u001b[1m  ––––––––––\u001b[22m\n",
       "\n",
       "\u001b[36m  julia> d = DataFrame(a=1:3, b=4:6)\u001b[39m\n",
       "\u001b[36m  3×2 DataFrame\u001b[39m\n",
       "\u001b[36m  │ Row │ a     │ b     │\u001b[39m\n",
       "\u001b[36m  │     │ Int64 │ Int64 │\u001b[39m\n",
       "\u001b[36m  ├─────┼───────┼───────┤\u001b[39m\n",
       "\u001b[36m  │ 1   │ 1     │ 4     │\u001b[39m\n",
       "\u001b[36m  │ 2   │ 2     │ 5     │\u001b[39m\n",
       "\u001b[36m  │ 3   │ 3     │ 6     │\u001b[39m\n",
       "\u001b[36m  \u001b[39m\n",
       "\u001b[36m  julia> deletecols!(d, 1)\u001b[39m\n",
       "\u001b[36m  3×1 DataFrame\u001b[39m\n",
       "\u001b[36m  │ Row │ b     │\u001b[39m\n",
       "\u001b[36m  │     │ Int64 │\u001b[39m\n",
       "\u001b[36m  ├─────┼───────┤\u001b[39m\n",
       "\u001b[36m  │ 1   │ 4     │\u001b[39m\n",
       "\u001b[36m  │ 2   │ 5     │\u001b[39m\n",
       "\u001b[36m  │ 3   │ 6     │\u001b[39m"
      ]
     },
     "execution_count": 187,
     "metadata": {},
     "output_type": "execute_result"
    }
   ],
   "source": [
    "?deletecols!"
   ]
  },
  {
   "cell_type": "code",
   "execution_count": 188,
   "metadata": {},
   "outputs": [
    {
     "data": {
      "text/plain": [
       "5-element Array{Union{Missing, String},1}:\n",
       " \"Energia\"                                            \n",
       " \"Procesos industriales\"                              \n",
       " \"Agricultura, silvicultura y otros usos de la tierra\"\n",
       " \"Residuos\"                                           \n",
       " \"Emisiones netas\"                                    "
      ]
     },
     "execution_count": 188,
     "metadata": {},
     "output_type": "execute_result"
    }
   ],
   "source": [
    "sectores"
   ]
  },
  {
   "cell_type": "code",
   "execution_count": 190,
   "metadata": {},
   "outputs": [
    {
     "data": {
      "text/html": [
       "<table class=\"data-frame\"><thead><tr><th></th><th>año</th><th>sector</th><th>gases</th></tr><tr><th></th><th>Int64⍰</th><th>String⍰</th><th>Int64⍰</th></tr></thead><tbody><p>26 rows × 3 columns</p><tr><th>1</th><td>1990</td><td>Residuos</td><td>12550</td></tr><tr><th>2</th><td>1991</td><td>Residuos</td><td>13766</td></tr><tr><th>3</th><td>1992</td><td>Residuos</td><td>15077</td></tr><tr><th>4</th><td>1993</td><td>Residuos</td><td>16526</td></tr><tr><th>5</th><td>1994</td><td>Residuos</td><td>17928</td></tr><tr><th>6</th><td>1995</td><td>Residuos</td><td>19191</td></tr><tr><th>7</th><td>1996</td><td>Residuos</td><td>20528</td></tr><tr><th>8</th><td>1997</td><td>Residuos</td><td>21922</td></tr><tr><th>9</th><td>1998</td><td>Residuos</td><td>22862</td></tr><tr><th>10</th><td>1999</td><td>Residuos</td><td>22869</td></tr><tr><th>11</th><td>2000</td><td>Residuos</td><td>23516</td></tr><tr><th>12</th><td>2001</td><td>Residuos</td><td>24619</td></tr><tr><th>13</th><td>2002</td><td>Residuos</td><td>25221</td></tr><tr><th>14</th><td>2003</td><td>Residuos</td><td>25836</td></tr><tr><th>15</th><td>2004</td><td>Residuos</td><td>25906</td></tr><tr><th>16</th><td>2005</td><td>Residuos</td><td>28514</td></tr><tr><th>17</th><td>2006</td><td>Residuos</td><td>30540</td></tr><tr><th>18</th><td>2007</td><td>Residuos</td><td>32897</td></tr><tr><th>19</th><td>2008</td><td>Residuos</td><td>35428</td></tr><tr><th>20</th><td>2009</td><td>Residuos</td><td>37752</td></tr><tr><th>21</th><td>2010</td><td>Residuos</td><td>39948</td></tr><tr><th>22</th><td>2011</td><td>Residuos</td><td>41290</td></tr><tr><th>23</th><td>2012</td><td>Residuos</td><td>42327</td></tr><tr><th>24</th><td>2013</td><td>Residuos</td><td>43553</td></tr><tr><th>25</th><td>2014</td><td>Residuos</td><td>44435</td></tr><tr><th>26</th><td>2015</td><td>Residuos</td><td>45909</td></tr></tbody></table>"
      ],
      "text/latex": [
       "\\begin{tabular}{r|ccc}\n",
       "\t& año & sector & gases\\\\\n",
       "\t\\hline\n",
       "\t& Int64⍰ & String⍰ & Int64⍰\\\\\n",
       "\t\\hline\n",
       "\t1 & 1990 & Residuos & 12550 \\\\\n",
       "\t2 & 1991 & Residuos & 13766 \\\\\n",
       "\t3 & 1992 & Residuos & 15077 \\\\\n",
       "\t4 & 1993 & Residuos & 16526 \\\\\n",
       "\t5 & 1994 & Residuos & 17928 \\\\\n",
       "\t6 & 1995 & Residuos & 19191 \\\\\n",
       "\t7 & 1996 & Residuos & 20528 \\\\\n",
       "\t8 & 1997 & Residuos & 21922 \\\\\n",
       "\t9 & 1998 & Residuos & 22862 \\\\\n",
       "\t10 & 1999 & Residuos & 22869 \\\\\n",
       "\t11 & 2000 & Residuos & 23516 \\\\\n",
       "\t12 & 2001 & Residuos & 24619 \\\\\n",
       "\t13 & 2002 & Residuos & 25221 \\\\\n",
       "\t14 & 2003 & Residuos & 25836 \\\\\n",
       "\t15 & 2004 & Residuos & 25906 \\\\\n",
       "\t16 & 2005 & Residuos & 28514 \\\\\n",
       "\t17 & 2006 & Residuos & 30540 \\\\\n",
       "\t18 & 2007 & Residuos & 32897 \\\\\n",
       "\t19 & 2008 & Residuos & 35428 \\\\\n",
       "\t20 & 2009 & Residuos & 37752 \\\\\n",
       "\t21 & 2010 & Residuos & 39948 \\\\\n",
       "\t22 & 2011 & Residuos & 41290 \\\\\n",
       "\t23 & 2012 & Residuos & 42327 \\\\\n",
       "\t24 & 2013 & Residuos & 43553 \\\\\n",
       "\t25 & 2014 & Residuos & 44435 \\\\\n",
       "\t26 & 2015 & Residuos & 45909 \\\\\n",
       "\\end{tabular}\n"
      ],
      "text/plain": [
       "26×3 DataFrame\n",
       "│ Row │ año    │ sector   │ gases  │\n",
       "│     │ \u001b[90mInt64⍰\u001b[39m │ \u001b[90mString⍰\u001b[39m  │ \u001b[90mInt64⍰\u001b[39m │\n",
       "├─────┼────────┼──────────┼────────┤\n",
       "│ 1   │ 1990   │ Residuos │ 12550  │\n",
       "│ 2   │ 1991   │ Residuos │ 13766  │\n",
       "│ 3   │ 1992   │ Residuos │ 15077  │\n",
       "│ 4   │ 1993   │ Residuos │ 16526  │\n",
       "│ 5   │ 1994   │ Residuos │ 17928  │\n",
       "│ 6   │ 1995   │ Residuos │ 19191  │\n",
       "│ 7   │ 1996   │ Residuos │ 20528  │\n",
       "│ 8   │ 1997   │ Residuos │ 21922  │\n",
       "│ 9   │ 1998   │ Residuos │ 22862  │\n",
       "│ 10  │ 1999   │ Residuos │ 22869  │\n",
       "⋮\n",
       "│ 16  │ 2005   │ Residuos │ 28514  │\n",
       "│ 17  │ 2006   │ Residuos │ 30540  │\n",
       "│ 18  │ 2007   │ Residuos │ 32897  │\n",
       "│ 19  │ 2008   │ Residuos │ 35428  │\n",
       "│ 20  │ 2009   │ Residuos │ 37752  │\n",
       "│ 21  │ 2010   │ Residuos │ 39948  │\n",
       "│ 22  │ 2011   │ Residuos │ 41290  │\n",
       "│ 23  │ 2012   │ Residuos │ 42327  │\n",
       "│ 24  │ 2013   │ Residuos │ 43553  │\n",
       "│ 25  │ 2014   │ Residuos │ 44435  │\n",
       "│ 26  │ 2015   │ Residuos │ 45909  │"
      ]
     },
     "execution_count": 190,
     "metadata": {},
     "output_type": "execute_result"
    }
   ],
   "source": [
    "datos_residuos = datos[ datos[2] .== sectores[4], :]"
   ]
  },
  {
   "cell_type": "code",
   "execution_count": 196,
   "metadata": {},
   "outputs": [
    {
     "data": {
      "image/svg+xml": [
       "<?xml version=\"1.0\" encoding=\"utf-8\"?>\n",
       "<svg xmlns=\"http://www.w3.org/2000/svg\" xmlns:xlink=\"http://www.w3.org/1999/xlink\" width=\"600\" height=\"400\" viewBox=\"0 0 2400 1600\">\n",
       "<defs>\n",
       "  <clipPath id=\"clip3200\">\n",
       "    <rect x=\"0\" y=\"0\" width=\"2000\" height=\"2000\"/>\n",
       "  </clipPath>\n",
       "</defs>\n",
       "<defs>\n",
       "  <clipPath id=\"clip3201\">\n",
       "    <rect x=\"0\" y=\"0\" width=\"2400\" height=\"1600\"/>\n",
       "  </clipPath>\n",
       "</defs>\n",
       "<polygon clip-path=\"url(#clip3201)\" points=\"\n",
       "0,1600 2400,1600 2400,0 0,0 \n",
       "  \" fill=\"#ffffff\" fill-rule=\"evenodd\" fill-opacity=\"1\"/>\n",
       "<defs>\n",
       "  <clipPath id=\"clip3202\">\n",
       "    <rect x=\"480\" y=\"0\" width=\"1681\" height=\"1600\"/>\n",
       "  </clipPath>\n",
       "</defs>\n",
       "<polygon clip-path=\"url(#clip3201)\" points=\"\n",
       "331.676,1440.48 2321.26,1440.48 2321.26,47.2441 331.676,47.2441 \n",
       "  \" fill=\"#ffffff\" fill-rule=\"evenodd\" fill-opacity=\"1\"/>\n",
       "<defs>\n",
       "  <clipPath id=\"clip3203\">\n",
       "    <rect x=\"331\" y=\"47\" width=\"1991\" height=\"1394\"/>\n",
       "  </clipPath>\n",
       "</defs>\n",
       "<polyline clip-path=\"url(#clip3203)\" style=\"stroke:#000000; stroke-width:2; stroke-opacity:0.1; fill:none\" points=\"\n",
       "  387.985,1440.48 387.985,47.2441 \n",
       "  \"/>\n",
       "<polyline clip-path=\"url(#clip3203)\" style=\"stroke:#000000; stroke-width:2; stroke-opacity:0.1; fill:none\" points=\"\n",
       "  763.378,1440.48 763.378,47.2441 \n",
       "  \"/>\n",
       "<polyline clip-path=\"url(#clip3203)\" style=\"stroke:#000000; stroke-width:2; stroke-opacity:0.1; fill:none\" points=\"\n",
       "  1138.77,1440.48 1138.77,47.2441 \n",
       "  \"/>\n",
       "<polyline clip-path=\"url(#clip3203)\" style=\"stroke:#000000; stroke-width:2; stroke-opacity:0.1; fill:none\" points=\"\n",
       "  1514.16,1440.48 1514.16,47.2441 \n",
       "  \"/>\n",
       "<polyline clip-path=\"url(#clip3203)\" style=\"stroke:#000000; stroke-width:2; stroke-opacity:0.1; fill:none\" points=\"\n",
       "  1889.56,1440.48 1889.56,47.2441 \n",
       "  \"/>\n",
       "<polyline clip-path=\"url(#clip3203)\" style=\"stroke:#000000; stroke-width:2; stroke-opacity:0.1; fill:none\" points=\"\n",
       "  2264.95,1440.48 2264.95,47.2441 \n",
       "  \"/>\n",
       "<polyline clip-path=\"url(#clip3203)\" style=\"stroke:#000000; stroke-width:2; stroke-opacity:0.1; fill:none\" points=\"\n",
       "  331.676,1434.91 2321.26,1434.91 \n",
       "  \"/>\n",
       "<polyline clip-path=\"url(#clip3203)\" style=\"stroke:#000000; stroke-width:2; stroke-opacity:0.1; fill:none\" points=\"\n",
       "  331.676,1165.09 2321.26,1165.09 \n",
       "  \"/>\n",
       "<polyline clip-path=\"url(#clip3203)\" style=\"stroke:#000000; stroke-width:2; stroke-opacity:0.1; fill:none\" points=\"\n",
       "  331.676,895.266 2321.26,895.266 \n",
       "  \"/>\n",
       "<polyline clip-path=\"url(#clip3203)\" style=\"stroke:#000000; stroke-width:2; stroke-opacity:0.1; fill:none\" points=\"\n",
       "  331.676,625.442 2321.26,625.442 \n",
       "  \"/>\n",
       "<polyline clip-path=\"url(#clip3203)\" style=\"stroke:#000000; stroke-width:2; stroke-opacity:0.1; fill:none\" points=\"\n",
       "  331.676,355.617 2321.26,355.617 \n",
       "  \"/>\n",
       "<polyline clip-path=\"url(#clip3203)\" style=\"stroke:#000000; stroke-width:2; stroke-opacity:0.1; fill:none\" points=\"\n",
       "  331.676,85.793 2321.26,85.793 \n",
       "  \"/>\n",
       "<polyline clip-path=\"url(#clip3201)\" style=\"stroke:#000000; stroke-width:4; stroke-opacity:1; fill:none\" points=\"\n",
       "  331.676,1440.48 2321.26,1440.48 \n",
       "  \"/>\n",
       "<polyline clip-path=\"url(#clip3201)\" style=\"stroke:#000000; stroke-width:4; stroke-opacity:1; fill:none\" points=\"\n",
       "  331.676,1440.48 331.676,47.2441 \n",
       "  \"/>\n",
       "<polyline clip-path=\"url(#clip3201)\" style=\"stroke:#000000; stroke-width:4; stroke-opacity:1; fill:none\" points=\"\n",
       "  387.985,1440.48 387.985,1419.58 \n",
       "  \"/>\n",
       "<polyline clip-path=\"url(#clip3201)\" style=\"stroke:#000000; stroke-width:4; stroke-opacity:1; fill:none\" points=\"\n",
       "  763.378,1440.48 763.378,1419.58 \n",
       "  \"/>\n",
       "<polyline clip-path=\"url(#clip3201)\" style=\"stroke:#000000; stroke-width:4; stroke-opacity:1; fill:none\" points=\"\n",
       "  1138.77,1440.48 1138.77,1419.58 \n",
       "  \"/>\n",
       "<polyline clip-path=\"url(#clip3201)\" style=\"stroke:#000000; stroke-width:4; stroke-opacity:1; fill:none\" points=\"\n",
       "  1514.16,1440.48 1514.16,1419.58 \n",
       "  \"/>\n",
       "<polyline clip-path=\"url(#clip3201)\" style=\"stroke:#000000; stroke-width:4; stroke-opacity:1; fill:none\" points=\"\n",
       "  1889.56,1440.48 1889.56,1419.58 \n",
       "  \"/>\n",
       "<polyline clip-path=\"url(#clip3201)\" style=\"stroke:#000000; stroke-width:4; stroke-opacity:1; fill:none\" points=\"\n",
       "  2264.95,1440.48 2264.95,1419.58 \n",
       "  \"/>\n",
       "<polyline clip-path=\"url(#clip3201)\" style=\"stroke:#000000; stroke-width:4; stroke-opacity:1; fill:none\" points=\"\n",
       "  331.676,1434.91 361.52,1434.91 \n",
       "  \"/>\n",
       "<polyline clip-path=\"url(#clip3201)\" style=\"stroke:#000000; stroke-width:4; stroke-opacity:1; fill:none\" points=\"\n",
       "  331.676,1165.09 361.52,1165.09 \n",
       "  \"/>\n",
       "<polyline clip-path=\"url(#clip3201)\" style=\"stroke:#000000; stroke-width:4; stroke-opacity:1; fill:none\" points=\"\n",
       "  331.676,895.266 361.52,895.266 \n",
       "  \"/>\n",
       "<polyline clip-path=\"url(#clip3201)\" style=\"stroke:#000000; stroke-width:4; stroke-opacity:1; fill:none\" points=\"\n",
       "  331.676,625.442 361.52,625.442 \n",
       "  \"/>\n",
       "<polyline clip-path=\"url(#clip3201)\" style=\"stroke:#000000; stroke-width:4; stroke-opacity:1; fill:none\" points=\"\n",
       "  331.676,355.617 361.52,355.617 \n",
       "  \"/>\n",
       "<polyline clip-path=\"url(#clip3201)\" style=\"stroke:#000000; stroke-width:4; stroke-opacity:1; fill:none\" points=\"\n",
       "  331.676,85.793 361.52,85.793 \n",
       "  \"/>\n",
       "<g clip-path=\"url(#clip3201)\">\n",
       "<text style=\"fill:#000000; fill-opacity:1; font-family:Arial,Helvetica Neue,Helvetica,sans-serif; font-size:48px; text-anchor:middle;\" transform=\"rotate(0, 387.985, 1494.48)\" x=\"387.985\" y=\"1494.48\">1990</text>\n",
       "</g>\n",
       "<g clip-path=\"url(#clip3201)\">\n",
       "<text style=\"fill:#000000; fill-opacity:1; font-family:Arial,Helvetica Neue,Helvetica,sans-serif; font-size:48px; text-anchor:middle;\" transform=\"rotate(0, 763.378, 1494.48)\" x=\"763.378\" y=\"1494.48\">1995</text>\n",
       "</g>\n",
       "<g clip-path=\"url(#clip3201)\">\n",
       "<text style=\"fill:#000000; fill-opacity:1; font-family:Arial,Helvetica Neue,Helvetica,sans-serif; font-size:48px; text-anchor:middle;\" transform=\"rotate(0, 1138.77, 1494.48)\" x=\"1138.77\" y=\"1494.48\">2000</text>\n",
       "</g>\n",
       "<g clip-path=\"url(#clip3201)\">\n",
       "<text style=\"fill:#000000; fill-opacity:1; font-family:Arial,Helvetica Neue,Helvetica,sans-serif; font-size:48px; text-anchor:middle;\" transform=\"rotate(0, 1514.16, 1494.48)\" x=\"1514.16\" y=\"1494.48\">2005</text>\n",
       "</g>\n",
       "<g clip-path=\"url(#clip3201)\">\n",
       "<text style=\"fill:#000000; fill-opacity:1; font-family:Arial,Helvetica Neue,Helvetica,sans-serif; font-size:48px; text-anchor:middle;\" transform=\"rotate(0, 1889.56, 1494.48)\" x=\"1889.56\" y=\"1494.48\">2010</text>\n",
       "</g>\n",
       "<g clip-path=\"url(#clip3201)\">\n",
       "<text style=\"fill:#000000; fill-opacity:1; font-family:Arial,Helvetica Neue,Helvetica,sans-serif; font-size:48px; text-anchor:middle;\" transform=\"rotate(0, 2264.95, 1494.48)\" x=\"2264.95\" y=\"1494.48\">2015</text>\n",
       "</g>\n",
       "<g clip-path=\"url(#clip3201)\">\n",
       "<text style=\"fill:#000000; fill-opacity:1; font-family:Arial,Helvetica Neue,Helvetica,sans-serif; font-size:48px; text-anchor:end;\" transform=\"rotate(0, 307.676, 1452.41)\" x=\"307.676\" y=\"1452.41\">0</text>\n",
       "</g>\n",
       "<g clip-path=\"url(#clip3201)\">\n",
       "<text style=\"fill:#000000; fill-opacity:1; font-family:Arial,Helvetica Neue,Helvetica,sans-serif; font-size:48px; text-anchor:start;\" transform=\"rotate(0, 177.535, 1188.82)\" x=\"177.535\" y=\"1188.82\">1×10</text>\n",
       "</g>\n",
       "<g clip-path=\"url(#clip3201)\">\n",
       "<text style=\"fill:#000000; fill-opacity:1; font-family:Arial,Helvetica Neue,Helvetica,sans-serif; font-size:38px; text-anchor:start;\" transform=\"rotate(0, 285.932, 1161.41)\" x=\"285.932\" y=\"1161.41\">5</text>\n",
       "</g>\n",
       "<g clip-path=\"url(#clip3201)\">\n",
       "<text style=\"fill:#000000; fill-opacity:1; font-family:Arial,Helvetica Neue,Helvetica,sans-serif; font-size:48px; text-anchor:start;\" transform=\"rotate(0, 177.535, 918.993)\" x=\"177.535\" y=\"918.993\">2×10</text>\n",
       "</g>\n",
       "<g clip-path=\"url(#clip3201)\">\n",
       "<text style=\"fill:#000000; fill-opacity:1; font-family:Arial,Helvetica Neue,Helvetica,sans-serif; font-size:38px; text-anchor:start;\" transform=\"rotate(0, 285.932, 891.583)\" x=\"285.932\" y=\"891.583\">5</text>\n",
       "</g>\n",
       "<g clip-path=\"url(#clip3201)\">\n",
       "<text style=\"fill:#000000; fill-opacity:1; font-family:Arial,Helvetica Neue,Helvetica,sans-serif; font-size:48px; text-anchor:start;\" transform=\"rotate(0, 177.535, 649.169)\" x=\"177.535\" y=\"649.169\">3×10</text>\n",
       "</g>\n",
       "<g clip-path=\"url(#clip3201)\">\n",
       "<text style=\"fill:#000000; fill-opacity:1; font-family:Arial,Helvetica Neue,Helvetica,sans-serif; font-size:38px; text-anchor:start;\" transform=\"rotate(0, 285.932, 621.759)\" x=\"285.932\" y=\"621.759\">5</text>\n",
       "</g>\n",
       "<g clip-path=\"url(#clip3201)\">\n",
       "<text style=\"fill:#000000; fill-opacity:1; font-family:Arial,Helvetica Neue,Helvetica,sans-serif; font-size:48px; text-anchor:start;\" transform=\"rotate(0, 177.535, 379.345)\" x=\"177.535\" y=\"379.345\">4×10</text>\n",
       "</g>\n",
       "<g clip-path=\"url(#clip3201)\">\n",
       "<text style=\"fill:#000000; fill-opacity:1; font-family:Arial,Helvetica Neue,Helvetica,sans-serif; font-size:38px; text-anchor:start;\" transform=\"rotate(0, 285.932, 351.934)\" x=\"285.932\" y=\"351.934\">5</text>\n",
       "</g>\n",
       "<g clip-path=\"url(#clip3201)\">\n",
       "<text style=\"fill:#000000; fill-opacity:1; font-family:Arial,Helvetica Neue,Helvetica,sans-serif; font-size:48px; text-anchor:start;\" transform=\"rotate(0, 177.535, 109.521)\" x=\"177.535\" y=\"109.521\">5×10</text>\n",
       "</g>\n",
       "<g clip-path=\"url(#clip3201)\">\n",
       "<text style=\"fill:#000000; fill-opacity:1; font-family:Arial,Helvetica Neue,Helvetica,sans-serif; font-size:38px; text-anchor:start;\" transform=\"rotate(0, 285.932, 82.1102)\" x=\"285.932\" y=\"82.1102\">5</text>\n",
       "</g>\n",
       "<g clip-path=\"url(#clip3201)\">\n",
       "<text style=\"fill:#000000; fill-opacity:1; font-family:Arial,Helvetica Neue,Helvetica,sans-serif; font-size:66px; text-anchor:middle;\" transform=\"rotate(0, 1326.47, 1590.4)\" x=\"1326.47\" y=\"1590.4\">año</text>\n",
       "</g>\n",
       "<g clip-path=\"url(#clip3201)\">\n",
       "<text style=\"fill:#000000; fill-opacity:1; font-family:Arial,Helvetica Neue,Helvetica,sans-serif; font-size:66px; text-anchor:middle;\" transform=\"rotate(-90, 57.6, 743.863)\" x=\"57.6\" y=\"743.863\">emisión</text>\n",
       "</g>\n",
       "<polyline clip-path=\"url(#clip3203)\" style=\"stroke:#009af9; stroke-width:4; stroke-opacity:1; fill:none\" points=\"\n",
       "  387.985,621.467 463.064,590.658 538.142,587.318 613.221,583.114 688.3,535.005 763.378,562.926 838.457,512.455 913.536,454.257 988.614,395.036 1063.69,425.888 \n",
       "  1138.77,408.84 1213.85,417.844 1288.93,367.098 1364.01,369.273 1439.09,351.508 1514.16,319.922 1589.24,270.555 1664.32,201.011 1739.4,86.6754 1814.48,144.709 \n",
       "  1889.56,166.816 1964.64,151.101 2039.71,173.435 2114.79,156.587 2189.87,165.081 2264.95,137.386 \n",
       "  \"/>\n",
       "<polygon clip-path=\"url(#clip3203)\" style=\"fill:#000000; fill-opacity:1\" points=\"\n",
       "  387.985,641.467 373.845,635.607 367.985,621.467 373.845,607.327 387.985,601.467 402.125,607.327 407.985,621.467 402.125,635.607 \n",
       "  \"/>\n",
       "<polygon clip-path=\"url(#clip3203)\" style=\"fill:#009af9; fill-opacity:1\" points=\"\n",
       "  387.985,637.467 376.673,632.779 371.985,621.467 376.673,610.155 387.985,605.467 399.297,610.155 403.985,621.467 399.297,632.779 \n",
       "  \"/>\n",
       "<polygon clip-path=\"url(#clip3203)\" style=\"fill:#000000; fill-opacity:1\" points=\"\n",
       "  463.064,610.658 448.924,604.798 443.064,590.658 448.924,576.518 463.064,570.658 477.204,576.518 483.064,590.658 477.204,604.798 \n",
       "  \"/>\n",
       "<polygon clip-path=\"url(#clip3203)\" style=\"fill:#009af9; fill-opacity:1\" points=\"\n",
       "  463.064,606.658 451.752,601.97 447.064,590.658 451.752,579.346 463.064,574.658 474.376,579.346 479.064,590.658 474.376,601.97 \n",
       "  \"/>\n",
       "<polygon clip-path=\"url(#clip3203)\" style=\"fill:#000000; fill-opacity:1\" points=\"\n",
       "  538.142,607.318 524.002,601.458 518.142,587.318 524.002,573.178 538.142,567.318 552.282,573.178 558.142,587.318 552.282,601.458 \n",
       "  \"/>\n",
       "<polygon clip-path=\"url(#clip3203)\" style=\"fill:#009af9; fill-opacity:1\" points=\"\n",
       "  538.142,603.318 526.83,598.63 522.142,587.318 526.83,576.006 538.142,571.318 549.454,576.006 554.142,587.318 549.454,598.63 \n",
       "  \"/>\n",
       "<polygon clip-path=\"url(#clip3203)\" style=\"fill:#000000; fill-opacity:1\" points=\"\n",
       "  613.221,603.114 599.081,597.254 593.221,583.114 599.081,568.974 613.221,563.114 627.361,568.974 633.221,583.114 627.361,597.254 \n",
       "  \"/>\n",
       "<polygon clip-path=\"url(#clip3203)\" style=\"fill:#009af9; fill-opacity:1\" points=\"\n",
       "  613.221,599.114 601.909,594.426 597.221,583.114 601.909,571.802 613.221,567.114 624.533,571.802 629.221,583.114 624.533,594.426 \n",
       "  \"/>\n",
       "<polygon clip-path=\"url(#clip3203)\" style=\"fill:#000000; fill-opacity:1\" points=\"\n",
       "  688.3,555.005 674.16,549.145 668.3,535.005 674.16,520.865 688.3,515.005 702.44,520.865 708.3,535.005 702.44,549.145 \n",
       "  \"/>\n",
       "<polygon clip-path=\"url(#clip3203)\" style=\"fill:#009af9; fill-opacity:1\" points=\"\n",
       "  688.3,551.005 676.988,546.317 672.3,535.005 676.988,523.693 688.3,519.005 699.612,523.693 704.3,535.005 699.612,546.317 \n",
       "  \"/>\n",
       "<polygon clip-path=\"url(#clip3203)\" style=\"fill:#000000; fill-opacity:1\" points=\"\n",
       "  763.378,582.926 749.238,577.066 743.378,562.926 749.238,548.786 763.378,542.926 777.518,548.786 783.378,562.926 777.518,577.066 \n",
       "  \"/>\n",
       "<polygon clip-path=\"url(#clip3203)\" style=\"fill:#009af9; fill-opacity:1\" points=\"\n",
       "  763.378,578.926 752.066,574.238 747.378,562.926 752.066,551.614 763.378,546.926 774.69,551.614 779.378,562.926 774.69,574.238 \n",
       "  \"/>\n",
       "<polygon clip-path=\"url(#clip3203)\" style=\"fill:#000000; fill-opacity:1\" points=\"\n",
       "  838.457,532.455 824.317,526.595 818.457,512.455 824.317,498.315 838.457,492.455 852.597,498.315 858.457,512.455 852.597,526.595 \n",
       "  \"/>\n",
       "<polygon clip-path=\"url(#clip3203)\" style=\"fill:#009af9; fill-opacity:1\" points=\"\n",
       "  838.457,528.455 827.145,523.767 822.457,512.455 827.145,501.143 838.457,496.455 849.769,501.143 854.457,512.455 849.769,523.767 \n",
       "  \"/>\n",
       "<polygon clip-path=\"url(#clip3203)\" style=\"fill:#000000; fill-opacity:1\" points=\"\n",
       "  913.536,474.257 899.396,468.397 893.536,454.257 899.396,440.117 913.536,434.257 927.676,440.117 933.536,454.257 927.676,468.397 \n",
       "  \"/>\n",
       "<polygon clip-path=\"url(#clip3203)\" style=\"fill:#009af9; fill-opacity:1\" points=\"\n",
       "  913.536,470.257 902.224,465.569 897.536,454.257 902.224,442.945 913.536,438.257 924.848,442.945 929.536,454.257 924.848,465.569 \n",
       "  \"/>\n",
       "<polygon clip-path=\"url(#clip3203)\" style=\"fill:#000000; fill-opacity:1\" points=\"\n",
       "  988.614,415.036 974.474,409.176 968.614,395.036 974.474,380.896 988.614,375.036 1002.75,380.896 1008.61,395.036 1002.75,409.176 \n",
       "  \"/>\n",
       "<polygon clip-path=\"url(#clip3203)\" style=\"fill:#009af9; fill-opacity:1\" points=\"\n",
       "  988.614,411.036 977.302,406.348 972.614,395.036 977.302,383.724 988.614,379.036 999.926,383.724 1004.61,395.036 999.926,406.348 \n",
       "  \"/>\n",
       "<polygon clip-path=\"url(#clip3203)\" style=\"fill:#000000; fill-opacity:1\" points=\"\n",
       "  1063.69,445.888 1049.55,440.028 1043.69,425.888 1049.55,411.748 1063.69,405.888 1077.83,411.748 1083.69,425.888 1077.83,440.028 \n",
       "  \"/>\n",
       "<polygon clip-path=\"url(#clip3203)\" style=\"fill:#009af9; fill-opacity:1\" points=\"\n",
       "  1063.69,441.888 1052.38,437.2 1047.69,425.888 1052.38,414.576 1063.69,409.888 1075,414.576 1079.69,425.888 1075,437.2 \n",
       "  \"/>\n",
       "<polygon clip-path=\"url(#clip3203)\" style=\"fill:#000000; fill-opacity:1\" points=\"\n",
       "  1138.77,428.84 1124.63,422.98 1118.77,408.84 1124.63,394.7 1138.77,388.84 1152.91,394.7 1158.77,408.84 1152.91,422.98 \n",
       "  \"/>\n",
       "<polygon clip-path=\"url(#clip3203)\" style=\"fill:#009af9; fill-opacity:1\" points=\"\n",
       "  1138.77,424.84 1127.46,420.152 1122.77,408.84 1127.46,397.528 1138.77,392.84 1150.08,397.528 1154.77,408.84 1150.08,420.152 \n",
       "  \"/>\n",
       "<polygon clip-path=\"url(#clip3203)\" style=\"fill:#000000; fill-opacity:1\" points=\"\n",
       "  1213.85,437.844 1199.71,431.984 1193.85,417.844 1199.71,403.704 1213.85,397.844 1227.99,403.704 1233.85,417.844 1227.99,431.984 \n",
       "  \"/>\n",
       "<polygon clip-path=\"url(#clip3203)\" style=\"fill:#009af9; fill-opacity:1\" points=\"\n",
       "  1213.85,433.844 1202.54,429.156 1197.85,417.844 1202.54,406.532 1213.85,401.844 1225.16,406.532 1229.85,417.844 1225.16,429.156 \n",
       "  \"/>\n",
       "<polygon clip-path=\"url(#clip3203)\" style=\"fill:#000000; fill-opacity:1\" points=\"\n",
       "  1288.93,387.098 1274.79,381.238 1268.93,367.098 1274.79,352.958 1288.93,347.098 1303.07,352.958 1308.93,367.098 1303.07,381.238 \n",
       "  \"/>\n",
       "<polygon clip-path=\"url(#clip3203)\" style=\"fill:#009af9; fill-opacity:1\" points=\"\n",
       "  1288.93,383.098 1277.62,378.41 1272.93,367.098 1277.62,355.786 1288.93,351.098 1300.24,355.786 1304.93,367.098 1300.24,378.41 \n",
       "  \"/>\n",
       "<polygon clip-path=\"url(#clip3203)\" style=\"fill:#000000; fill-opacity:1\" points=\"\n",
       "  1364.01,389.273 1349.87,383.413 1344.01,369.273 1349.87,355.133 1364.01,349.273 1378.15,355.133 1384.01,369.273 1378.15,383.413 \n",
       "  \"/>\n",
       "<polygon clip-path=\"url(#clip3203)\" style=\"fill:#009af9; fill-opacity:1\" points=\"\n",
       "  1364.01,385.273 1352.7,380.585 1348.01,369.273 1352.7,357.961 1364.01,353.273 1375.32,357.961 1380.01,369.273 1375.32,380.585 \n",
       "  \"/>\n",
       "<polygon clip-path=\"url(#clip3203)\" style=\"fill:#000000; fill-opacity:1\" points=\"\n",
       "  1439.09,371.508 1424.95,365.648 1419.09,351.508 1424.95,337.368 1439.09,331.508 1453.23,337.368 1459.09,351.508 1453.23,365.648 \n",
       "  \"/>\n",
       "<polygon clip-path=\"url(#clip3203)\" style=\"fill:#009af9; fill-opacity:1\" points=\"\n",
       "  1439.09,367.508 1427.77,362.82 1423.09,351.508 1427.77,340.196 1439.09,335.508 1450.4,340.196 1455.09,351.508 1450.4,362.82 \n",
       "  \"/>\n",
       "<polygon clip-path=\"url(#clip3203)\" style=\"fill:#000000; fill-opacity:1\" points=\"\n",
       "  1514.16,339.922 1500.02,334.062 1494.16,319.922 1500.02,305.782 1514.16,299.922 1528.3,305.782 1534.16,319.922 1528.3,334.062 \n",
       "  \"/>\n",
       "<polygon clip-path=\"url(#clip3203)\" style=\"fill:#009af9; fill-opacity:1\" points=\"\n",
       "  1514.16,335.922 1502.85,331.234 1498.16,319.922 1502.85,308.61 1514.16,303.922 1525.48,308.61 1530.16,319.922 1525.48,331.234 \n",
       "  \"/>\n",
       "<polygon clip-path=\"url(#clip3203)\" style=\"fill:#000000; fill-opacity:1\" points=\"\n",
       "  1589.24,290.555 1575.1,284.695 1569.24,270.555 1575.1,256.415 1589.24,250.555 1603.38,256.415 1609.24,270.555 1603.38,284.695 \n",
       "  \"/>\n",
       "<polygon clip-path=\"url(#clip3203)\" style=\"fill:#009af9; fill-opacity:1\" points=\"\n",
       "  1589.24,286.555 1577.93,281.867 1573.24,270.555 1577.93,259.243 1589.24,254.555 1600.56,259.243 1605.24,270.555 1600.56,281.867 \n",
       "  \"/>\n",
       "<polygon clip-path=\"url(#clip3203)\" style=\"fill:#000000; fill-opacity:1\" points=\"\n",
       "  1664.32,221.011 1650.18,215.151 1644.32,201.011 1650.18,186.871 1664.32,181.011 1678.46,186.871 1684.32,201.011 1678.46,215.151 \n",
       "  \"/>\n",
       "<polygon clip-path=\"url(#clip3203)\" style=\"fill:#009af9; fill-opacity:1\" points=\"\n",
       "  1664.32,217.011 1653.01,212.323 1648.32,201.011 1653.01,189.699 1664.32,185.011 1675.63,189.699 1680.32,201.011 1675.63,212.323 \n",
       "  \"/>\n",
       "<polygon clip-path=\"url(#clip3203)\" style=\"fill:#000000; fill-opacity:1\" points=\"\n",
       "  1739.4,106.675 1725.26,100.815 1719.4,86.6754 1725.26,72.5354 1739.4,66.6754 1753.54,72.5354 1759.4,86.6754 1753.54,100.815 \n",
       "  \"/>\n",
       "<polygon clip-path=\"url(#clip3203)\" style=\"fill:#009af9; fill-opacity:1\" points=\"\n",
       "  1739.4,102.675 1728.09,97.9874 1723.4,86.6754 1728.09,75.3634 1739.4,70.6754 1750.71,75.3634 1755.4,86.6754 1750.71,97.9874 \n",
       "  \"/>\n",
       "<polygon clip-path=\"url(#clip3203)\" style=\"fill:#000000; fill-opacity:1\" points=\"\n",
       "  1814.48,164.709 1800.34,158.849 1794.48,144.709 1800.34,130.569 1814.48,124.709 1828.62,130.569 1834.48,144.709 1828.62,158.849 \n",
       "  \"/>\n",
       "<polygon clip-path=\"url(#clip3203)\" style=\"fill:#009af9; fill-opacity:1\" points=\"\n",
       "  1814.48,160.709 1803.17,156.021 1798.48,144.709 1803.17,133.397 1814.48,128.709 1825.79,133.397 1830.48,144.709 1825.79,156.021 \n",
       "  \"/>\n",
       "<polygon clip-path=\"url(#clip3203)\" style=\"fill:#000000; fill-opacity:1\" points=\"\n",
       "  1889.56,186.816 1875.42,180.956 1869.56,166.816 1875.42,152.676 1889.56,146.816 1903.7,152.676 1909.56,166.816 1903.7,180.956 \n",
       "  \"/>\n",
       "<polygon clip-path=\"url(#clip3203)\" style=\"fill:#009af9; fill-opacity:1\" points=\"\n",
       "  1889.56,182.816 1878.25,178.128 1873.56,166.816 1878.25,155.504 1889.56,150.816 1900.87,155.504 1905.56,166.816 1900.87,178.128 \n",
       "  \"/>\n",
       "<polygon clip-path=\"url(#clip3203)\" style=\"fill:#000000; fill-opacity:1\" points=\"\n",
       "  1964.64,171.101 1950.5,165.241 1944.64,151.101 1950.5,136.961 1964.64,131.101 1978.78,136.961 1984.64,151.101 1978.78,165.241 \n",
       "  \"/>\n",
       "<polygon clip-path=\"url(#clip3203)\" style=\"fill:#009af9; fill-opacity:1\" points=\"\n",
       "  1964.64,167.101 1953.32,162.413 1948.64,151.101 1953.32,139.789 1964.64,135.101 1975.95,139.789 1980.64,151.101 1975.95,162.413 \n",
       "  \"/>\n",
       "<polygon clip-path=\"url(#clip3203)\" style=\"fill:#000000; fill-opacity:1\" points=\"\n",
       "  2039.71,193.435 2025.57,187.575 2019.71,173.435 2025.57,159.295 2039.71,153.435 2053.85,159.295 2059.71,173.435 2053.85,187.575 \n",
       "  \"/>\n",
       "<polygon clip-path=\"url(#clip3203)\" style=\"fill:#009af9; fill-opacity:1\" points=\"\n",
       "  2039.71,189.435 2028.4,184.747 2023.71,173.435 2028.4,162.123 2039.71,157.435 2051.03,162.123 2055.71,173.435 2051.03,184.747 \n",
       "  \"/>\n",
       "<polygon clip-path=\"url(#clip3203)\" style=\"fill:#000000; fill-opacity:1\" points=\"\n",
       "  2114.79,176.587 2100.65,170.727 2094.79,156.587 2100.65,142.447 2114.79,136.587 2128.93,142.447 2134.79,156.587 2128.93,170.727 \n",
       "  \"/>\n",
       "<polygon clip-path=\"url(#clip3203)\" style=\"fill:#009af9; fill-opacity:1\" points=\"\n",
       "  2114.79,172.587 2103.48,167.899 2098.79,156.587 2103.48,145.275 2114.79,140.587 2126.11,145.275 2130.79,156.587 2126.11,167.899 \n",
       "  \"/>\n",
       "<polygon clip-path=\"url(#clip3203)\" style=\"fill:#000000; fill-opacity:1\" points=\"\n",
       "  2189.87,185.081 2175.73,179.221 2169.87,165.081 2175.73,150.941 2189.87,145.081 2204.01,150.941 2209.87,165.081 2204.01,179.221 \n",
       "  \"/>\n",
       "<polygon clip-path=\"url(#clip3203)\" style=\"fill:#009af9; fill-opacity:1\" points=\"\n",
       "  2189.87,181.081 2178.56,176.393 2173.87,165.081 2178.56,153.769 2189.87,149.081 2201.18,153.769 2205.87,165.081 2201.18,176.393 \n",
       "  \"/>\n",
       "<polygon clip-path=\"url(#clip3203)\" style=\"fill:#000000; fill-opacity:1\" points=\"\n",
       "  2264.95,157.386 2250.81,151.526 2244.95,137.386 2250.81,123.246 2264.95,117.386 2279.09,123.246 2284.95,137.386 2279.09,151.526 \n",
       "  \"/>\n",
       "<polygon clip-path=\"url(#clip3203)\" style=\"fill:#009af9; fill-opacity:1\" points=\"\n",
       "  2264.95,153.386 2253.64,148.698 2248.95,137.386 2253.64,126.074 2264.95,121.386 2276.26,126.074 2280.95,137.386 2276.26,148.698 \n",
       "  \"/>\n",
       "<polyline clip-path=\"url(#clip3203)\" style=\"stroke:#e26f46; stroke-width:4; stroke-opacity:1; fill:none\" points=\"\n",
       "  387.985,1401.05 463.064,1397.77 538.142,1394.23 613.221,1390.32 688.3,1386.54 763.378,1383.13 838.457,1379.52 913.536,1375.76 988.614,1373.23 1063.69,1373.21 \n",
       "  1138.77,1371.46 1213.85,1368.49 1288.93,1366.86 1364.01,1365.2 1439.09,1365.01 1514.16,1357.98 1589.24,1352.51 1664.32,1346.15 1739.4,1339.32 1814.48,1333.05 \n",
       "  1889.56,1327.12 1964.64,1323.5 2039.71,1320.71 2114.79,1317.4 2189.87,1315.02 2264.95,1311.04 \n",
       "  \"/>\n",
       "<line clip-path=\"url(#clip3203)\" x1=\"387.985\" y1=\"1401.05\" x2=\"367.985\" y2=\"1421.05\" style=\"stroke:#000000; stroke-width:4; stroke-opacity:1\"/>\n",
       "<line clip-path=\"url(#clip3203)\" x1=\"387.985\" y1=\"1401.05\" x2=\"367.985\" y2=\"1381.05\" style=\"stroke:#000000; stroke-width:4; stroke-opacity:1\"/>\n",
       "<line clip-path=\"url(#clip3203)\" x1=\"387.985\" y1=\"1401.05\" x2=\"407.985\" y2=\"1381.05\" style=\"stroke:#000000; stroke-width:4; stroke-opacity:1\"/>\n",
       "<line clip-path=\"url(#clip3203)\" x1=\"387.985\" y1=\"1401.05\" x2=\"407.985\" y2=\"1421.05\" style=\"stroke:#000000; stroke-width:4; stroke-opacity:1\"/>\n",
       "<line clip-path=\"url(#clip3203)\" x1=\"463.064\" y1=\"1397.77\" x2=\"443.064\" y2=\"1417.77\" style=\"stroke:#000000; stroke-width:4; stroke-opacity:1\"/>\n",
       "<line clip-path=\"url(#clip3203)\" x1=\"463.064\" y1=\"1397.77\" x2=\"443.064\" y2=\"1377.77\" style=\"stroke:#000000; stroke-width:4; stroke-opacity:1\"/>\n",
       "<line clip-path=\"url(#clip3203)\" x1=\"463.064\" y1=\"1397.77\" x2=\"483.064\" y2=\"1377.77\" style=\"stroke:#000000; stroke-width:4; stroke-opacity:1\"/>\n",
       "<line clip-path=\"url(#clip3203)\" x1=\"463.064\" y1=\"1397.77\" x2=\"483.064\" y2=\"1417.77\" style=\"stroke:#000000; stroke-width:4; stroke-opacity:1\"/>\n",
       "<line clip-path=\"url(#clip3203)\" x1=\"538.142\" y1=\"1394.23\" x2=\"518.142\" y2=\"1414.23\" style=\"stroke:#000000; stroke-width:4; stroke-opacity:1\"/>\n",
       "<line clip-path=\"url(#clip3203)\" x1=\"538.142\" y1=\"1394.23\" x2=\"518.142\" y2=\"1374.23\" style=\"stroke:#000000; stroke-width:4; stroke-opacity:1\"/>\n",
       "<line clip-path=\"url(#clip3203)\" x1=\"538.142\" y1=\"1394.23\" x2=\"558.142\" y2=\"1374.23\" style=\"stroke:#000000; stroke-width:4; stroke-opacity:1\"/>\n",
       "<line clip-path=\"url(#clip3203)\" x1=\"538.142\" y1=\"1394.23\" x2=\"558.142\" y2=\"1414.23\" style=\"stroke:#000000; stroke-width:4; stroke-opacity:1\"/>\n",
       "<line clip-path=\"url(#clip3203)\" x1=\"613.221\" y1=\"1390.32\" x2=\"593.221\" y2=\"1410.32\" style=\"stroke:#000000; stroke-width:4; stroke-opacity:1\"/>\n",
       "<line clip-path=\"url(#clip3203)\" x1=\"613.221\" y1=\"1390.32\" x2=\"593.221\" y2=\"1370.32\" style=\"stroke:#000000; stroke-width:4; stroke-opacity:1\"/>\n",
       "<line clip-path=\"url(#clip3203)\" x1=\"613.221\" y1=\"1390.32\" x2=\"633.221\" y2=\"1370.32\" style=\"stroke:#000000; stroke-width:4; stroke-opacity:1\"/>\n",
       "<line clip-path=\"url(#clip3203)\" x1=\"613.221\" y1=\"1390.32\" x2=\"633.221\" y2=\"1410.32\" style=\"stroke:#000000; stroke-width:4; stroke-opacity:1\"/>\n",
       "<line clip-path=\"url(#clip3203)\" x1=\"688.3\" y1=\"1386.54\" x2=\"668.3\" y2=\"1406.54\" style=\"stroke:#000000; stroke-width:4; stroke-opacity:1\"/>\n",
       "<line clip-path=\"url(#clip3203)\" x1=\"688.3\" y1=\"1386.54\" x2=\"668.3\" y2=\"1366.54\" style=\"stroke:#000000; stroke-width:4; stroke-opacity:1\"/>\n",
       "<line clip-path=\"url(#clip3203)\" x1=\"688.3\" y1=\"1386.54\" x2=\"708.3\" y2=\"1366.54\" style=\"stroke:#000000; stroke-width:4; stroke-opacity:1\"/>\n",
       "<line clip-path=\"url(#clip3203)\" x1=\"688.3\" y1=\"1386.54\" x2=\"708.3\" y2=\"1406.54\" style=\"stroke:#000000; stroke-width:4; stroke-opacity:1\"/>\n",
       "<line clip-path=\"url(#clip3203)\" x1=\"763.378\" y1=\"1383.13\" x2=\"743.378\" y2=\"1403.13\" style=\"stroke:#000000; stroke-width:4; stroke-opacity:1\"/>\n",
       "<line clip-path=\"url(#clip3203)\" x1=\"763.378\" y1=\"1383.13\" x2=\"743.378\" y2=\"1363.13\" style=\"stroke:#000000; stroke-width:4; stroke-opacity:1\"/>\n",
       "<line clip-path=\"url(#clip3203)\" x1=\"763.378\" y1=\"1383.13\" x2=\"783.378\" y2=\"1363.13\" style=\"stroke:#000000; stroke-width:4; stroke-opacity:1\"/>\n",
       "<line clip-path=\"url(#clip3203)\" x1=\"763.378\" y1=\"1383.13\" x2=\"783.378\" y2=\"1403.13\" style=\"stroke:#000000; stroke-width:4; stroke-opacity:1\"/>\n",
       "<line clip-path=\"url(#clip3203)\" x1=\"838.457\" y1=\"1379.52\" x2=\"818.457\" y2=\"1399.52\" style=\"stroke:#000000; stroke-width:4; stroke-opacity:1\"/>\n",
       "<line clip-path=\"url(#clip3203)\" x1=\"838.457\" y1=\"1379.52\" x2=\"818.457\" y2=\"1359.52\" style=\"stroke:#000000; stroke-width:4; stroke-opacity:1\"/>\n",
       "<line clip-path=\"url(#clip3203)\" x1=\"838.457\" y1=\"1379.52\" x2=\"858.457\" y2=\"1359.52\" style=\"stroke:#000000; stroke-width:4; stroke-opacity:1\"/>\n",
       "<line clip-path=\"url(#clip3203)\" x1=\"838.457\" y1=\"1379.52\" x2=\"858.457\" y2=\"1399.52\" style=\"stroke:#000000; stroke-width:4; stroke-opacity:1\"/>\n",
       "<line clip-path=\"url(#clip3203)\" x1=\"913.536\" y1=\"1375.76\" x2=\"893.536\" y2=\"1395.76\" style=\"stroke:#000000; stroke-width:4; stroke-opacity:1\"/>\n",
       "<line clip-path=\"url(#clip3203)\" x1=\"913.536\" y1=\"1375.76\" x2=\"893.536\" y2=\"1355.76\" style=\"stroke:#000000; stroke-width:4; stroke-opacity:1\"/>\n",
       "<line clip-path=\"url(#clip3203)\" x1=\"913.536\" y1=\"1375.76\" x2=\"933.536\" y2=\"1355.76\" style=\"stroke:#000000; stroke-width:4; stroke-opacity:1\"/>\n",
       "<line clip-path=\"url(#clip3203)\" x1=\"913.536\" y1=\"1375.76\" x2=\"933.536\" y2=\"1395.76\" style=\"stroke:#000000; stroke-width:4; stroke-opacity:1\"/>\n",
       "<line clip-path=\"url(#clip3203)\" x1=\"988.614\" y1=\"1373.23\" x2=\"968.614\" y2=\"1393.23\" style=\"stroke:#000000; stroke-width:4; stroke-opacity:1\"/>\n",
       "<line clip-path=\"url(#clip3203)\" x1=\"988.614\" y1=\"1373.23\" x2=\"968.614\" y2=\"1353.23\" style=\"stroke:#000000; stroke-width:4; stroke-opacity:1\"/>\n",
       "<line clip-path=\"url(#clip3203)\" x1=\"988.614\" y1=\"1373.23\" x2=\"1008.61\" y2=\"1353.23\" style=\"stroke:#000000; stroke-width:4; stroke-opacity:1\"/>\n",
       "<line clip-path=\"url(#clip3203)\" x1=\"988.614\" y1=\"1373.23\" x2=\"1008.61\" y2=\"1393.23\" style=\"stroke:#000000; stroke-width:4; stroke-opacity:1\"/>\n",
       "<line clip-path=\"url(#clip3203)\" x1=\"1063.69\" y1=\"1373.21\" x2=\"1043.69\" y2=\"1393.21\" style=\"stroke:#000000; stroke-width:4; stroke-opacity:1\"/>\n",
       "<line clip-path=\"url(#clip3203)\" x1=\"1063.69\" y1=\"1373.21\" x2=\"1043.69\" y2=\"1353.21\" style=\"stroke:#000000; stroke-width:4; stroke-opacity:1\"/>\n",
       "<line clip-path=\"url(#clip3203)\" x1=\"1063.69\" y1=\"1373.21\" x2=\"1083.69\" y2=\"1353.21\" style=\"stroke:#000000; stroke-width:4; stroke-opacity:1\"/>\n",
       "<line clip-path=\"url(#clip3203)\" x1=\"1063.69\" y1=\"1373.21\" x2=\"1083.69\" y2=\"1393.21\" style=\"stroke:#000000; stroke-width:4; stroke-opacity:1\"/>\n",
       "<line clip-path=\"url(#clip3203)\" x1=\"1138.77\" y1=\"1371.46\" x2=\"1118.77\" y2=\"1391.46\" style=\"stroke:#000000; stroke-width:4; stroke-opacity:1\"/>\n",
       "<line clip-path=\"url(#clip3203)\" x1=\"1138.77\" y1=\"1371.46\" x2=\"1118.77\" y2=\"1351.46\" style=\"stroke:#000000; stroke-width:4; stroke-opacity:1\"/>\n",
       "<line clip-path=\"url(#clip3203)\" x1=\"1138.77\" y1=\"1371.46\" x2=\"1158.77\" y2=\"1351.46\" style=\"stroke:#000000; stroke-width:4; stroke-opacity:1\"/>\n",
       "<line clip-path=\"url(#clip3203)\" x1=\"1138.77\" y1=\"1371.46\" x2=\"1158.77\" y2=\"1391.46\" style=\"stroke:#000000; stroke-width:4; stroke-opacity:1\"/>\n",
       "<line clip-path=\"url(#clip3203)\" x1=\"1213.85\" y1=\"1368.49\" x2=\"1193.85\" y2=\"1388.49\" style=\"stroke:#000000; stroke-width:4; stroke-opacity:1\"/>\n",
       "<line clip-path=\"url(#clip3203)\" x1=\"1213.85\" y1=\"1368.49\" x2=\"1193.85\" y2=\"1348.49\" style=\"stroke:#000000; stroke-width:4; stroke-opacity:1\"/>\n",
       "<line clip-path=\"url(#clip3203)\" x1=\"1213.85\" y1=\"1368.49\" x2=\"1233.85\" y2=\"1348.49\" style=\"stroke:#000000; stroke-width:4; stroke-opacity:1\"/>\n",
       "<line clip-path=\"url(#clip3203)\" x1=\"1213.85\" y1=\"1368.49\" x2=\"1233.85\" y2=\"1388.49\" style=\"stroke:#000000; stroke-width:4; stroke-opacity:1\"/>\n",
       "<line clip-path=\"url(#clip3203)\" x1=\"1288.93\" y1=\"1366.86\" x2=\"1268.93\" y2=\"1386.86\" style=\"stroke:#000000; stroke-width:4; stroke-opacity:1\"/>\n",
       "<line clip-path=\"url(#clip3203)\" x1=\"1288.93\" y1=\"1366.86\" x2=\"1268.93\" y2=\"1346.86\" style=\"stroke:#000000; stroke-width:4; stroke-opacity:1\"/>\n",
       "<line clip-path=\"url(#clip3203)\" x1=\"1288.93\" y1=\"1366.86\" x2=\"1308.93\" y2=\"1346.86\" style=\"stroke:#000000; stroke-width:4; stroke-opacity:1\"/>\n",
       "<line clip-path=\"url(#clip3203)\" x1=\"1288.93\" y1=\"1366.86\" x2=\"1308.93\" y2=\"1386.86\" style=\"stroke:#000000; stroke-width:4; stroke-opacity:1\"/>\n",
       "<line clip-path=\"url(#clip3203)\" x1=\"1364.01\" y1=\"1365.2\" x2=\"1344.01\" y2=\"1385.2\" style=\"stroke:#000000; stroke-width:4; stroke-opacity:1\"/>\n",
       "<line clip-path=\"url(#clip3203)\" x1=\"1364.01\" y1=\"1365.2\" x2=\"1344.01\" y2=\"1345.2\" style=\"stroke:#000000; stroke-width:4; stroke-opacity:1\"/>\n",
       "<line clip-path=\"url(#clip3203)\" x1=\"1364.01\" y1=\"1365.2\" x2=\"1384.01\" y2=\"1345.2\" style=\"stroke:#000000; stroke-width:4; stroke-opacity:1\"/>\n",
       "<line clip-path=\"url(#clip3203)\" x1=\"1364.01\" y1=\"1365.2\" x2=\"1384.01\" y2=\"1385.2\" style=\"stroke:#000000; stroke-width:4; stroke-opacity:1\"/>\n",
       "<line clip-path=\"url(#clip3203)\" x1=\"1439.09\" y1=\"1365.01\" x2=\"1419.09\" y2=\"1385.01\" style=\"stroke:#000000; stroke-width:4; stroke-opacity:1\"/>\n",
       "<line clip-path=\"url(#clip3203)\" x1=\"1439.09\" y1=\"1365.01\" x2=\"1419.09\" y2=\"1345.01\" style=\"stroke:#000000; stroke-width:4; stroke-opacity:1\"/>\n",
       "<line clip-path=\"url(#clip3203)\" x1=\"1439.09\" y1=\"1365.01\" x2=\"1459.09\" y2=\"1345.01\" style=\"stroke:#000000; stroke-width:4; stroke-opacity:1\"/>\n",
       "<line clip-path=\"url(#clip3203)\" x1=\"1439.09\" y1=\"1365.01\" x2=\"1459.09\" y2=\"1385.01\" style=\"stroke:#000000; stroke-width:4; stroke-opacity:1\"/>\n",
       "<line clip-path=\"url(#clip3203)\" x1=\"1514.16\" y1=\"1357.98\" x2=\"1494.16\" y2=\"1377.98\" style=\"stroke:#000000; stroke-width:4; stroke-opacity:1\"/>\n",
       "<line clip-path=\"url(#clip3203)\" x1=\"1514.16\" y1=\"1357.98\" x2=\"1494.16\" y2=\"1337.98\" style=\"stroke:#000000; stroke-width:4; stroke-opacity:1\"/>\n",
       "<line clip-path=\"url(#clip3203)\" x1=\"1514.16\" y1=\"1357.98\" x2=\"1534.16\" y2=\"1337.98\" style=\"stroke:#000000; stroke-width:4; stroke-opacity:1\"/>\n",
       "<line clip-path=\"url(#clip3203)\" x1=\"1514.16\" y1=\"1357.98\" x2=\"1534.16\" y2=\"1377.98\" style=\"stroke:#000000; stroke-width:4; stroke-opacity:1\"/>\n",
       "<line clip-path=\"url(#clip3203)\" x1=\"1589.24\" y1=\"1352.51\" x2=\"1569.24\" y2=\"1372.51\" style=\"stroke:#000000; stroke-width:4; stroke-opacity:1\"/>\n",
       "<line clip-path=\"url(#clip3203)\" x1=\"1589.24\" y1=\"1352.51\" x2=\"1569.24\" y2=\"1332.51\" style=\"stroke:#000000; stroke-width:4; stroke-opacity:1\"/>\n",
       "<line clip-path=\"url(#clip3203)\" x1=\"1589.24\" y1=\"1352.51\" x2=\"1609.24\" y2=\"1332.51\" style=\"stroke:#000000; stroke-width:4; stroke-opacity:1\"/>\n",
       "<line clip-path=\"url(#clip3203)\" x1=\"1589.24\" y1=\"1352.51\" x2=\"1609.24\" y2=\"1372.51\" style=\"stroke:#000000; stroke-width:4; stroke-opacity:1\"/>\n",
       "<line clip-path=\"url(#clip3203)\" x1=\"1664.32\" y1=\"1346.15\" x2=\"1644.32\" y2=\"1366.15\" style=\"stroke:#000000; stroke-width:4; stroke-opacity:1\"/>\n",
       "<line clip-path=\"url(#clip3203)\" x1=\"1664.32\" y1=\"1346.15\" x2=\"1644.32\" y2=\"1326.15\" style=\"stroke:#000000; stroke-width:4; stroke-opacity:1\"/>\n",
       "<line clip-path=\"url(#clip3203)\" x1=\"1664.32\" y1=\"1346.15\" x2=\"1684.32\" y2=\"1326.15\" style=\"stroke:#000000; stroke-width:4; stroke-opacity:1\"/>\n",
       "<line clip-path=\"url(#clip3203)\" x1=\"1664.32\" y1=\"1346.15\" x2=\"1684.32\" y2=\"1366.15\" style=\"stroke:#000000; stroke-width:4; stroke-opacity:1\"/>\n",
       "<line clip-path=\"url(#clip3203)\" x1=\"1739.4\" y1=\"1339.32\" x2=\"1719.4\" y2=\"1359.32\" style=\"stroke:#000000; stroke-width:4; stroke-opacity:1\"/>\n",
       "<line clip-path=\"url(#clip3203)\" x1=\"1739.4\" y1=\"1339.32\" x2=\"1719.4\" y2=\"1319.32\" style=\"stroke:#000000; stroke-width:4; stroke-opacity:1\"/>\n",
       "<line clip-path=\"url(#clip3203)\" x1=\"1739.4\" y1=\"1339.32\" x2=\"1759.4\" y2=\"1319.32\" style=\"stroke:#000000; stroke-width:4; stroke-opacity:1\"/>\n",
       "<line clip-path=\"url(#clip3203)\" x1=\"1739.4\" y1=\"1339.32\" x2=\"1759.4\" y2=\"1359.32\" style=\"stroke:#000000; stroke-width:4; stroke-opacity:1\"/>\n",
       "<line clip-path=\"url(#clip3203)\" x1=\"1814.48\" y1=\"1333.05\" x2=\"1794.48\" y2=\"1353.05\" style=\"stroke:#000000; stroke-width:4; stroke-opacity:1\"/>\n",
       "<line clip-path=\"url(#clip3203)\" x1=\"1814.48\" y1=\"1333.05\" x2=\"1794.48\" y2=\"1313.05\" style=\"stroke:#000000; stroke-width:4; stroke-opacity:1\"/>\n",
       "<line clip-path=\"url(#clip3203)\" x1=\"1814.48\" y1=\"1333.05\" x2=\"1834.48\" y2=\"1313.05\" style=\"stroke:#000000; stroke-width:4; stroke-opacity:1\"/>\n",
       "<line clip-path=\"url(#clip3203)\" x1=\"1814.48\" y1=\"1333.05\" x2=\"1834.48\" y2=\"1353.05\" style=\"stroke:#000000; stroke-width:4; stroke-opacity:1\"/>\n",
       "<line clip-path=\"url(#clip3203)\" x1=\"1889.56\" y1=\"1327.12\" x2=\"1869.56\" y2=\"1347.12\" style=\"stroke:#000000; stroke-width:4; stroke-opacity:1\"/>\n",
       "<line clip-path=\"url(#clip3203)\" x1=\"1889.56\" y1=\"1327.12\" x2=\"1869.56\" y2=\"1307.12\" style=\"stroke:#000000; stroke-width:4; stroke-opacity:1\"/>\n",
       "<line clip-path=\"url(#clip3203)\" x1=\"1889.56\" y1=\"1327.12\" x2=\"1909.56\" y2=\"1307.12\" style=\"stroke:#000000; stroke-width:4; stroke-opacity:1\"/>\n",
       "<line clip-path=\"url(#clip3203)\" x1=\"1889.56\" y1=\"1327.12\" x2=\"1909.56\" y2=\"1347.12\" style=\"stroke:#000000; stroke-width:4; stroke-opacity:1\"/>\n",
       "<line clip-path=\"url(#clip3203)\" x1=\"1964.64\" y1=\"1323.5\" x2=\"1944.64\" y2=\"1343.5\" style=\"stroke:#000000; stroke-width:4; stroke-opacity:1\"/>\n",
       "<line clip-path=\"url(#clip3203)\" x1=\"1964.64\" y1=\"1323.5\" x2=\"1944.64\" y2=\"1303.5\" style=\"stroke:#000000; stroke-width:4; stroke-opacity:1\"/>\n",
       "<line clip-path=\"url(#clip3203)\" x1=\"1964.64\" y1=\"1323.5\" x2=\"1984.64\" y2=\"1303.5\" style=\"stroke:#000000; stroke-width:4; stroke-opacity:1\"/>\n",
       "<line clip-path=\"url(#clip3203)\" x1=\"1964.64\" y1=\"1323.5\" x2=\"1984.64\" y2=\"1343.5\" style=\"stroke:#000000; stroke-width:4; stroke-opacity:1\"/>\n",
       "<line clip-path=\"url(#clip3203)\" x1=\"2039.71\" y1=\"1320.71\" x2=\"2019.71\" y2=\"1340.71\" style=\"stroke:#000000; stroke-width:4; stroke-opacity:1\"/>\n",
       "<line clip-path=\"url(#clip3203)\" x1=\"2039.71\" y1=\"1320.71\" x2=\"2019.71\" y2=\"1300.71\" style=\"stroke:#000000; stroke-width:4; stroke-opacity:1\"/>\n",
       "<line clip-path=\"url(#clip3203)\" x1=\"2039.71\" y1=\"1320.71\" x2=\"2059.71\" y2=\"1300.71\" style=\"stroke:#000000; stroke-width:4; stroke-opacity:1\"/>\n",
       "<line clip-path=\"url(#clip3203)\" x1=\"2039.71\" y1=\"1320.71\" x2=\"2059.71\" y2=\"1340.71\" style=\"stroke:#000000; stroke-width:4; stroke-opacity:1\"/>\n",
       "<line clip-path=\"url(#clip3203)\" x1=\"2114.79\" y1=\"1317.4\" x2=\"2094.79\" y2=\"1337.4\" style=\"stroke:#000000; stroke-width:4; stroke-opacity:1\"/>\n",
       "<line clip-path=\"url(#clip3203)\" x1=\"2114.79\" y1=\"1317.4\" x2=\"2094.79\" y2=\"1297.4\" style=\"stroke:#000000; stroke-width:4; stroke-opacity:1\"/>\n",
       "<line clip-path=\"url(#clip3203)\" x1=\"2114.79\" y1=\"1317.4\" x2=\"2134.79\" y2=\"1297.4\" style=\"stroke:#000000; stroke-width:4; stroke-opacity:1\"/>\n",
       "<line clip-path=\"url(#clip3203)\" x1=\"2114.79\" y1=\"1317.4\" x2=\"2134.79\" y2=\"1337.4\" style=\"stroke:#000000; stroke-width:4; stroke-opacity:1\"/>\n",
       "<line clip-path=\"url(#clip3203)\" x1=\"2189.87\" y1=\"1315.02\" x2=\"2169.87\" y2=\"1335.02\" style=\"stroke:#000000; stroke-width:4; stroke-opacity:1\"/>\n",
       "<line clip-path=\"url(#clip3203)\" x1=\"2189.87\" y1=\"1315.02\" x2=\"2169.87\" y2=\"1295.02\" style=\"stroke:#000000; stroke-width:4; stroke-opacity:1\"/>\n",
       "<line clip-path=\"url(#clip3203)\" x1=\"2189.87\" y1=\"1315.02\" x2=\"2209.87\" y2=\"1295.02\" style=\"stroke:#000000; stroke-width:4; stroke-opacity:1\"/>\n",
       "<line clip-path=\"url(#clip3203)\" x1=\"2189.87\" y1=\"1315.02\" x2=\"2209.87\" y2=\"1335.02\" style=\"stroke:#000000; stroke-width:4; stroke-opacity:1\"/>\n",
       "<line clip-path=\"url(#clip3203)\" x1=\"2264.95\" y1=\"1311.04\" x2=\"2244.95\" y2=\"1331.04\" style=\"stroke:#000000; stroke-width:4; stroke-opacity:1\"/>\n",
       "<line clip-path=\"url(#clip3203)\" x1=\"2264.95\" y1=\"1311.04\" x2=\"2244.95\" y2=\"1291.04\" style=\"stroke:#000000; stroke-width:4; stroke-opacity:1\"/>\n",
       "<line clip-path=\"url(#clip3203)\" x1=\"2264.95\" y1=\"1311.04\" x2=\"2284.95\" y2=\"1291.04\" style=\"stroke:#000000; stroke-width:4; stroke-opacity:1\"/>\n",
       "<line clip-path=\"url(#clip3203)\" x1=\"2264.95\" y1=\"1311.04\" x2=\"2284.95\" y2=\"1331.04\" style=\"stroke:#000000; stroke-width:4; stroke-opacity:1\"/>\n",
       "<polygon clip-path=\"url(#clip3201)\" points=\"\n",
       "403.676,312.204 1055.6,312.204 1055.6,130.764 403.676,130.764 \n",
       "  \" fill=\"#ffffff\" fill-rule=\"evenodd\" fill-opacity=\"1\"/>\n",
       "<polyline clip-path=\"url(#clip3201)\" style=\"stroke:#000000; stroke-width:4; stroke-opacity:1; fill:none\" points=\"\n",
       "  403.676,312.204 1055.6,312.204 1055.6,130.764 403.676,130.764 403.676,312.204 \n",
       "  \"/>\n",
       "<polyline clip-path=\"url(#clip3201)\" style=\"stroke:#009af9; stroke-width:4; stroke-opacity:1; fill:none\" points=\"\n",
       "  427.676,191.244 571.676,191.244 \n",
       "  \"/>\n",
       "<polygon clip-path=\"url(#clip3201)\" style=\"fill:#000000; fill-opacity:1\" points=\"\n",
       "  511.676,219.244 491.88,211.04 483.676,191.244 491.88,171.448 511.676,163.244 531.472,171.448 539.676,191.244 531.472,211.04 \n",
       "  \"/>\n",
       "<polygon clip-path=\"url(#clip3201)\" style=\"fill:#009af9; fill-opacity:1\" points=\"\n",
       "  511.676,215.244 494.708,208.212 487.676,191.244 494.708,174.276 511.676,167.244 528.644,174.276 535.676,191.244 528.644,208.212 \n",
       "  \"/>\n",
       "<g clip-path=\"url(#clip3201)\">\n",
       "<text style=\"fill:#000000; fill-opacity:1; font-family:Arial,Helvetica Neue,Helvetica,sans-serif; font-size:48px; text-anchor:start;\" transform=\"rotate(0, 595.676, 208.744)\" x=\"595.676\" y=\"208.744\">emisiones energía</text>\n",
       "</g>\n",
       "<polyline clip-path=\"url(#clip3201)\" style=\"stroke:#e26f46; stroke-width:4; stroke-opacity:1; fill:none\" points=\"\n",
       "  427.676,251.724 571.676,251.724 \n",
       "  \"/>\n",
       "<line clip-path=\"url(#clip3201)\" x1=\"511.676\" y1=\"251.724\" x2=\"483.676\" y2=\"279.724\" style=\"stroke:#000000; stroke-width:4; stroke-opacity:1\"/>\n",
       "<line clip-path=\"url(#clip3201)\" x1=\"511.676\" y1=\"251.724\" x2=\"483.676\" y2=\"223.724\" style=\"stroke:#000000; stroke-width:4; stroke-opacity:1\"/>\n",
       "<line clip-path=\"url(#clip3201)\" x1=\"511.676\" y1=\"251.724\" x2=\"539.676\" y2=\"223.724\" style=\"stroke:#000000; stroke-width:4; stroke-opacity:1\"/>\n",
       "<line clip-path=\"url(#clip3201)\" x1=\"511.676\" y1=\"251.724\" x2=\"539.676\" y2=\"279.724\" style=\"stroke:#000000; stroke-width:4; stroke-opacity:1\"/>\n",
       "<g clip-path=\"url(#clip3201)\">\n",
       "<text style=\"fill:#000000; fill-opacity:1; font-family:Arial,Helvetica Neue,Helvetica,sans-serif; font-size:48px; text-anchor:start;\" transform=\"rotate(0, 595.676, 269.224)\" x=\"595.676\" y=\"269.224\">emisiones residuos</text>\n",
       "</g>\n",
       "</svg>\n"
      ]
     },
     "execution_count": 196,
     "metadata": {},
     "output_type": "execute_result"
    }
   ],
   "source": [
    "plot(datos_energía[:año], datos_energía[:gases], \n",
    "    m=:o, label=\"emisiones energía\", leg=:topleft,\n",
    "    xlabel=\"año\", ylabel=\"emisión\")  # m = tipo de marcador; leg = leyenda\n",
    "\n",
    "plot!(datos_residuos[:año], datos_residuos[:gases], \n",
    "    m=:x, label=\"emisiones residuos\")  # m = tipo de marcador; leg = leyenda\n",
    "\n"
   ]
  },
  {
   "cell_type": "code",
   "execution_count": 197,
   "metadata": {},
   "outputs": [
    {
     "name": "stdout",
     "output_type": "stream",
     "text": [
      "\u001b[32m\u001b[1m Resolving\u001b[22m\u001b[39m package versions...\n",
      "\u001b[32m\u001b[1m Installed\u001b[22m\u001b[39m TableTraitsUtils ─────── v0.4.0\n",
      "\u001b[32m\u001b[1m Installed\u001b[22m\u001b[39m PositiveFactorizations ─ v0.2.1\n",
      "\u001b[32m\u001b[1m Installed\u001b[22m\u001b[39m KernelDensity ────────── v0.5.1\n",
      "\u001b[32m\u001b[1m Installed\u001b[22m\u001b[39m StatsPlots ───────────── v0.10.2\n",
      "\u001b[32m\u001b[1m Installed\u001b[22m\u001b[39m DataValues ───────────── v0.4.7\n",
      "\u001b[32m\u001b[1m Installed\u001b[22m\u001b[39m IterableTables ───────── v0.10.0\n",
      "\u001b[32m\u001b[1m Installed\u001b[22m\u001b[39m Clustering ───────────── v0.12.2\n",
      "\u001b[32m\u001b[1m Installed\u001b[22m\u001b[39m NearestNeighbors ─────── v0.4.3\n",
      "\u001b[32m\u001b[1m Installed\u001b[22m\u001b[39m Optim ────────────────── v0.17.2\n",
      "\u001b[32m\u001b[1m  Updating\u001b[22m\u001b[39m `~/.julia/environments/v1.1/Project.toml`\n",
      " \u001b[90m [f3b207a7]\u001b[39m\u001b[92m + StatsPlots v0.10.2\u001b[39m\n",
      "\u001b[32m\u001b[1m  Updating\u001b[22m\u001b[39m `~/.julia/environments/v1.1/Manifest.toml`\n",
      " \u001b[90m [aaaa29a8]\u001b[39m\u001b[92m + Clustering v0.12.2\u001b[39m\n",
      " \u001b[90m [e7dc6d0d]\u001b[39m\u001b[92m + DataValues v0.4.7\u001b[39m\n",
      " \u001b[90m [1c8ee90f]\u001b[39m\u001b[92m + IterableTables v0.10.0\u001b[39m\n",
      " \u001b[90m [5ab0869b]\u001b[39m\u001b[92m + KernelDensity v0.5.1\u001b[39m\n",
      " \u001b[90m [b8a86587]\u001b[39m\u001b[92m + NearestNeighbors v0.4.3\u001b[39m\n",
      " \u001b[90m [429524aa]\u001b[39m\u001b[92m + Optim v0.17.2\u001b[39m\n",
      " \u001b[90m [85a6dd25]\u001b[39m\u001b[92m + PositiveFactorizations v0.2.1\u001b[39m\n",
      " \u001b[90m [f3b207a7]\u001b[39m\u001b[92m + StatsPlots v0.10.2\u001b[39m\n",
      " \u001b[90m [382cd787]\u001b[39m\u001b[92m + TableTraitsUtils v0.4.0\u001b[39m\n"
     ]
    }
   ],
   "source": [
    "] add StatsPlots"
   ]
  },
  {
   "cell_type": "code",
   "execution_count": 198,
   "metadata": {},
   "outputs": [
    {
     "name": "stderr",
     "output_type": "stream",
     "text": [
      "┌ Info: Precompiling StatsPlots [f3b207a7-027a-5e70-b257-86293d7955fd]\n",
      "└ @ Base loading.jl:1186\n"
     ]
    }
   ],
   "source": [
    "using StatsPlots"
   ]
  },
  {
   "cell_type": "code",
   "execution_count": 199,
   "metadata": {},
   "outputs": [
    {
     "ename": "ErrorException",
     "evalue": "No user recipe defined for DataFrame",
     "output_type": "error",
     "traceback": [
      "No user recipe defined for DataFrame",
      "",
      "Stacktrace:",
      " [1] error(::String) at ./error.jl:33",
      " [2] convertToAnyVector(::DataFrame, ::Dict{Symbol,Any}) at /Users/dpsanders/.julia/packages/Plots/qh1wV/src/series.jl:14",
      " [3] macro expansion at /Users/dpsanders/.julia/packages/Plots/qh1wV/src/series.jl:139 [inlined]",
      " [4] apply_recipe(::Dict{Symbol,Any}, ::Type{Plots.SliceIt}, ::Nothing, ::DataFrame, ::Nothing) at /Users/dpsanders/.julia/packages/RecipesBase/Uz5AO/src/RecipesBase.jl:275",
      " [5] _process_userrecipes(::Plots.Plot{Plots.GRBackend}, ::Dict{Symbol,Any}, ::Tuple{DataFrame}) at /Users/dpsanders/.julia/packages/Plots/qh1wV/src/pipeline.jl:83",
      " [6] _plot!(::Plots.Plot{Plots.GRBackend}, ::Dict{Symbol,Any}, ::Tuple{DataFrame}) at /Users/dpsanders/.julia/packages/Plots/qh1wV/src/plot.jl:178",
      " [7] #plot#132(::Base.Iterators.Pairs{Union{},Union{},Tuple{},NamedTuple{(),Tuple{}}}, ::Function, ::DataFrame) at /Users/dpsanders/.julia/packages/Plots/qh1wV/src/plot.jl:57",
      " [8] plot(::DataFrame) at /Users/dpsanders/.julia/packages/Plots/qh1wV/src/plot.jl:51",
      " [9] top-level scope at In[199]:1"
     ]
    }
   ],
   "source": [
    "plot(datos)"
   ]
  },
  {
   "cell_type": "code",
   "execution_count": 200,
   "metadata": {},
   "outputs": [
    {
     "data": {
      "text/plain": [
       "5-element Array{Union{Missing, String},1}:\n",
       " \"Energia\"                                            \n",
       " \"Procesos industriales\"                              \n",
       " \"Agricultura, silvicultura y otros usos de la tierra\"\n",
       " \"Residuos\"                                           \n",
       " \"Emisiones netas\"                                    "
      ]
     },
     "execution_count": 200,
     "metadata": {},
     "output_type": "execute_result"
    }
   ],
   "source": [
    "sectores"
   ]
  },
  {
   "cell_type": "code",
   "execution_count": 202,
   "metadata": {},
   "outputs": [
    {
     "data": {
      "image/svg+xml": [
       "<?xml version=\"1.0\" encoding=\"utf-8\"?>\n",
       "<svg xmlns=\"http://www.w3.org/2000/svg\" xmlns:xlink=\"http://www.w3.org/1999/xlink\" width=\"600\" height=\"400\" viewBox=\"0 0 2400 1600\">\n",
       "<defs>\n",
       "  <clipPath id=\"clip3600\">\n",
       "    <rect x=\"0\" y=\"0\" width=\"2000\" height=\"2000\"/>\n",
       "  </clipPath>\n",
       "</defs>\n",
       "<defs>\n",
       "  <clipPath id=\"clip3601\">\n",
       "    <rect x=\"0\" y=\"0\" width=\"2400\" height=\"1600\"/>\n",
       "  </clipPath>\n",
       "</defs>\n",
       "<polygon clip-path=\"url(#clip3601)\" points=\"\n",
       "0,1600 2400,1600 2400,0 0,0 \n",
       "  \" fill=\"#ffffff\" fill-rule=\"evenodd\" fill-opacity=\"1\"/>\n",
       "<defs>\n",
       "  <clipPath id=\"clip3602\">\n",
       "    <rect x=\"480\" y=\"0\" width=\"1681\" height=\"1600\"/>\n",
       "  </clipPath>\n",
       "</defs>\n",
       "<polygon clip-path=\"url(#clip3601)\" points=\"\n",
       "295.446,1503.47 2321.26,1503.47 2321.26,47.2441 295.446,47.2441 \n",
       "  \" fill=\"#ffffff\" fill-rule=\"evenodd\" fill-opacity=\"1\"/>\n",
       "<defs>\n",
       "  <clipPath id=\"clip3603\">\n",
       "    <rect x=\"295\" y=\"47\" width=\"2027\" height=\"1457\"/>\n",
       "  </clipPath>\n",
       "</defs>\n",
       "<polyline clip-path=\"url(#clip3603)\" style=\"stroke:#000000; stroke-width:2; stroke-opacity:0.1; fill:none\" points=\"\n",
       "  352.781,1503.47 352.781,47.2441 \n",
       "  \"/>\n",
       "<polyline clip-path=\"url(#clip3603)\" style=\"stroke:#000000; stroke-width:2; stroke-opacity:0.1; fill:none\" points=\"\n",
       "  735.01,1503.47 735.01,47.2441 \n",
       "  \"/>\n",
       "<polyline clip-path=\"url(#clip3603)\" style=\"stroke:#000000; stroke-width:2; stroke-opacity:0.1; fill:none\" points=\"\n",
       "  1117.24,1503.47 1117.24,47.2441 \n",
       "  \"/>\n",
       "<polyline clip-path=\"url(#clip3603)\" style=\"stroke:#000000; stroke-width:2; stroke-opacity:0.1; fill:none\" points=\"\n",
       "  1499.47,1503.47 1499.47,47.2441 \n",
       "  \"/>\n",
       "<polyline clip-path=\"url(#clip3603)\" style=\"stroke:#000000; stroke-width:2; stroke-opacity:0.1; fill:none\" points=\"\n",
       "  1881.7,1503.47 1881.7,47.2441 \n",
       "  \"/>\n",
       "<polyline clip-path=\"url(#clip3603)\" style=\"stroke:#000000; stroke-width:2; stroke-opacity:0.1; fill:none\" points=\"\n",
       "  2263.93,1503.47 2263.93,47.2441 \n",
       "  \"/>\n",
       "<polyline clip-path=\"url(#clip3603)\" style=\"stroke:#000000; stroke-width:2; stroke-opacity:0.1; fill:none\" points=\"\n",
       "  295.446,1361.36 2321.26,1361.36 \n",
       "  \"/>\n",
       "<polyline clip-path=\"url(#clip3603)\" style=\"stroke:#000000; stroke-width:2; stroke-opacity:0.1; fill:none\" points=\"\n",
       "  295.446,1155.45 2321.26,1155.45 \n",
       "  \"/>\n",
       "<polyline clip-path=\"url(#clip3603)\" style=\"stroke:#000000; stroke-width:2; stroke-opacity:0.1; fill:none\" points=\"\n",
       "  295.446,949.54 2321.26,949.54 \n",
       "  \"/>\n",
       "<polyline clip-path=\"url(#clip3603)\" style=\"stroke:#000000; stroke-width:2; stroke-opacity:0.1; fill:none\" points=\"\n",
       "  295.446,743.628 2321.26,743.628 \n",
       "  \"/>\n",
       "<polyline clip-path=\"url(#clip3603)\" style=\"stroke:#000000; stroke-width:2; stroke-opacity:0.1; fill:none\" points=\"\n",
       "  295.446,537.717 2321.26,537.717 \n",
       "  \"/>\n",
       "<polyline clip-path=\"url(#clip3603)\" style=\"stroke:#000000; stroke-width:2; stroke-opacity:0.1; fill:none\" points=\"\n",
       "  295.446,331.805 2321.26,331.805 \n",
       "  \"/>\n",
       "<polyline clip-path=\"url(#clip3603)\" style=\"stroke:#000000; stroke-width:2; stroke-opacity:0.1; fill:none\" points=\"\n",
       "  295.446,125.893 2321.26,125.893 \n",
       "  \"/>\n",
       "<polyline clip-path=\"url(#clip3601)\" style=\"stroke:#000000; stroke-width:4; stroke-opacity:1; fill:none\" points=\"\n",
       "  295.446,1503.47 2321.26,1503.47 \n",
       "  \"/>\n",
       "<polyline clip-path=\"url(#clip3601)\" style=\"stroke:#000000; stroke-width:4; stroke-opacity:1; fill:none\" points=\"\n",
       "  295.446,1503.47 295.446,47.2441 \n",
       "  \"/>\n",
       "<polyline clip-path=\"url(#clip3601)\" style=\"stroke:#000000; stroke-width:4; stroke-opacity:1; fill:none\" points=\"\n",
       "  352.781,1503.47 352.781,1481.63 \n",
       "  \"/>\n",
       "<polyline clip-path=\"url(#clip3601)\" style=\"stroke:#000000; stroke-width:4; stroke-opacity:1; fill:none\" points=\"\n",
       "  735.01,1503.47 735.01,1481.63 \n",
       "  \"/>\n",
       "<polyline clip-path=\"url(#clip3601)\" style=\"stroke:#000000; stroke-width:4; stroke-opacity:1; fill:none\" points=\"\n",
       "  1117.24,1503.47 1117.24,1481.63 \n",
       "  \"/>\n",
       "<polyline clip-path=\"url(#clip3601)\" style=\"stroke:#000000; stroke-width:4; stroke-opacity:1; fill:none\" points=\"\n",
       "  1499.47,1503.47 1499.47,1481.63 \n",
       "  \"/>\n",
       "<polyline clip-path=\"url(#clip3601)\" style=\"stroke:#000000; stroke-width:4; stroke-opacity:1; fill:none\" points=\"\n",
       "  1881.7,1503.47 1881.7,1481.63 \n",
       "  \"/>\n",
       "<polyline clip-path=\"url(#clip3601)\" style=\"stroke:#000000; stroke-width:4; stroke-opacity:1; fill:none\" points=\"\n",
       "  2263.93,1503.47 2263.93,1481.63 \n",
       "  \"/>\n",
       "<polyline clip-path=\"url(#clip3601)\" style=\"stroke:#000000; stroke-width:4; stroke-opacity:1; fill:none\" points=\"\n",
       "  295.446,1361.36 325.834,1361.36 \n",
       "  \"/>\n",
       "<polyline clip-path=\"url(#clip3601)\" style=\"stroke:#000000; stroke-width:4; stroke-opacity:1; fill:none\" points=\"\n",
       "  295.446,1155.45 325.834,1155.45 \n",
       "  \"/>\n",
       "<polyline clip-path=\"url(#clip3601)\" style=\"stroke:#000000; stroke-width:4; stroke-opacity:1; fill:none\" points=\"\n",
       "  295.446,949.54 325.834,949.54 \n",
       "  \"/>\n",
       "<polyline clip-path=\"url(#clip3601)\" style=\"stroke:#000000; stroke-width:4; stroke-opacity:1; fill:none\" points=\"\n",
       "  295.446,743.628 325.834,743.628 \n",
       "  \"/>\n",
       "<polyline clip-path=\"url(#clip3601)\" style=\"stroke:#000000; stroke-width:4; stroke-opacity:1; fill:none\" points=\"\n",
       "  295.446,537.717 325.834,537.717 \n",
       "  \"/>\n",
       "<polyline clip-path=\"url(#clip3601)\" style=\"stroke:#000000; stroke-width:4; stroke-opacity:1; fill:none\" points=\"\n",
       "  295.446,331.805 325.834,331.805 \n",
       "  \"/>\n",
       "<polyline clip-path=\"url(#clip3601)\" style=\"stroke:#000000; stroke-width:4; stroke-opacity:1; fill:none\" points=\"\n",
       "  295.446,125.893 325.834,125.893 \n",
       "  \"/>\n",
       "<g clip-path=\"url(#clip3601)\">\n",
       "<text style=\"fill:#000000; fill-opacity:1; font-family:Arial,Helvetica Neue,Helvetica,sans-serif; font-size:48px; text-anchor:middle;\" transform=\"rotate(0, 352.781, 1557.47)\" x=\"352.781\" y=\"1557.47\">1990</text>\n",
       "</g>\n",
       "<g clip-path=\"url(#clip3601)\">\n",
       "<text style=\"fill:#000000; fill-opacity:1; font-family:Arial,Helvetica Neue,Helvetica,sans-serif; font-size:48px; text-anchor:middle;\" transform=\"rotate(0, 735.01, 1557.47)\" x=\"735.01\" y=\"1557.47\">1995</text>\n",
       "</g>\n",
       "<g clip-path=\"url(#clip3601)\">\n",
       "<text style=\"fill:#000000; fill-opacity:1; font-family:Arial,Helvetica Neue,Helvetica,sans-serif; font-size:48px; text-anchor:middle;\" transform=\"rotate(0, 1117.24, 1557.47)\" x=\"1117.24\" y=\"1557.47\">2000</text>\n",
       "</g>\n",
       "<g clip-path=\"url(#clip3601)\">\n",
       "<text style=\"fill:#000000; fill-opacity:1; font-family:Arial,Helvetica Neue,Helvetica,sans-serif; font-size:48px; text-anchor:middle;\" transform=\"rotate(0, 1499.47, 1557.47)\" x=\"1499.47\" y=\"1557.47\">2005</text>\n",
       "</g>\n",
       "<g clip-path=\"url(#clip3601)\">\n",
       "<text style=\"fill:#000000; fill-opacity:1; font-family:Arial,Helvetica Neue,Helvetica,sans-serif; font-size:48px; text-anchor:middle;\" transform=\"rotate(0, 1881.7, 1557.47)\" x=\"1881.7\" y=\"1557.47\">2010</text>\n",
       "</g>\n",
       "<g clip-path=\"url(#clip3601)\">\n",
       "<text style=\"fill:#000000; fill-opacity:1; font-family:Arial,Helvetica Neue,Helvetica,sans-serif; font-size:48px; text-anchor:middle;\" transform=\"rotate(0, 2263.93, 1557.47)\" x=\"2263.93\" y=\"1557.47\">2015</text>\n",
       "</g>\n",
       "<g clip-path=\"url(#clip3601)\">\n",
       "<text style=\"fill:#000000; fill-opacity:1; font-family:Arial,Helvetica Neue,Helvetica,sans-serif; font-size:48px; text-anchor:start;\" transform=\"rotate(0, 101.161, 1385.09)\" x=\"101.161\" y=\"1385.09\">1.5×10</text>\n",
       "</g>\n",
       "<g clip-path=\"url(#clip3601)\">\n",
       "<text style=\"fill:#000000; fill-opacity:1; font-family:Arial,Helvetica Neue,Helvetica,sans-serif; font-size:38px; text-anchor:start;\" transform=\"rotate(0, 249.702, 1357.68)\" x=\"249.702\" y=\"1357.68\">4</text>\n",
       "</g>\n",
       "<g clip-path=\"url(#clip3601)\">\n",
       "<text style=\"fill:#000000; fill-opacity:1; font-family:Arial,Helvetica Neue,Helvetica,sans-serif; font-size:48px; text-anchor:start;\" transform=\"rotate(0, 101.161, 1179.18)\" x=\"101.161\" y=\"1179.18\">2.0×10</text>\n",
       "</g>\n",
       "<g clip-path=\"url(#clip3601)\">\n",
       "<text style=\"fill:#000000; fill-opacity:1; font-family:Arial,Helvetica Neue,Helvetica,sans-serif; font-size:38px; text-anchor:start;\" transform=\"rotate(0, 249.702, 1151.77)\" x=\"249.702\" y=\"1151.77\">4</text>\n",
       "</g>\n",
       "<g clip-path=\"url(#clip3601)\">\n",
       "<text style=\"fill:#000000; fill-opacity:1; font-family:Arial,Helvetica Neue,Helvetica,sans-serif; font-size:48px; text-anchor:start;\" transform=\"rotate(0, 101.161, 973.268)\" x=\"101.161\" y=\"973.268\">2.5×10</text>\n",
       "</g>\n",
       "<g clip-path=\"url(#clip3601)\">\n",
       "<text style=\"fill:#000000; fill-opacity:1; font-family:Arial,Helvetica Neue,Helvetica,sans-serif; font-size:38px; text-anchor:start;\" transform=\"rotate(0, 249.702, 945.857)\" x=\"249.702\" y=\"945.857\">4</text>\n",
       "</g>\n",
       "<g clip-path=\"url(#clip3601)\">\n",
       "<text style=\"fill:#000000; fill-opacity:1; font-family:Arial,Helvetica Neue,Helvetica,sans-serif; font-size:48px; text-anchor:start;\" transform=\"rotate(0, 101.161, 767.356)\" x=\"101.161\" y=\"767.356\">3.0×10</text>\n",
       "</g>\n",
       "<g clip-path=\"url(#clip3601)\">\n",
       "<text style=\"fill:#000000; fill-opacity:1; font-family:Arial,Helvetica Neue,Helvetica,sans-serif; font-size:38px; text-anchor:start;\" transform=\"rotate(0, 249.702, 739.946)\" x=\"249.702\" y=\"739.946\">4</text>\n",
       "</g>\n",
       "<g clip-path=\"url(#clip3601)\">\n",
       "<text style=\"fill:#000000; fill-opacity:1; font-family:Arial,Helvetica Neue,Helvetica,sans-serif; font-size:48px; text-anchor:start;\" transform=\"rotate(0, 101.161, 561.444)\" x=\"101.161\" y=\"561.444\">3.5×10</text>\n",
       "</g>\n",
       "<g clip-path=\"url(#clip3601)\">\n",
       "<text style=\"fill:#000000; fill-opacity:1; font-family:Arial,Helvetica Neue,Helvetica,sans-serif; font-size:38px; text-anchor:start;\" transform=\"rotate(0, 249.702, 534.034)\" x=\"249.702\" y=\"534.034\">4</text>\n",
       "</g>\n",
       "<g clip-path=\"url(#clip3601)\">\n",
       "<text style=\"fill:#000000; fill-opacity:1; font-family:Arial,Helvetica Neue,Helvetica,sans-serif; font-size:48px; text-anchor:start;\" transform=\"rotate(0, 101.161, 355.532)\" x=\"101.161\" y=\"355.532\">4.0×10</text>\n",
       "</g>\n",
       "<g clip-path=\"url(#clip3601)\">\n",
       "<text style=\"fill:#000000; fill-opacity:1; font-family:Arial,Helvetica Neue,Helvetica,sans-serif; font-size:38px; text-anchor:start;\" transform=\"rotate(0, 249.702, 328.122)\" x=\"249.702\" y=\"328.122\">4</text>\n",
       "</g>\n",
       "<g clip-path=\"url(#clip3601)\">\n",
       "<text style=\"fill:#000000; fill-opacity:1; font-family:Arial,Helvetica Neue,Helvetica,sans-serif; font-size:48px; text-anchor:start;\" transform=\"rotate(0, 101.161, 149.621)\" x=\"101.161\" y=\"149.621\">4.5×10</text>\n",
       "</g>\n",
       "<g clip-path=\"url(#clip3601)\">\n",
       "<text style=\"fill:#000000; fill-opacity:1; font-family:Arial,Helvetica Neue,Helvetica,sans-serif; font-size:38px; text-anchor:start;\" transform=\"rotate(0, 249.702, 122.21)\" x=\"249.702\" y=\"122.21\">4</text>\n",
       "</g>\n",
       "<polyline clip-path=\"url(#clip3603)\" style=\"stroke:#009af9; stroke-width:4; stroke-opacity:1; fill:none\" points=\"\n",
       "  352.781,1462.26 429.227,1412.18 505.672,1358.19 582.118,1298.52 658.564,1240.78 735.01,1188.77 811.455,1133.71 887.901,1076.3 964.347,1037.59 1040.79,1037.3 \n",
       "  1117.24,1010.65 1193.68,965.231 1270.13,940.439 1346.58,915.112 1423.02,912.229 1499.47,804.825 1575.91,721.39 1652.36,624.323 1728.8,520.091 1805.25,424.383 \n",
       "  1881.7,333.946 1958.14,278.68 2034.59,235.973 2111.03,185.484 2187.48,149.161 2263.93,88.4582 \n",
       "  \"/>\n",
       "<line clip-path=\"url(#clip3603)\" x1=\"352.781\" y1=\"1462.26\" x2=\"332.781\" y2=\"1482.26\" style=\"stroke:#000000; stroke-width:4; stroke-opacity:1\"/>\n",
       "<line clip-path=\"url(#clip3603)\" x1=\"352.781\" y1=\"1462.26\" x2=\"332.781\" y2=\"1442.26\" style=\"stroke:#000000; stroke-width:4; stroke-opacity:1\"/>\n",
       "<line clip-path=\"url(#clip3603)\" x1=\"352.781\" y1=\"1462.26\" x2=\"372.781\" y2=\"1442.26\" style=\"stroke:#000000; stroke-width:4; stroke-opacity:1\"/>\n",
       "<line clip-path=\"url(#clip3603)\" x1=\"352.781\" y1=\"1462.26\" x2=\"372.781\" y2=\"1482.26\" style=\"stroke:#000000; stroke-width:4; stroke-opacity:1\"/>\n",
       "<line clip-path=\"url(#clip3603)\" x1=\"429.227\" y1=\"1412.18\" x2=\"409.227\" y2=\"1432.18\" style=\"stroke:#000000; stroke-width:4; stroke-opacity:1\"/>\n",
       "<line clip-path=\"url(#clip3603)\" x1=\"429.227\" y1=\"1412.18\" x2=\"409.227\" y2=\"1392.18\" style=\"stroke:#000000; stroke-width:4; stroke-opacity:1\"/>\n",
       "<line clip-path=\"url(#clip3603)\" x1=\"429.227\" y1=\"1412.18\" x2=\"449.227\" y2=\"1392.18\" style=\"stroke:#000000; stroke-width:4; stroke-opacity:1\"/>\n",
       "<line clip-path=\"url(#clip3603)\" x1=\"429.227\" y1=\"1412.18\" x2=\"449.227\" y2=\"1432.18\" style=\"stroke:#000000; stroke-width:4; stroke-opacity:1\"/>\n",
       "<line clip-path=\"url(#clip3603)\" x1=\"505.672\" y1=\"1358.19\" x2=\"485.672\" y2=\"1378.19\" style=\"stroke:#000000; stroke-width:4; stroke-opacity:1\"/>\n",
       "<line clip-path=\"url(#clip3603)\" x1=\"505.672\" y1=\"1358.19\" x2=\"485.672\" y2=\"1338.19\" style=\"stroke:#000000; stroke-width:4; stroke-opacity:1\"/>\n",
       "<line clip-path=\"url(#clip3603)\" x1=\"505.672\" y1=\"1358.19\" x2=\"525.672\" y2=\"1338.19\" style=\"stroke:#000000; stroke-width:4; stroke-opacity:1\"/>\n",
       "<line clip-path=\"url(#clip3603)\" x1=\"505.672\" y1=\"1358.19\" x2=\"525.672\" y2=\"1378.19\" style=\"stroke:#000000; stroke-width:4; stroke-opacity:1\"/>\n",
       "<line clip-path=\"url(#clip3603)\" x1=\"582.118\" y1=\"1298.52\" x2=\"562.118\" y2=\"1318.52\" style=\"stroke:#000000; stroke-width:4; stroke-opacity:1\"/>\n",
       "<line clip-path=\"url(#clip3603)\" x1=\"582.118\" y1=\"1298.52\" x2=\"562.118\" y2=\"1278.52\" style=\"stroke:#000000; stroke-width:4; stroke-opacity:1\"/>\n",
       "<line clip-path=\"url(#clip3603)\" x1=\"582.118\" y1=\"1298.52\" x2=\"602.118\" y2=\"1278.52\" style=\"stroke:#000000; stroke-width:4; stroke-opacity:1\"/>\n",
       "<line clip-path=\"url(#clip3603)\" x1=\"582.118\" y1=\"1298.52\" x2=\"602.118\" y2=\"1318.52\" style=\"stroke:#000000; stroke-width:4; stroke-opacity:1\"/>\n",
       "<line clip-path=\"url(#clip3603)\" x1=\"658.564\" y1=\"1240.78\" x2=\"638.564\" y2=\"1260.78\" style=\"stroke:#000000; stroke-width:4; stroke-opacity:1\"/>\n",
       "<line clip-path=\"url(#clip3603)\" x1=\"658.564\" y1=\"1240.78\" x2=\"638.564\" y2=\"1220.78\" style=\"stroke:#000000; stroke-width:4; stroke-opacity:1\"/>\n",
       "<line clip-path=\"url(#clip3603)\" x1=\"658.564\" y1=\"1240.78\" x2=\"678.564\" y2=\"1220.78\" style=\"stroke:#000000; stroke-width:4; stroke-opacity:1\"/>\n",
       "<line clip-path=\"url(#clip3603)\" x1=\"658.564\" y1=\"1240.78\" x2=\"678.564\" y2=\"1260.78\" style=\"stroke:#000000; stroke-width:4; stroke-opacity:1\"/>\n",
       "<line clip-path=\"url(#clip3603)\" x1=\"735.01\" y1=\"1188.77\" x2=\"715.01\" y2=\"1208.77\" style=\"stroke:#000000; stroke-width:4; stroke-opacity:1\"/>\n",
       "<line clip-path=\"url(#clip3603)\" x1=\"735.01\" y1=\"1188.77\" x2=\"715.01\" y2=\"1168.77\" style=\"stroke:#000000; stroke-width:4; stroke-opacity:1\"/>\n",
       "<line clip-path=\"url(#clip3603)\" x1=\"735.01\" y1=\"1188.77\" x2=\"755.01\" y2=\"1168.77\" style=\"stroke:#000000; stroke-width:4; stroke-opacity:1\"/>\n",
       "<line clip-path=\"url(#clip3603)\" x1=\"735.01\" y1=\"1188.77\" x2=\"755.01\" y2=\"1208.77\" style=\"stroke:#000000; stroke-width:4; stroke-opacity:1\"/>\n",
       "<line clip-path=\"url(#clip3603)\" x1=\"811.455\" y1=\"1133.71\" x2=\"791.455\" y2=\"1153.71\" style=\"stroke:#000000; stroke-width:4; stroke-opacity:1\"/>\n",
       "<line clip-path=\"url(#clip3603)\" x1=\"811.455\" y1=\"1133.71\" x2=\"791.455\" y2=\"1113.71\" style=\"stroke:#000000; stroke-width:4; stroke-opacity:1\"/>\n",
       "<line clip-path=\"url(#clip3603)\" x1=\"811.455\" y1=\"1133.71\" x2=\"831.455\" y2=\"1113.71\" style=\"stroke:#000000; stroke-width:4; stroke-opacity:1\"/>\n",
       "<line clip-path=\"url(#clip3603)\" x1=\"811.455\" y1=\"1133.71\" x2=\"831.455\" y2=\"1153.71\" style=\"stroke:#000000; stroke-width:4; stroke-opacity:1\"/>\n",
       "<line clip-path=\"url(#clip3603)\" x1=\"887.901\" y1=\"1076.3\" x2=\"867.901\" y2=\"1096.3\" style=\"stroke:#000000; stroke-width:4; stroke-opacity:1\"/>\n",
       "<line clip-path=\"url(#clip3603)\" x1=\"887.901\" y1=\"1076.3\" x2=\"867.901\" y2=\"1056.3\" style=\"stroke:#000000; stroke-width:4; stroke-opacity:1\"/>\n",
       "<line clip-path=\"url(#clip3603)\" x1=\"887.901\" y1=\"1076.3\" x2=\"907.901\" y2=\"1056.3\" style=\"stroke:#000000; stroke-width:4; stroke-opacity:1\"/>\n",
       "<line clip-path=\"url(#clip3603)\" x1=\"887.901\" y1=\"1076.3\" x2=\"907.901\" y2=\"1096.3\" style=\"stroke:#000000; stroke-width:4; stroke-opacity:1\"/>\n",
       "<line clip-path=\"url(#clip3603)\" x1=\"964.347\" y1=\"1037.59\" x2=\"944.347\" y2=\"1057.59\" style=\"stroke:#000000; stroke-width:4; stroke-opacity:1\"/>\n",
       "<line clip-path=\"url(#clip3603)\" x1=\"964.347\" y1=\"1037.59\" x2=\"944.347\" y2=\"1017.59\" style=\"stroke:#000000; stroke-width:4; stroke-opacity:1\"/>\n",
       "<line clip-path=\"url(#clip3603)\" x1=\"964.347\" y1=\"1037.59\" x2=\"984.347\" y2=\"1017.59\" style=\"stroke:#000000; stroke-width:4; stroke-opacity:1\"/>\n",
       "<line clip-path=\"url(#clip3603)\" x1=\"964.347\" y1=\"1037.59\" x2=\"984.347\" y2=\"1057.59\" style=\"stroke:#000000; stroke-width:4; stroke-opacity:1\"/>\n",
       "<line clip-path=\"url(#clip3603)\" x1=\"1040.79\" y1=\"1037.3\" x2=\"1020.79\" y2=\"1057.3\" style=\"stroke:#000000; stroke-width:4; stroke-opacity:1\"/>\n",
       "<line clip-path=\"url(#clip3603)\" x1=\"1040.79\" y1=\"1037.3\" x2=\"1020.79\" y2=\"1017.3\" style=\"stroke:#000000; stroke-width:4; stroke-opacity:1\"/>\n",
       "<line clip-path=\"url(#clip3603)\" x1=\"1040.79\" y1=\"1037.3\" x2=\"1060.79\" y2=\"1017.3\" style=\"stroke:#000000; stroke-width:4; stroke-opacity:1\"/>\n",
       "<line clip-path=\"url(#clip3603)\" x1=\"1040.79\" y1=\"1037.3\" x2=\"1060.79\" y2=\"1057.3\" style=\"stroke:#000000; stroke-width:4; stroke-opacity:1\"/>\n",
       "<line clip-path=\"url(#clip3603)\" x1=\"1117.24\" y1=\"1010.65\" x2=\"1097.24\" y2=\"1030.65\" style=\"stroke:#000000; stroke-width:4; stroke-opacity:1\"/>\n",
       "<line clip-path=\"url(#clip3603)\" x1=\"1117.24\" y1=\"1010.65\" x2=\"1097.24\" y2=\"990.655\" style=\"stroke:#000000; stroke-width:4; stroke-opacity:1\"/>\n",
       "<line clip-path=\"url(#clip3603)\" x1=\"1117.24\" y1=\"1010.65\" x2=\"1137.24\" y2=\"990.655\" style=\"stroke:#000000; stroke-width:4; stroke-opacity:1\"/>\n",
       "<line clip-path=\"url(#clip3603)\" x1=\"1117.24\" y1=\"1010.65\" x2=\"1137.24\" y2=\"1030.65\" style=\"stroke:#000000; stroke-width:4; stroke-opacity:1\"/>\n",
       "<line clip-path=\"url(#clip3603)\" x1=\"1193.68\" y1=\"965.231\" x2=\"1173.68\" y2=\"985.231\" style=\"stroke:#000000; stroke-width:4; stroke-opacity:1\"/>\n",
       "<line clip-path=\"url(#clip3603)\" x1=\"1193.68\" y1=\"965.231\" x2=\"1173.68\" y2=\"945.231\" style=\"stroke:#000000; stroke-width:4; stroke-opacity:1\"/>\n",
       "<line clip-path=\"url(#clip3603)\" x1=\"1193.68\" y1=\"965.231\" x2=\"1213.68\" y2=\"945.231\" style=\"stroke:#000000; stroke-width:4; stroke-opacity:1\"/>\n",
       "<line clip-path=\"url(#clip3603)\" x1=\"1193.68\" y1=\"965.231\" x2=\"1213.68\" y2=\"985.231\" style=\"stroke:#000000; stroke-width:4; stroke-opacity:1\"/>\n",
       "<line clip-path=\"url(#clip3603)\" x1=\"1270.13\" y1=\"940.439\" x2=\"1250.13\" y2=\"960.439\" style=\"stroke:#000000; stroke-width:4; stroke-opacity:1\"/>\n",
       "<line clip-path=\"url(#clip3603)\" x1=\"1270.13\" y1=\"940.439\" x2=\"1250.13\" y2=\"920.439\" style=\"stroke:#000000; stroke-width:4; stroke-opacity:1\"/>\n",
       "<line clip-path=\"url(#clip3603)\" x1=\"1270.13\" y1=\"940.439\" x2=\"1290.13\" y2=\"920.439\" style=\"stroke:#000000; stroke-width:4; stroke-opacity:1\"/>\n",
       "<line clip-path=\"url(#clip3603)\" x1=\"1270.13\" y1=\"940.439\" x2=\"1290.13\" y2=\"960.439\" style=\"stroke:#000000; stroke-width:4; stroke-opacity:1\"/>\n",
       "<line clip-path=\"url(#clip3603)\" x1=\"1346.58\" y1=\"915.112\" x2=\"1326.58\" y2=\"935.112\" style=\"stroke:#000000; stroke-width:4; stroke-opacity:1\"/>\n",
       "<line clip-path=\"url(#clip3603)\" x1=\"1346.58\" y1=\"915.112\" x2=\"1326.58\" y2=\"895.112\" style=\"stroke:#000000; stroke-width:4; stroke-opacity:1\"/>\n",
       "<line clip-path=\"url(#clip3603)\" x1=\"1346.58\" y1=\"915.112\" x2=\"1366.58\" y2=\"895.112\" style=\"stroke:#000000; stroke-width:4; stroke-opacity:1\"/>\n",
       "<line clip-path=\"url(#clip3603)\" x1=\"1346.58\" y1=\"915.112\" x2=\"1366.58\" y2=\"935.112\" style=\"stroke:#000000; stroke-width:4; stroke-opacity:1\"/>\n",
       "<line clip-path=\"url(#clip3603)\" x1=\"1423.02\" y1=\"912.229\" x2=\"1403.02\" y2=\"932.229\" style=\"stroke:#000000; stroke-width:4; stroke-opacity:1\"/>\n",
       "<line clip-path=\"url(#clip3603)\" x1=\"1423.02\" y1=\"912.229\" x2=\"1403.02\" y2=\"892.229\" style=\"stroke:#000000; stroke-width:4; stroke-opacity:1\"/>\n",
       "<line clip-path=\"url(#clip3603)\" x1=\"1423.02\" y1=\"912.229\" x2=\"1443.02\" y2=\"892.229\" style=\"stroke:#000000; stroke-width:4; stroke-opacity:1\"/>\n",
       "<line clip-path=\"url(#clip3603)\" x1=\"1423.02\" y1=\"912.229\" x2=\"1443.02\" y2=\"932.229\" style=\"stroke:#000000; stroke-width:4; stroke-opacity:1\"/>\n",
       "<line clip-path=\"url(#clip3603)\" x1=\"1499.47\" y1=\"804.825\" x2=\"1479.47\" y2=\"824.825\" style=\"stroke:#000000; stroke-width:4; stroke-opacity:1\"/>\n",
       "<line clip-path=\"url(#clip3603)\" x1=\"1499.47\" y1=\"804.825\" x2=\"1479.47\" y2=\"784.825\" style=\"stroke:#000000; stroke-width:4; stroke-opacity:1\"/>\n",
       "<line clip-path=\"url(#clip3603)\" x1=\"1499.47\" y1=\"804.825\" x2=\"1519.47\" y2=\"784.825\" style=\"stroke:#000000; stroke-width:4; stroke-opacity:1\"/>\n",
       "<line clip-path=\"url(#clip3603)\" x1=\"1499.47\" y1=\"804.825\" x2=\"1519.47\" y2=\"824.825\" style=\"stroke:#000000; stroke-width:4; stroke-opacity:1\"/>\n",
       "<line clip-path=\"url(#clip3603)\" x1=\"1575.91\" y1=\"721.39\" x2=\"1555.91\" y2=\"741.39\" style=\"stroke:#000000; stroke-width:4; stroke-opacity:1\"/>\n",
       "<line clip-path=\"url(#clip3603)\" x1=\"1575.91\" y1=\"721.39\" x2=\"1555.91\" y2=\"701.39\" style=\"stroke:#000000; stroke-width:4; stroke-opacity:1\"/>\n",
       "<line clip-path=\"url(#clip3603)\" x1=\"1575.91\" y1=\"721.39\" x2=\"1595.91\" y2=\"701.39\" style=\"stroke:#000000; stroke-width:4; stroke-opacity:1\"/>\n",
       "<line clip-path=\"url(#clip3603)\" x1=\"1575.91\" y1=\"721.39\" x2=\"1595.91\" y2=\"741.39\" style=\"stroke:#000000; stroke-width:4; stroke-opacity:1\"/>\n",
       "<line clip-path=\"url(#clip3603)\" x1=\"1652.36\" y1=\"624.323\" x2=\"1632.36\" y2=\"644.323\" style=\"stroke:#000000; stroke-width:4; stroke-opacity:1\"/>\n",
       "<line clip-path=\"url(#clip3603)\" x1=\"1652.36\" y1=\"624.323\" x2=\"1632.36\" y2=\"604.323\" style=\"stroke:#000000; stroke-width:4; stroke-opacity:1\"/>\n",
       "<line clip-path=\"url(#clip3603)\" x1=\"1652.36\" y1=\"624.323\" x2=\"1672.36\" y2=\"604.323\" style=\"stroke:#000000; stroke-width:4; stroke-opacity:1\"/>\n",
       "<line clip-path=\"url(#clip3603)\" x1=\"1652.36\" y1=\"624.323\" x2=\"1672.36\" y2=\"644.323\" style=\"stroke:#000000; stroke-width:4; stroke-opacity:1\"/>\n",
       "<line clip-path=\"url(#clip3603)\" x1=\"1728.8\" y1=\"520.091\" x2=\"1708.8\" y2=\"540.091\" style=\"stroke:#000000; stroke-width:4; stroke-opacity:1\"/>\n",
       "<line clip-path=\"url(#clip3603)\" x1=\"1728.8\" y1=\"520.091\" x2=\"1708.8\" y2=\"500.091\" style=\"stroke:#000000; stroke-width:4; stroke-opacity:1\"/>\n",
       "<line clip-path=\"url(#clip3603)\" x1=\"1728.8\" y1=\"520.091\" x2=\"1748.8\" y2=\"500.091\" style=\"stroke:#000000; stroke-width:4; stroke-opacity:1\"/>\n",
       "<line clip-path=\"url(#clip3603)\" x1=\"1728.8\" y1=\"520.091\" x2=\"1748.8\" y2=\"540.091\" style=\"stroke:#000000; stroke-width:4; stroke-opacity:1\"/>\n",
       "<line clip-path=\"url(#clip3603)\" x1=\"1805.25\" y1=\"424.383\" x2=\"1785.25\" y2=\"444.383\" style=\"stroke:#000000; stroke-width:4; stroke-opacity:1\"/>\n",
       "<line clip-path=\"url(#clip3603)\" x1=\"1805.25\" y1=\"424.383\" x2=\"1785.25\" y2=\"404.383\" style=\"stroke:#000000; stroke-width:4; stroke-opacity:1\"/>\n",
       "<line clip-path=\"url(#clip3603)\" x1=\"1805.25\" y1=\"424.383\" x2=\"1825.25\" y2=\"404.383\" style=\"stroke:#000000; stroke-width:4; stroke-opacity:1\"/>\n",
       "<line clip-path=\"url(#clip3603)\" x1=\"1805.25\" y1=\"424.383\" x2=\"1825.25\" y2=\"444.383\" style=\"stroke:#000000; stroke-width:4; stroke-opacity:1\"/>\n",
       "<line clip-path=\"url(#clip3603)\" x1=\"1881.7\" y1=\"333.946\" x2=\"1861.7\" y2=\"353.946\" style=\"stroke:#000000; stroke-width:4; stroke-opacity:1\"/>\n",
       "<line clip-path=\"url(#clip3603)\" x1=\"1881.7\" y1=\"333.946\" x2=\"1861.7\" y2=\"313.946\" style=\"stroke:#000000; stroke-width:4; stroke-opacity:1\"/>\n",
       "<line clip-path=\"url(#clip3603)\" x1=\"1881.7\" y1=\"333.946\" x2=\"1901.7\" y2=\"313.946\" style=\"stroke:#000000; stroke-width:4; stroke-opacity:1\"/>\n",
       "<line clip-path=\"url(#clip3603)\" x1=\"1881.7\" y1=\"333.946\" x2=\"1901.7\" y2=\"353.946\" style=\"stroke:#000000; stroke-width:4; stroke-opacity:1\"/>\n",
       "<line clip-path=\"url(#clip3603)\" x1=\"1958.14\" y1=\"278.68\" x2=\"1938.14\" y2=\"298.68\" style=\"stroke:#000000; stroke-width:4; stroke-opacity:1\"/>\n",
       "<line clip-path=\"url(#clip3603)\" x1=\"1958.14\" y1=\"278.68\" x2=\"1938.14\" y2=\"258.68\" style=\"stroke:#000000; stroke-width:4; stroke-opacity:1\"/>\n",
       "<line clip-path=\"url(#clip3603)\" x1=\"1958.14\" y1=\"278.68\" x2=\"1978.14\" y2=\"258.68\" style=\"stroke:#000000; stroke-width:4; stroke-opacity:1\"/>\n",
       "<line clip-path=\"url(#clip3603)\" x1=\"1958.14\" y1=\"278.68\" x2=\"1978.14\" y2=\"298.68\" style=\"stroke:#000000; stroke-width:4; stroke-opacity:1\"/>\n",
       "<line clip-path=\"url(#clip3603)\" x1=\"2034.59\" y1=\"235.973\" x2=\"2014.59\" y2=\"255.973\" style=\"stroke:#000000; stroke-width:4; stroke-opacity:1\"/>\n",
       "<line clip-path=\"url(#clip3603)\" x1=\"2034.59\" y1=\"235.973\" x2=\"2014.59\" y2=\"215.973\" style=\"stroke:#000000; stroke-width:4; stroke-opacity:1\"/>\n",
       "<line clip-path=\"url(#clip3603)\" x1=\"2034.59\" y1=\"235.973\" x2=\"2054.59\" y2=\"215.973\" style=\"stroke:#000000; stroke-width:4; stroke-opacity:1\"/>\n",
       "<line clip-path=\"url(#clip3603)\" x1=\"2034.59\" y1=\"235.973\" x2=\"2054.59\" y2=\"255.973\" style=\"stroke:#000000; stroke-width:4; stroke-opacity:1\"/>\n",
       "<line clip-path=\"url(#clip3603)\" x1=\"2111.03\" y1=\"185.484\" x2=\"2091.03\" y2=\"205.484\" style=\"stroke:#000000; stroke-width:4; stroke-opacity:1\"/>\n",
       "<line clip-path=\"url(#clip3603)\" x1=\"2111.03\" y1=\"185.484\" x2=\"2091.03\" y2=\"165.484\" style=\"stroke:#000000; stroke-width:4; stroke-opacity:1\"/>\n",
       "<line clip-path=\"url(#clip3603)\" x1=\"2111.03\" y1=\"185.484\" x2=\"2131.03\" y2=\"165.484\" style=\"stroke:#000000; stroke-width:4; stroke-opacity:1\"/>\n",
       "<line clip-path=\"url(#clip3603)\" x1=\"2111.03\" y1=\"185.484\" x2=\"2131.03\" y2=\"205.484\" style=\"stroke:#000000; stroke-width:4; stroke-opacity:1\"/>\n",
       "<line clip-path=\"url(#clip3603)\" x1=\"2187.48\" y1=\"149.161\" x2=\"2167.48\" y2=\"169.161\" style=\"stroke:#000000; stroke-width:4; stroke-opacity:1\"/>\n",
       "<line clip-path=\"url(#clip3603)\" x1=\"2187.48\" y1=\"149.161\" x2=\"2167.48\" y2=\"129.161\" style=\"stroke:#000000; stroke-width:4; stroke-opacity:1\"/>\n",
       "<line clip-path=\"url(#clip3603)\" x1=\"2187.48\" y1=\"149.161\" x2=\"2207.48\" y2=\"129.161\" style=\"stroke:#000000; stroke-width:4; stroke-opacity:1\"/>\n",
       "<line clip-path=\"url(#clip3603)\" x1=\"2187.48\" y1=\"149.161\" x2=\"2207.48\" y2=\"169.161\" style=\"stroke:#000000; stroke-width:4; stroke-opacity:1\"/>\n",
       "<line clip-path=\"url(#clip3603)\" x1=\"2263.93\" y1=\"88.4582\" x2=\"2243.93\" y2=\"108.458\" style=\"stroke:#000000; stroke-width:4; stroke-opacity:1\"/>\n",
       "<line clip-path=\"url(#clip3603)\" x1=\"2263.93\" y1=\"88.4582\" x2=\"2243.93\" y2=\"68.4582\" style=\"stroke:#000000; stroke-width:4; stroke-opacity:1\"/>\n",
       "<line clip-path=\"url(#clip3603)\" x1=\"2263.93\" y1=\"88.4582\" x2=\"2283.93\" y2=\"68.4582\" style=\"stroke:#000000; stroke-width:4; stroke-opacity:1\"/>\n",
       "<line clip-path=\"url(#clip3603)\" x1=\"2263.93\" y1=\"88.4582\" x2=\"2283.93\" y2=\"108.458\" style=\"stroke:#000000; stroke-width:4; stroke-opacity:1\"/>\n",
       "<polygon clip-path=\"url(#clip3601)\" points=\"\n",
       "1808.64,251.724 2249.26,251.724 2249.26,130.764 1808.64,130.764 \n",
       "  \" fill=\"#ffffff\" fill-rule=\"evenodd\" fill-opacity=\"1\"/>\n",
       "<polyline clip-path=\"url(#clip3601)\" style=\"stroke:#000000; stroke-width:4; stroke-opacity:1; fill:none\" points=\"\n",
       "  1808.64,251.724 2249.26,251.724 2249.26,130.764 1808.64,130.764 1808.64,251.724 \n",
       "  \"/>\n",
       "<polyline clip-path=\"url(#clip3601)\" style=\"stroke:#009af9; stroke-width:4; stroke-opacity:1; fill:none\" points=\"\n",
       "  1832.64,191.244 1976.64,191.244 \n",
       "  \"/>\n",
       "<line clip-path=\"url(#clip3601)\" x1=\"1916.64\" y1=\"191.244\" x2=\"1888.64\" y2=\"219.244\" style=\"stroke:#000000; stroke-width:4; stroke-opacity:1\"/>\n",
       "<line clip-path=\"url(#clip3601)\" x1=\"1916.64\" y1=\"191.244\" x2=\"1888.64\" y2=\"163.244\" style=\"stroke:#000000; stroke-width:4; stroke-opacity:1\"/>\n",
       "<line clip-path=\"url(#clip3601)\" x1=\"1916.64\" y1=\"191.244\" x2=\"1944.64\" y2=\"163.244\" style=\"stroke:#000000; stroke-width:4; stroke-opacity:1\"/>\n",
       "<line clip-path=\"url(#clip3601)\" x1=\"1916.64\" y1=\"191.244\" x2=\"1944.64\" y2=\"219.244\" style=\"stroke:#000000; stroke-width:4; stroke-opacity:1\"/>\n",
       "<g clip-path=\"url(#clip3601)\">\n",
       "<text style=\"fill:#000000; fill-opacity:1; font-family:Arial,Helvetica Neue,Helvetica,sans-serif; font-size:48px; text-anchor:start;\" transform=\"rotate(0, 2000.64, 208.744)\" x=\"2000.64\" y=\"208.744\">Residuos</text>\n",
       "</g>\n",
       "</svg>\n"
      ]
     },
     "execution_count": 202,
     "metadata": {},
     "output_type": "execute_result"
    }
   ],
   "source": [
    "subdatos = datos[ datos[2] .== sectores[4], :]\n",
    "plot(subdatos[:año], subdatos[:gases], \n",
    "    m=:x, label=sectores[4])"
   ]
  },
  {
   "cell_type": "markdown",
   "metadata": {
    "slideshow": {
     "slide_type": "subslide"
    }
   },
   "source": [
    "Quiero repetir esto para cada sector"
   ]
  },
  {
   "cell_type": "markdown",
   "metadata": {},
   "source": [
    "## Bucle"
   ]
  },
  {
   "cell_type": "markdown",
   "metadata": {},
   "source": [
    "Bucle for (\"para\")"
   ]
  },
  {
   "cell_type": "code",
   "execution_count": 203,
   "metadata": {},
   "outputs": [
    {
     "name": "stdout",
     "output_type": "stream",
     "text": [
      "12345"
     ]
    }
   ],
   "source": [
    "for i in 1:5   # : = hasta\n",
    "    print(i)\n",
    "end"
   ]
  },
  {
   "cell_type": "code",
   "execution_count": 205,
   "metadata": {},
   "outputs": [
    {
     "data": {
      "text/plain": [
       "18"
      ]
     },
     "execution_count": 205,
     "metadata": {},
     "output_type": "execute_result"
    }
   ],
   "source": [
    "x = 3\n",
    "2x^2"
   ]
  },
  {
   "cell_type": "code",
   "execution_count": 204,
   "metadata": {},
   "outputs": [
    {
     "name": "stdout",
     "output_type": "stream",
     "text": [
      "2\n",
      "4\n",
      "6\n",
      "8\n",
      "10\n"
     ]
    }
   ],
   "source": [
    "for i in 1:5   # : = hasta\n",
    "    j = 2i   # 2 * i\n",
    "    println(j)\n",
    "end"
   ]
  },
  {
   "cell_type": "code",
   "execution_count": 210,
   "metadata": {},
   "outputs": [
    {
     "data": {
      "text/plain": [
       "5-element Array{Union{Missing, String},1}:\n",
       " \"Energia\"                                            \n",
       " \"Procesos industriales\"                              \n",
       " \"Agricultura, silvicultura y otros usos de la tierra\"\n",
       " \"Residuos\"                                           \n",
       " \"Emisiones netas\"                                    "
      ]
     },
     "execution_count": 210,
     "metadata": {},
     "output_type": "execute_result"
    }
   ],
   "source": [
    "sectores"
   ]
  },
  {
   "cell_type": "code",
   "execution_count": 211,
   "metadata": {},
   "outputs": [
    {
     "data": {
      "text/plain": [
       "5"
      ]
     },
     "execution_count": 211,
     "metadata": {},
     "output_type": "execute_result"
    }
   ],
   "source": [
    "length(sectores)"
   ]
  },
  {
   "cell_type": "code",
   "execution_count": 212,
   "metadata": {},
   "outputs": [
    {
     "ename": "UndefVarError",
     "evalue": "UndefVarError: lenght not defined",
     "output_type": "error",
     "traceback": [
      "UndefVarError: lenght not defined",
      "",
      "Stacktrace:",
      " [1] top-level scope at In[212]:1"
     ]
    }
   ],
   "source": [
    "lenght(sectores)"
   ]
  },
  {
   "cell_type": "code",
   "execution_count": 214,
   "metadata": {},
   "outputs": [
    {
     "name": "stdout",
     "output_type": "stream",
     "text": [
      "Energia\n",
      "Procesos industriales\n",
      "Agricultura, silvicultura y otros usos de la tierra\n",
      "Residuos\n",
      "Emisiones netas\n"
     ]
    }
   ],
   "source": [
    "for i in 1:length(sectores)\n",
    "    nombre = sectores[i]\n",
    "    println(nombre)\n",
    "end"
   ]
  },
  {
   "cell_type": "code",
   "execution_count": 209,
   "metadata": {},
   "outputs": [
    {
     "data": {
      "image/svg+xml": [
       "<?xml version=\"1.0\" encoding=\"utf-8\"?>\n",
       "<svg xmlns=\"http://www.w3.org/2000/svg\" xmlns:xlink=\"http://www.w3.org/1999/xlink\" width=\"600\" height=\"400\" viewBox=\"0 0 2400 1600\">\n",
       "<defs>\n",
       "  <clipPath id=\"clip4400\">\n",
       "    <rect x=\"0\" y=\"0\" width=\"2000\" height=\"2000\"/>\n",
       "  </clipPath>\n",
       "</defs>\n",
       "<defs>\n",
       "  <clipPath id=\"clip4401\">\n",
       "    <rect x=\"0\" y=\"0\" width=\"2400\" height=\"1600\"/>\n",
       "  </clipPath>\n",
       "</defs>\n",
       "<polygon clip-path=\"url(#clip4401)\" points=\"\n",
       "0,1600 2400,1600 2400,0 0,0 \n",
       "  \" fill=\"#ffffff\" fill-rule=\"evenodd\" fill-opacity=\"1\"/>\n",
       "<defs>\n",
       "  <clipPath id=\"clip4402\">\n",
       "    <rect x=\"480\" y=\"0\" width=\"1681\" height=\"1600\"/>\n",
       "  </clipPath>\n",
       "</defs>\n",
       "<polygon clip-path=\"url(#clip4401)\" points=\"\n",
       "268.684,1503.47 2321.26,1503.47 2321.26,47.2441 268.684,47.2441 \n",
       "  \" fill=\"#ffffff\" fill-rule=\"evenodd\" fill-opacity=\"1\"/>\n",
       "<defs>\n",
       "  <clipPath id=\"clip4403\">\n",
       "    <rect x=\"268\" y=\"47\" width=\"2054\" height=\"1457\"/>\n",
       "  </clipPath>\n",
       "</defs>\n",
       "<polyline clip-path=\"url(#clip4403)\" style=\"stroke:#000000; stroke-width:2; stroke-opacity:0.1; fill:none\" points=\"\n",
       "  326.776,1503.47 326.776,47.2441 \n",
       "  \"/>\n",
       "<polyline clip-path=\"url(#clip4403)\" style=\"stroke:#000000; stroke-width:2; stroke-opacity:0.1; fill:none\" points=\"\n",
       "  714.054,1503.47 714.054,47.2441 \n",
       "  \"/>\n",
       "<polyline clip-path=\"url(#clip4403)\" style=\"stroke:#000000; stroke-width:2; stroke-opacity:0.1; fill:none\" points=\"\n",
       "  1101.33,1503.47 1101.33,47.2441 \n",
       "  \"/>\n",
       "<polyline clip-path=\"url(#clip4403)\" style=\"stroke:#000000; stroke-width:2; stroke-opacity:0.1; fill:none\" points=\"\n",
       "  1488.61,1503.47 1488.61,47.2441 \n",
       "  \"/>\n",
       "<polyline clip-path=\"url(#clip4403)\" style=\"stroke:#000000; stroke-width:2; stroke-opacity:0.1; fill:none\" points=\"\n",
       "  1875.89,1503.47 1875.89,47.2441 \n",
       "  \"/>\n",
       "<polyline clip-path=\"url(#clip4403)\" style=\"stroke:#000000; stroke-width:2; stroke-opacity:0.1; fill:none\" points=\"\n",
       "  2263.17,1503.47 2263.17,47.2441 \n",
       "  \"/>\n",
       "<polyline clip-path=\"url(#clip4403)\" style=\"stroke:#000000; stroke-width:2; stroke-opacity:0.1; fill:none\" points=\"\n",
       "  268.684,1329.19 2321.26,1329.19 \n",
       "  \"/>\n",
       "<polyline clip-path=\"url(#clip4403)\" style=\"stroke:#000000; stroke-width:2; stroke-opacity:0.1; fill:none\" points=\"\n",
       "  268.684,1097.11 2321.26,1097.11 \n",
       "  \"/>\n",
       "<polyline clip-path=\"url(#clip4403)\" style=\"stroke:#000000; stroke-width:2; stroke-opacity:0.1; fill:none\" points=\"\n",
       "  268.684,865.029 2321.26,865.029 \n",
       "  \"/>\n",
       "<polyline clip-path=\"url(#clip4403)\" style=\"stroke:#000000; stroke-width:2; stroke-opacity:0.1; fill:none\" points=\"\n",
       "  268.684,632.949 2321.26,632.949 \n",
       "  \"/>\n",
       "<polyline clip-path=\"url(#clip4403)\" style=\"stroke:#000000; stroke-width:2; stroke-opacity:0.1; fill:none\" points=\"\n",
       "  268.684,400.869 2321.26,400.869 \n",
       "  \"/>\n",
       "<polyline clip-path=\"url(#clip4403)\" style=\"stroke:#000000; stroke-width:2; stroke-opacity:0.1; fill:none\" points=\"\n",
       "  268.684,168.788 2321.26,168.788 \n",
       "  \"/>\n",
       "<polyline clip-path=\"url(#clip4401)\" style=\"stroke:#000000; stroke-width:4; stroke-opacity:1; fill:none\" points=\"\n",
       "  268.684,1503.47 2321.26,1503.47 \n",
       "  \"/>\n",
       "<polyline clip-path=\"url(#clip4401)\" style=\"stroke:#000000; stroke-width:4; stroke-opacity:1; fill:none\" points=\"\n",
       "  268.684,1503.47 268.684,47.2441 \n",
       "  \"/>\n",
       "<polyline clip-path=\"url(#clip4401)\" style=\"stroke:#000000; stroke-width:4; stroke-opacity:1; fill:none\" points=\"\n",
       "  326.776,1503.47 326.776,1481.63 \n",
       "  \"/>\n",
       "<polyline clip-path=\"url(#clip4401)\" style=\"stroke:#000000; stroke-width:4; stroke-opacity:1; fill:none\" points=\"\n",
       "  714.054,1503.47 714.054,1481.63 \n",
       "  \"/>\n",
       "<polyline clip-path=\"url(#clip4401)\" style=\"stroke:#000000; stroke-width:4; stroke-opacity:1; fill:none\" points=\"\n",
       "  1101.33,1503.47 1101.33,1481.63 \n",
       "  \"/>\n",
       "<polyline clip-path=\"url(#clip4401)\" style=\"stroke:#000000; stroke-width:4; stroke-opacity:1; fill:none\" points=\"\n",
       "  1488.61,1503.47 1488.61,1481.63 \n",
       "  \"/>\n",
       "<polyline clip-path=\"url(#clip4401)\" style=\"stroke:#000000; stroke-width:4; stroke-opacity:1; fill:none\" points=\"\n",
       "  1875.89,1503.47 1875.89,1481.63 \n",
       "  \"/>\n",
       "<polyline clip-path=\"url(#clip4401)\" style=\"stroke:#000000; stroke-width:4; stroke-opacity:1; fill:none\" points=\"\n",
       "  2263.17,1503.47 2263.17,1481.63 \n",
       "  \"/>\n",
       "<polyline clip-path=\"url(#clip4401)\" style=\"stroke:#000000; stroke-width:4; stroke-opacity:1; fill:none\" points=\"\n",
       "  268.684,1329.19 299.473,1329.19 \n",
       "  \"/>\n",
       "<polyline clip-path=\"url(#clip4401)\" style=\"stroke:#000000; stroke-width:4; stroke-opacity:1; fill:none\" points=\"\n",
       "  268.684,1097.11 299.473,1097.11 \n",
       "  \"/>\n",
       "<polyline clip-path=\"url(#clip4401)\" style=\"stroke:#000000; stroke-width:4; stroke-opacity:1; fill:none\" points=\"\n",
       "  268.684,865.029 299.473,865.029 \n",
       "  \"/>\n",
       "<polyline clip-path=\"url(#clip4401)\" style=\"stroke:#000000; stroke-width:4; stroke-opacity:1; fill:none\" points=\"\n",
       "  268.684,632.949 299.473,632.949 \n",
       "  \"/>\n",
       "<polyline clip-path=\"url(#clip4401)\" style=\"stroke:#000000; stroke-width:4; stroke-opacity:1; fill:none\" points=\"\n",
       "  268.684,400.869 299.473,400.869 \n",
       "  \"/>\n",
       "<polyline clip-path=\"url(#clip4401)\" style=\"stroke:#000000; stroke-width:4; stroke-opacity:1; fill:none\" points=\"\n",
       "  268.684,168.788 299.473,168.788 \n",
       "  \"/>\n",
       "<g clip-path=\"url(#clip4401)\">\n",
       "<text style=\"fill:#000000; fill-opacity:1; font-family:Arial,Helvetica Neue,Helvetica,sans-serif; font-size:48px; text-anchor:middle;\" transform=\"rotate(0, 326.776, 1557.47)\" x=\"326.776\" y=\"1557.47\">1990</text>\n",
       "</g>\n",
       "<g clip-path=\"url(#clip4401)\">\n",
       "<text style=\"fill:#000000; fill-opacity:1; font-family:Arial,Helvetica Neue,Helvetica,sans-serif; font-size:48px; text-anchor:middle;\" transform=\"rotate(0, 714.054, 1557.47)\" x=\"714.054\" y=\"1557.47\">1995</text>\n",
       "</g>\n",
       "<g clip-path=\"url(#clip4401)\">\n",
       "<text style=\"fill:#000000; fill-opacity:1; font-family:Arial,Helvetica Neue,Helvetica,sans-serif; font-size:48px; text-anchor:middle;\" transform=\"rotate(0, 1101.33, 1557.47)\" x=\"1101.33\" y=\"1557.47\">2000</text>\n",
       "</g>\n",
       "<g clip-path=\"url(#clip4401)\">\n",
       "<text style=\"fill:#000000; fill-opacity:1; font-family:Arial,Helvetica Neue,Helvetica,sans-serif; font-size:48px; text-anchor:middle;\" transform=\"rotate(0, 1488.61, 1557.47)\" x=\"1488.61\" y=\"1557.47\">2005</text>\n",
       "</g>\n",
       "<g clip-path=\"url(#clip4401)\">\n",
       "<text style=\"fill:#000000; fill-opacity:1; font-family:Arial,Helvetica Neue,Helvetica,sans-serif; font-size:48px; text-anchor:middle;\" transform=\"rotate(0, 1875.89, 1557.47)\" x=\"1875.89\" y=\"1557.47\">2010</text>\n",
       "</g>\n",
       "<g clip-path=\"url(#clip4401)\">\n",
       "<text style=\"fill:#000000; fill-opacity:1; font-family:Arial,Helvetica Neue,Helvetica,sans-serif; font-size:48px; text-anchor:middle;\" transform=\"rotate(0, 2263.17, 1557.47)\" x=\"2263.17\" y=\"1557.47\">2015</text>\n",
       "</g>\n",
       "<g clip-path=\"url(#clip4401)\">\n",
       "<text style=\"fill:#000000; fill-opacity:1; font-family:Arial,Helvetica Neue,Helvetica,sans-serif; font-size:48px; text-anchor:end;\" transform=\"rotate(0, 244.684, 1346.69)\" x=\"244.684\" y=\"1346.69\">0</text>\n",
       "</g>\n",
       "<g clip-path=\"url(#clip4401)\">\n",
       "<text style=\"fill:#000000; fill-opacity:1; font-family:Arial,Helvetica Neue,Helvetica,sans-serif; font-size:48px; text-anchor:start;\" transform=\"rotate(0, 114.543, 1120.84)\" x=\"114.543\" y=\"1120.84\">1×10</text>\n",
       "</g>\n",
       "<g clip-path=\"url(#clip4401)\">\n",
       "<text style=\"fill:#000000; fill-opacity:1; font-family:Arial,Helvetica Neue,Helvetica,sans-serif; font-size:38px; text-anchor:start;\" transform=\"rotate(0, 222.94, 1093.43)\" x=\"222.94\" y=\"1093.43\">5</text>\n",
       "</g>\n",
       "<g clip-path=\"url(#clip4401)\">\n",
       "<text style=\"fill:#000000; fill-opacity:1; font-family:Arial,Helvetica Neue,Helvetica,sans-serif; font-size:48px; text-anchor:start;\" transform=\"rotate(0, 114.543, 888.757)\" x=\"114.543\" y=\"888.757\">2×10</text>\n",
       "</g>\n",
       "<g clip-path=\"url(#clip4401)\">\n",
       "<text style=\"fill:#000000; fill-opacity:1; font-family:Arial,Helvetica Neue,Helvetica,sans-serif; font-size:38px; text-anchor:start;\" transform=\"rotate(0, 222.94, 861.347)\" x=\"222.94\" y=\"861.347\">5</text>\n",
       "</g>\n",
       "<g clip-path=\"url(#clip4401)\">\n",
       "<text style=\"fill:#000000; fill-opacity:1; font-family:Arial,Helvetica Neue,Helvetica,sans-serif; font-size:48px; text-anchor:start;\" transform=\"rotate(0, 114.543, 656.677)\" x=\"114.543\" y=\"656.677\">3×10</text>\n",
       "</g>\n",
       "<g clip-path=\"url(#clip4401)\">\n",
       "<text style=\"fill:#000000; fill-opacity:1; font-family:Arial,Helvetica Neue,Helvetica,sans-serif; font-size:38px; text-anchor:start;\" transform=\"rotate(0, 222.94, 629.266)\" x=\"222.94\" y=\"629.266\">5</text>\n",
       "</g>\n",
       "<g clip-path=\"url(#clip4401)\">\n",
       "<text style=\"fill:#000000; fill-opacity:1; font-family:Arial,Helvetica Neue,Helvetica,sans-serif; font-size:48px; text-anchor:start;\" transform=\"rotate(0, 114.543, 424.596)\" x=\"114.543\" y=\"424.596\">4×10</text>\n",
       "</g>\n",
       "<g clip-path=\"url(#clip4401)\">\n",
       "<text style=\"fill:#000000; fill-opacity:1; font-family:Arial,Helvetica Neue,Helvetica,sans-serif; font-size:38px; text-anchor:start;\" transform=\"rotate(0, 222.94, 397.186)\" x=\"222.94\" y=\"397.186\">5</text>\n",
       "</g>\n",
       "<g clip-path=\"url(#clip4401)\">\n",
       "<text style=\"fill:#000000; fill-opacity:1; font-family:Arial,Helvetica Neue,Helvetica,sans-serif; font-size:48px; text-anchor:start;\" transform=\"rotate(0, 114.543, 192.516)\" x=\"114.543\" y=\"192.516\">5×10</text>\n",
       "</g>\n",
       "<g clip-path=\"url(#clip4401)\">\n",
       "<text style=\"fill:#000000; fill-opacity:1; font-family:Arial,Helvetica Neue,Helvetica,sans-serif; font-size:38px; text-anchor:start;\" transform=\"rotate(0, 222.94, 165.105)\" x=\"222.94\" y=\"165.105\">5</text>\n",
       "</g>\n",
       "<polyline clip-path=\"url(#clip4403)\" style=\"stroke:#009af9; stroke-width:4; stroke-opacity:1; fill:none\" points=\"\n",
       "  326.776,629.531 404.232,603.032 481.687,600.158 559.143,596.543 636.599,555.163 714.054,579.178 791.51,535.768 868.966,485.71 946.421,434.773 1023.88,461.309 \n",
       "  1101.33,446.646 1178.79,454.391 1256.24,410.744 1333.7,412.614 1411.16,397.334 1488.61,370.167 1566.07,327.705 1643.52,267.889 1720.98,169.547 1798.43,219.463 \n",
       "  1875.89,238.477 1953.35,224.961 2030.8,244.17 2108.26,229.679 2185.71,236.985 2263.17,213.164 \n",
       "  \"/>\n",
       "<circle clip-path=\"url(#clip4403)\" style=\"fill:#000000; stroke:none; fill-opacity:1\" cx=\"326.776\" cy=\"629.531\" r=\"18\"/>\n",
       "<circle clip-path=\"url(#clip4403)\" style=\"fill:#009af9; stroke:none; fill-opacity:1\" cx=\"326.776\" cy=\"629.531\" r=\"14\"/>\n",
       "<circle clip-path=\"url(#clip4403)\" style=\"fill:#000000; stroke:none; fill-opacity:1\" cx=\"404.232\" cy=\"603.032\" r=\"18\"/>\n",
       "<circle clip-path=\"url(#clip4403)\" style=\"fill:#009af9; stroke:none; fill-opacity:1\" cx=\"404.232\" cy=\"603.032\" r=\"14\"/>\n",
       "<circle clip-path=\"url(#clip4403)\" style=\"fill:#000000; stroke:none; fill-opacity:1\" cx=\"481.687\" cy=\"600.158\" r=\"18\"/>\n",
       "<circle clip-path=\"url(#clip4403)\" style=\"fill:#009af9; stroke:none; fill-opacity:1\" cx=\"481.687\" cy=\"600.158\" r=\"14\"/>\n",
       "<circle clip-path=\"url(#clip4403)\" style=\"fill:#000000; stroke:none; fill-opacity:1\" cx=\"559.143\" cy=\"596.543\" r=\"18\"/>\n",
       "<circle clip-path=\"url(#clip4403)\" style=\"fill:#009af9; stroke:none; fill-opacity:1\" cx=\"559.143\" cy=\"596.543\" r=\"14\"/>\n",
       "<circle clip-path=\"url(#clip4403)\" style=\"fill:#000000; stroke:none; fill-opacity:1\" cx=\"636.599\" cy=\"555.163\" r=\"18\"/>\n",
       "<circle clip-path=\"url(#clip4403)\" style=\"fill:#009af9; stroke:none; fill-opacity:1\" cx=\"636.599\" cy=\"555.163\" r=\"14\"/>\n",
       "<circle clip-path=\"url(#clip4403)\" style=\"fill:#000000; stroke:none; fill-opacity:1\" cx=\"714.054\" cy=\"579.178\" r=\"18\"/>\n",
       "<circle clip-path=\"url(#clip4403)\" style=\"fill:#009af9; stroke:none; fill-opacity:1\" cx=\"714.054\" cy=\"579.178\" r=\"14\"/>\n",
       "<circle clip-path=\"url(#clip4403)\" style=\"fill:#000000; stroke:none; fill-opacity:1\" cx=\"791.51\" cy=\"535.768\" r=\"18\"/>\n",
       "<circle clip-path=\"url(#clip4403)\" style=\"fill:#009af9; stroke:none; fill-opacity:1\" cx=\"791.51\" cy=\"535.768\" r=\"14\"/>\n",
       "<circle clip-path=\"url(#clip4403)\" style=\"fill:#000000; stroke:none; fill-opacity:1\" cx=\"868.966\" cy=\"485.71\" r=\"18\"/>\n",
       "<circle clip-path=\"url(#clip4403)\" style=\"fill:#009af9; stroke:none; fill-opacity:1\" cx=\"868.966\" cy=\"485.71\" r=\"14\"/>\n",
       "<circle clip-path=\"url(#clip4403)\" style=\"fill:#000000; stroke:none; fill-opacity:1\" cx=\"946.421\" cy=\"434.773\" r=\"18\"/>\n",
       "<circle clip-path=\"url(#clip4403)\" style=\"fill:#009af9; stroke:none; fill-opacity:1\" cx=\"946.421\" cy=\"434.773\" r=\"14\"/>\n",
       "<circle clip-path=\"url(#clip4403)\" style=\"fill:#000000; stroke:none; fill-opacity:1\" cx=\"1023.88\" cy=\"461.309\" r=\"18\"/>\n",
       "<circle clip-path=\"url(#clip4403)\" style=\"fill:#009af9; stroke:none; fill-opacity:1\" cx=\"1023.88\" cy=\"461.309\" r=\"14\"/>\n",
       "<circle clip-path=\"url(#clip4403)\" style=\"fill:#000000; stroke:none; fill-opacity:1\" cx=\"1101.33\" cy=\"446.646\" r=\"18\"/>\n",
       "<circle clip-path=\"url(#clip4403)\" style=\"fill:#009af9; stroke:none; fill-opacity:1\" cx=\"1101.33\" cy=\"446.646\" r=\"14\"/>\n",
       "<circle clip-path=\"url(#clip4403)\" style=\"fill:#000000; stroke:none; fill-opacity:1\" cx=\"1178.79\" cy=\"454.391\" r=\"18\"/>\n",
       "<circle clip-path=\"url(#clip4403)\" style=\"fill:#009af9; stroke:none; fill-opacity:1\" cx=\"1178.79\" cy=\"454.391\" r=\"14\"/>\n",
       "<circle clip-path=\"url(#clip4403)\" style=\"fill:#000000; stroke:none; fill-opacity:1\" cx=\"1256.24\" cy=\"410.744\" r=\"18\"/>\n",
       "<circle clip-path=\"url(#clip4403)\" style=\"fill:#009af9; stroke:none; fill-opacity:1\" cx=\"1256.24\" cy=\"410.744\" r=\"14\"/>\n",
       "<circle clip-path=\"url(#clip4403)\" style=\"fill:#000000; stroke:none; fill-opacity:1\" cx=\"1333.7\" cy=\"412.614\" r=\"18\"/>\n",
       "<circle clip-path=\"url(#clip4403)\" style=\"fill:#009af9; stroke:none; fill-opacity:1\" cx=\"1333.7\" cy=\"412.614\" r=\"14\"/>\n",
       "<circle clip-path=\"url(#clip4403)\" style=\"fill:#000000; stroke:none; fill-opacity:1\" cx=\"1411.16\" cy=\"397.334\" r=\"18\"/>\n",
       "<circle clip-path=\"url(#clip4403)\" style=\"fill:#009af9; stroke:none; fill-opacity:1\" cx=\"1411.16\" cy=\"397.334\" r=\"14\"/>\n",
       "<circle clip-path=\"url(#clip4403)\" style=\"fill:#000000; stroke:none; fill-opacity:1\" cx=\"1488.61\" cy=\"370.167\" r=\"18\"/>\n",
       "<circle clip-path=\"url(#clip4403)\" style=\"fill:#009af9; stroke:none; fill-opacity:1\" cx=\"1488.61\" cy=\"370.167\" r=\"14\"/>\n",
       "<circle clip-path=\"url(#clip4403)\" style=\"fill:#000000; stroke:none; fill-opacity:1\" cx=\"1566.07\" cy=\"327.705\" r=\"18\"/>\n",
       "<circle clip-path=\"url(#clip4403)\" style=\"fill:#009af9; stroke:none; fill-opacity:1\" cx=\"1566.07\" cy=\"327.705\" r=\"14\"/>\n",
       "<circle clip-path=\"url(#clip4403)\" style=\"fill:#000000; stroke:none; fill-opacity:1\" cx=\"1643.52\" cy=\"267.889\" r=\"18\"/>\n",
       "<circle clip-path=\"url(#clip4403)\" style=\"fill:#009af9; stroke:none; fill-opacity:1\" cx=\"1643.52\" cy=\"267.889\" r=\"14\"/>\n",
       "<circle clip-path=\"url(#clip4403)\" style=\"fill:#000000; stroke:none; fill-opacity:1\" cx=\"1720.98\" cy=\"169.547\" r=\"18\"/>\n",
       "<circle clip-path=\"url(#clip4403)\" style=\"fill:#009af9; stroke:none; fill-opacity:1\" cx=\"1720.98\" cy=\"169.547\" r=\"14\"/>\n",
       "<circle clip-path=\"url(#clip4403)\" style=\"fill:#000000; stroke:none; fill-opacity:1\" cx=\"1798.43\" cy=\"219.463\" r=\"18\"/>\n",
       "<circle clip-path=\"url(#clip4403)\" style=\"fill:#009af9; stroke:none; fill-opacity:1\" cx=\"1798.43\" cy=\"219.463\" r=\"14\"/>\n",
       "<circle clip-path=\"url(#clip4403)\" style=\"fill:#000000; stroke:none; fill-opacity:1\" cx=\"1875.89\" cy=\"238.477\" r=\"18\"/>\n",
       "<circle clip-path=\"url(#clip4403)\" style=\"fill:#009af9; stroke:none; fill-opacity:1\" cx=\"1875.89\" cy=\"238.477\" r=\"14\"/>\n",
       "<circle clip-path=\"url(#clip4403)\" style=\"fill:#000000; stroke:none; fill-opacity:1\" cx=\"1953.35\" cy=\"224.961\" r=\"18\"/>\n",
       "<circle clip-path=\"url(#clip4403)\" style=\"fill:#009af9; stroke:none; fill-opacity:1\" cx=\"1953.35\" cy=\"224.961\" r=\"14\"/>\n",
       "<circle clip-path=\"url(#clip4403)\" style=\"fill:#000000; stroke:none; fill-opacity:1\" cx=\"2030.8\" cy=\"244.17\" r=\"18\"/>\n",
       "<circle clip-path=\"url(#clip4403)\" style=\"fill:#009af9; stroke:none; fill-opacity:1\" cx=\"2030.8\" cy=\"244.17\" r=\"14\"/>\n",
       "<circle clip-path=\"url(#clip4403)\" style=\"fill:#000000; stroke:none; fill-opacity:1\" cx=\"2108.26\" cy=\"229.679\" r=\"18\"/>\n",
       "<circle clip-path=\"url(#clip4403)\" style=\"fill:#009af9; stroke:none; fill-opacity:1\" cx=\"2108.26\" cy=\"229.679\" r=\"14\"/>\n",
       "<circle clip-path=\"url(#clip4403)\" style=\"fill:#000000; stroke:none; fill-opacity:1\" cx=\"2185.71\" cy=\"236.985\" r=\"18\"/>\n",
       "<circle clip-path=\"url(#clip4403)\" style=\"fill:#009af9; stroke:none; fill-opacity:1\" cx=\"2185.71\" cy=\"236.985\" r=\"14\"/>\n",
       "<circle clip-path=\"url(#clip4403)\" style=\"fill:#000000; stroke:none; fill-opacity:1\" cx=\"2263.17\" cy=\"213.164\" r=\"18\"/>\n",
       "<circle clip-path=\"url(#clip4403)\" style=\"fill:#009af9; stroke:none; fill-opacity:1\" cx=\"2263.17\" cy=\"213.164\" r=\"14\"/>\n",
       "<polyline clip-path=\"url(#clip4403)\" style=\"stroke:#e26f46; stroke-width:4; stroke-opacity:1; fill:none\" points=\"\n",
       "  326.776,1253.47 404.232,1256.04 481.687,1254.65 559.143,1254.59 636.599,1248.72 714.054,1250.63 791.51,1242.03 868.966,1240.35 946.421,1239.57 1023.88,1238.62 \n",
       "  1101.33,1239.73 1178.79,1248.85 1256.24,1246.81 1333.7,1242.52 1411.16,1237.84 1488.61,1232.99 1566.07,1226.63 1643.52,1217.92 1720.98,1214.32 1798.43,1221.49 \n",
       "  1875.89,1212.33 1953.35,1207.8 2030.8,1206.89 2108.26,1206.62 2185.71,1200.33 2263.17,1203.61 \n",
       "  \"/>\n",
       "<polygon clip-path=\"url(#clip4403)\" style=\"fill:#000000; fill-opacity:1\" points=\"\n",
       "  306.776,1233.47 306.776,1273.47 346.776,1273.47 346.776,1233.47 306.776,1233.47 \n",
       "  \"/>\n",
       "<polygon clip-path=\"url(#clip4403)\" style=\"fill:#e26f46; fill-opacity:1\" points=\"\n",
       "  310.776,1237.47 310.776,1269.47 342.776,1269.47 342.776,1237.47 310.776,1237.47 \n",
       "  \"/>\n",
       "<polygon clip-path=\"url(#clip4403)\" style=\"fill:#000000; fill-opacity:1\" points=\"\n",
       "  384.232,1236.04 384.232,1276.04 424.232,1276.04 424.232,1236.04 384.232,1236.04 \n",
       "  \"/>\n",
       "<polygon clip-path=\"url(#clip4403)\" style=\"fill:#e26f46; fill-opacity:1\" points=\"\n",
       "  388.232,1240.04 388.232,1272.04 420.232,1272.04 420.232,1240.04 388.232,1240.04 \n",
       "  \"/>\n",
       "<polygon clip-path=\"url(#clip4403)\" style=\"fill:#000000; fill-opacity:1\" points=\"\n",
       "  461.687,1234.65 461.687,1274.65 501.687,1274.65 501.687,1234.65 461.687,1234.65 \n",
       "  \"/>\n",
       "<polygon clip-path=\"url(#clip4403)\" style=\"fill:#e26f46; fill-opacity:1\" points=\"\n",
       "  465.687,1238.65 465.687,1270.65 497.687,1270.65 497.687,1238.65 465.687,1238.65 \n",
       "  \"/>\n",
       "<polygon clip-path=\"url(#clip4403)\" style=\"fill:#000000; fill-opacity:1\" points=\"\n",
       "  539.143,1234.59 539.143,1274.59 579.143,1274.59 579.143,1234.59 539.143,1234.59 \n",
       "  \"/>\n",
       "<polygon clip-path=\"url(#clip4403)\" style=\"fill:#e26f46; fill-opacity:1\" points=\"\n",
       "  543.143,1238.59 543.143,1270.59 575.143,1270.59 575.143,1238.59 543.143,1238.59 \n",
       "  \"/>\n",
       "<polygon clip-path=\"url(#clip4403)\" style=\"fill:#000000; fill-opacity:1\" points=\"\n",
       "  616.599,1228.72 616.599,1268.72 656.599,1268.72 656.599,1228.72 616.599,1228.72 \n",
       "  \"/>\n",
       "<polygon clip-path=\"url(#clip4403)\" style=\"fill:#e26f46; fill-opacity:1\" points=\"\n",
       "  620.599,1232.72 620.599,1264.72 652.599,1264.72 652.599,1232.72 620.599,1232.72 \n",
       "  \"/>\n",
       "<polygon clip-path=\"url(#clip4403)\" style=\"fill:#000000; fill-opacity:1\" points=\"\n",
       "  694.054,1230.63 694.054,1270.63 734.054,1270.63 734.054,1230.63 694.054,1230.63 \n",
       "  \"/>\n",
       "<polygon clip-path=\"url(#clip4403)\" style=\"fill:#e26f46; fill-opacity:1\" points=\"\n",
       "  698.054,1234.63 698.054,1266.63 730.054,1266.63 730.054,1234.63 698.054,1234.63 \n",
       "  \"/>\n",
       "<polygon clip-path=\"url(#clip4403)\" style=\"fill:#000000; fill-opacity:1\" points=\"\n",
       "  771.51,1222.03 771.51,1262.03 811.51,1262.03 811.51,1222.03 771.51,1222.03 \n",
       "  \"/>\n",
       "<polygon clip-path=\"url(#clip4403)\" style=\"fill:#e26f46; fill-opacity:1\" points=\"\n",
       "  775.51,1226.03 775.51,1258.03 807.51,1258.03 807.51,1226.03 775.51,1226.03 \n",
       "  \"/>\n",
       "<polygon clip-path=\"url(#clip4403)\" style=\"fill:#000000; fill-opacity:1\" points=\"\n",
       "  848.966,1220.35 848.966,1260.35 888.966,1260.35 888.966,1220.35 848.966,1220.35 \n",
       "  \"/>\n",
       "<polygon clip-path=\"url(#clip4403)\" style=\"fill:#e26f46; fill-opacity:1\" points=\"\n",
       "  852.966,1224.35 852.966,1256.35 884.966,1256.35 884.966,1224.35 852.966,1224.35 \n",
       "  \"/>\n",
       "<polygon clip-path=\"url(#clip4403)\" style=\"fill:#000000; fill-opacity:1\" points=\"\n",
       "  926.421,1219.57 926.421,1259.57 966.421,1259.57 966.421,1219.57 926.421,1219.57 \n",
       "  \"/>\n",
       "<polygon clip-path=\"url(#clip4403)\" style=\"fill:#e26f46; fill-opacity:1\" points=\"\n",
       "  930.421,1223.57 930.421,1255.57 962.421,1255.57 962.421,1223.57 930.421,1223.57 \n",
       "  \"/>\n",
       "<polygon clip-path=\"url(#clip4403)\" style=\"fill:#000000; fill-opacity:1\" points=\"\n",
       "  1003.88,1218.62 1003.88,1258.62 1043.88,1258.62 1043.88,1218.62 1003.88,1218.62 \n",
       "  \"/>\n",
       "<polygon clip-path=\"url(#clip4403)\" style=\"fill:#e26f46; fill-opacity:1\" points=\"\n",
       "  1007.88,1222.62 1007.88,1254.62 1039.88,1254.62 1039.88,1222.62 1007.88,1222.62 \n",
       "  \"/>\n",
       "<polygon clip-path=\"url(#clip4403)\" style=\"fill:#000000; fill-opacity:1\" points=\"\n",
       "  1081.33,1219.73 1081.33,1259.73 1121.33,1259.73 1121.33,1219.73 1081.33,1219.73 \n",
       "  \"/>\n",
       "<polygon clip-path=\"url(#clip4403)\" style=\"fill:#e26f46; fill-opacity:1\" points=\"\n",
       "  1085.33,1223.73 1085.33,1255.73 1117.33,1255.73 1117.33,1223.73 1085.33,1223.73 \n",
       "  \"/>\n",
       "<polygon clip-path=\"url(#clip4403)\" style=\"fill:#000000; fill-opacity:1\" points=\"\n",
       "  1158.79,1228.85 1158.79,1268.85 1198.79,1268.85 1198.79,1228.85 1158.79,1228.85 \n",
       "  \"/>\n",
       "<polygon clip-path=\"url(#clip4403)\" style=\"fill:#e26f46; fill-opacity:1\" points=\"\n",
       "  1162.79,1232.85 1162.79,1264.85 1194.79,1264.85 1194.79,1232.85 1162.79,1232.85 \n",
       "  \"/>\n",
       "<polygon clip-path=\"url(#clip4403)\" style=\"fill:#000000; fill-opacity:1\" points=\"\n",
       "  1236.24,1226.81 1236.24,1266.81 1276.24,1266.81 1276.24,1226.81 1236.24,1226.81 \n",
       "  \"/>\n",
       "<polygon clip-path=\"url(#clip4403)\" style=\"fill:#e26f46; fill-opacity:1\" points=\"\n",
       "  1240.24,1230.81 1240.24,1262.81 1272.24,1262.81 1272.24,1230.81 1240.24,1230.81 \n",
       "  \"/>\n",
       "<polygon clip-path=\"url(#clip4403)\" style=\"fill:#000000; fill-opacity:1\" points=\"\n",
       "  1313.7,1222.52 1313.7,1262.52 1353.7,1262.52 1353.7,1222.52 1313.7,1222.52 \n",
       "  \"/>\n",
       "<polygon clip-path=\"url(#clip4403)\" style=\"fill:#e26f46; fill-opacity:1\" points=\"\n",
       "  1317.7,1226.52 1317.7,1258.52 1349.7,1258.52 1349.7,1226.52 1317.7,1226.52 \n",
       "  \"/>\n",
       "<polygon clip-path=\"url(#clip4403)\" style=\"fill:#000000; fill-opacity:1\" points=\"\n",
       "  1391.16,1217.84 1391.16,1257.84 1431.16,1257.84 1431.16,1217.84 1391.16,1217.84 \n",
       "  \"/>\n",
       "<polygon clip-path=\"url(#clip4403)\" style=\"fill:#e26f46; fill-opacity:1\" points=\"\n",
       "  1395.16,1221.84 1395.16,1253.84 1427.16,1253.84 1427.16,1221.84 1395.16,1221.84 \n",
       "  \"/>\n",
       "<polygon clip-path=\"url(#clip4403)\" style=\"fill:#000000; fill-opacity:1\" points=\"\n",
       "  1468.61,1212.99 1468.61,1252.99 1508.61,1252.99 1508.61,1212.99 1468.61,1212.99 \n",
       "  \"/>\n",
       "<polygon clip-path=\"url(#clip4403)\" style=\"fill:#e26f46; fill-opacity:1\" points=\"\n",
       "  1472.61,1216.99 1472.61,1248.99 1504.61,1248.99 1504.61,1216.99 1472.61,1216.99 \n",
       "  \"/>\n",
       "<polygon clip-path=\"url(#clip4403)\" style=\"fill:#000000; fill-opacity:1\" points=\"\n",
       "  1546.07,1206.63 1546.07,1246.63 1586.07,1246.63 1586.07,1206.63 1546.07,1206.63 \n",
       "  \"/>\n",
       "<polygon clip-path=\"url(#clip4403)\" style=\"fill:#e26f46; fill-opacity:1\" points=\"\n",
       "  1550.07,1210.63 1550.07,1242.63 1582.07,1242.63 1582.07,1210.63 1550.07,1210.63 \n",
       "  \"/>\n",
       "<polygon clip-path=\"url(#clip4403)\" style=\"fill:#000000; fill-opacity:1\" points=\"\n",
       "  1623.52,1197.92 1623.52,1237.92 1663.52,1237.92 1663.52,1197.92 1623.52,1197.92 \n",
       "  \"/>\n",
       "<polygon clip-path=\"url(#clip4403)\" style=\"fill:#e26f46; fill-opacity:1\" points=\"\n",
       "  1627.52,1201.92 1627.52,1233.92 1659.52,1233.92 1659.52,1201.92 1627.52,1201.92 \n",
       "  \"/>\n",
       "<polygon clip-path=\"url(#clip4403)\" style=\"fill:#000000; fill-opacity:1\" points=\"\n",
       "  1700.98,1194.32 1700.98,1234.32 1740.98,1234.32 1740.98,1194.32 1700.98,1194.32 \n",
       "  \"/>\n",
       "<polygon clip-path=\"url(#clip4403)\" style=\"fill:#e26f46; fill-opacity:1\" points=\"\n",
       "  1704.98,1198.32 1704.98,1230.32 1736.98,1230.32 1736.98,1198.32 1704.98,1198.32 \n",
       "  \"/>\n",
       "<polygon clip-path=\"url(#clip4403)\" style=\"fill:#000000; fill-opacity:1\" points=\"\n",
       "  1778.43,1201.49 1778.43,1241.49 1818.43,1241.49 1818.43,1201.49 1778.43,1201.49 \n",
       "  \"/>\n",
       "<polygon clip-path=\"url(#clip4403)\" style=\"fill:#e26f46; fill-opacity:1\" points=\"\n",
       "  1782.43,1205.49 1782.43,1237.49 1814.43,1237.49 1814.43,1205.49 1782.43,1205.49 \n",
       "  \"/>\n",
       "<polygon clip-path=\"url(#clip4403)\" style=\"fill:#000000; fill-opacity:1\" points=\"\n",
       "  1855.89,1192.33 1855.89,1232.33 1895.89,1232.33 1895.89,1192.33 1855.89,1192.33 \n",
       "  \"/>\n",
       "<polygon clip-path=\"url(#clip4403)\" style=\"fill:#e26f46; fill-opacity:1\" points=\"\n",
       "  1859.89,1196.33 1859.89,1228.33 1891.89,1228.33 1891.89,1196.33 1859.89,1196.33 \n",
       "  \"/>\n",
       "<polygon clip-path=\"url(#clip4403)\" style=\"fill:#000000; fill-opacity:1\" points=\"\n",
       "  1933.35,1187.8 1933.35,1227.8 1973.35,1227.8 1973.35,1187.8 1933.35,1187.8 \n",
       "  \"/>\n",
       "<polygon clip-path=\"url(#clip4403)\" style=\"fill:#e26f46; fill-opacity:1\" points=\"\n",
       "  1937.35,1191.8 1937.35,1223.8 1969.35,1223.8 1969.35,1191.8 1937.35,1191.8 \n",
       "  \"/>\n",
       "<polygon clip-path=\"url(#clip4403)\" style=\"fill:#000000; fill-opacity:1\" points=\"\n",
       "  2010.8,1186.89 2010.8,1226.89 2050.8,1226.89 2050.8,1186.89 2010.8,1186.89 \n",
       "  \"/>\n",
       "<polygon clip-path=\"url(#clip4403)\" style=\"fill:#e26f46; fill-opacity:1\" points=\"\n",
       "  2014.8,1190.89 2014.8,1222.89 2046.8,1222.89 2046.8,1190.89 2014.8,1190.89 \n",
       "  \"/>\n",
       "<polygon clip-path=\"url(#clip4403)\" style=\"fill:#000000; fill-opacity:1\" points=\"\n",
       "  2088.26,1186.62 2088.26,1226.62 2128.26,1226.62 2128.26,1186.62 2088.26,1186.62 \n",
       "  \"/>\n",
       "<polygon clip-path=\"url(#clip4403)\" style=\"fill:#e26f46; fill-opacity:1\" points=\"\n",
       "  2092.26,1190.62 2092.26,1222.62 2124.26,1222.62 2124.26,1190.62 2092.26,1190.62 \n",
       "  \"/>\n",
       "<polygon clip-path=\"url(#clip4403)\" style=\"fill:#000000; fill-opacity:1\" points=\"\n",
       "  2165.71,1180.33 2165.71,1220.33 2205.71,1220.33 2205.71,1180.33 2165.71,1180.33 \n",
       "  \"/>\n",
       "<polygon clip-path=\"url(#clip4403)\" style=\"fill:#e26f46; fill-opacity:1\" points=\"\n",
       "  2169.71,1184.33 2169.71,1216.33 2201.71,1216.33 2201.71,1184.33 2169.71,1184.33 \n",
       "  \"/>\n",
       "<polygon clip-path=\"url(#clip4403)\" style=\"fill:#000000; fill-opacity:1\" points=\"\n",
       "  2243.17,1183.61 2243.17,1223.61 2283.17,1223.61 2283.17,1183.61 2243.17,1183.61 \n",
       "  \"/>\n",
       "<polygon clip-path=\"url(#clip4403)\" style=\"fill:#e26f46; fill-opacity:1\" points=\"\n",
       "  2247.17,1187.61 2247.17,1219.61 2279.17,1219.61 2279.17,1187.61 2247.17,1187.61 \n",
       "  \"/>\n",
       "<polyline clip-path=\"url(#clip4403)\" style=\"stroke:#3da44d; stroke-width:4; stroke-opacity:1; fill:none\" points=\"\n",
       "  326.776,1445.63 404.232,1452.68 481.687,1455.57 559.143,1454.8 636.599,1449.09 714.054,1452.41 791.51,1456.32 868.966,1454.74 946.421,1448.49 1023.88,1457.54 \n",
       "  1101.33,1454.96 1178.79,1454.3 1256.24,1462.18 1333.7,1460.56 1411.16,1462.26 1488.61,1459.52 1566.07,1459.79 1643.52,1446.94 1720.98,1449.32 1798.43,1446.33 \n",
       "  1875.89,1445.87 1953.35,1215.25 2030.8,1449.75 2108.26,1445.07 2185.71,1442.69 2263.17,1436.61 \n",
       "  \"/>\n",
       "<polygon clip-path=\"url(#clip4403)\" style=\"fill:#000000; fill-opacity:1\" points=\"\n",
       "  326.776,1425.63 322.076,1439.15 307.756,1439.45 319.176,1448.11 315.016,1461.81 326.776,1453.63 338.536,1461.81 334.376,1448.11 345.796,1439.45 331.476,1439.15 \n",
       "  326.776,1425.63 \n",
       "  \"/>\n",
       "<polygon clip-path=\"url(#clip4403)\" style=\"fill:#3da44d; fill-opacity:1\" points=\"\n",
       "  326.776,1429.63 323.016,1440.45 311.56,1440.69 320.696,1447.62 317.368,1458.58 326.776,1452.03 336.184,1458.58 332.856,1447.62 341.992,1440.69 330.536,1440.45 \n",
       "  326.776,1429.63 \n",
       "  \"/>\n",
       "<polygon clip-path=\"url(#clip4403)\" style=\"fill:#000000; fill-opacity:1\" points=\"\n",
       "  404.232,1432.68 399.532,1446.2 385.212,1446.5 396.632,1455.16 392.472,1468.86 404.232,1460.68 415.992,1468.86 411.832,1455.16 423.252,1446.5 408.932,1446.2 \n",
       "  404.232,1432.68 \n",
       "  \"/>\n",
       "<polygon clip-path=\"url(#clip4403)\" style=\"fill:#3da44d; fill-opacity:1\" points=\"\n",
       "  404.232,1436.68 400.472,1447.5 389.016,1447.74 398.152,1454.66 394.824,1465.62 404.232,1459.08 413.64,1465.62 410.312,1454.66 419.448,1447.74 407.992,1447.5 \n",
       "  404.232,1436.68 \n",
       "  \"/>\n",
       "<polygon clip-path=\"url(#clip4403)\" style=\"fill:#000000; fill-opacity:1\" points=\"\n",
       "  481.687,1435.57 476.987,1449.09 462.667,1449.39 474.087,1458.05 469.927,1471.75 481.687,1463.57 493.447,1471.75 489.287,1458.05 500.707,1449.39 486.387,1449.09 \n",
       "  481.687,1435.57 \n",
       "  \"/>\n",
       "<polygon clip-path=\"url(#clip4403)\" style=\"fill:#3da44d; fill-opacity:1\" points=\"\n",
       "  481.687,1439.57 477.927,1450.39 466.471,1450.63 475.607,1457.56 472.279,1468.52 481.687,1461.97 491.095,1468.52 487.767,1457.56 496.903,1450.63 485.447,1450.39 \n",
       "  481.687,1439.57 \n",
       "  \"/>\n",
       "<polygon clip-path=\"url(#clip4403)\" style=\"fill:#000000; fill-opacity:1\" points=\"\n",
       "  559.143,1434.8 554.443,1448.32 540.123,1448.62 551.543,1457.28 547.383,1470.98 559.143,1462.8 570.903,1470.98 566.743,1457.28 578.163,1448.62 563.843,1448.32 \n",
       "  559.143,1434.8 \n",
       "  \"/>\n",
       "<polygon clip-path=\"url(#clip4403)\" style=\"fill:#3da44d; fill-opacity:1\" points=\"\n",
       "  559.143,1438.8 555.383,1449.62 543.927,1449.86 553.063,1456.79 549.735,1467.75 559.143,1461.2 568.551,1467.75 565.223,1456.79 574.359,1449.86 562.903,1449.62 \n",
       "  559.143,1438.8 \n",
       "  \"/>\n",
       "<polygon clip-path=\"url(#clip4403)\" style=\"fill:#000000; fill-opacity:1\" points=\"\n",
       "  636.599,1429.09 631.899,1442.61 617.579,1442.91 628.999,1451.57 624.839,1465.27 636.599,1457.09 648.359,1465.27 644.199,1451.57 655.619,1442.91 641.299,1442.61 \n",
       "  636.599,1429.09 \n",
       "  \"/>\n",
       "<polygon clip-path=\"url(#clip4403)\" style=\"fill:#3da44d; fill-opacity:1\" points=\"\n",
       "  636.599,1433.09 632.839,1443.9 621.383,1444.14 630.519,1451.07 627.191,1462.03 636.599,1455.49 646.007,1462.03 642.679,1451.07 651.815,1444.14 640.359,1443.9 \n",
       "  636.599,1433.09 \n",
       "  \"/>\n",
       "<polygon clip-path=\"url(#clip4403)\" style=\"fill:#000000; fill-opacity:1\" points=\"\n",
       "  714.054,1432.41 709.354,1445.93 695.034,1446.23 706.454,1454.89 702.294,1468.59 714.054,1460.41 725.814,1468.59 721.654,1454.89 733.074,1446.23 718.754,1445.93 \n",
       "  714.054,1432.41 \n",
       "  \"/>\n",
       "<polygon clip-path=\"url(#clip4403)\" style=\"fill:#3da44d; fill-opacity:1\" points=\"\n",
       "  714.054,1436.41 710.294,1447.22 698.838,1447.46 707.974,1454.39 704.646,1465.35 714.054,1458.81 723.462,1465.35 720.134,1454.39 729.27,1447.46 717.814,1447.22 \n",
       "  714.054,1436.41 \n",
       "  \"/>\n",
       "<polygon clip-path=\"url(#clip4403)\" style=\"fill:#000000; fill-opacity:1\" points=\"\n",
       "  791.51,1436.32 786.81,1449.84 772.49,1450.14 783.91,1458.8 779.75,1472.5 791.51,1464.32 803.27,1472.5 799.11,1458.8 810.53,1450.14 796.21,1449.84 \n",
       "  791.51,1436.32 \n",
       "  \"/>\n",
       "<polygon clip-path=\"url(#clip4403)\" style=\"fill:#3da44d; fill-opacity:1\" points=\"\n",
       "  791.51,1440.32 787.75,1451.14 776.294,1451.38 785.43,1458.31 782.102,1469.27 791.51,1462.72 800.918,1469.27 797.59,1458.31 806.726,1451.38 795.27,1451.14 \n",
       "  791.51,1440.32 \n",
       "  \"/>\n",
       "<polygon clip-path=\"url(#clip4403)\" style=\"fill:#000000; fill-opacity:1\" points=\"\n",
       "  868.966,1434.74 864.266,1448.26 849.946,1448.56 861.366,1457.22 857.206,1470.92 868.966,1462.74 880.726,1470.92 876.566,1457.22 887.986,1448.56 873.666,1448.26 \n",
       "  868.966,1434.74 \n",
       "  \"/>\n",
       "<polygon clip-path=\"url(#clip4403)\" style=\"fill:#3da44d; fill-opacity:1\" points=\"\n",
       "  868.966,1438.74 865.206,1449.55 853.75,1449.79 862.886,1456.72 859.558,1467.68 868.966,1461.14 878.374,1467.68 875.046,1456.72 884.182,1449.79 872.726,1449.55 \n",
       "  868.966,1438.74 \n",
       "  \"/>\n",
       "<polygon clip-path=\"url(#clip4403)\" style=\"fill:#000000; fill-opacity:1\" points=\"\n",
       "  946.421,1428.49 941.721,1442.01 927.401,1442.31 938.821,1450.97 934.661,1464.67 946.421,1456.49 958.181,1464.67 954.021,1450.97 965.441,1442.31 951.121,1442.01 \n",
       "  946.421,1428.49 \n",
       "  \"/>\n",
       "<polygon clip-path=\"url(#clip4403)\" style=\"fill:#3da44d; fill-opacity:1\" points=\"\n",
       "  946.421,1432.49 942.661,1443.31 931.205,1443.55 940.341,1450.48 937.013,1461.44 946.421,1454.89 955.829,1461.44 952.501,1450.48 961.637,1443.55 950.181,1443.31 \n",
       "  946.421,1432.49 \n",
       "  \"/>\n",
       "<polygon clip-path=\"url(#clip4403)\" style=\"fill:#000000; fill-opacity:1\" points=\"\n",
       "  1023.88,1437.54 1019.18,1451.06 1004.86,1451.36 1016.28,1460.02 1012.12,1473.72 1023.88,1465.54 1035.64,1473.72 1031.48,1460.02 1042.9,1451.36 1028.58,1451.06 \n",
       "  1023.88,1437.54 \n",
       "  \"/>\n",
       "<polygon clip-path=\"url(#clip4403)\" style=\"fill:#3da44d; fill-opacity:1\" points=\"\n",
       "  1023.88,1441.54 1020.12,1452.36 1008.66,1452.6 1017.8,1459.53 1014.47,1470.49 1023.88,1463.94 1033.29,1470.49 1029.96,1459.53 1039.09,1452.6 1027.64,1452.36 \n",
       "  1023.88,1441.54 \n",
       "  \"/>\n",
       "<polygon clip-path=\"url(#clip4403)\" style=\"fill:#000000; fill-opacity:1\" points=\"\n",
       "  1101.33,1434.96 1096.63,1448.48 1082.31,1448.78 1093.73,1457.44 1089.57,1471.14 1101.33,1462.96 1113.09,1471.14 1108.93,1457.44 1120.35,1448.78 1106.03,1448.48 \n",
       "  1101.33,1434.96 \n",
       "  \"/>\n",
       "<polygon clip-path=\"url(#clip4403)\" style=\"fill:#3da44d; fill-opacity:1\" points=\"\n",
       "  1101.33,1438.96 1097.57,1449.78 1086.12,1450.02 1095.25,1456.95 1091.92,1467.91 1101.33,1461.36 1110.74,1467.91 1107.41,1456.95 1116.55,1450.02 1105.09,1449.78 \n",
       "  1101.33,1438.96 \n",
       "  \"/>\n",
       "<polygon clip-path=\"url(#clip4403)\" style=\"fill:#000000; fill-opacity:1\" points=\"\n",
       "  1178.79,1434.3 1174.09,1447.82 1159.77,1448.12 1171.19,1456.78 1167.03,1470.48 1178.79,1462.3 1190.55,1470.48 1186.39,1456.78 1197.81,1448.12 1183.49,1447.82 \n",
       "  1178.79,1434.3 \n",
       "  \"/>\n",
       "<polygon clip-path=\"url(#clip4403)\" style=\"fill:#3da44d; fill-opacity:1\" points=\"\n",
       "  1178.79,1438.3 1175.03,1449.12 1163.57,1449.36 1172.71,1456.29 1169.38,1467.25 1178.79,1460.7 1188.2,1467.25 1184.87,1456.29 1194,1449.36 1182.55,1449.12 \n",
       "  1178.79,1438.3 \n",
       "  \"/>\n",
       "<polygon clip-path=\"url(#clip4403)\" style=\"fill:#000000; fill-opacity:1\" points=\"\n",
       "  1256.24,1442.18 1251.54,1455.7 1237.22,1456 1248.64,1464.66 1244.48,1478.36 1256.24,1470.18 1268,1478.36 1263.84,1464.66 1275.26,1456 1260.94,1455.7 \n",
       "  1256.24,1442.18 \n",
       "  \"/>\n",
       "<polygon clip-path=\"url(#clip4403)\" style=\"fill:#3da44d; fill-opacity:1\" points=\"\n",
       "  1256.24,1446.18 1252.48,1457 1241.03,1457.24 1250.16,1464.17 1246.84,1475.13 1256.24,1468.58 1265.65,1475.13 1262.32,1464.17 1271.46,1457.24 1260,1457 \n",
       "  1256.24,1446.18 \n",
       "  \"/>\n",
       "<polygon clip-path=\"url(#clip4403)\" style=\"fill:#000000; fill-opacity:1\" points=\"\n",
       "  1333.7,1440.56 1329,1454.08 1314.68,1454.38 1326.1,1463.04 1321.94,1476.74 1333.7,1468.56 1345.46,1476.74 1341.3,1463.04 1352.72,1454.38 1338.4,1454.08 \n",
       "  1333.7,1440.56 \n",
       "  \"/>\n",
       "<polygon clip-path=\"url(#clip4403)\" style=\"fill:#3da44d; fill-opacity:1\" points=\"\n",
       "  1333.7,1444.56 1329.94,1455.38 1318.48,1455.62 1327.62,1462.55 1324.29,1473.51 1333.7,1466.96 1343.11,1473.51 1339.78,1462.55 1348.92,1455.62 1337.46,1455.38 \n",
       "  1333.7,1444.56 \n",
       "  \"/>\n",
       "<polygon clip-path=\"url(#clip4403)\" style=\"fill:#000000; fill-opacity:1\" points=\"\n",
       "  1411.16,1442.26 1406.46,1455.78 1392.14,1456.08 1403.56,1464.74 1399.4,1478.44 1411.16,1470.26 1422.92,1478.44 1418.76,1464.74 1430.18,1456.08 1415.86,1455.78 \n",
       "  1411.16,1442.26 \n",
       "  \"/>\n",
       "<polygon clip-path=\"url(#clip4403)\" style=\"fill:#3da44d; fill-opacity:1\" points=\"\n",
       "  1411.16,1446.26 1407.4,1457.08 1395.94,1457.32 1405.08,1464.24 1401.75,1475.2 1411.16,1468.66 1420.56,1475.2 1417.24,1464.24 1426.37,1457.32 1414.92,1457.08 \n",
       "  1411.16,1446.26 \n",
       "  \"/>\n",
       "<polygon clip-path=\"url(#clip4403)\" style=\"fill:#000000; fill-opacity:1\" points=\"\n",
       "  1488.61,1439.52 1483.91,1453.04 1469.59,1453.34 1481.01,1462 1476.85,1475.7 1488.61,1467.52 1500.37,1475.7 1496.21,1462 1507.63,1453.34 1493.31,1453.04 \n",
       "  1488.61,1439.52 \n",
       "  \"/>\n",
       "<polygon clip-path=\"url(#clip4403)\" style=\"fill:#3da44d; fill-opacity:1\" points=\"\n",
       "  1488.61,1443.52 1484.85,1454.33 1473.4,1454.57 1482.53,1461.5 1479.2,1472.46 1488.61,1465.92 1498.02,1472.46 1494.69,1461.5 1503.83,1454.57 1492.37,1454.33 \n",
       "  1488.61,1443.52 \n",
       "  \"/>\n",
       "<polygon clip-path=\"url(#clip4403)\" style=\"fill:#000000; fill-opacity:1\" points=\"\n",
       "  1566.07,1439.79 1561.37,1453.31 1547.05,1453.61 1558.47,1462.27 1554.31,1475.97 1566.07,1467.79 1577.83,1475.97 1573.67,1462.27 1585.09,1453.61 1570.77,1453.31 \n",
       "  1566.07,1439.79 \n",
       "  \"/>\n",
       "<polygon clip-path=\"url(#clip4403)\" style=\"fill:#3da44d; fill-opacity:1\" points=\"\n",
       "  1566.07,1443.79 1562.31,1454.6 1550.85,1454.84 1559.99,1461.77 1556.66,1472.73 1566.07,1466.19 1575.47,1472.73 1572.15,1461.77 1581.28,1454.84 1569.83,1454.6 \n",
       "  1566.07,1443.79 \n",
       "  \"/>\n",
       "<polygon clip-path=\"url(#clip4403)\" style=\"fill:#000000; fill-opacity:1\" points=\"\n",
       "  1643.52,1426.94 1638.82,1440.46 1624.5,1440.76 1635.92,1449.42 1631.76,1463.12 1643.52,1454.94 1655.28,1463.12 1651.12,1449.42 1662.54,1440.76 1648.22,1440.46 \n",
       "  1643.52,1426.94 \n",
       "  \"/>\n",
       "<polygon clip-path=\"url(#clip4403)\" style=\"fill:#3da44d; fill-opacity:1\" points=\"\n",
       "  1643.52,1430.94 1639.76,1441.76 1628.31,1442 1637.44,1448.93 1634.11,1459.89 1643.52,1453.34 1652.93,1459.89 1649.6,1448.93 1658.74,1442 1647.28,1441.76 \n",
       "  1643.52,1430.94 \n",
       "  \"/>\n",
       "<polygon clip-path=\"url(#clip4403)\" style=\"fill:#000000; fill-opacity:1\" points=\"\n",
       "  1720.98,1429.32 1716.28,1442.84 1701.96,1443.14 1713.38,1451.8 1709.22,1465.5 1720.98,1457.32 1732.74,1465.5 1728.58,1451.8 1740,1443.14 1725.68,1442.84 \n",
       "  1720.98,1429.32 \n",
       "  \"/>\n",
       "<polygon clip-path=\"url(#clip4403)\" style=\"fill:#3da44d; fill-opacity:1\" points=\"\n",
       "  1720.98,1433.32 1717.22,1444.14 1705.76,1444.38 1714.9,1451.31 1711.57,1462.27 1720.98,1455.72 1730.39,1462.27 1727.06,1451.31 1736.19,1444.38 1724.74,1444.14 \n",
       "  1720.98,1433.32 \n",
       "  \"/>\n",
       "<polygon clip-path=\"url(#clip4403)\" style=\"fill:#000000; fill-opacity:1\" points=\"\n",
       "  1798.43,1426.33 1793.73,1439.85 1779.41,1440.15 1790.83,1448.81 1786.67,1462.51 1798.43,1454.33 1810.19,1462.51 1806.03,1448.81 1817.45,1440.15 1803.13,1439.85 \n",
       "  1798.43,1426.33 \n",
       "  \"/>\n",
       "<polygon clip-path=\"url(#clip4403)\" style=\"fill:#3da44d; fill-opacity:1\" points=\"\n",
       "  1798.43,1430.33 1794.67,1441.14 1783.22,1441.38 1792.35,1448.31 1789.03,1459.27 1798.43,1452.73 1807.84,1459.27 1804.51,1448.31 1813.65,1441.38 1802.19,1441.14 \n",
       "  1798.43,1430.33 \n",
       "  \"/>\n",
       "<polygon clip-path=\"url(#clip4403)\" style=\"fill:#000000; fill-opacity:1\" points=\"\n",
       "  1875.89,1425.87 1871.19,1439.39 1856.87,1439.69 1868.29,1448.35 1864.13,1462.05 1875.89,1453.87 1887.65,1462.05 1883.49,1448.35 1894.91,1439.69 1880.59,1439.39 \n",
       "  1875.89,1425.87 \n",
       "  \"/>\n",
       "<polygon clip-path=\"url(#clip4403)\" style=\"fill:#3da44d; fill-opacity:1\" points=\"\n",
       "  1875.89,1429.87 1872.13,1440.69 1860.67,1440.93 1869.81,1447.86 1866.48,1458.82 1875.89,1452.27 1885.3,1458.82 1881.97,1447.86 1891.11,1440.93 1879.65,1440.69 \n",
       "  1875.89,1429.87 \n",
       "  \"/>\n",
       "<polygon clip-path=\"url(#clip4403)\" style=\"fill:#000000; fill-opacity:1\" points=\"\n",
       "  1953.35,1195.25 1948.65,1208.77 1934.33,1209.07 1945.75,1217.73 1941.59,1231.43 1953.35,1223.25 1965.11,1231.43 1960.95,1217.73 1972.37,1209.07 1958.05,1208.77 \n",
       "  1953.35,1195.25 \n",
       "  \"/>\n",
       "<polygon clip-path=\"url(#clip4403)\" style=\"fill:#3da44d; fill-opacity:1\" points=\"\n",
       "  1953.35,1199.25 1949.59,1210.07 1938.13,1210.31 1947.27,1217.23 1943.94,1228.19 1953.35,1221.65 1962.75,1228.19 1959.43,1217.23 1968.56,1210.31 1957.11,1210.07 \n",
       "  1953.35,1199.25 \n",
       "  \"/>\n",
       "<polygon clip-path=\"url(#clip4403)\" style=\"fill:#000000; fill-opacity:1\" points=\"\n",
       "  2030.8,1429.75 2026.1,1443.27 2011.78,1443.57 2023.2,1452.23 2019.04,1465.93 2030.8,1457.75 2042.56,1465.93 2038.4,1452.23 2049.82,1443.57 2035.5,1443.27 \n",
       "  2030.8,1429.75 \n",
       "  \"/>\n",
       "<polygon clip-path=\"url(#clip4403)\" style=\"fill:#3da44d; fill-opacity:1\" points=\"\n",
       "  2030.8,1433.75 2027.04,1444.56 2015.59,1444.8 2024.72,1451.73 2021.39,1462.69 2030.8,1456.15 2040.21,1462.69 2036.88,1451.73 2046.02,1444.8 2034.56,1444.56 \n",
       "  2030.8,1433.75 \n",
       "  \"/>\n",
       "<polygon clip-path=\"url(#clip4403)\" style=\"fill:#000000; fill-opacity:1\" points=\"\n",
       "  2108.26,1425.07 2103.56,1438.59 2089.24,1438.89 2100.66,1447.55 2096.5,1461.25 2108.26,1453.07 2120.02,1461.25 2115.86,1447.55 2127.28,1438.89 2112.96,1438.59 \n",
       "  2108.26,1425.07 \n",
       "  \"/>\n",
       "<polygon clip-path=\"url(#clip4403)\" style=\"fill:#3da44d; fill-opacity:1\" points=\"\n",
       "  2108.26,1429.07 2104.5,1439.89 2093.04,1440.13 2102.18,1447.05 2098.85,1458.01 2108.26,1451.47 2117.66,1458.01 2114.34,1447.05 2123.47,1440.13 2112.02,1439.89 \n",
       "  2108.26,1429.07 \n",
       "  \"/>\n",
       "<polygon clip-path=\"url(#clip4403)\" style=\"fill:#000000; fill-opacity:1\" points=\"\n",
       "  2185.71,1422.69 2181.01,1436.21 2166.69,1436.51 2178.11,1445.17 2173.95,1458.87 2185.71,1450.69 2197.47,1458.87 2193.31,1445.17 2204.73,1436.51 2190.41,1436.21 \n",
       "  2185.71,1422.69 \n",
       "  \"/>\n",
       "<polygon clip-path=\"url(#clip4403)\" style=\"fill:#3da44d; fill-opacity:1\" points=\"\n",
       "  2185.71,1426.69 2181.95,1437.51 2170.5,1437.75 2179.63,1444.68 2176.3,1455.64 2185.71,1449.09 2195.12,1455.64 2191.79,1444.68 2200.93,1437.75 2189.47,1437.51 \n",
       "  2185.71,1426.69 \n",
       "  \"/>\n",
       "<polygon clip-path=\"url(#clip4403)\" style=\"fill:#000000; fill-opacity:1\" points=\"\n",
       "  2263.17,1416.61 2258.47,1430.13 2244.15,1430.43 2255.57,1439.09 2251.41,1452.79 2263.17,1444.61 2274.93,1452.79 2270.77,1439.09 2282.19,1430.43 2267.87,1430.13 \n",
       "  2263.17,1416.61 \n",
       "  \"/>\n",
       "<polygon clip-path=\"url(#clip4403)\" style=\"fill:#3da44d; fill-opacity:1\" points=\"\n",
       "  2263.17,1420.61 2259.41,1431.43 2247.95,1431.67 2257.09,1438.6 2253.76,1449.56 2263.17,1443.01 2272.58,1449.56 2269.25,1438.6 2278.38,1431.67 2266.93,1431.43 \n",
       "  2263.17,1420.61 \n",
       "  \"/>\n",
       "<polyline clip-path=\"url(#clip4403)\" style=\"stroke:#c271d2; stroke-width:4; stroke-opacity:1; fill:none\" points=\"\n",
       "  326.776,1300.06 404.232,1297.24 481.687,1294.2 559.143,1290.84 636.599,1287.58 714.054,1284.65 791.51,1281.55 868.966,1278.31 946.421,1276.13 1023.88,1276.12 \n",
       "  1101.33,1274.61 1178.79,1272.05 1256.24,1270.66 1333.7,1269.23 1411.16,1269.07 1488.61,1263.01 1566.07,1258.31 1643.52,1252.84 1720.98,1246.97 1798.43,1241.58 \n",
       "  1875.89,1236.48 1953.35,1233.36 2030.8,1230.96 2108.26,1228.11 2185.71,1226.07 2263.17,1222.64 \n",
       "  \"/>\n",
       "<polygon clip-path=\"url(#clip4403)\" style=\"fill:#000000; fill-opacity:1\" points=\"\n",
       "  326.776,1280.06 306.776,1300.06 326.776,1320.06 346.776,1300.06 326.776,1280.06 \n",
       "  \"/>\n",
       "<polygon clip-path=\"url(#clip4403)\" style=\"fill:#c271d2; fill-opacity:1\" points=\"\n",
       "  326.776,1284.06 310.776,1300.06 326.776,1316.06 342.776,1300.06 326.776,1284.06 \n",
       "  \"/>\n",
       "<polygon clip-path=\"url(#clip4403)\" style=\"fill:#000000; fill-opacity:1\" points=\"\n",
       "  404.232,1277.24 384.232,1297.24 404.232,1317.24 424.232,1297.24 404.232,1277.24 \n",
       "  \"/>\n",
       "<polygon clip-path=\"url(#clip4403)\" style=\"fill:#c271d2; fill-opacity:1\" points=\"\n",
       "  404.232,1281.24 388.232,1297.24 404.232,1313.24 420.232,1297.24 404.232,1281.24 \n",
       "  \"/>\n",
       "<polygon clip-path=\"url(#clip4403)\" style=\"fill:#000000; fill-opacity:1\" points=\"\n",
       "  481.687,1274.2 461.687,1294.2 481.687,1314.2 501.687,1294.2 481.687,1274.2 \n",
       "  \"/>\n",
       "<polygon clip-path=\"url(#clip4403)\" style=\"fill:#c271d2; fill-opacity:1\" points=\"\n",
       "  481.687,1278.2 465.687,1294.2 481.687,1310.2 497.687,1294.2 481.687,1278.2 \n",
       "  \"/>\n",
       "<polygon clip-path=\"url(#clip4403)\" style=\"fill:#000000; fill-opacity:1\" points=\"\n",
       "  559.143,1270.84 539.143,1290.84 559.143,1310.84 579.143,1290.84 559.143,1270.84 \n",
       "  \"/>\n",
       "<polygon clip-path=\"url(#clip4403)\" style=\"fill:#c271d2; fill-opacity:1\" points=\"\n",
       "  559.143,1274.84 543.143,1290.84 559.143,1306.84 575.143,1290.84 559.143,1274.84 \n",
       "  \"/>\n",
       "<polygon clip-path=\"url(#clip4403)\" style=\"fill:#000000; fill-opacity:1\" points=\"\n",
       "  636.599,1267.58 616.599,1287.58 636.599,1307.58 656.599,1287.58 636.599,1267.58 \n",
       "  \"/>\n",
       "<polygon clip-path=\"url(#clip4403)\" style=\"fill:#c271d2; fill-opacity:1\" points=\"\n",
       "  636.599,1271.58 620.599,1287.58 636.599,1303.58 652.599,1287.58 636.599,1271.58 \n",
       "  \"/>\n",
       "<polygon clip-path=\"url(#clip4403)\" style=\"fill:#000000; fill-opacity:1\" points=\"\n",
       "  714.054,1264.65 694.054,1284.65 714.054,1304.65 734.054,1284.65 714.054,1264.65 \n",
       "  \"/>\n",
       "<polygon clip-path=\"url(#clip4403)\" style=\"fill:#c271d2; fill-opacity:1\" points=\"\n",
       "  714.054,1268.65 698.054,1284.65 714.054,1300.65 730.054,1284.65 714.054,1268.65 \n",
       "  \"/>\n",
       "<polygon clip-path=\"url(#clip4403)\" style=\"fill:#000000; fill-opacity:1\" points=\"\n",
       "  791.51,1261.55 771.51,1281.55 791.51,1301.55 811.51,1281.55 791.51,1261.55 \n",
       "  \"/>\n",
       "<polygon clip-path=\"url(#clip4403)\" style=\"fill:#c271d2; fill-opacity:1\" points=\"\n",
       "  791.51,1265.55 775.51,1281.55 791.51,1297.55 807.51,1281.55 791.51,1265.55 \n",
       "  \"/>\n",
       "<polygon clip-path=\"url(#clip4403)\" style=\"fill:#000000; fill-opacity:1\" points=\"\n",
       "  868.966,1258.31 848.966,1278.31 868.966,1298.31 888.966,1278.31 868.966,1258.31 \n",
       "  \"/>\n",
       "<polygon clip-path=\"url(#clip4403)\" style=\"fill:#c271d2; fill-opacity:1\" points=\"\n",
       "  868.966,1262.31 852.966,1278.31 868.966,1294.31 884.966,1278.31 868.966,1262.31 \n",
       "  \"/>\n",
       "<polygon clip-path=\"url(#clip4403)\" style=\"fill:#000000; fill-opacity:1\" points=\"\n",
       "  946.421,1256.13 926.421,1276.13 946.421,1296.13 966.421,1276.13 946.421,1256.13 \n",
       "  \"/>\n",
       "<polygon clip-path=\"url(#clip4403)\" style=\"fill:#c271d2; fill-opacity:1\" points=\"\n",
       "  946.421,1260.13 930.421,1276.13 946.421,1292.13 962.421,1276.13 946.421,1260.13 \n",
       "  \"/>\n",
       "<polygon clip-path=\"url(#clip4403)\" style=\"fill:#000000; fill-opacity:1\" points=\"\n",
       "  1023.88,1256.12 1003.88,1276.12 1023.88,1296.12 1043.88,1276.12 1023.88,1256.12 \n",
       "  \"/>\n",
       "<polygon clip-path=\"url(#clip4403)\" style=\"fill:#c271d2; fill-opacity:1\" points=\"\n",
       "  1023.88,1260.12 1007.88,1276.12 1023.88,1292.12 1039.88,1276.12 1023.88,1260.12 \n",
       "  \"/>\n",
       "<polygon clip-path=\"url(#clip4403)\" style=\"fill:#000000; fill-opacity:1\" points=\"\n",
       "  1101.33,1254.61 1081.33,1274.61 1101.33,1294.61 1121.33,1274.61 1101.33,1254.61 \n",
       "  \"/>\n",
       "<polygon clip-path=\"url(#clip4403)\" style=\"fill:#c271d2; fill-opacity:1\" points=\"\n",
       "  1101.33,1258.61 1085.33,1274.61 1101.33,1290.61 1117.33,1274.61 1101.33,1258.61 \n",
       "  \"/>\n",
       "<polygon clip-path=\"url(#clip4403)\" style=\"fill:#000000; fill-opacity:1\" points=\"\n",
       "  1178.79,1252.05 1158.79,1272.05 1178.79,1292.05 1198.79,1272.05 1178.79,1252.05 \n",
       "  \"/>\n",
       "<polygon clip-path=\"url(#clip4403)\" style=\"fill:#c271d2; fill-opacity:1\" points=\"\n",
       "  1178.79,1256.05 1162.79,1272.05 1178.79,1288.05 1194.79,1272.05 1178.79,1256.05 \n",
       "  \"/>\n",
       "<polygon clip-path=\"url(#clip4403)\" style=\"fill:#000000; fill-opacity:1\" points=\"\n",
       "  1256.24,1250.66 1236.24,1270.66 1256.24,1290.66 1276.24,1270.66 1256.24,1250.66 \n",
       "  \"/>\n",
       "<polygon clip-path=\"url(#clip4403)\" style=\"fill:#c271d2; fill-opacity:1\" points=\"\n",
       "  1256.24,1254.66 1240.24,1270.66 1256.24,1286.66 1272.24,1270.66 1256.24,1254.66 \n",
       "  \"/>\n",
       "<polygon clip-path=\"url(#clip4403)\" style=\"fill:#000000; fill-opacity:1\" points=\"\n",
       "  1333.7,1249.23 1313.7,1269.23 1333.7,1289.23 1353.7,1269.23 1333.7,1249.23 \n",
       "  \"/>\n",
       "<polygon clip-path=\"url(#clip4403)\" style=\"fill:#c271d2; fill-opacity:1\" points=\"\n",
       "  1333.7,1253.23 1317.7,1269.23 1333.7,1285.23 1349.7,1269.23 1333.7,1253.23 \n",
       "  \"/>\n",
       "<polygon clip-path=\"url(#clip4403)\" style=\"fill:#000000; fill-opacity:1\" points=\"\n",
       "  1411.16,1249.07 1391.16,1269.07 1411.16,1289.07 1431.16,1269.07 1411.16,1249.07 \n",
       "  \"/>\n",
       "<polygon clip-path=\"url(#clip4403)\" style=\"fill:#c271d2; fill-opacity:1\" points=\"\n",
       "  1411.16,1253.07 1395.16,1269.07 1411.16,1285.07 1427.16,1269.07 1411.16,1253.07 \n",
       "  \"/>\n",
       "<polygon clip-path=\"url(#clip4403)\" style=\"fill:#000000; fill-opacity:1\" points=\"\n",
       "  1488.61,1243.01 1468.61,1263.01 1488.61,1283.01 1508.61,1263.01 1488.61,1243.01 \n",
       "  \"/>\n",
       "<polygon clip-path=\"url(#clip4403)\" style=\"fill:#c271d2; fill-opacity:1\" points=\"\n",
       "  1488.61,1247.01 1472.61,1263.01 1488.61,1279.01 1504.61,1263.01 1488.61,1247.01 \n",
       "  \"/>\n",
       "<polygon clip-path=\"url(#clip4403)\" style=\"fill:#000000; fill-opacity:1\" points=\"\n",
       "  1566.07,1238.31 1546.07,1258.31 1566.07,1278.31 1586.07,1258.31 1566.07,1238.31 \n",
       "  \"/>\n",
       "<polygon clip-path=\"url(#clip4403)\" style=\"fill:#c271d2; fill-opacity:1\" points=\"\n",
       "  1566.07,1242.31 1550.07,1258.31 1566.07,1274.31 1582.07,1258.31 1566.07,1242.31 \n",
       "  \"/>\n",
       "<polygon clip-path=\"url(#clip4403)\" style=\"fill:#000000; fill-opacity:1\" points=\"\n",
       "  1643.52,1232.84 1623.52,1252.84 1643.52,1272.84 1663.52,1252.84 1643.52,1232.84 \n",
       "  \"/>\n",
       "<polygon clip-path=\"url(#clip4403)\" style=\"fill:#c271d2; fill-opacity:1\" points=\"\n",
       "  1643.52,1236.84 1627.52,1252.84 1643.52,1268.84 1659.52,1252.84 1643.52,1236.84 \n",
       "  \"/>\n",
       "<polygon clip-path=\"url(#clip4403)\" style=\"fill:#000000; fill-opacity:1\" points=\"\n",
       "  1720.98,1226.97 1700.98,1246.97 1720.98,1266.97 1740.98,1246.97 1720.98,1226.97 \n",
       "  \"/>\n",
       "<polygon clip-path=\"url(#clip4403)\" style=\"fill:#c271d2; fill-opacity:1\" points=\"\n",
       "  1720.98,1230.97 1704.98,1246.97 1720.98,1262.97 1736.98,1246.97 1720.98,1230.97 \n",
       "  \"/>\n",
       "<polygon clip-path=\"url(#clip4403)\" style=\"fill:#000000; fill-opacity:1\" points=\"\n",
       "  1798.43,1221.58 1778.43,1241.58 1798.43,1261.58 1818.43,1241.58 1798.43,1221.58 \n",
       "  \"/>\n",
       "<polygon clip-path=\"url(#clip4403)\" style=\"fill:#c271d2; fill-opacity:1\" points=\"\n",
       "  1798.43,1225.58 1782.43,1241.58 1798.43,1257.58 1814.43,1241.58 1798.43,1225.58 \n",
       "  \"/>\n",
       "<polygon clip-path=\"url(#clip4403)\" style=\"fill:#000000; fill-opacity:1\" points=\"\n",
       "  1875.89,1216.48 1855.89,1236.48 1875.89,1256.48 1895.89,1236.48 1875.89,1216.48 \n",
       "  \"/>\n",
       "<polygon clip-path=\"url(#clip4403)\" style=\"fill:#c271d2; fill-opacity:1\" points=\"\n",
       "  1875.89,1220.48 1859.89,1236.48 1875.89,1252.48 1891.89,1236.48 1875.89,1220.48 \n",
       "  \"/>\n",
       "<polygon clip-path=\"url(#clip4403)\" style=\"fill:#000000; fill-opacity:1\" points=\"\n",
       "  1953.35,1213.36 1933.35,1233.36 1953.35,1253.36 1973.35,1233.36 1953.35,1213.36 \n",
       "  \"/>\n",
       "<polygon clip-path=\"url(#clip4403)\" style=\"fill:#c271d2; fill-opacity:1\" points=\"\n",
       "  1953.35,1217.36 1937.35,1233.36 1953.35,1249.36 1969.35,1233.36 1953.35,1217.36 \n",
       "  \"/>\n",
       "<polygon clip-path=\"url(#clip4403)\" style=\"fill:#000000; fill-opacity:1\" points=\"\n",
       "  2030.8,1210.96 2010.8,1230.96 2030.8,1250.96 2050.8,1230.96 2030.8,1210.96 \n",
       "  \"/>\n",
       "<polygon clip-path=\"url(#clip4403)\" style=\"fill:#c271d2; fill-opacity:1\" points=\"\n",
       "  2030.8,1214.96 2014.8,1230.96 2030.8,1246.96 2046.8,1230.96 2030.8,1214.96 \n",
       "  \"/>\n",
       "<polygon clip-path=\"url(#clip4403)\" style=\"fill:#000000; fill-opacity:1\" points=\"\n",
       "  2108.26,1208.11 2088.26,1228.11 2108.26,1248.11 2128.26,1228.11 2108.26,1208.11 \n",
       "  \"/>\n",
       "<polygon clip-path=\"url(#clip4403)\" style=\"fill:#c271d2; fill-opacity:1\" points=\"\n",
       "  2108.26,1212.11 2092.26,1228.11 2108.26,1244.11 2124.26,1228.11 2108.26,1212.11 \n",
       "  \"/>\n",
       "<polygon clip-path=\"url(#clip4403)\" style=\"fill:#000000; fill-opacity:1\" points=\"\n",
       "  2185.71,1206.07 2165.71,1226.07 2185.71,1246.07 2205.71,1226.07 2185.71,1206.07 \n",
       "  \"/>\n",
       "<polygon clip-path=\"url(#clip4403)\" style=\"fill:#c271d2; fill-opacity:1\" points=\"\n",
       "  2185.71,1210.07 2169.71,1226.07 2185.71,1242.07 2201.71,1226.07 2185.71,1210.07 \n",
       "  \"/>\n",
       "<polygon clip-path=\"url(#clip4403)\" style=\"fill:#000000; fill-opacity:1\" points=\"\n",
       "  2263.17,1202.64 2243.17,1222.64 2263.17,1242.64 2283.17,1222.64 2263.17,1202.64 \n",
       "  \"/>\n",
       "<polygon clip-path=\"url(#clip4403)\" style=\"fill:#c271d2; fill-opacity:1\" points=\"\n",
       "  2263.17,1206.64 2247.17,1222.64 2263.17,1238.64 2279.17,1222.64 2263.17,1206.64 \n",
       "  \"/>\n",
       "<polyline clip-path=\"url(#clip4403)\" style=\"stroke:#ac8d18; stroke-width:4; stroke-opacity:1; fill:none\" points=\"\n",
       "  326.776,641.13 404.232,621.424 481.687,617.012 559.143,609.2 636.599,552.986 714.054,579.294 791.51,528.097 868.966,471.546 946.421,410.985 1023.88,446.015 \n",
       "  1101.33,428.382 1178.79,442.026 1256.24,402.827 1333.7,397.353 1411.16,378.932 1488.61,338.119 1566.07,284.866 1643.52,198.021 1720.98,92.5892 1798.43,141.28 \n",
       "  1875.89,145.589 1953.35,121.68 2030.8,144.192 2108.26,121.913 2185.71,118.501 2263.17,88.4582 \n",
       "  \"/>\n",
       "<polygon clip-path=\"url(#clip4403)\" style=\"fill:#000000; fill-opacity:1\" points=\"\n",
       "  326.776,661.13 309.456,651.13 309.456,631.13 326.776,621.13 344.096,631.13 344.096,651.13 \n",
       "  \"/>\n",
       "<polygon clip-path=\"url(#clip4403)\" style=\"fill:#ac8d18; fill-opacity:1\" points=\"\n",
       "  326.776,657.13 312.92,649.13 312.92,633.13 326.776,625.13 340.632,633.13 340.632,649.13 \n",
       "  \"/>\n",
       "<polygon clip-path=\"url(#clip4403)\" style=\"fill:#000000; fill-opacity:1\" points=\"\n",
       "  404.232,641.424 386.912,631.424 386.912,611.424 404.232,601.424 421.552,611.424 421.552,631.424 \n",
       "  \"/>\n",
       "<polygon clip-path=\"url(#clip4403)\" style=\"fill:#ac8d18; fill-opacity:1\" points=\"\n",
       "  404.232,637.424 390.376,629.424 390.376,613.424 404.232,605.424 418.088,613.424 418.088,629.424 \n",
       "  \"/>\n",
       "<polygon clip-path=\"url(#clip4403)\" style=\"fill:#000000; fill-opacity:1\" points=\"\n",
       "  481.687,637.012 464.367,627.012 464.367,607.012 481.687,597.012 499.007,607.012 499.007,627.012 \n",
       "  \"/>\n",
       "<polygon clip-path=\"url(#clip4403)\" style=\"fill:#ac8d18; fill-opacity:1\" points=\"\n",
       "  481.687,633.012 467.831,625.012 467.831,609.012 481.687,601.012 495.543,609.012 495.543,625.012 \n",
       "  \"/>\n",
       "<polygon clip-path=\"url(#clip4403)\" style=\"fill:#000000; fill-opacity:1\" points=\"\n",
       "  559.143,629.2 541.823,619.2 541.823,599.2 559.143,589.2 576.463,599.2 576.463,619.2 \n",
       "  \"/>\n",
       "<polygon clip-path=\"url(#clip4403)\" style=\"fill:#ac8d18; fill-opacity:1\" points=\"\n",
       "  559.143,625.2 545.287,617.2 545.287,601.2 559.143,593.2 572.999,601.2 572.999,617.2 \n",
       "  \"/>\n",
       "<polygon clip-path=\"url(#clip4403)\" style=\"fill:#000000; fill-opacity:1\" points=\"\n",
       "  636.599,572.986 619.279,562.986 619.279,542.986 636.599,532.986 653.919,542.986 653.919,562.986 \n",
       "  \"/>\n",
       "<polygon clip-path=\"url(#clip4403)\" style=\"fill:#ac8d18; fill-opacity:1\" points=\"\n",
       "  636.599,568.986 622.743,560.986 622.743,544.986 636.599,536.986 650.455,544.986 650.455,560.986 \n",
       "  \"/>\n",
       "<polygon clip-path=\"url(#clip4403)\" style=\"fill:#000000; fill-opacity:1\" points=\"\n",
       "  714.054,599.294 696.734,589.294 696.734,569.294 714.054,559.294 731.374,569.294 731.374,589.294 \n",
       "  \"/>\n",
       "<polygon clip-path=\"url(#clip4403)\" style=\"fill:#ac8d18; fill-opacity:1\" points=\"\n",
       "  714.054,595.294 700.198,587.294 700.198,571.294 714.054,563.294 727.91,571.294 727.91,587.294 \n",
       "  \"/>\n",
       "<polygon clip-path=\"url(#clip4403)\" style=\"fill:#000000; fill-opacity:1\" points=\"\n",
       "  791.51,548.097 774.19,538.097 774.19,518.097 791.51,508.097 808.83,518.097 808.83,538.097 \n",
       "  \"/>\n",
       "<polygon clip-path=\"url(#clip4403)\" style=\"fill:#ac8d18; fill-opacity:1\" points=\"\n",
       "  791.51,544.097 777.654,536.097 777.654,520.097 791.51,512.097 805.366,520.097 805.366,536.097 \n",
       "  \"/>\n",
       "<polygon clip-path=\"url(#clip4403)\" style=\"fill:#000000; fill-opacity:1\" points=\"\n",
       "  868.966,491.546 851.646,481.546 851.646,461.546 868.966,451.546 886.286,461.546 886.286,481.546 \n",
       "  \"/>\n",
       "<polygon clip-path=\"url(#clip4403)\" style=\"fill:#ac8d18; fill-opacity:1\" points=\"\n",
       "  868.966,487.546 855.11,479.546 855.11,463.546 868.966,455.546 882.822,463.546 882.822,479.546 \n",
       "  \"/>\n",
       "<polygon clip-path=\"url(#clip4403)\" style=\"fill:#000000; fill-opacity:1\" points=\"\n",
       "  946.421,430.985 929.101,420.985 929.101,400.985 946.421,390.985 963.741,400.985 963.741,420.985 \n",
       "  \"/>\n",
       "<polygon clip-path=\"url(#clip4403)\" style=\"fill:#ac8d18; fill-opacity:1\" points=\"\n",
       "  946.421,426.985 932.565,418.985 932.565,402.985 946.421,394.985 960.277,402.985 960.277,418.985 \n",
       "  \"/>\n",
       "<polygon clip-path=\"url(#clip4403)\" style=\"fill:#000000; fill-opacity:1\" points=\"\n",
       "  1023.88,466.015 1006.56,456.015 1006.56,436.015 1023.88,426.015 1041.2,436.015 1041.2,456.015 \n",
       "  \"/>\n",
       "<polygon clip-path=\"url(#clip4403)\" style=\"fill:#ac8d18; fill-opacity:1\" points=\"\n",
       "  1023.88,462.015 1010.02,454.015 1010.02,438.015 1023.88,430.015 1037.73,438.015 1037.73,454.015 \n",
       "  \"/>\n",
       "<polygon clip-path=\"url(#clip4403)\" style=\"fill:#000000; fill-opacity:1\" points=\"\n",
       "  1101.33,448.382 1084.01,438.382 1084.01,418.382 1101.33,408.382 1118.65,418.382 1118.65,438.382 \n",
       "  \"/>\n",
       "<polygon clip-path=\"url(#clip4403)\" style=\"fill:#ac8d18; fill-opacity:1\" points=\"\n",
       "  1101.33,444.382 1087.48,436.382 1087.48,420.382 1101.33,412.382 1115.19,420.382 1115.19,436.382 \n",
       "  \"/>\n",
       "<polygon clip-path=\"url(#clip4403)\" style=\"fill:#000000; fill-opacity:1\" points=\"\n",
       "  1178.79,462.026 1161.47,452.026 1161.47,432.026 1178.79,422.026 1196.11,432.026 1196.11,452.026 \n",
       "  \"/>\n",
       "<polygon clip-path=\"url(#clip4403)\" style=\"fill:#ac8d18; fill-opacity:1\" points=\"\n",
       "  1178.79,458.026 1164.93,450.026 1164.93,434.026 1178.79,426.026 1192.64,434.026 1192.64,450.026 \n",
       "  \"/>\n",
       "<polygon clip-path=\"url(#clip4403)\" style=\"fill:#000000; fill-opacity:1\" points=\"\n",
       "  1256.24,422.827 1238.92,412.827 1238.92,392.827 1256.24,382.827 1273.56,392.827 1273.56,412.827 \n",
       "  \"/>\n",
       "<polygon clip-path=\"url(#clip4403)\" style=\"fill:#ac8d18; fill-opacity:1\" points=\"\n",
       "  1256.24,418.827 1242.39,410.827 1242.39,394.827 1256.24,386.827 1270.1,394.827 1270.1,410.827 \n",
       "  \"/>\n",
       "<polygon clip-path=\"url(#clip4403)\" style=\"fill:#000000; fill-opacity:1\" points=\"\n",
       "  1333.7,417.353 1316.38,407.353 1316.38,387.353 1333.7,377.353 1351.02,387.353 1351.02,407.353 \n",
       "  \"/>\n",
       "<polygon clip-path=\"url(#clip4403)\" style=\"fill:#ac8d18; fill-opacity:1\" points=\"\n",
       "  1333.7,413.353 1319.84,405.353 1319.84,389.353 1333.7,381.353 1347.56,389.353 1347.56,405.353 \n",
       "  \"/>\n",
       "<polygon clip-path=\"url(#clip4403)\" style=\"fill:#000000; fill-opacity:1\" points=\"\n",
       "  1411.16,398.932 1393.84,388.932 1393.84,368.932 1411.16,358.932 1428.48,368.932 1428.48,388.932 \n",
       "  \"/>\n",
       "<polygon clip-path=\"url(#clip4403)\" style=\"fill:#ac8d18; fill-opacity:1\" points=\"\n",
       "  1411.16,394.932 1397.3,386.932 1397.3,370.932 1411.16,362.932 1425.01,370.932 1425.01,386.932 \n",
       "  \"/>\n",
       "<polygon clip-path=\"url(#clip4403)\" style=\"fill:#000000; fill-opacity:1\" points=\"\n",
       "  1488.61,358.119 1471.29,348.119 1471.29,328.119 1488.61,318.119 1505.93,328.119 1505.93,348.119 \n",
       "  \"/>\n",
       "<polygon clip-path=\"url(#clip4403)\" style=\"fill:#ac8d18; fill-opacity:1\" points=\"\n",
       "  1488.61,354.119 1474.76,346.119 1474.76,330.119 1488.61,322.119 1502.47,330.119 1502.47,346.119 \n",
       "  \"/>\n",
       "<polygon clip-path=\"url(#clip4403)\" style=\"fill:#000000; fill-opacity:1\" points=\"\n",
       "  1566.07,304.866 1548.75,294.866 1548.75,274.866 1566.07,264.866 1583.39,274.866 1583.39,294.866 \n",
       "  \"/>\n",
       "<polygon clip-path=\"url(#clip4403)\" style=\"fill:#ac8d18; fill-opacity:1\" points=\"\n",
       "  1566.07,300.866 1552.21,292.866 1552.21,276.866 1566.07,268.866 1579.92,276.866 1579.92,292.866 \n",
       "  \"/>\n",
       "<polygon clip-path=\"url(#clip4403)\" style=\"fill:#000000; fill-opacity:1\" points=\"\n",
       "  1643.52,218.021 1626.2,208.021 1626.2,188.021 1643.52,178.021 1660.84,188.021 1660.84,208.021 \n",
       "  \"/>\n",
       "<polygon clip-path=\"url(#clip4403)\" style=\"fill:#ac8d18; fill-opacity:1\" points=\"\n",
       "  1643.52,214.021 1629.67,206.021 1629.67,190.021 1643.52,182.021 1657.38,190.021 1657.38,206.021 \n",
       "  \"/>\n",
       "<polygon clip-path=\"url(#clip4403)\" style=\"fill:#000000; fill-opacity:1\" points=\"\n",
       "  1720.98,112.589 1703.66,102.589 1703.66,82.5892 1720.98,72.5892 1738.3,82.5892 1738.3,102.589 \n",
       "  \"/>\n",
       "<polygon clip-path=\"url(#clip4403)\" style=\"fill:#ac8d18; fill-opacity:1\" points=\"\n",
       "  1720.98,108.589 1707.12,100.589 1707.12,84.5892 1720.98,76.5892 1734.83,84.5892 1734.83,100.589 \n",
       "  \"/>\n",
       "<polygon clip-path=\"url(#clip4403)\" style=\"fill:#000000; fill-opacity:1\" points=\"\n",
       "  1798.43,161.28 1781.11,151.28 1781.11,131.28 1798.43,121.28 1815.75,131.28 1815.75,151.28 \n",
       "  \"/>\n",
       "<polygon clip-path=\"url(#clip4403)\" style=\"fill:#ac8d18; fill-opacity:1\" points=\"\n",
       "  1798.43,157.28 1784.58,149.28 1784.58,133.28 1798.43,125.28 1812.29,133.28 1812.29,149.28 \n",
       "  \"/>\n",
       "<polygon clip-path=\"url(#clip4403)\" style=\"fill:#000000; fill-opacity:1\" points=\"\n",
       "  1875.89,165.589 1858.57,155.589 1858.57,135.589 1875.89,125.589 1893.21,135.589 1893.21,155.589 \n",
       "  \"/>\n",
       "<polygon clip-path=\"url(#clip4403)\" style=\"fill:#ac8d18; fill-opacity:1\" points=\"\n",
       "  1875.89,161.589 1862.03,153.589 1862.03,137.589 1875.89,129.589 1889.75,137.589 1889.75,153.589 \n",
       "  \"/>\n",
       "<polygon clip-path=\"url(#clip4403)\" style=\"fill:#000000; fill-opacity:1\" points=\"\n",
       "  1953.35,141.68 1936.03,131.68 1936.03,111.68 1953.35,101.68 1970.67,111.68 1970.67,131.68 \n",
       "  \"/>\n",
       "<polygon clip-path=\"url(#clip4403)\" style=\"fill:#ac8d18; fill-opacity:1\" points=\"\n",
       "  1953.35,137.68 1939.49,129.68 1939.49,113.68 1953.35,105.68 1967.2,113.68 1967.2,129.68 \n",
       "  \"/>\n",
       "<polygon clip-path=\"url(#clip4403)\" style=\"fill:#000000; fill-opacity:1\" points=\"\n",
       "  2030.8,164.192 2013.48,154.192 2013.48,134.192 2030.8,124.192 2048.12,134.192 2048.12,154.192 \n",
       "  \"/>\n",
       "<polygon clip-path=\"url(#clip4403)\" style=\"fill:#ac8d18; fill-opacity:1\" points=\"\n",
       "  2030.8,160.192 2016.95,152.192 2016.95,136.192 2030.8,128.192 2044.66,136.192 2044.66,152.192 \n",
       "  \"/>\n",
       "<polygon clip-path=\"url(#clip4403)\" style=\"fill:#000000; fill-opacity:1\" points=\"\n",
       "  2108.26,141.913 2090.94,131.913 2090.94,111.913 2108.26,101.913 2125.58,111.913 2125.58,131.913 \n",
       "  \"/>\n",
       "<polygon clip-path=\"url(#clip4403)\" style=\"fill:#ac8d18; fill-opacity:1\" points=\"\n",
       "  2108.26,137.913 2094.4,129.913 2094.4,113.913 2108.26,105.913 2122.11,113.913 2122.11,129.913 \n",
       "  \"/>\n",
       "<polygon clip-path=\"url(#clip4403)\" style=\"fill:#000000; fill-opacity:1\" points=\"\n",
       "  2185.71,138.501 2168.39,128.501 2168.39,108.501 2185.71,98.501 2203.03,108.501 2203.03,128.501 \n",
       "  \"/>\n",
       "<polygon clip-path=\"url(#clip4403)\" style=\"fill:#ac8d18; fill-opacity:1\" points=\"\n",
       "  2185.71,134.501 2171.86,126.501 2171.86,110.501 2185.71,102.501 2199.57,110.501 2199.57,126.501 \n",
       "  \"/>\n",
       "<polygon clip-path=\"url(#clip4403)\" style=\"fill:#000000; fill-opacity:1\" points=\"\n",
       "  2263.17,108.458 2245.85,98.4582 2245.85,78.4582 2263.17,68.4582 2280.49,78.4582 2280.49,98.4582 \n",
       "  \"/>\n",
       "<polygon clip-path=\"url(#clip4403)\" style=\"fill:#ac8d18; fill-opacity:1\" points=\"\n",
       "  2263.17,104.458 2249.31,96.4582 2249.31,80.4582 2263.17,72.4582 2277.02,80.4582 2277.02,96.4582 \n",
       "  \"/>\n",
       "<polygon clip-path=\"url(#clip4401)\" points=\"\n",
       "1014.19,1023.08 2249.26,1023.08 2249.26,660.205 1014.19,660.205 \n",
       "  \" fill=\"#ffffff\" fill-rule=\"evenodd\" fill-opacity=\"1\"/>\n",
       "<polyline clip-path=\"url(#clip4401)\" style=\"stroke:#000000; stroke-width:4; stroke-opacity:1; fill:none\" points=\"\n",
       "  1014.19,1023.08 2249.26,1023.08 2249.26,660.205 1014.19,660.205 1014.19,1023.08 \n",
       "  \"/>\n",
       "<polyline clip-path=\"url(#clip4401)\" style=\"stroke:#009af9; stroke-width:4; stroke-opacity:1; fill:none\" points=\"\n",
       "  1038.19,720.685 1182.19,720.685 \n",
       "  \"/>\n",
       "<circle clip-path=\"url(#clip4401)\" style=\"fill:#000000; stroke:none; fill-opacity:1\" cx=\"1122.19\" cy=\"720.685\" r=\"25\"/>\n",
       "<circle clip-path=\"url(#clip4401)\" style=\"fill:#009af9; stroke:none; fill-opacity:1\" cx=\"1122.19\" cy=\"720.685\" r=\"21\"/>\n",
       "<g clip-path=\"url(#clip4401)\">\n",
       "<text style=\"fill:#000000; fill-opacity:1; font-family:Arial,Helvetica Neue,Helvetica,sans-serif; font-size:48px; text-anchor:start;\" transform=\"rotate(0, 1206.19, 738.185)\" x=\"1206.19\" y=\"738.185\">Energia</text>\n",
       "</g>\n",
       "<polyline clip-path=\"url(#clip4401)\" style=\"stroke:#e26f46; stroke-width:4; stroke-opacity:1; fill:none\" points=\"\n",
       "  1038.19,781.165 1182.19,781.165 \n",
       "  \"/>\n",
       "<polygon clip-path=\"url(#clip4401)\" style=\"fill:#000000; fill-opacity:1\" points=\"\n",
       "  1094.19,753.165 1094.19,809.165 1150.19,809.165 1150.19,753.165 1094.19,753.165 \n",
       "  \"/>\n",
       "<polygon clip-path=\"url(#clip4401)\" style=\"fill:#e26f46; fill-opacity:1\" points=\"\n",
       "  1098.19,757.165 1098.19,805.165 1146.19,805.165 1146.19,757.165 1098.19,757.165 \n",
       "  \"/>\n",
       "<g clip-path=\"url(#clip4401)\">\n",
       "<text style=\"fill:#000000; fill-opacity:1; font-family:Arial,Helvetica Neue,Helvetica,sans-serif; font-size:48px; text-anchor:start;\" transform=\"rotate(0, 1206.19, 798.665)\" x=\"1206.19\" y=\"798.665\">Procesos industriales</text>\n",
       "</g>\n",
       "<polyline clip-path=\"url(#clip4401)\" style=\"stroke:#3da44d; stroke-width:4; stroke-opacity:1; fill:none\" points=\"\n",
       "  1038.19,841.645 1182.19,841.645 \n",
       "  \"/>\n",
       "<polygon clip-path=\"url(#clip4401)\" style=\"fill:#000000; fill-opacity:1\" points=\"\n",
       "  1122.19,813.645 1115.61,832.573 1095.56,832.993 1111.55,845.117 1105.73,864.297 1122.19,852.845 1138.66,864.297 1132.83,845.117 1148.82,832.993 1128.77,832.573 \n",
       "  1122.19,813.645 \n",
       "  \"/>\n",
       "<polygon clip-path=\"url(#clip4401)\" style=\"fill:#3da44d; fill-opacity:1\" points=\"\n",
       "  1122.19,817.645 1116.55,833.869 1099.37,834.229 1113.07,844.621 1108.08,861.061 1122.19,851.245 1136.3,861.061 1131.31,844.621 1145.02,834.229 1127.83,833.869 \n",
       "  1122.19,817.645 \n",
       "  \"/>\n",
       "<g clip-path=\"url(#clip4401)\">\n",
       "<text style=\"fill:#000000; fill-opacity:1; font-family:Arial,Helvetica Neue,Helvetica,sans-serif; font-size:48px; text-anchor:start;\" transform=\"rotate(0, 1206.19, 859.145)\" x=\"1206.19\" y=\"859.145\">Agricultura, silvicultura y otros usos de la tierra</text>\n",
       "</g>\n",
       "<polyline clip-path=\"url(#clip4401)\" style=\"stroke:#c271d2; stroke-width:4; stroke-opacity:1; fill:none\" points=\"\n",
       "  1038.19,902.125 1182.19,902.125 \n",
       "  \"/>\n",
       "<polygon clip-path=\"url(#clip4401)\" style=\"fill:#000000; fill-opacity:1\" points=\"\n",
       "  1122.19,874.125 1094.19,902.125 1122.19,930.125 1150.19,902.125 1122.19,874.125 \n",
       "  \"/>\n",
       "<polygon clip-path=\"url(#clip4401)\" style=\"fill:#c271d2; fill-opacity:1\" points=\"\n",
       "  1122.19,878.125 1098.19,902.125 1122.19,926.125 1146.19,902.125 1122.19,878.125 \n",
       "  \"/>\n",
       "<g clip-path=\"url(#clip4401)\">\n",
       "<text style=\"fill:#000000; fill-opacity:1; font-family:Arial,Helvetica Neue,Helvetica,sans-serif; font-size:48px; text-anchor:start;\" transform=\"rotate(0, 1206.19, 919.625)\" x=\"1206.19\" y=\"919.625\">Residuos</text>\n",
       "</g>\n",
       "<polyline clip-path=\"url(#clip4401)\" style=\"stroke:#ac8d18; stroke-width:4; stroke-opacity:1; fill:none\" points=\"\n",
       "  1038.19,962.605 1182.19,962.605 \n",
       "  \"/>\n",
       "<polygon clip-path=\"url(#clip4401)\" style=\"fill:#000000; fill-opacity:1\" points=\"\n",
       "  1122.19,990.605 1097.94,976.605 1097.94,948.605 1122.19,934.605 1146.44,948.605 1146.44,976.605 \n",
       "  \"/>\n",
       "<polygon clip-path=\"url(#clip4401)\" style=\"fill:#ac8d18; fill-opacity:1\" points=\"\n",
       "  1122.19,986.605 1101.41,974.605 1101.41,950.605 1122.19,938.605 1142.98,950.605 1142.98,974.605 \n",
       "  \"/>\n",
       "<g clip-path=\"url(#clip4401)\">\n",
       "<text style=\"fill:#000000; fill-opacity:1; font-family:Arial,Helvetica Neue,Helvetica,sans-serif; font-size:48px; text-anchor:start;\" transform=\"rotate(0, 1206.19, 980.105)\" x=\"1206.19\" y=\"980.105\">Emisiones netas</text>\n",
       "</g>\n",
       "</svg>\n"
      ]
     },
     "execution_count": 209,
     "metadata": {},
     "output_type": "execute_result"
    }
   ],
   "source": [
    "p = plot()\n",
    "\n",
    "for i in 1:length(sectores)\n",
    "\n",
    "    subdatos = datos[ datos[2] .== sectores[i], :]\n",
    "    \n",
    "    plot!(subdatos[:año], subdatos[:gases], \n",
    "        label=sectores[i], m=:auto, leg=:right)\n",
    "end\n",
    "\n",
    "p"
   ]
  },
  {
   "cell_type": "markdown",
   "metadata": {},
   "source": [
    "## Query.jl"
   ]
  },
  {
   "cell_type": "code",
   "execution_count": 215,
   "metadata": {},
   "outputs": [
    {
     "ename": "ArgumentError",
     "evalue": "ArgumentError: Package Query not found in current path:\n- Run `import Pkg; Pkg.add(\"Query\")` to install the Query package.\n",
     "output_type": "error",
     "traceback": [
      "ArgumentError: Package Query not found in current path:\n- Run `import Pkg; Pkg.add(\"Query\")` to install the Query package.\n",
      "",
      "Stacktrace:",
      " [1] require(::Module, ::Symbol) at ./loading.jl:823",
      " [2] top-level scope at In[215]:1"
     ]
    }
   ],
   "source": [
    "using Query"
   ]
  },
  {
   "cell_type": "code",
   "execution_count": 216,
   "metadata": {},
   "outputs": [
    {
     "name": "stdout",
     "output_type": "stream",
     "text": [
      "\u001b[32m\u001b[1m Resolving\u001b[22m\u001b[39m package versions...\n",
      "\u001b[32m\u001b[1m Installed\u001b[22m\u001b[39m TableShowUtils ─ v0.2.5\n",
      "\u001b[32m\u001b[1m Installed\u001b[22m\u001b[39m QueryOperators ─ v0.7.0\n",
      "\u001b[32m\u001b[1m Installed\u001b[22m\u001b[39m Query ────────── v0.11.0\n",
      "\u001b[32m\u001b[1m  Updating\u001b[22m\u001b[39m `~/.julia/environments/v1.1/Project.toml`\n",
      " \u001b[90m [1a8c2f83]\u001b[39m\u001b[92m + Query v0.11.0\u001b[39m\n",
      "\u001b[32m\u001b[1m  Updating\u001b[22m\u001b[39m `~/.julia/environments/v1.1/Manifest.toml`\n",
      " \u001b[90m [1a8c2f83]\u001b[39m\u001b[92m + Query v0.11.0\u001b[39m\n",
      " \u001b[90m [2aef5ad7]\u001b[39m\u001b[92m + QueryOperators v0.7.0\u001b[39m\n",
      " \u001b[90m [5e66a065]\u001b[39m\u001b[92m + TableShowUtils v0.2.5\u001b[39m\n"
     ]
    }
   ],
   "source": [
    "]add Query"
   ]
  },
  {
   "cell_type": "code",
   "execution_count": 217,
   "metadata": {},
   "outputs": [
    {
     "name": "stderr",
     "output_type": "stream",
     "text": [
      "┌ Info: Precompiling Query [1a8c2f83-1ff3-5112-b086-8aa67b057ba1]\n",
      "└ @ Base loading.jl:1186\n"
     ]
    }
   ],
   "source": [
    "using Query"
   ]
  },
  {
   "cell_type": "markdown",
   "metadata": {},
   "source": [
    "`@`: macro -- \"hay algo raro pasando\""
   ]
  },
  {
   "cell_type": "code",
   "execution_count": 218,
   "metadata": {},
   "outputs": [
    {
     "name": "stdout",
     "output_type": "stream",
     "text": [
      "  0.002969 seconds (845 allocations: 47.955 KiB)\n"
     ]
    },
    {
     "data": {
      "text/plain": [
       "-0.5440211108893698"
      ]
     },
     "execution_count": 218,
     "metadata": {},
     "output_type": "execute_result"
    }
   ],
   "source": [
    "@time sin(10)"
   ]
  },
  {
   "cell_type": "code",
   "execution_count": 219,
   "metadata": {},
   "outputs": [
    {
     "data": {
      "text/plain": [
       "quote\n",
       "    #= util.jl:154 =#\n",
       "    local #77#stats = (Base.gc_num)()\n",
       "    #= util.jl:155 =#\n",
       "    local #79#elapsedtime = (Base.time_ns)()\n",
       "    #= util.jl:156 =#\n",
       "    local #78#val = sin(10)\n",
       "    #= util.jl:157 =#\n",
       "    #79#elapsedtime = (Base.time_ns)() - #79#elapsedtime\n",
       "    #= util.jl:158 =#\n",
       "    local #80#diff = (Base.GC_Diff)((Base.gc_num)(), #77#stats)\n",
       "    #= util.jl:159 =#\n",
       "    (Base.time_print)(#79#elapsedtime, (#80#diff).allocd, (#80#diff).total_time, (Base.gc_alloc_count)(#80#diff))\n",
       "    #= util.jl:161 =#\n",
       "    (Base.println)()\n",
       "    #= util.jl:162 =#\n",
       "    #78#val\n",
       "end"
      ]
     },
     "execution_count": 219,
     "metadata": {},
     "output_type": "execute_result"
    }
   ],
   "source": [
    "@macroexpand @time sin(10)"
   ]
  },
  {
   "cell_type": "code",
   "execution_count": 220,
   "metadata": {},
   "outputs": [
    {
     "data": {
      "text/html": [
       "<table class=\"data-frame\"><thead><tr><th></th><th>año</th><th>sector</th><th>gases</th></tr><tr><th></th><th>Int64⍰</th><th>String⍰</th><th>Int64⍰</th></tr></thead><tbody><p>26 rows × 3 columns</p><tr><th>1</th><td>1990</td><td>Energia</td><td>301473</td></tr><tr><th>2</th><td>1991</td><td>Energia</td><td>312891</td></tr><tr><th>3</th><td>1992</td><td>Energia</td><td>314129</td></tr><tr><th>4</th><td>1993</td><td>Energia</td><td>315687</td></tr><tr><th>5</th><td>1994</td><td>Energia</td><td>333517</td></tr><tr><th>6</th><td>1995</td><td>Energia</td><td>323169</td></tr><tr><th>7</th><td>1996</td><td>Energia</td><td>341874</td></tr><tr><th>8</th><td>1997</td><td>Energia</td><td>363443</td></tr><tr><th>9</th><td>1998</td><td>Energia</td><td>385391</td></tr><tr><th>10</th><td>1999</td><td>Energia</td><td>373957</td></tr><tr><th>11</th><td>2000</td><td>Energia</td><td>380275</td></tr><tr><th>12</th><td>2001</td><td>Energia</td><td>376938</td></tr><tr><th>13</th><td>2002</td><td>Energia</td><td>395745</td></tr><tr><th>14</th><td>2003</td><td>Energia</td><td>394939</td></tr><tr><th>15</th><td>2004</td><td>Energia</td><td>401523</td></tr><tr><th>16</th><td>2005</td><td>Energia</td><td>413229</td></tr><tr><th>17</th><td>2006</td><td>Energia</td><td>431525</td></tr><tr><th>18</th><td>2007</td><td>Energia</td><td>457299</td></tr><tr><th>19</th><td>2008</td><td>Energia</td><td>499673</td></tr><tr><th>20</th><td>2009</td><td>Energia</td><td>478165</td></tr><tr><th>21</th><td>2010</td><td>Energia</td><td>469972</td></tr><tr><th>22</th><td>2011</td><td>Energia</td><td>475796</td></tr><tr><th>23</th><td>2012</td><td>Energia</td><td>467519</td></tr><tr><th>24</th><td>2013</td><td>Energia</td><td>473763</td></tr><tr><th>25</th><td>2014</td><td>Energia</td><td>470615</td></tr><tr><th>26</th><td>2015</td><td>Energia</td><td>480879</td></tr></tbody></table>"
      ],
      "text/latex": [
       "\\begin{tabular}{r|ccc}\n",
       "\t& año & sector & gases\\\\\n",
       "\t\\hline\n",
       "\t& Int64⍰ & String⍰ & Int64⍰\\\\\n",
       "\t\\hline\n",
       "\t1 & 1990 & Energia & 301473 \\\\\n",
       "\t2 & 1991 & Energia & 312891 \\\\\n",
       "\t3 & 1992 & Energia & 314129 \\\\\n",
       "\t4 & 1993 & Energia & 315687 \\\\\n",
       "\t5 & 1994 & Energia & 333517 \\\\\n",
       "\t6 & 1995 & Energia & 323169 \\\\\n",
       "\t7 & 1996 & Energia & 341874 \\\\\n",
       "\t8 & 1997 & Energia & 363443 \\\\\n",
       "\t9 & 1998 & Energia & 385391 \\\\\n",
       "\t10 & 1999 & Energia & 373957 \\\\\n",
       "\t11 & 2000 & Energia & 380275 \\\\\n",
       "\t12 & 2001 & Energia & 376938 \\\\\n",
       "\t13 & 2002 & Energia & 395745 \\\\\n",
       "\t14 & 2003 & Energia & 394939 \\\\\n",
       "\t15 & 2004 & Energia & 401523 \\\\\n",
       "\t16 & 2005 & Energia & 413229 \\\\\n",
       "\t17 & 2006 & Energia & 431525 \\\\\n",
       "\t18 & 2007 & Energia & 457299 \\\\\n",
       "\t19 & 2008 & Energia & 499673 \\\\\n",
       "\t20 & 2009 & Energia & 478165 \\\\\n",
       "\t21 & 2010 & Energia & 469972 \\\\\n",
       "\t22 & 2011 & Energia & 475796 \\\\\n",
       "\t23 & 2012 & Energia & 467519 \\\\\n",
       "\t24 & 2013 & Energia & 473763 \\\\\n",
       "\t25 & 2014 & Energia & 470615 \\\\\n",
       "\t26 & 2015 & Energia & 480879 \\\\\n",
       "\\end{tabular}\n"
      ],
      "text/plain": [
       "26×3 DataFrame\n",
       "│ Row │ año    │ sector  │ gases  │\n",
       "│     │ \u001b[90mInt64⍰\u001b[39m │ \u001b[90mString⍰\u001b[39m │ \u001b[90mInt64⍰\u001b[39m │\n",
       "├─────┼────────┼─────────┼────────┤\n",
       "│ 1   │ 1990   │ Energia │ 301473 │\n",
       "│ 2   │ 1991   │ Energia │ 312891 │\n",
       "│ 3   │ 1992   │ Energia │ 314129 │\n",
       "│ 4   │ 1993   │ Energia │ 315687 │\n",
       "│ 5   │ 1994   │ Energia │ 333517 │\n",
       "│ 6   │ 1995   │ Energia │ 323169 │\n",
       "│ 7   │ 1996   │ Energia │ 341874 │\n",
       "│ 8   │ 1997   │ Energia │ 363443 │\n",
       "│ 9   │ 1998   │ Energia │ 385391 │\n",
       "│ 10  │ 1999   │ Energia │ 373957 │\n",
       "⋮\n",
       "│ 16  │ 2005   │ Energia │ 413229 │\n",
       "│ 17  │ 2006   │ Energia │ 431525 │\n",
       "│ 18  │ 2007   │ Energia │ 457299 │\n",
       "│ 19  │ 2008   │ Energia │ 499673 │\n",
       "│ 20  │ 2009   │ Energia │ 478165 │\n",
       "│ 21  │ 2010   │ Energia │ 469972 │\n",
       "│ 22  │ 2011   │ Energia │ 475796 │\n",
       "│ 23  │ 2012   │ Energia │ 467519 │\n",
       "│ 24  │ 2013   │ Energia │ 473763 │\n",
       "│ 25  │ 2014   │ Energia │ 470615 │\n",
       "│ 26  │ 2015   │ Energia │ 480879 │"
      ]
     },
     "execution_count": 220,
     "metadata": {},
     "output_type": "execute_result"
    }
   ],
   "source": [
    "@from v in datos begin\n",
    "     @where v.sector == \"Energia\"\n",
    "     @select v\n",
    "     @collect DataFrame\n",
    "end"
   ]
  },
  {
   "cell_type": "code",
   "execution_count": 224,
   "metadata": {},
   "outputs": [
    {
     "data": {
      "text/plain": [
       "((año = DataValue{Int64}(1990), sector = DataValue{String}(\"Energia\"), gases = DataValue{Int64}(301473)), (año = DataValue{Int64}(1991), sector = DataValue{String}(\"Energia\"), gases = DataValue{Int64}(312891)), (año = DataValue{Int64}(1992), sector = DataValue{String}(\"Energia\"), gases = DataValue{Int64}(314129)), (año = DataValue{Int64}(1993), sector = DataValue{String}(\"Energia\"), gases = DataValue{Int64}(315687)), (año = DataValue{Int64}(1994), sector = DataValue{String}(\"Energia\"), gases = DataValue{Int64}(333517)), (año = DataValue{Int64}(1995), sector = DataValue{String}(\"Energia\"), gases = DataValue{Int64}(323169)), (año = DataValue{Int64}(1996), sector = DataValue{String}(\"Energia\"), gases = DataValue{Int64}(341874)), (año = DataValue{Int64}(1997), sector = DataValue{String}(\"Energia\"), gases = DataValue{Int64}(363443)), (año = DataValue{Int64}(1998), sector = DataValue{String}(\"Energia\"), gases = DataValue{Int64}(385391)), (año = DataValue{Int64}(1999), sector = DataValue{String}(\"Energia\"), gases = DataValue{Int64}(373957)), (año = DataValue{Int64}(2000), sector = DataValue{String}(\"Energia\"), gases = DataValue{Int64}(380275)), (año = DataValue{Int64}(2001), sector = DataValue{String}(\"Energia\"), gases = DataValue{Int64}(376938)), (año = DataValue{Int64}(2002), sector = DataValue{String}(\"Energia\"), gases = DataValue{Int64}(395745)), (año = DataValue{Int64}(2003), sector = DataValue{String}(\"Energia\"), gases = DataValue{Int64}(394939)), (año = DataValue{Int64}(2004), sector = DataValue{String}(\"Energia\"), gases = DataValue{Int64}(401523)), (año = DataValue{Int64}(2005), sector = DataValue{String}(\"Energia\"), gases = DataValue{Int64}(413229)), (año = DataValue{Int64}(2006), sector = DataValue{String}(\"Energia\"), gases = DataValue{Int64}(431525)), (año = DataValue{Int64}(2007), sector = DataValue{String}(\"Energia\"), gases = DataValue{Int64}(457299)), (año = DataValue{Int64}(2008), sector = DataValue{String}(\"Energia\"), gases = DataValue{Int64}(499673)), (año = DataValue{Int64}(2009), sector = DataValue{String}(\"Energia\"), gases = DataValue{Int64}(478165)), (año = DataValue{Int64}(2010), sector = DataValue{String}(\"Energia\"), gases = DataValue{Int64}(469972)), (año = DataValue{Int64}(2011), sector = DataValue{String}(\"Energia\"), gases = DataValue{Int64}(475796)), (año = DataValue{Int64}(2012), sector = DataValue{String}(\"Energia\"), gases = DataValue{Int64}(467519)), (año = DataValue{Int64}(2013), sector = DataValue{String}(\"Energia\"), gases = DataValue{Int64}(473763)), (año = DataValue{Int64}(2014), sector = DataValue{String}(\"Energia\"), gases = DataValue{Int64}(470615)), (año = DataValue{Int64}(2015), sector = DataValue{String}(\"Energia\"), gases = DataValue{Int64}(480879)))"
      ]
     },
     "execution_count": 224,
     "metadata": {},
     "output_type": "execute_result"
    }
   ],
   "source": [
    "@from v in datos begin\n",
    "     @where v.sector == \"Energia\"\n",
    "     @select v\n",
    "     @collect Tuple\n",
    "end"
   ]
  },
  {
   "cell_type": "markdown",
   "metadata": {},
   "source": [
    "`v` recorre los renglones de `datos`\n",
    "\n",
    "Para cada renglón, hace lo que va entre `begin` y `end`"
   ]
  },
  {
   "cell_type": "code",
   "execution_count": 228,
   "metadata": {
    "scrolled": true
   },
   "outputs": [
    {
     "data": {
      "text/html": [
       "<table class=\"data-frame\"><thead><tr><th></th><th>hasvalue</th><th>value</th></tr><tr><th></th><th>Bool</th><th>Int64</th></tr></thead><tbody><p>26 rows × 2 columns</p><tr><th>1</th><td>true</td><td>1990</td></tr><tr><th>2</th><td>true</td><td>1991</td></tr><tr><th>3</th><td>true</td><td>1992</td></tr><tr><th>4</th><td>true</td><td>1993</td></tr><tr><th>5</th><td>true</td><td>1994</td></tr><tr><th>6</th><td>true</td><td>1995</td></tr><tr><th>7</th><td>true</td><td>1996</td></tr><tr><th>8</th><td>true</td><td>1997</td></tr><tr><th>9</th><td>true</td><td>1998</td></tr><tr><th>10</th><td>true</td><td>1999</td></tr><tr><th>11</th><td>true</td><td>2000</td></tr><tr><th>12</th><td>true</td><td>2001</td></tr><tr><th>13</th><td>true</td><td>2002</td></tr><tr><th>14</th><td>true</td><td>2003</td></tr><tr><th>15</th><td>true</td><td>2004</td></tr><tr><th>16</th><td>true</td><td>2005</td></tr><tr><th>17</th><td>true</td><td>2006</td></tr><tr><th>18</th><td>true</td><td>2007</td></tr><tr><th>19</th><td>true</td><td>2008</td></tr><tr><th>20</th><td>true</td><td>2009</td></tr><tr><th>21</th><td>true</td><td>2010</td></tr><tr><th>22</th><td>true</td><td>2011</td></tr><tr><th>23</th><td>true</td><td>2012</td></tr><tr><th>24</th><td>true</td><td>2013</td></tr><tr><th>25</th><td>true</td><td>2014</td></tr><tr><th>26</th><td>true</td><td>2015</td></tr></tbody></table>"
      ],
      "text/latex": [
       "\\begin{tabular}{r|cc}\n",
       "\t& hasvalue & value\\\\\n",
       "\t\\hline\n",
       "\t& Bool & Int64\\\\\n",
       "\t\\hline\n",
       "\t1 & true & 1990 \\\\\n",
       "\t2 & true & 1991 \\\\\n",
       "\t3 & true & 1992 \\\\\n",
       "\t4 & true & 1993 \\\\\n",
       "\t5 & true & 1994 \\\\\n",
       "\t6 & true & 1995 \\\\\n",
       "\t7 & true & 1996 \\\\\n",
       "\t8 & true & 1997 \\\\\n",
       "\t9 & true & 1998 \\\\\n",
       "\t10 & true & 1999 \\\\\n",
       "\t11 & true & 2000 \\\\\n",
       "\t12 & true & 2001 \\\\\n",
       "\t13 & true & 2002 \\\\\n",
       "\t14 & true & 2003 \\\\\n",
       "\t15 & true & 2004 \\\\\n",
       "\t16 & true & 2005 \\\\\n",
       "\t17 & true & 2006 \\\\\n",
       "\t18 & true & 2007 \\\\\n",
       "\t19 & true & 2008 \\\\\n",
       "\t20 & true & 2009 \\\\\n",
       "\t21 & true & 2010 \\\\\n",
       "\t22 & true & 2011 \\\\\n",
       "\t23 & true & 2012 \\\\\n",
       "\t24 & true & 2013 \\\\\n",
       "\t25 & true & 2014 \\\\\n",
       "\t26 & true & 2015 \\\\\n",
       "\\end{tabular}\n"
      ],
      "text/plain": [
       "26×2 DataFrame\n",
       "│ Row │ hasvalue │ value │\n",
       "│     │ \u001b[90mBool\u001b[39m     │ \u001b[90mInt64\u001b[39m │\n",
       "├─────┼──────────┼───────┤\n",
       "│ 1   │ true     │ 1990  │\n",
       "│ 2   │ true     │ 1991  │\n",
       "│ 3   │ true     │ 1992  │\n",
       "│ 4   │ true     │ 1993  │\n",
       "│ 5   │ true     │ 1994  │\n",
       "│ 6   │ true     │ 1995  │\n",
       "│ 7   │ true     │ 1996  │\n",
       "│ 8   │ true     │ 1997  │\n",
       "│ 9   │ true     │ 1998  │\n",
       "│ 10  │ true     │ 1999  │\n",
       "⋮\n",
       "│ 16  │ true     │ 2005  │\n",
       "│ 17  │ true     │ 2006  │\n",
       "│ 18  │ true     │ 2007  │\n",
       "│ 19  │ true     │ 2008  │\n",
       "│ 20  │ true     │ 2009  │\n",
       "│ 21  │ true     │ 2010  │\n",
       "│ 22  │ true     │ 2011  │\n",
       "│ 23  │ true     │ 2012  │\n",
       "│ 24  │ true     │ 2013  │\n",
       "│ 25  │ true     │ 2014  │\n",
       "│ 26  │ true     │ 2015  │"
      ]
     },
     "execution_count": 228,
     "metadata": {},
     "output_type": "execute_result"
    }
   ],
   "source": [
    "@from v in datos begin\n",
    "     @where v.sector == \"Energia\"\n",
    "     @select v.año\n",
    "     @collect DataFrame\n",
    "end"
   ]
  },
  {
   "cell_type": "code",
   "execution_count": null,
   "metadata": {},
   "outputs": [],
   "source": []
  }
 ],
 "metadata": {
  "kernelspec": {
   "display_name": "Julia 1.1.0",
   "language": "julia",
   "name": "julia-1.1"
  },
  "language_info": {
   "file_extension": ".jl",
   "mimetype": "application/julia",
   "name": "julia",
   "version": "1.1.0"
  }
 },
 "nbformat": 4,
 "nbformat_minor": 2
}
